{
 "cells": [
  {
   "cell_type": "code",
   "execution_count": 1,
   "metadata": {},
   "outputs": [
    {
     "name": "stderr",
     "output_type": "stream",
     "text": [
      "/home/faiz/anaconda3/envs/work/lib/python3.10/site-packages/malaya/tokenizer.py:214: FutureWarning: Possible nested set at position 3397\n",
      "  self.tok = re.compile(r'({})'.format('|'.join(pipeline)))\n",
      "/home/faiz/anaconda3/envs/work/lib/python3.10/site-packages/malaya/tokenizer.py:214: FutureWarning: Possible nested set at position 3927\n",
      "  self.tok = re.compile(r'({})'.format('|'.join(pipeline)))\n"
     ]
    }
   ],
   "source": [
    "from instagrapi import Client\n",
    "from instagrapi.exceptions import LoginRequired\n",
    "import toml\n",
    "import logging\n",
    "\n",
    "import pandas as pd\n",
    "import matplotlib.pyplot as plt\n",
    "import plotly.express as px\n",
    "\n",
    "from PIL import Image\n",
    "import requests\n",
    "from io import BytesIO\n",
    "\n",
    "import pytesseract\n",
    "import malaya"
   ]
  },
  {
   "cell_type": "markdown",
   "metadata": {},
   "source": [
    "### Initialise client and load secrets file"
   ]
  },
  {
   "cell_type": "code",
   "execution_count": 2,
   "metadata": {},
   "outputs": [],
   "source": [
    "cl = Client()\n",
    "\n",
    "with open('secrets.toml', 'r') as f:\n",
    "    secrets = toml.load(f)"
   ]
  },
  {
   "cell_type": "markdown",
   "metadata": {},
   "source": [
    "### Login management"
   ]
  },
  {
   "cell_type": "markdown",
   "metadata": {},
   "source": [
    "#### Create session file\n",
    "Skip this if `session.json` has been created."
   ]
  },
  {
   "cell_type": "code",
   "execution_count": null,
   "metadata": {},
   "outputs": [],
   "source": [
    "\n",
    "cl.login(secrets[\"instagram\"][\"username\"], secrets[\"instagram\"][\"password\"])\n",
    "\n",
    "# save session file\n",
    "cl.dump_settings(\"session.json\")"
   ]
  },
  {
   "cell_type": "markdown",
   "metadata": {},
   "source": [
    "### Login function"
   ]
  },
  {
   "cell_type": "code",
   "execution_count": 4,
   "metadata": {},
   "outputs": [],
   "source": [
    "logger = logging.getLogger()\n",
    "\n",
    "\n",
    "def login_user():\n",
    "    \"\"\"\n",
    "    Attempts to login to Instagram using either the provided session information\n",
    "    or the provided username and password.\n",
    "    \"\"\"\n",
    "\n",
    "    session = cl.load_settings(\"session.json\")\n",
    "\n",
    "    login_via_session = False\n",
    "    login_via_pw = False\n",
    "\n",
    "    if session:\n",
    "        try:\n",
    "            cl.set_settings(session)\n",
    "            cl.login(secrets[\"instagram\"][\"username\"], secrets[\"instagram\"][\"password\"])\n",
    "\n",
    "            # check if session is valid\n",
    "            try:\n",
    "                cl.get_timeline_feed()\n",
    "            except LoginRequired:\n",
    "                logger.info(\"Session is invalid, need to login via username and password\")\n",
    "\n",
    "                old_session = cl.get_settings()\n",
    "\n",
    "                # use the same device uuids across logins\n",
    "                cl.set_settings({})\n",
    "                cl.set_uuids(old_session[\"uuids\"])\n",
    "\n",
    "                cl.login(secrets[\"instagram\"][\"username\"], secrets[\"instagram\"][\"password\"])\n",
    "            login_via_session = True\n",
    "        except Exception as e:\n",
    "            logger.info(\"Couldn't login user using session information: %s\" % e)\n",
    "\n",
    "    if not login_via_session:\n",
    "        try:\n",
    "            logger.info(\"Attempting to login via username and password. username: %s\" % secrets[\"instagram\"][\"username\"])\n",
    "            if cl.login(secrets[\"instagram\"][\"username\"], secrets[\"instagram\"][\"password\"]):\n",
    "                login_via_pw = True\n",
    "        except Exception as e:\n",
    "            logger.info(\"Couldn't login user using username and password: %s\" % e)\n",
    "\n",
    "    if not login_via_pw and not login_via_session:\n",
    "        raise Exception(\"Couldn't login user with either password or session\")"
   ]
  },
  {
   "cell_type": "markdown",
   "metadata": {},
   "source": [
    "#### Login"
   ]
  },
  {
   "cell_type": "code",
   "execution_count": 5,
   "metadata": {},
   "outputs": [],
   "source": [
    "login_user()"
   ]
  },
  {
   "cell_type": "code",
   "execution_count": 15,
   "metadata": {},
   "outputs": [],
   "source": [
    "# hashtag_dump = cl.hashtag_medias_recent_v1(\"UniKL\", 50)\n",
    "hashtag_dump = cl.hashtag_medias_recent(\"UniKL\", 50)"
   ]
  },
  {
   "cell_type": "code",
   "execution_count": 16,
   "metadata": {},
   "outputs": [],
   "source": [
    "tmp = []\n",
    "for i in range(0,50):\n",
    "    tmp.append(hashtag_dump[i].model_dump())\n",
    "\n",
    "hashtag_posts = pd.DataFrame(tmp)"
   ]
  },
  {
   "cell_type": "code",
   "execution_count": null,
   "metadata": {},
   "outputs": [],
   "source": [
    "hashtag_posts"
   ]
  },
  {
   "cell_type": "markdown",
   "metadata": {},
   "source": [
    "### Plotting location on the map "
   ]
  },
  {
   "cell_type": "code",
   "execution_count": 17,
   "metadata": {},
   "outputs": [],
   "source": [
    "def media_type_func(x,y):\n",
    "    if x == 1:\n",
    "        return \"Photo\"\n",
    "    elif x == 2 and y == \"feed\":\n",
    "        return \"Video\"\n",
    "    elif x == 2 and y == \"igtv\":\n",
    "        return \"IGTV\"\n",
    "    elif x == 2 and y == \"clips\":\n",
    "        return \"Reel\"\n",
    "    else:\n",
    "        return \"Album\""
   ]
  },
  {
   "cell_type": "code",
   "execution_count": 18,
   "metadata": {},
   "outputs": [],
   "source": [
    "geo_df = pd.DataFrame()\n",
    "\n",
    "geo_df[\"User\"] = hashtag_posts[\"user\"].str.get(\"username\")\n",
    "geo_df[\"Taken at\"] = hashtag_posts[\"taken_at\"]\n",
    "geo_df[\"Type\"] = hashtag_posts[\"media_type\"]\n",
    "geo_df[\"Product type\"] = hashtag_posts[\"product_type\"]\n",
    "\n",
    "geo_df[\"Type\"] = geo_df.apply(lambda x: media_type_func(x[\"Type\"], x[\"Product type\"]), axis=1)\n",
    "\n",
    "geo_df[\"Lat\"] = hashtag_posts[\"location\"].str.get(\"lat\")\n",
    "geo_df[\"Lan\"] = hashtag_posts[\"location\"].str.get(\"lng\")"
   ]
  },
  {
   "cell_type": "code",
   "execution_count": 19,
   "metadata": {},
   "outputs": [
    {
     "data": {
      "application/vnd.plotly.v1+json": {
       "config": {
        "plotlyServerURL": "https://plot.ly"
       },
       "data": [
        {
         "customdata": [
          [
           "2019-08-13T06:18:52+00:00"
          ],
          [
           "2024-12-11T08:45:09+00:00"
          ],
          [
           "2018-11-12T13:48:06+00:00"
          ],
          [
           "2024-12-10T09:32:10+00:00"
          ],
          [
           "2024-01-21T09:52:49+00:00"
          ],
          [
           "2022-11-19T06:58:44+00:00"
          ]
         ],
         "hovertemplate": "<b>%{hovertext}</b><br><br>Type=Photo<br>Lat=%{lat}<br>Lan=%{lon}<br>Taken at=%{customdata[0]}<extra></extra>",
         "hovertext": [
          "nazirhussin10",
          "uniklpage",
          "joshualqy",
          "snack4lifee",
          "drasyrafwajdi",
          "fazrulazreen"
         ],
         "lat": [
          null,
          null,
          null,
          null,
          null,
          null
         ],
         "legendgroup": "Photo",
         "lon": [
          null,
          null,
          null,
          null,
          null,
          null
         ],
         "marker": {
          "color": "#636efa"
         },
         "mode": "markers",
         "name": "Photo",
         "showlegend": true,
         "subplot": "map",
         "type": "scattermap"
        },
        {
         "customdata": [
          [
           "2020-03-04T00:45:28+00:00"
          ]
         ],
         "hovertemplate": "<b>%{hovertext}</b><br><br>Type=IGTV<br>Lat=%{lat}<br>Lan=%{lon}<br>Taken at=%{customdata[0]}<extra></extra>",
         "hovertext": [
          "momento.unikl"
         ],
         "lat": [
          null
         ],
         "legendgroup": "IGTV",
         "lon": [
          null
         ],
         "marker": {
          "color": "#EF553B"
         },
         "mode": "markers",
         "name": "IGTV",
         "showlegend": true,
         "subplot": "map",
         "type": "scattermap"
        },
        {
         "customdata": [
          [
           "2023-06-20T08:12:37+00:00"
          ],
          [
           "2024-12-02T01:50:35+00:00"
          ],
          [
           "2024-12-12T17:25:58+00:00"
          ],
          [
           "2024-12-10T18:06:19+00:00"
          ],
          [
           "2022-06-19T05:22:19+00:00"
          ],
          [
           "2024-12-09T03:01:43+00:00"
          ],
          [
           "2024-12-05T05:13:30+00:00"
          ],
          [
           "2023-05-10T13:59:45+00:00"
          ]
         ],
         "hovertemplate": "<b>%{hovertext}</b><br><br>Type=Reel<br>Lat=%{lat}<br>Lan=%{lon}<br>Taken at=%{customdata[0]}<extra></extra>",
         "hovertext": [
          "adriaanahairy",
          "upsi._3_.cop",
          "javapitstopmobile",
          "uniklpage",
          "uniklpage",
          "upsi._3_.cop",
          "upsi._3_.cop",
          "uniklpage"
         ],
         "lat": [
          null,
          null,
          null,
          2.7161303489728,
          null,
          null,
          null,
          3.1669788724026
         ],
         "legendgroup": "Reel",
         "lon": [
          null,
          null,
          null,
          101.94341430242,
          null,
          null,
          null,
          101.71976476908
         ],
         "marker": {
          "color": "#00cc96"
         },
         "mode": "markers",
         "name": "Reel",
         "showlegend": true,
         "subplot": "map",
         "type": "scattermap"
        },
        {
         "customdata": [
          [
           "2024-12-12T00:35:31+00:00"
          ],
          [
           "2024-12-11T05:09:59+00:00"
          ],
          [
           "2024-12-11T05:05:13+00:00"
          ],
          [
           "2024-12-12T00:42:54+00:00"
          ],
          [
           "2024-12-10T15:16:46+00:00"
          ],
          [
           "2024-12-11T13:54:13+00:00"
          ],
          [
           "2024-12-09T08:27:05+00:00"
          ],
          [
           "2020-11-14T18:58:38+00:00"
          ],
          [
           "2024-12-01T12:32:43+00:00"
          ],
          [
           "2024-12-01T12:24:03+00:00"
          ],
          [
           "2020-10-14T14:44:17+00:00"
          ],
          [
           "2024-11-28T15:51:43+00:00"
          ],
          [
           "2024-12-13T01:25:32+00:00"
          ],
          [
           "2024-12-08T07:57:15+00:00"
          ],
          [
           "2022-12-05T12:36:05+00:00"
          ],
          [
           "2024-12-08T18:14:21+00:00"
          ],
          [
           "2024-11-22T11:57:13+00:00"
          ],
          [
           "2024-11-21T12:49:04+00:00"
          ],
          [
           "2024-12-11T04:38:51+00:00"
          ],
          [
           "2024-12-12T02:15:00+00:00"
          ],
          [
           "2022-11-27T13:57:11+00:00"
          ],
          [
           "2024-12-05T12:46:19+00:00"
          ],
          [
           "2024-11-01T14:38:24+00:00"
          ],
          [
           "2024-12-11T08:59:55+00:00"
          ],
          [
           "2024-12-12T13:54:30+00:00"
          ],
          [
           "2024-12-11T02:00:00+00:00"
          ],
          [
           "2023-12-09T12:16:28+00:00"
          ],
          [
           "2023-07-18T10:39:55+00:00"
          ],
          [
           "2024-09-14T16:25:41+00:00"
          ],
          [
           "2023-01-21T03:56:25+00:00"
          ],
          [
           "2024-11-19T10:16:30+00:00"
          ],
          [
           "2022-08-11T11:06:31+00:00"
          ],
          [
           "2024-12-06T12:36:33+00:00"
          ]
         ],
         "hovertemplate": "<b>%{hovertext}</b><br><br>Type=Album<br>Lat=%{lat}<br>Lan=%{lon}<br>Taken at=%{customdata[0]}<extra></extra>",
         "hovertext": [
          "mfieldplay",
          "mfieldplay",
          "mfieldplay",
          "mfieldplay",
          "uniklpage",
          "aiyedgraphy",
          "sekeping.art",
          "sweet_nikku_",
          "aiyedgraphy",
          "aiyedgraphy",
          "rienaamirah",
          "uniklpage",
          "uniklpage",
          "uniklpage",
          "fazrulazreen",
          "fareedaqml",
          "aiyedgraphy",
          "aiyedgraphy",
          "nasvisual",
          "4dhesign",
          "fazrulazreen",
          "uniklpage",
          "aiyedgraphy",
          "wowmimet",
          "southern_bundle_collection_2.0",
          "4dhesign",
          "uniklpage",
          "uniklpage",
          "aiyedgraphy",
          "fazrulazreen",
          "uniklpage",
          "uniklpage",
          "fotogenz.gallery"
         ],
         "lat": [
          2.8512782618881,
          2.8512782618881,
          2.8512782618881,
          2.8512782618881,
          2.7161303489728,
          null,
          3.0651734883111,
          null,
          null,
          null,
          null,
          3.0709893152613,
          3.1591511595119,
          2.9778139339138,
          null,
          null,
          null,
          null,
          null,
          null,
          null,
          3.1633339402696,
          null,
          null,
          null,
          null,
          3.1280882835434,
          2.92808402215,
          null,
          6.3046173405398,
          3.1683866923095,
          3.1621219109884,
          3.12264
         ],
         "legendgroup": "Album",
         "lon": [
          101.73589359272,
          101.73589359272,
          101.73589359272,
          101.73589359272,
          101.94341430242,
          null,
          101.50191710747,
          null,
          null,
          null,
          null,
          101.60842895508,
          101.7014409742,
          101.79117223417,
          null,
          null,
          null,
          null,
          null,
          null,
          null,
          101.69545900615,
          null,
          null,
          null,
          null,
          101.73827221829,
          101.75888094,
          null,
          99.721946474838,
          101.69134795429,
          101.69233321308,
          101.6517
         ],
         "marker": {
          "color": "#ab63fa"
         },
         "mode": "markers",
         "name": "Album",
         "showlegend": true,
         "subplot": "map",
         "type": "scattermap"
        },
        {
         "customdata": [
          [
           "2021-10-05T13:19:30+00:00"
          ],
          [
           "2019-08-16T06:43:42+00:00"
          ]
         ],
         "hovertemplate": "<b>%{hovertext}</b><br><br>Type=Video<br>Lat=%{lat}<br>Lan=%{lon}<br>Taken at=%{customdata[0]}<extra></extra>",
         "hovertext": [
          "uniklpage",
          "m.hidayat.azizan"
         ],
         "lat": [
          3.1591511595119,
          4.6033634318334
         ],
         "legendgroup": "Video",
         "lon": [
          101.7014409742,
          101.09036532403
         ],
         "marker": {
          "color": "#FFA15A"
         },
         "mode": "markers",
         "name": "Video",
         "showlegend": true,
         "subplot": "map",
         "type": "scattermap"
        }
       ],
       "layout": {
        "legend": {
         "title": {
          "text": "Type"
         },
         "tracegroupgap": 0
        },
        "map": {
         "center": {
          "lat": 3.2508633648022345,
          "lon": 101.59474365602989
         },
         "domain": {
          "x": [
           0,
           1
          ],
          "y": [
           0,
           1
          ]
         },
         "style": "carto-darkmatter",
         "zoom": 11
        },
        "mapbox": {
         "center": {
          "lat": 3.2508633648022345,
          "lon": 101.59474365602989
         },
         "style": "carto-darkmatter",
         "zoom": 11
        },
        "margin": {
         "t": 60
        },
        "template": {
         "data": {
          "bar": [
           {
            "error_x": {
             "color": "#2a3f5f"
            },
            "error_y": {
             "color": "#2a3f5f"
            },
            "marker": {
             "line": {
              "color": "#E5ECF6",
              "width": 0.5
             },
             "pattern": {
              "fillmode": "overlay",
              "size": 10,
              "solidity": 0.2
             }
            },
            "type": "bar"
           }
          ],
          "barpolar": [
           {
            "marker": {
             "line": {
              "color": "#E5ECF6",
              "width": 0.5
             },
             "pattern": {
              "fillmode": "overlay",
              "size": 10,
              "solidity": 0.2
             }
            },
            "type": "barpolar"
           }
          ],
          "carpet": [
           {
            "aaxis": {
             "endlinecolor": "#2a3f5f",
             "gridcolor": "white",
             "linecolor": "white",
             "minorgridcolor": "white",
             "startlinecolor": "#2a3f5f"
            },
            "baxis": {
             "endlinecolor": "#2a3f5f",
             "gridcolor": "white",
             "linecolor": "white",
             "minorgridcolor": "white",
             "startlinecolor": "#2a3f5f"
            },
            "type": "carpet"
           }
          ],
          "choropleth": [
           {
            "colorbar": {
             "outlinewidth": 0,
             "ticks": ""
            },
            "type": "choropleth"
           }
          ],
          "contour": [
           {
            "colorbar": {
             "outlinewidth": 0,
             "ticks": ""
            },
            "colorscale": [
             [
              0,
              "#0d0887"
             ],
             [
              0.1111111111111111,
              "#46039f"
             ],
             [
              0.2222222222222222,
              "#7201a8"
             ],
             [
              0.3333333333333333,
              "#9c179e"
             ],
             [
              0.4444444444444444,
              "#bd3786"
             ],
             [
              0.5555555555555556,
              "#d8576b"
             ],
             [
              0.6666666666666666,
              "#ed7953"
             ],
             [
              0.7777777777777778,
              "#fb9f3a"
             ],
             [
              0.8888888888888888,
              "#fdca26"
             ],
             [
              1,
              "#f0f921"
             ]
            ],
            "type": "contour"
           }
          ],
          "contourcarpet": [
           {
            "colorbar": {
             "outlinewidth": 0,
             "ticks": ""
            },
            "type": "contourcarpet"
           }
          ],
          "heatmap": [
           {
            "colorbar": {
             "outlinewidth": 0,
             "ticks": ""
            },
            "colorscale": [
             [
              0,
              "#0d0887"
             ],
             [
              0.1111111111111111,
              "#46039f"
             ],
             [
              0.2222222222222222,
              "#7201a8"
             ],
             [
              0.3333333333333333,
              "#9c179e"
             ],
             [
              0.4444444444444444,
              "#bd3786"
             ],
             [
              0.5555555555555556,
              "#d8576b"
             ],
             [
              0.6666666666666666,
              "#ed7953"
             ],
             [
              0.7777777777777778,
              "#fb9f3a"
             ],
             [
              0.8888888888888888,
              "#fdca26"
             ],
             [
              1,
              "#f0f921"
             ]
            ],
            "type": "heatmap"
           }
          ],
          "heatmapgl": [
           {
            "colorbar": {
             "outlinewidth": 0,
             "ticks": ""
            },
            "colorscale": [
             [
              0,
              "#0d0887"
             ],
             [
              0.1111111111111111,
              "#46039f"
             ],
             [
              0.2222222222222222,
              "#7201a8"
             ],
             [
              0.3333333333333333,
              "#9c179e"
             ],
             [
              0.4444444444444444,
              "#bd3786"
             ],
             [
              0.5555555555555556,
              "#d8576b"
             ],
             [
              0.6666666666666666,
              "#ed7953"
             ],
             [
              0.7777777777777778,
              "#fb9f3a"
             ],
             [
              0.8888888888888888,
              "#fdca26"
             ],
             [
              1,
              "#f0f921"
             ]
            ],
            "type": "heatmapgl"
           }
          ],
          "histogram": [
           {
            "marker": {
             "pattern": {
              "fillmode": "overlay",
              "size": 10,
              "solidity": 0.2
             }
            },
            "type": "histogram"
           }
          ],
          "histogram2d": [
           {
            "colorbar": {
             "outlinewidth": 0,
             "ticks": ""
            },
            "colorscale": [
             [
              0,
              "#0d0887"
             ],
             [
              0.1111111111111111,
              "#46039f"
             ],
             [
              0.2222222222222222,
              "#7201a8"
             ],
             [
              0.3333333333333333,
              "#9c179e"
             ],
             [
              0.4444444444444444,
              "#bd3786"
             ],
             [
              0.5555555555555556,
              "#d8576b"
             ],
             [
              0.6666666666666666,
              "#ed7953"
             ],
             [
              0.7777777777777778,
              "#fb9f3a"
             ],
             [
              0.8888888888888888,
              "#fdca26"
             ],
             [
              1,
              "#f0f921"
             ]
            ],
            "type": "histogram2d"
           }
          ],
          "histogram2dcontour": [
           {
            "colorbar": {
             "outlinewidth": 0,
             "ticks": ""
            },
            "colorscale": [
             [
              0,
              "#0d0887"
             ],
             [
              0.1111111111111111,
              "#46039f"
             ],
             [
              0.2222222222222222,
              "#7201a8"
             ],
             [
              0.3333333333333333,
              "#9c179e"
             ],
             [
              0.4444444444444444,
              "#bd3786"
             ],
             [
              0.5555555555555556,
              "#d8576b"
             ],
             [
              0.6666666666666666,
              "#ed7953"
             ],
             [
              0.7777777777777778,
              "#fb9f3a"
             ],
             [
              0.8888888888888888,
              "#fdca26"
             ],
             [
              1,
              "#f0f921"
             ]
            ],
            "type": "histogram2dcontour"
           }
          ],
          "mesh3d": [
           {
            "colorbar": {
             "outlinewidth": 0,
             "ticks": ""
            },
            "type": "mesh3d"
           }
          ],
          "parcoords": [
           {
            "line": {
             "colorbar": {
              "outlinewidth": 0,
              "ticks": ""
             }
            },
            "type": "parcoords"
           }
          ],
          "pie": [
           {
            "automargin": true,
            "type": "pie"
           }
          ],
          "scatter": [
           {
            "fillpattern": {
             "fillmode": "overlay",
             "size": 10,
             "solidity": 0.2
            },
            "type": "scatter"
           }
          ],
          "scatter3d": [
           {
            "line": {
             "colorbar": {
              "outlinewidth": 0,
              "ticks": ""
             }
            },
            "marker": {
             "colorbar": {
              "outlinewidth": 0,
              "ticks": ""
             }
            },
            "type": "scatter3d"
           }
          ],
          "scattercarpet": [
           {
            "marker": {
             "colorbar": {
              "outlinewidth": 0,
              "ticks": ""
             }
            },
            "type": "scattercarpet"
           }
          ],
          "scattergeo": [
           {
            "marker": {
             "colorbar": {
              "outlinewidth": 0,
              "ticks": ""
             }
            },
            "type": "scattergeo"
           }
          ],
          "scattergl": [
           {
            "marker": {
             "colorbar": {
              "outlinewidth": 0,
              "ticks": ""
             }
            },
            "type": "scattergl"
           }
          ],
          "scattermapbox": [
           {
            "marker": {
             "colorbar": {
              "outlinewidth": 0,
              "ticks": ""
             }
            },
            "type": "scattermapbox"
           }
          ],
          "scatterpolar": [
           {
            "marker": {
             "colorbar": {
              "outlinewidth": 0,
              "ticks": ""
             }
            },
            "type": "scatterpolar"
           }
          ],
          "scatterpolargl": [
           {
            "marker": {
             "colorbar": {
              "outlinewidth": 0,
              "ticks": ""
             }
            },
            "type": "scatterpolargl"
           }
          ],
          "scatterternary": [
           {
            "marker": {
             "colorbar": {
              "outlinewidth": 0,
              "ticks": ""
             }
            },
            "type": "scatterternary"
           }
          ],
          "surface": [
           {
            "colorbar": {
             "outlinewidth": 0,
             "ticks": ""
            },
            "colorscale": [
             [
              0,
              "#0d0887"
             ],
             [
              0.1111111111111111,
              "#46039f"
             ],
             [
              0.2222222222222222,
              "#7201a8"
             ],
             [
              0.3333333333333333,
              "#9c179e"
             ],
             [
              0.4444444444444444,
              "#bd3786"
             ],
             [
              0.5555555555555556,
              "#d8576b"
             ],
             [
              0.6666666666666666,
              "#ed7953"
             ],
             [
              0.7777777777777778,
              "#fb9f3a"
             ],
             [
              0.8888888888888888,
              "#fdca26"
             ],
             [
              1,
              "#f0f921"
             ]
            ],
            "type": "surface"
           }
          ],
          "table": [
           {
            "cells": {
             "fill": {
              "color": "#EBF0F8"
             },
             "line": {
              "color": "white"
             }
            },
            "header": {
             "fill": {
              "color": "#C8D4E3"
             },
             "line": {
              "color": "white"
             }
            },
            "type": "table"
           }
          ]
         },
         "layout": {
          "annotationdefaults": {
           "arrowcolor": "#2a3f5f",
           "arrowhead": 0,
           "arrowwidth": 1
          },
          "autotypenumbers": "strict",
          "coloraxis": {
           "colorbar": {
            "outlinewidth": 0,
            "ticks": ""
           }
          },
          "colorscale": {
           "diverging": [
            [
             0,
             "#8e0152"
            ],
            [
             0.1,
             "#c51b7d"
            ],
            [
             0.2,
             "#de77ae"
            ],
            [
             0.3,
             "#f1b6da"
            ],
            [
             0.4,
             "#fde0ef"
            ],
            [
             0.5,
             "#f7f7f7"
            ],
            [
             0.6,
             "#e6f5d0"
            ],
            [
             0.7,
             "#b8e186"
            ],
            [
             0.8,
             "#7fbc41"
            ],
            [
             0.9,
             "#4d9221"
            ],
            [
             1,
             "#276419"
            ]
           ],
           "sequential": [
            [
             0,
             "#0d0887"
            ],
            [
             0.1111111111111111,
             "#46039f"
            ],
            [
             0.2222222222222222,
             "#7201a8"
            ],
            [
             0.3333333333333333,
             "#9c179e"
            ],
            [
             0.4444444444444444,
             "#bd3786"
            ],
            [
             0.5555555555555556,
             "#d8576b"
            ],
            [
             0.6666666666666666,
             "#ed7953"
            ],
            [
             0.7777777777777778,
             "#fb9f3a"
            ],
            [
             0.8888888888888888,
             "#fdca26"
            ],
            [
             1,
             "#f0f921"
            ]
           ],
           "sequentialminus": [
            [
             0,
             "#0d0887"
            ],
            [
             0.1111111111111111,
             "#46039f"
            ],
            [
             0.2222222222222222,
             "#7201a8"
            ],
            [
             0.3333333333333333,
             "#9c179e"
            ],
            [
             0.4444444444444444,
             "#bd3786"
            ],
            [
             0.5555555555555556,
             "#d8576b"
            ],
            [
             0.6666666666666666,
             "#ed7953"
            ],
            [
             0.7777777777777778,
             "#fb9f3a"
            ],
            [
             0.8888888888888888,
             "#fdca26"
            ],
            [
             1,
             "#f0f921"
            ]
           ]
          },
          "colorway": [
           "#636efa",
           "#EF553B",
           "#00cc96",
           "#ab63fa",
           "#FFA15A",
           "#19d3f3",
           "#FF6692",
           "#B6E880",
           "#FF97FF",
           "#FECB52"
          ],
          "font": {
           "color": "#2a3f5f"
          },
          "geo": {
           "bgcolor": "white",
           "lakecolor": "white",
           "landcolor": "#E5ECF6",
           "showlakes": true,
           "showland": true,
           "subunitcolor": "white"
          },
          "hoverlabel": {
           "align": "left"
          },
          "hovermode": "closest",
          "mapbox": {
           "style": "light"
          },
          "paper_bgcolor": "white",
          "plot_bgcolor": "#E5ECF6",
          "polar": {
           "angularaxis": {
            "gridcolor": "white",
            "linecolor": "white",
            "ticks": ""
           },
           "bgcolor": "#E5ECF6",
           "radialaxis": {
            "gridcolor": "white",
            "linecolor": "white",
            "ticks": ""
           }
          },
          "scene": {
           "xaxis": {
            "backgroundcolor": "#E5ECF6",
            "gridcolor": "white",
            "gridwidth": 2,
            "linecolor": "white",
            "showbackground": true,
            "ticks": "",
            "zerolinecolor": "white"
           },
           "yaxis": {
            "backgroundcolor": "#E5ECF6",
            "gridcolor": "white",
            "gridwidth": 2,
            "linecolor": "white",
            "showbackground": true,
            "ticks": "",
            "zerolinecolor": "white"
           },
           "zaxis": {
            "backgroundcolor": "#E5ECF6",
            "gridcolor": "white",
            "gridwidth": 2,
            "linecolor": "white",
            "showbackground": true,
            "ticks": "",
            "zerolinecolor": "white"
           }
          },
          "shapedefaults": {
           "line": {
            "color": "#2a3f5f"
           }
          },
          "ternary": {
           "aaxis": {
            "gridcolor": "white",
            "linecolor": "white",
            "ticks": ""
           },
           "baxis": {
            "gridcolor": "white",
            "linecolor": "white",
            "ticks": ""
           },
           "bgcolor": "#E5ECF6",
           "caxis": {
            "gridcolor": "white",
            "linecolor": "white",
            "ticks": ""
           }
          },
          "title": {
           "x": 0.05
          },
          "xaxis": {
           "automargin": true,
           "gridcolor": "white",
           "linecolor": "white",
           "ticks": "",
           "title": {
            "standoff": 15
           },
           "zerolinecolor": "white",
           "zerolinewidth": 2
          },
          "yaxis": {
           "automargin": true,
           "gridcolor": "white",
           "linecolor": "white",
           "ticks": "",
           "title": {
            "standoff": 15
           },
           "zerolinecolor": "white",
           "zerolinewidth": 2
          }
         }
        }
       }
      }
     },
     "metadata": {},
     "output_type": "display_data"
    }
   ],
   "source": [
    "fig = px.scatter_map(geo_df, lat=\"Lat\", lon=\"Lan\", map_style=\"carto-darkmatter\", hover_name=\"User\", hover_data=\"Taken at\", color=\"Type\", zoom=11)\n",
    "fig.show()"
   ]
  },
  {
   "cell_type": "markdown",
   "metadata": {},
   "source": [
    "### Text preprocessing"
   ]
  },
  {
   "cell_type": "code",
   "execution_count": 20,
   "metadata": {},
   "outputs": [],
   "source": [
    "# Unix/Linux\n",
    "tesseract_path = r\"/usr/bin/tesseract\"\n",
    "\n",
    "# Set tesseract path\n",
    "pytesseract.pytesseract.tesseract_cmd = tesseract_path\n"
   ]
  },
  {
   "cell_type": "markdown",
   "metadata": {},
   "source": [
    "#### Extract text from photo"
   ]
  },
  {
   "cell_type": "code",
   "execution_count": 21,
   "metadata": {},
   "outputs": [
    {
     "name": "stdout",
     "output_type": "stream",
     "text": [
      "Extracted text: a\n",
      "\n",
      "\n",
      "Extracted text: \n",
      "Extracted text: \n",
      "Extracted text: \n",
      "Extracted text: CK\n",
      "UNIVERSITI\n",
      "KUALA LUMPUR\n",
      "\n",
      "YOUR\n",
      "\n",
      "TRIAL SPM\n",
      "RESULTS\n",
      "ARE ALL YOU\n",
      "NEED TO\n",
      "APPLY!\n",
      "\n",
      "SPM 2024 students\n",
      "can now apply for\n",
      "the July 2025\n",
      "intake using\n",
      "\n",
      "Trial SPM results.\n",
      "\n",
      "© »Ppty Topay:\n",
      "\n",
      "\n",
      "Extracted text: \n",
      "Extracted text: Salam dan selamat petang..bagaimana\n",
      "feedback tentang kerepek kami? @\n",
      "4:55PM YW\n",
      "\n",
      "WsIm 4:57pm\n",
      "\n",
      "Alhamdulilah 4:53 py)\n",
      "\n",
      "Kerepek slmt smpai, seller fast respon\n",
      "4:58PM\n",
      "\n",
      "Thanks tauu review sy bagi a-sgpyy\n",
      "\n",
      "100000/100_,\n",
      "\n",
      "@© swackFoRtire @© swack4viree\n",
      "\n",
      "Extracted text: aaa ie eRe\n",
      "VAS SINGH BHADAURIA\n",
      "\n",
      "This is suko\n",
      "\n",
      "\n",
      "Extracted text: PLEASE\n",
      "f ROTATE\n",
      "YOUR PHONE\n",
      "\n",
      "Extracted text: \n",
      "Extracted text: \n",
      "Extracted text: \n",
      "Extracted text: © \\ DR ASYRAF WAJDI DUSUKI\n",
      "Posted by Asyraf Wajdi Dusuki\n",
      "3h:-@\n",
      "\n",
      "Ada minta saya pantau isu di\n",
      "UITM dan jangan hanya fokus\n",
      "MRSM. UiTM bukan lagi di\n",
      "bawah MARA sejak diambil alih\n",
      "KPT 1 Jun 1999. Di bawah MARA\n",
      "ada 344 IPMA cth: UniKL, UPTM,\n",
      "IKM, KPTM, KKTM, KM, KPM &\n",
      "GiatMARA.\n",
      "\n",
      "Extracted text: \n",
      "Extracted text: \n",
      "Extracted text: \n",
      "Extracted text: \n"
     ]
    }
   ],
   "source": [
    "img_texts = []\n",
    "\n",
    "for img_url in hashtag_posts[\"thumbnail_url\"]:\n",
    "    if img_url:\n",
    "        response = requests.get(img_url)\n",
    "        img_text = pytesseract.image_to_string(Image.open(BytesIO(response.content)))\n",
    "        print(f\"Extracted text: {img_text}\")\n",
    "        img_texts.append(img_text)\n",
    "    else:\n",
    "        img_texts.append(\"\")\n",
    "\n",
    "hashtag_posts[\"thumbnail_text\"] = img_texts"
   ]
  },
  {
   "cell_type": "markdown",
   "metadata": {},
   "source": [
    "### Preprocessing\n",
    "\n",
    "* Normalisation\n",
    "* Segmentation\n",
    "* Demoji"
   ]
  },
  {
   "cell_type": "code",
   "execution_count": 79,
   "metadata": {},
   "outputs": [],
   "source": [
    "def preprocess_text(text):\n",
    "    # this uses NLTK\n",
    "    # tokens = word_tokenize(text.lower())\n",
    "\n",
    "    # malaya segmentation\n",
    "    # segmenter = malaya.segmentation.huggingface()\n",
    "    # segmenter_func = lambda x: segmenter.generate([x], max_length = 100)[0]\n",
    "\n",
    "    # demoji\n",
    "    demoji = malaya.preprocessing.demoji()\n",
    "    demoji_text = demoji.demoji(text)\n",
    "\n",
    "    # malaya preproc\n",
    "    preproc = malaya.preprocessing.preprocessing(demoji=demoji)\n",
    "    preproc_text = \"\".join(preproc.process(text))\n",
    "\n",
    "    for k,v in demoji_text.items():\n",
    "        preproc_text = preproc_text.replace(k,v)\n",
    "\n",
    "    w_tokeniser = malaya.tokenizer.Tokenizer()\n",
    "    s_tokeniser = malaya.tokenizer.SentenceTokenizer()\n",
    "\n",
    "    w_tokens = w_tokeniser.tokenize(preproc_text, lowercase=True)\n",
    "    # s_tokens = s_tokeniser.tokenize(preproc_text)\n",
    "\n",
    "    # remove alphanumeric word(s)\n",
    "    # filtered_tokens = [word for word in tokens if word.isalnum()]\n",
    "    \n",
    "    return ' '.join(w_tokens)\n",
    "\n",
    "    # return preproc_text"
   ]
  },
  {
   "cell_type": "code",
   "execution_count": null,
   "metadata": {},
   "outputs": [],
   "source": [
    "hashtag_posts"
   ]
  },
  {
   "cell_type": "code",
   "execution_count": 78,
   "metadata": {},
   "outputs": [
    {
     "data": {
      "text/plain": [
       "['pagiinimengadapsupervisor <repeated> . </repeated> prof . dr. sulaimansajilan <allcaps> deanuniversitikualalumpurbusinessschool </allcaps> <hashtag> #unikl </hashtag> <hashtag> #phdstudent </hashtag> <hashtag> #study </hashtag> <hashtag> #workhardplayhard </hashtag> <hashtag> #worksmartstudysmart </hashtag> <hashtag> #studenta </hashtag>',\n",
       " '<number> march <number> manager <user> supervisor <user> secretary <user> . kin_19 <user> . pelajar <hashtag> #unikl </hashtag> <hashtag> #likeforlikes </hashtag> <hashtag> #landscape </hashtag> <hashtag> #lawakhambar </hashtag> <hashtag> #physics </hashtag> <hashtag> #lawaktahapdewa </hashtag> <hashtag> #lawak </hashtag> <hashtag> #sukasukaje </hashtag> <hashtag> #love </hashtag> <hashtag> #instagood </hashtag> <hashtag> #photooftheday </hashtag> <hashtag> #beautiful </hashtag> <hashtag> #happy </hashtag> <hashtag> #cute </hashtag> <hashtag> #tbt </hashtag> <hashtag> #like4like </hashtag> <hashtag> #follow4follow </hashtag> <hashtag> #art </hashtag> <hashtag> #nature </hashtag> <hashtag> #smile </hashtag>',\n",
       " 'secara asasnya , rabulife ✿ <hashtag> #student </hashtag> <hashtag> #adayinmylife </hashtag> <hashtag> #adaywithme </hashtag> <hashtag> #studentlife </hashtag> <hashtag> #students </hashtag> <hashtag> #life </hashtag> <hashtag> #romanticising </hashtag> <hashtag> #study </hashtag> <hashtag> #studygram </hashtag> <hashtag> #studymotivation </hashtag> <hashtag> #studynotes </hashtag> <hashtag> #university </hashtag> <hashtag> #universitylife </hashtag> <hashtag> #universitystudent </hashtag> <hashtag> #unikl </hashtag> <hashtag> #uniklmiit </hashtag>',\n",
       " 'tuesdaynightheatpadaourmfieldplayuniklmiatsepang <emoji> api </emoji> <allcaps> skliavstangerinefc </allcaps> <emoji> bolasepak </emoji> ️ <emoji> api </emoji> thankawakuntukplayingpadaourfifacertifiedturfandsihawakguysagain <emoji> tanda seru berganda </emoji> <hashtag> #mfieldplay </hashtag> <hashtag> #bola </hashtag> <hashtag> #bolasepak </hashtag> <hashtag> #friendlybola </hashtag> <hashtag> #unikl </hashtag> <hashtag> #sepang </hashtag> <hashtag> #putrajaya </hashtag>',\n",
       " '<allcaps> mediafinalweekjantzenfootballleague </allcaps> , match <number> <user> vsmiatplayfc <emoji> api </emoji> <emoji> bolasepak </emoji> ️ perlawananyangpenuhaksidanberakhirdengankemenanganberpihakkepadapasukan <allcaps> rmc </allcaps> sekaligusmemenangijantzenfootballleague . congratulation <allcaps> rmc </allcaps> <emoji> api </emoji> <emoji> menaikkan tangan : nada kulit cahaya </emoji> <hashtag> #mfieldplay </hashtag> <hashtag> #bolasepak </hashtag> <hashtag> #liga </hashtag> <hashtag> #sepang </hashtag> <hashtag> #dengkil </hashtag> <hashtag> #unikl </hashtag> <hashtag> #jantzenfootballleague </hashtag>',\n",
       " '<allcaps> mediafinalweekjantzenfootballleague </allcaps> , match <number> <user> vs <user> <emoji> api </emoji> <emoji> bolasepak </emoji> ️ perlawananyangsengit . goodgameguys <emoji> api </emoji> <emoji> menaikkan tangan : nada kulit cahaya </emoji> <hashtag> #mfieldplay </hashtag> <hashtag> #bolasepak </hashtag> <hashtag> #liga </hashtag> <hashtag> #sepang </hashtag> <hashtag> #dengkil </hashtag> <hashtag> #unikl </hashtag> <hashtag> #jantzenfootballleague </hashtag>',\n",
       " 'tuesdaynightheatpadaourmfieldplayuniklmiatsepang <emoji> api </emoji> <user> vsdvistafc <emoji> bolasepak </emoji> ️ <emoji> api </emoji> thankawakuntukplayingpadaourfifacertifiedturfandsihawakguysagain <emoji> tanda seru berganda </emoji> <hashtag> #mfieldplay </hashtag> <hashtag> #bola </hashtag> <hashtag> #bolasepak </hashtag> <hashtag> #friendlybola </hashtag> <hashtag> #unikl </hashtag> <hashtag> #sepang </hashtag> <hashtag> #putrajaya </hashtag>',\n",
       " 'train <allcaps> scs </allcaps> class <number> <emoji> monorel </emoji> gambarsekitarmajlispenyerahan ( \" handbackceremony \" ) tren <allcaps> scs </allcaps> class <number> projekmaintenance , repairdanoverhaul ( <allcaps> mro </allcaps> ) danperjanjiankolaborasi ( \" collaborationagreement \" ) diantaramrailtechnics ( <allcaps> railtec </allcaps> ) denganuniversitikualalumpur ( unikl ) oleh <allcaps> yab </allcaps> dato\\' seridr . ahmadzahidbinhamiditimbalanperdanamenterimalaysia <emoji> kamera dengan kilat </emoji> <hashtag> #weareunikl </hashtag> <hashtag> #universitikualalumpur </hashtag> <hashtag> #unikl </hashtag> <hashtag> #unikldna </hashtag> <hashtag> #uniklnproud </hashtag> <hashtag> #uniklmidi </hashtag> <hashtag> #train </hashtag> <hashtag> #railtec </hashtag> <hashtag> #ktmb </hashtag> <hashtag> #ktm </hashtag> <hashtag> #destini </hashtag> <hashtag> #kkdw </hashtag> <hashtag> #mara </hashtag> <hashtag> #maracorp </hashtag> <hashtag> #malaysiamadani </hashtag>',\n",
       " '<allcaps> graduationsofainasyat </allcaps> . . . <hashtag> #convophotoshoot </hashtag> <hashtag> #konvokesyen </hashtag> <hashtag> #convocation </hashtag> <hashtag> #konvokesyen </hashtag> <hashtag> #preconvo </hashtag> <hashtag> #postkonvo </hashtag> <hashtag> #postconvo </hashtag> <hashtag> #konvophotographer </hashtag> <hashtag> #photographerkonvo </hashtag> <hashtag> #graduation </hashtag> <hashtag> #unikl </hashtag> <hashtag> #photographerkl </hashtag> <hashtag> #gambarkonvo </hashtag> <hashtag> #kualalumpur </hashtag> <hashtag> #tamarindsquare </hashtag> <hashtag> #shahalam </hashtag> <hashtag> #photographerselangor </hashtag> <hashtag> #preconvouitm </hashtag> <hashtag> #uitmconvo </hashtag> <hashtag> #um </hashtag> <hashtag> #ukm </hashtag> <hashtag> #ukmkonvo </hashtag> <hashtag> #kptm </hashtag> <hashtag> #upm </hashtag> <hashtag> #konvoupm </hashtag> <hashtag> #konvokptm </hashtag> <hashtag> #uum </hashtag> <hashtag> #convouum </hashtag>',\n",
       " '\" educationisnotjustaboutgoingkepadaschoolandgettingadegree . it\\'s aboutwideningawakknowledgeandabsorbingthetruthaboutlife . \" - shakuntaladevi . . . . <allcaps> postconvocationaniszafirah </allcaps> dan <allcaps> family </allcaps> <allcaps> uitmshahalam </allcaps> . . . . gunakanperkhidmatankamidengankadarsegeradiharigraduasiandadanbolehhubungikami :< url > \" jadikanharibahagiaandasepertikisahdongeng \" <hashtag> #konvomalaysia </hashtag> <hashtag> #konvophotoshoot </hashtag> <hashtag> #preconvophotoshoot </hashtag> <hashtag> #palingkuis </hashtag> <hashtag> #konvouitm </hashtag> <hashtag> #kuiskonvo </hashtag> <hashtag> #uitmshahalam </hashtag> <hashtag> #convocationphotographer </hashtag> <hashtag> #malaysianphotographer </hashtag> <hashtag> #uitmdihatiku </hashtag> <hashtag> #convophotoshoot </hashtag> <hashtag> #upmconvo </hashtag> <hashtag> #universitiputramalaysia </hashtag> <hashtag> #ukm </hashtag> <hashtag> #ukmkonvo </hashtag> <hashtag> #uiam </hashtag> <hashtag> #konvouiam </hashtag> <hashtag> #universitimalaya </hashtag> <hashtag> #universitikebangsaanmalaysia </hashtag> <hashtag> #universitimalaya </hashtag> <hashtag> #konvousim </hashtag> <hashtag> #konvokesyen </hashtag> <hashtag> #photographermurah </hashtag> <hashtag> #konvophotoshoot </hashtag> <hashtag> #usim </hashtag> <hashtag> #universitisainsmalaysia </hashtag> <hashtag> #konvophotographer </hashtag> <hashtag> #konvouitm </hashtag> <hashtag> #unikl </hashtag> <hashtag> #konvoupm </hashtag> <hashtag> #upsi </hashtag> <hashtag> #pwtc </hashtag>',\n",
       " 'happydiwali <emoji> wajah tersenyum dengan mata tersenyum </emoji> <emoji> popper parti </emoji> <emoji> popper parti </emoji> <emoji> confetti ball </emoji> <emoji> confetti ball </emoji> <emoji> confetti ball </emoji> <emoji> wajah meniup ciuman </emoji> <emoji> wajah tersenyum dengan tangan terbuka </emoji> <emoji> wajah tersenyum dengan tangan terbuka </emoji> . . . . <hashtag> #diwaligifts </hashtag> <hashtag> #diwali </hashtag> <hashtag> #diwali2020 </hashtag> <hashtag> #cutebaby </hashtag> <hashtag> #decoration </hashtag> <hashtag> #likesforlike </hashtag> <hashtag> #followforfollowback </hashtag> <hashtag> #instalike </hashtag> <hashtag> #goodnight </hashtag> <hashtag> #goodinstagram </hashtag> <hashtag> #nightphotography </hashtag> <hashtag> #sweet </hashtag> <hashtag> #unikl </hashtag> <hashtag> #followers </hashtag> <hashtag> #liketime </hashtag> <emoji> tangan kemenangan </emoji> <emoji> jempol </emoji> <emoji> jempol </emoji> <emoji> wajah tersenyum dengan tangan terbuka </emoji> <emoji> wajah tersenyum dengan tangan terbuka </emoji>',\n",
       " 'salamweareunikl <emoji> wajah tersenyum dengan cermin mata hitam </emoji> hostsembang <allcaps> wow </allcaps> kitaadapesanansikityangnakditujukankepadapelajar-pelajaryangbarusahajamasukbagipengambilan <date> dankepadaseluruhpelajarunikl . minpunnakcakapsikitiniwalaudimanapunkampusuniklandadiseluruhmalaysia , ingatlahkitatetapbawahsatubumbungbesarunikl . semogaberjayadankitajumpadipuncakkejayaaninshaallahamin . weareunikl ! <emoji> pelajar lelaki : nada kulit ringan </emoji> <emoji> pelajar : nada kulit ringan </emoji> hostsembang <allcaps> wow </allcaps> <emoji> mikrofon studio </emoji> <user> , <user> . nuha , <user> dan <user> <emoji> api </emoji> <hashtag> #weareunikl </hashtag> <hashtag> #unikl </hashtag> <hashtag> #unikldna </hashtag> <hashtag> #unikl12campuses </hashtag> <hashtag> #uniklnproud </hashtag> <hashtag> #keluargamalaysia </hashtag>',\n",
       " '<allcaps> graduationsofeyra </allcaps> . . . <hashtag> #convophotoshoot </hashtag> <hashtag> #konvokesyen </hashtag> <hashtag> #convocation </hashtag> <hashtag> #konvokesyen </hashtag> <hashtag> #preconvo </hashtag> <hashtag> #postkonvo </hashtag> <hashtag> #postconvo </hashtag> <hashtag> #konvophotographer </hashtag> <hashtag> #photographerkonvo </hashtag> <hashtag> #graduation </hashtag> <hashtag> #unikl </hashtag> <hashtag> #photographerkl </hashtag> <hashtag> #gambarkonvo </hashtag> <hashtag> #kualalumpur </hashtag> <hashtag> #tamarindsquare </hashtag> <hashtag> #shahalam </hashtag> <hashtag> #photographerselangor </hashtag> <hashtag> #preconvouitm </hashtag> <hashtag> #uitmconvo </hashtag> <hashtag> #um </hashtag> <hashtag> #ukm </hashtag> <hashtag> #ukmkonvo </hashtag> <hashtag> #kptm </hashtag> <hashtag> #upm </hashtag> <hashtag> #konvoupm </hashtag> <hashtag> #konvokptm </hashtag> <hashtag> #uum </hashtag> <hashtag> #convouum </hashtag>',\n",
       " '𝐒𝐏𝐌 <number> 𝐒𝐭𝐮𝐝𝐞𝐧𝐭𝐬 , gotawak𝐓𝐑𝐈𝐀𝐋𝐒𝐏𝐌results ? donotwaitanylonger , applynowuntukthejuly <number> intake ! <emoji> periksa butang tanda </emoji> fast-trackawakapplicationdenganprovisionalresults . <emoji> periksa butang tanda </emoji> lockinawakspotearly . donotmissout ! takethepertamasteptowardawakfuturetoday . applynow :< url > <hashtag> #unikl </hashtag> <hashtag> #unikljulyintake2025ck </hashtag> <allcaps> universiti </allcaps> <allcaps> kualalumpur </allcaps> <allcaps> your </allcaps> <allcaps> trialspm </allcaps> <allcaps> results </allcaps> <allcaps> areallyou </allcaps> <allcaps> needto </allcaps> <allcaps> apply </allcaps> ! <allcaps> spm </allcaps> <number> studentscannowapplyuntukthejuly <number> intakeusingtrial <allcaps> spm </allcaps> results . <emoji> hak cipta </emoji> » pptytopay :',\n",
       " '<allcaps> graduationsofaqilah </allcaps> . . . <hashtag> #convophotoshoot </hashtag> <hashtag> #konvokesyen </hashtag> <hashtag> #convocation </hashtag> <hashtag> #konvokesyen </hashtag> <hashtag> #preconvo </hashtag> <hashtag> #postkonvo </hashtag> <hashtag> #postconvo </hashtag> <hashtag> #konvophotographer </hashtag> <hashtag> #photographerkonvo </hashtag> <hashtag> #graduation </hashtag> <hashtag> #unikl </hashtag> <hashtag> #photographerkl </hashtag> <hashtag> #gambarkonvo </hashtag> <hashtag> #kualalumpur </hashtag> <hashtag> #tamarindsquare </hashtag> <hashtag> #shahalam </hashtag> <hashtag> #photographerselangor </hashtag> <hashtag> #preconvouitm </hashtag> <hashtag> #uitmconvo </hashtag> <hashtag> #um </hashtag> <hashtag> #ukm </hashtag> <hashtag> #ukmkonvo </hashtag> <hashtag> #kptm </hashtag> <hashtag> #upm </hashtag> <hashtag> #konvoupm </hashtag> <hashtag> #konvokptm </hashtag> <hashtag> #uum </hashtag> <hashtag> #convouum </hashtag>',\n",
       " \"littlemoments , besarmemories . <emoji> topi pengijazahan </emoji> throwbacksomeofmygraduationphotosaftergraduatedinbachelorofbusinessadministrationinmarketing ( honours ) akhiryear . oneofthebiggestachievementuntukmeasimanagedkepadacompletemybelajarsatuyearearlierfromthebelajarperiod . haha ! sangguptahuambilbanyaksubjekdanpadatkankelasschedulepersemestersebabnakhabisawaleventhoughbusydenganpartmasajobsasamodeldangrabdrivermasaitu . myclosefriendstahulahipunyapenatdanbaraicamana <emoji> muka dengan lidah </emoji> apapun , hidupinikenayakin , usahadantawakalsahaja . kalaunakdansangguptanggungrisikojustdoit ! wesemuamemakaimistakes , struggles , andevenwillregretthings . that's howwelearndangrowbetter . right ? howmasaflies ! imisssemuamyfriends , assignments , clubs , danenvironmentin <hashtag> #uniklbusinessschool </hashtag> . tiberteringinnaksambungbelajarbalik . shouldi ? <emoji> mengedip wajah dengan lidah </emoji> <hashtag> #unikl </hashtag> <hashtag> #ubis </hashtag> <hashtag> #classof2019 </hashtag> <hashtag> #16thuniklconvocation </hashtag> <hashtag> #weareunikl </hashtag>\",\n",
       " \"wouldawaklikemekepadagiveawakaformulauntuksuccess ? . it's quitesimple , really : . doubleawakrateoffailure . youarefikiroffailureastheenemyofsuccess . butitisnotpadasemua . youcanjadidiscourageddenganfailureatauawakcanlearnfromit , jadipergiaheadandmemakaimistakes . makesemuaawakcan . becauserememberthat's whereawakwillfindsuccess . tags :< hashtag > #betabusinessclub </hashtag> <hashtag> #titaniumnetwork </hashtag> <hashtag> #bvzeta </hashtag> <hashtag> #zetaacademy </hashtag> <hashtag> #zetatestimony </hashtag> <hashtag> #bizvalet </hashtag> <hashtag> #bizvalettestimony </hashtag> <hashtag> #utp </hashtag> <hashtag> #usm </hashtag> <hashtag> #ukm </hashtag> <hashtag> #upm </hashtag> <hashtag> #gmi </hashtag> <hashtag> #upsi </hashtag> <hashtag> #unisel </hashtag> <hashtag> #uniten </hashtag> <hashtag> #3l4kmudah </hashtag> <hashtag> #uniklmimet </hashtag> <hashtag> #uniklmiit </hashtag> <hashtag> #uumsintok </hashtag> <hashtag> #uniklubis </hashtag> <hashtag> #uniklmicet </hashtag> <hashtag> #unikliprom </hashtag> <hashtag> #uniklmestech </hashtag> <hashtag> #uniklbmi </hashtag> <hashtag> #uitmshahalam </hashtag> <hashtag> #uniklmfi </hashtag> <hashtag> #uitmseriiskandar </hashtag> <hashtag> #uitmshahalam </hashtag> <hashtag> #programgandakansimpanan2018 </hashtag> <hashtag> #msu </hashtag> <hashtag> #unikl </hashtag>\",\n",
       " \"graduates' choiceaward <emoji> pingat tentera </emoji> photosduringgraduates' choiceaward <number> padagrandlagoonballroom , sunwayresorthotel . <emoji> kalendar lingkaran </emoji> <date> | wednesdaycongratulationskepadaunikldansemuawinners <emoji> trofi </emoji> <hashtag> #weareunikl </hashtag> <hashtag> #universitikualalumpur </hashtag> <hashtag> #unikl </hashtag> <hashtag> #unikldna </hashtag> <hashtag> #uniklnproud </hashtag> <hashtag> #talentbank </hashtag> <hashtag> #gca </hashtag> <hashtag> #thankyoumalaysia </hashtag> <hashtag> #kkdw </hashtag> <hashtag> #mara </hashtag> <hashtag> #maracorpgroup </hashtag> <hashtag> #malaysiamadani </hashtag>\",\n",
       " 'universitikualalumpur <emoji> handshake : nada kulit cahaya sederhana </emoji> pushkinstaterussianlanguageinstitutephotosduringdiscussiononpotentialcollaborationbetweenuniversitikualalumpurandthepushkinstaterussianlanguageinstitute <emoji> bendera : rusia </emoji> staytuneduntuktheexcitementnews <emoji> wajah tersenyum dengan cermin mata hitam </emoji> <hashtag> #weareunikl </hashtag> <hashtag> #universitikualalumpur </hashtag> <hashtag> #unikl </hashtag> <hashtag> #unikldna </hashtag> <hashtag> #uniklnproud </hashtag> <hashtag> #uniklmiat </hashtag> <hashtag> #miat </hashtag> <hashtag> #russian </hashtag> <hashtag> #kkdw </hashtag> <hashtag> #mara </hashtag> <hashtag> #maracorp </hashtag> <hashtag> #malaysiamadani </hashtag>',\n",
       " 'thankawakuntukawaksupport <hashtag> #unikl </hashtag> <hashtag> #uniklmsisalam </hashtag> danselamatpetang <repeated> . </repeated> bagaimanafeedbacktentangkerepekkami ? @ <time> ywwsim <time> alhamdulilah <time> py ) kerepekselamatsampai , sellerfastrespon <time> thankstauureviewsybagia-sgpyy <number> / 100_ , @ <emoji> hak cipta </emoji> swackfortire @ <emoji> hak cipta </emoji> swack4viree',\n",
       " '<hashtag> #upsi </hashtag> <hashtag> #uitm </hashtag> <hashtag> #ukm </hashtag> <hashtag> #upm </hashtag> <hashtag> #usm </hashtag> <hashtag> #politeknik </hashtag> <hashtag> #utm </hashtag> <hashtag> #uia </hashtag> <hashtag> #uum </hashtag> <hashtag> #um </hashtag> <hashtag> #unikl </hashtag> <hashtag> #serumviral </hashtag> <hashtag> #usim </hashtag> <hashtag> #behrang </hashtag> <hashtag> #uthm </hashtag> <hashtag> #neelofa </hashtag> <hashtag> #ipg </hashtag> <hashtag> #umt </hashtag> <hashtag> #tanjungmalim </hashtag> <hashtag> #unisza </hashtag> <hashtag> #polis </hashtag> <hashtag> #johor </hashtag> <hashtag> #umk </hashtag> <hashtag> #mizuno </hashtag> <hashtag> #asics </hashtag> <hashtag> #perak </hashtag> <hashtag> #utp </hashtag> <hashtag> #protoncity </hashtag> <hashtag> #pdrm </hashtag> <hashtag> #psasaaa </hashtag> ieere <allcaps> vassinghbhadauria </allcaps> thisissuka',\n",
       " 'javaserialam … <hashtag> #pasirgudang </hashtag> <hashtag> #kopi </hashtag> <hashtag> #masai </hashtag> <hashtag> #camping </hashtag> <hashtag> #unikl </hashtag> <hashtag> #uitmjb </hashtag> <hashtag> #rimba </hashtag> <hashtag> #kopimesinplease </hashtag> f <allcaps> rotate </allcaps> <allcaps> yourphone </allcaps>',\n",
       " 'unikle-gamescarnival <number> <emoji> joystick </emoji> finalday | sunday <date> valorant <emoji> pistol air </emoji> <hashtag> #weareunikl </hashtag> <hashtag> #universitikualalumpur </hashtag> <hashtag> #unikl </hashtag> <hashtag> #unikldna </hashtag> <hashtag> #uniklnproud </hashtag> <hashtag> #egames2024 </hashtag> <hashtag> #uegc2024 </hashtag> <hashtag> #esports </hashtag> <hashtag> #egames </hashtag> <hashtag> #mlbb </hashtag> <hashtag> #eafc25 </hashtag> <hashtag> #efootball2025 </hashtag> <hashtag> #valorant </hashtag> <hashtag> #pubg </hashtag> <hashtag> #kkdw </hashtag> <hashtag> #mara </hashtag> <hashtag> #maracorp </hashtag> <hashtag> #malaysiamadani </hashtag>',\n",
       " \"<number> 𝗙𝗨𝗡𝗙𝗔𝗖𝗧𝗦𝗔𝗕𝗢𝗨𝗧𝗢𝗜𝗟 <emoji> tong minyak </emoji> <number> . oilismeasuredinbarrels , whichisequalkepada <number> usgallonsatau <number> liters <number> . malaysia's tapiscrudeoil ( sweetcrude ) , oncetheworld's palingexpensivegradeduekepadarendahsulfurcontent , islosingitsstatusasabenchmarkuntukasianrefinersbuyinggradesfromaustralia , indonesiaandvietnambecauseofdecliningoutput . <number> . accordingkepadathepalingrecentdata , thetopfiveoil-producingnationsaretheu . s . , saudiarabia , russia , canada , andchina . malaysiaranked25th . <number> . thejamnagarrefineryinjamnagar , gujarat , india , isthelargestgloballyandwasrecognizedasthelargestpetrochemicalandrefinerycomplexdengananaggregatecapacityof <number> millionbarrelsperhari ( bpd ) . <number> . renewableenergy ( solar , wind , biomass , water , etc . ) iscommonlyconsideredasanalternativeuntukcrudeoil . <emoji> butang ke bawah </emoji> <emoji> butang ke bawah </emoji> <emoji> butang ke bawah </emoji> forituwhoareseekingcareeropportunitiesinoildangasespeciallyfreshgraduates , iwishawaksemuathebest . considerspendingafewweeksataumonthsexpandingawakskillset . thiswillhelproundoutawakcvkepadamemakaiawakastrongapplicant . nevergivenaikandtrusttheprocess ! - fa - <hashtag> #demipertiwi </hashtag> <hashtag> #oilandgas </hashtag> <hashtag> #uitm </hashtag> <hashtag> #ump </hashtag> <hashtag> #usm </hashtag> <hashtag> #um </hashtag> <hashtag> #uthm </hashtag> <hashtag> #unimas </hashtag> <hashtag> #offshore </hashtag> <hashtag> #onshore </hashtag> <hashtag> #support </hashtag> <hashtag> #education </hashtag> <hashtag> #malaysia </hashtag> <hashtag> #utp </hashtag> <hashtag> #utm </hashtag> <hashtag> #unikl </hashtag>\",\n",
       " '<allcaps> tgif </allcaps> zamanbeforetiktok <repeated> . </repeated> <emoji> see-no-evil monkey </emoji> * hyperglycemicsyndrome . . <hashtag> #throwback </hashtag> #< number > <hashtag> #meipei </hashtag> <hashtag> #video </hashtag> <hashtag> #videooftheday </hashtag> <hashtag> #love </hashtag> <hashtag> #behappy </hashtag> <hashtag> #bestrong </hashtag> <hashtag> #patient </hashtag> <hashtag> #doctor </hashtag> <hashtag> #smile </hashtag> <hashtag> #ootd </hashtag> <hashtag> #mbbs </hashtag> <hashtag> #fashion </hashtag> <hashtag> #instafit </hashtag> <hashtag> #muscular </hashtag> <hashtag> #unikl </hashtag> <hashtag> #ipoh </hashtag> <hashtag> #iphone </hashtag> <hashtag> #blessed </hashtag> <hashtag> #motivation </hashtag> <hashtag> #positivevibes </hashtag> <hashtag> #tgif </hashtag>',\n",
       " '<allcaps> graduationsofputeriaidasabrina </allcaps> . . . <hashtag> #convophotoshoot </hashtag> <hashtag> #konvokesyen </hashtag> <hashtag> #convocation </hashtag> <hashtag> #konvokesyen </hashtag> <hashtag> #preconvo </hashtag> <hashtag> #postkonvo </hashtag> <hashtag> #postconvo </hashtag> <hashtag> #konvophotographer </hashtag> <hashtag> #photographerkonvo </hashtag> <hashtag> #graduation </hashtag> <hashtag> #unikl </hashtag> <hashtag> #photographerkl </hashtag> <hashtag> #gambarkonvo </hashtag> <hashtag> #kualalumpur </hashtag> <hashtag> #tamarindsquare </hashtag> <hashtag> #shahalam </hashtag> <hashtag> #photographerselangor </hashtag> <hashtag> #preconvouitm </hashtag> <hashtag> #uitmconvo </hashtag> <hashtag> #um </hashtag> <hashtag> #ukm </hashtag> <hashtag> #ukmkonvo </hashtag> <hashtag> #kptm </hashtag> <hashtag> #upm </hashtag> <hashtag> #konvoupm </hashtag> <hashtag> #konvokptm </hashtag> <hashtag> #uum </hashtag> <hashtag> #convouum </hashtag>',\n",
       " '<allcaps> preconvocationofsuhaimah </allcaps> dan <allcaps> friends </allcaps> <hashtag> #convophotoshoot </hashtag> <hashtag> #konvokesyen </hashtag> <hashtag> #convocation </hashtag> <hashtag> #konvokesyen </hashtag> <hashtag> #preconvo </hashtag> <hashtag> #postkonvo </hashtag> <hashtag> #postconvo </hashtag> <hashtag> #konvophotographer </hashtag> <hashtag> #photographerkonvo </hashtag> <hashtag> #graduation </hashtag> <hashtag> #unikl </hashtag> <hashtag> #photographerkl </hashtag> <hashtag> #gambarkonvo </hashtag> <hashtag> #kualalumpur </hashtag> <hashtag> #tamarindsquare </hashtag> <hashtag> #shahalam </hashtag> <hashtag> #photographerselangor </hashtag> <hashtag> #preconvouitm </hashtag> <hashtag> #uitmconvo </hashtag> <hashtag> #um </hashtag> <hashtag> #ukm </hashtag> <hashtag> #ukmkonvo </hashtag> <hashtag> #kptm </hashtag> <hashtag> #upm </hashtag> <hashtag> #konvoupm </hashtag> <hashtag> #konvokptm </hashtag> <hashtag> #uum </hashtag> <hashtag> #convouum </hashtag>',\n",
       " '<allcaps> preconvocationofafiqah </allcaps> dan <allcaps> friends </allcaps> <hashtag> #convophotoshoot </hashtag> <hashtag> #konvokesyen </hashtag> <hashtag> #convocation </hashtag> <hashtag> #konvokesyen </hashtag> <hashtag> #preconvo </hashtag> <hashtag> #postkonvo </hashtag> <hashtag> #postconvo </hashtag> <hashtag> #konvophotographer </hashtag> <hashtag> #photographerkonvo </hashtag> <hashtag> #graduation </hashtag> <hashtag> #unikl </hashtag> <hashtag> #photographerkl </hashtag> <hashtag> #gambarkonvo </hashtag> <hashtag> #kualalumpur </hashtag> <hashtag> #tamarindsquare </hashtag> <hashtag> #shahalam </hashtag> <hashtag> #photographerselangor </hashtag> <hashtag> #preconvouitm </hashtag> <hashtag> #uitmconvo </hashtag> <hashtag> #um </hashtag> <hashtag> #ukm </hashtag> <hashtag> #ukmkonvo </hashtag> <hashtag> #kptm </hashtag> <hashtag> #upm </hashtag> <hashtag> #konvoupm </hashtag> <hashtag> #konvokptm </hashtag> <hashtag> #uum </hashtag> <hashtag> #convouum </hashtag>',\n",
       " 'post-convoofamiruldanfriends |< allcaps > usim </allcaps> masihlagimencariphotographeruntukconvoanda ? dmusnow . <allcaps> depositaslowas </allcaps> <money> . anyinquiries , kindlydmawakdetails . venue : howmanypax : date : coveragearoundkl-selangor-negerisembilan-melaka <hashtag> #konvo </hashtag> <hashtag> #prekonvo </hashtag> <hashtag> #convocation </hashtag> <hashtag> #preconvocation </hashtag> <hashtag> #usim </hashtag> <hashtag> #uiam </hashtag> <hashtag> #ukm </hashtag> <hashtag> #upm </hashtag> <hashtag> #uitm </hashtag> <hashtag> #msu </hashtag> <hashtag> #uniten </hashtag> <hashtag> #unikl </hashtag> <hashtag> #kktm </hashtag> <hashtag> #um </hashtag> <hashtag> #oum </hashtag>',\n",
       " 'thankyoumpportsservicesuntuktrustingus ! <emoji> kapal </emoji> dudukjauh ? nakpakaicepat ? saynomore . deliverysemuathewaykepadaterengganuinfewhoursnaikbassahaja <emoji> handshake : nada kulit cahaya sederhana </emoji> janganfikirfikirlagi , terustekanlinkdibio ! <emoji> kucing dengan senyuman tersenyum </emoji> <hashtag> #adhesign </hashtag> <hashtag> #adhesignfeedback </hashtag> <hashtag> #jerseysublimation </hashtag> <hashtag> #sublimationprinting </hashtag> <hashtag> #jerseycustom </hashtag> <hashtag> #jersimurah </hashtag> <hashtag> #teamorder </hashtag> <hashtag> #kilangcetakbaju </hashtag> <hashtag> #customdesign </hashtag> <hashtag> #ipta </hashtag> <hashtag> #ipts </hashtag> <hashtag> #uitm </hashtag> <hashtag> #unikl </hashtag> <hashtag> #kptm </hashtag>',\n",
       " 'train <allcaps> scs </allcaps> class <number> <emoji> monorel </emoji> sorotanvideosewaktumajlispenyerahan ( \" handbackceremony \" ) tren <allcaps> scs </allcaps> class <number> projekmaintenance , repairdanoverhaul ( <allcaps> mro </allcaps> ) danperjanjiankolaborasi ( \" collaborationagreement \" ) diantaramrailtechnics ( <allcaps> railtec </allcaps> ) denganuniversitikualalumpur ( unikl ) oleh <allcaps> yab </allcaps> dato\\' seridr . ahmadzahidbinhamiditimbalanperdanamenterimalaysia <emoji> kamera filem </emoji> <hashtag> #weareunikl </hashtag> <hashtag> #universitikualalumpur </hashtag> <hashtag> #unikl </hashtag> <hashtag> #unikldna </hashtag> <hashtag> #uniklnproud </hashtag> <hashtag> #railtec </hashtag> <hashtag> #ktmb </hashtag> <hashtag> #ktm </hashtag> <hashtag> #destini </hashtag> <hashtag> #kkdw </hashtag> <hashtag> #mara </hashtag> <hashtag> #maracorp </hashtag> <hashtag> #malaysiamadani </hashtag>',\n",
       " 'jarumitutajamtetapitidakdapatuntukmenebasrumput , kapakitukuattetapitidakdapatuntukmomotongrambut . setiapdarikitapunyakelebihandankekuranganmengikutcitrawarnakehidupan . janganpernahpandangrendahakanseseorangmelainkankamuterujadengankasutyangdipakainya . - fa - <hashtag> #demipertiwi </hashtag> <hashtag> #oilandgas </hashtag> <hashtag> #uitm </hashtag> <hashtag> #ump </hashtag> <hashtag> #usm </hashtag> <hashtag> #um </hashtag> <hashtag> #uthm </hashtag> <hashtag> #unimas </hashtag> <hashtag> #offshore </hashtag> <hashtag> #onshore </hashtag> <hashtag> #support </hashtag> <hashtag> #education </hashtag> <hashtag> #malaysia </hashtag> <hashtag> #utp </hashtag> <hashtag> #utm </hashtag> <hashtag> #unikl </hashtag> <hashtag> #advice </hashtag>',\n",
       " '<allcaps> icetss </allcaps> <number> <emoji> gear </emoji> day <number> <emoji> kamera dengan kilat </emoji> photosduringtheinternationalconferenceonentrepreneurship , technology , andsocialsciences ( <allcaps> icetss </allcaps> <number> ) pada <allcaps> steg </allcaps> hotel , kualalumpur . thiseventoccurredonwednesdayandthursday , december4thand5th , <number> . <emoji> kalendar lingkaran </emoji> wednesday , <number> december <number> <emoji> pusingan pusingan pusingan </emoji> <user> <hashtag> #weareunikl </hashtag> <hashtag> #universitikualalumpur </hashtag> <hashtag> #unikl </hashtag> <hashtag> #unikldna </hashtag> <hashtag> #uniklnproud </hashtag> <hashtag> #icetss </hashtag> <hashtag> #tekno </hashtag> <hashtag> #teknoputra </hashtag> <hashtag> #business </hashtag> <hashtag> #kkdw </hashtag> <hashtag> #mara </hashtag> <hashtag> #maracorpgroup </hashtag> <hashtag> #malaysiamadani </hashtag>',\n",
       " '<allcaps> preconvocationofafiqah </allcaps> <hashtag> #convophotoshoot </hashtag> <hashtag> #konvokesyen </hashtag> <hashtag> #convocation </hashtag> <hashtag> #konvokesyen </hashtag> <hashtag> #preconvo </hashtag> <hashtag> #postkonvo </hashtag> <hashtag> #postconvo </hashtag> <hashtag> #konvophotographer </hashtag> <hashtag> #photographerkonvo </hashtag> <hashtag> #graduation </hashtag> <hashtag> #unikl </hashtag> <hashtag> #photographerkl </hashtag> <hashtag> #gambarkonvo </hashtag> <hashtag> #kualalumpur </hashtag> <hashtag> #tamarindsquare </hashtag> <hashtag> #shahalam </hashtag> <hashtag> #photographerselangor </hashtag> <hashtag> #preconvouitm </hashtag> <hashtag> #uitmconvo </hashtag> <hashtag> #um </hashtag> <hashtag> #ukm </hashtag> <hashtag> #ukmkonvo </hashtag> <hashtag> #kptm </hashtag> <hashtag> #upm </hashtag> <hashtag> #konvoupm </hashtag> <hashtag> #konvokptm </hashtag> <hashtag> #uum </hashtag> <hashtag> #convouum </hashtag>',\n",
       " 'uniklconvocation <number> dan <number> <emoji> topi pengijazahan </emoji> afteralmost <number> years , theprestigiousuniklconvocationceremonycouldnotjadiheldduekepadacovidandotherunforeseenproblems . thewaitisnowover ! donotforgettomorrow , monday <number> june <number> pada <time> , uniklwillannounce17thdan18thconvocationcermonydate ! formoreinformationabouttheconvocation , directlypergikepadathewebsiteconvo.unikl.edu.my <emoji> bintang-bintang </emoji> <hashtag> #weareunikl </hashtag> <hashtag> #unikl </hashtag> <hashtag> #unikldna </hashtag> <hashtag> #uniklnproud </hashtag> <hashtag> #uniklconvo </hashtag> <hashtag> #class20 </hashtag> dan <number> <hashtag> #convo1718 </hashtag> <hashtag> #august </hashtag>',\n",
       " 'ahoyyyymimetians ! <emoji> kapal </emoji> <emoji> anchor </emoji> ️ wealreadysiapourinterviewsessionuntukofficialwowcrew <number> recruitmentsessionfurtherstrengthen <allcaps> wow </allcaps> crewteamkepadabuildanewlineupuntukwowcrew <number> <emoji> memo </emoji> thepanelconducteddenganmadamsaramurniharyanti , headofsessioncampuslifestyle , madamfatinzawanibintizainalazaim , headofsessionstudentdevelopment , muhdazminazrambinahmadsani , headof <allcaps> wow </allcaps> <number> , muhdiqbalbincheyangsazali , asisstantheadof <allcaps> wow </allcaps> andnajwazahidahbintimazuki , secretary <allcaps> wow </allcaps> <emoji> busts dalam siluet </emoji> <user> <user> <user> <user> <user> . <hashtag> #wowmimet </hashtag> <hashtag> #wow2022 </hashtag> <hashtag> #uniklmimet </hashtag> <hashtag> #uniklmarine </hashtag> <hashtag> #lumutcampus </hashtag> <hashtag> #marineengineering </hashtag> <hashtag> #offshoreengineering </hashtag> <hashtag> #navalarchitecture </hashtag> <hashtag> #maritimemanagement </hashtag> <hashtag> #marineelectrical </hashtag> <hashtag> #marineelectronics </hashtag> <hashtag> #studymarineinmalaysia </hashtag> <hashtag> #uniklandproud </hashtag> <hashtag> #sailingaheadwithexcellence </hashtag> <hashtag> #weareuniki </hashtag> <hashtag> #unikinproud </hashtag> <hashtag> #unikl </hashtag> <hashtag> #unikllumut </hashtag> <hashtag> #uniklperak </hashtag>',\n",
       " '<emoji> hati merah </emoji> <emoji> hati merah </emoji> <allcaps> court </allcaps> <emoji> hati merah </emoji> <emoji> hati merah </emoji> southernbundlecollectionh0kaabondi8size <number> . 5uk / 28cmkondisi <number> / <number> rm <number> percumapossemenanjung <hashtag> #sbc9uk </hashtag> <hashtag> #southernbundle </hashtag> <hashtag> #asicsbundle </hashtag> <hashtag> #mizunobundle </hashtag> <hashtag> #askar </hashtag> <hashtag> #runningshoes </hashtag> <hashtag> #unikl </hashtag> <hashtag> #uitm </hashtag> <hashtag> #upm </hashtag> <hashtag> #utm </hashtag> <hashtag> #hokabundle </hashtag> <hashtag> #tldm </hashtag> <hashtag> #tudm </hashtag> <hashtag> #pdrm </hashtag> <hashtag> #ukm </hashtag> <hashtag> #politeknik </hashtag> <hashtag> #ipts </hashtag> <hashtag> #malaysiarunner </hashtag> <hashtag> #kasutbundle </hashtag> <hashtag> #jlj </hashtag> <hashtag> #polis </hashtag> <hashtag> #ramd </hashtag> <hashtag> #wataniah </hashtag> <hashtag> #upsi </hashtag> <hashtag> #ipg </hashtag> <hashtag> #mitec </hashtag> <hashtag> #uia </hashtag> <hashtag> #ukm </hashtag> <hashtag> #ipta </hashtag>',\n",
       " '<hashtag> #merakyatkanmara </hashtag> <hashtag> #mara </hashtag> <hashtag> #hidupkumilikummah </hashtag> <hashtag> #mrsm </hashtag> <hashtag> #unikl </hashtag> <hashtag> #uptm </hashtag> <hashtag> #kptm </hashtag> <hashtag> #kktm </hashtag> <hashtag> #kolejmara </hashtag> <hashtag> #giatmara </hashtag> <hashtag> #institusipendidikanmara </hashtag> <emoji> hak cipta </emoji> \\\\ <allcaps> drasyrafwajdidusuki </allcaps> posteddenganasyrafwajdidusuki3h :-@ adamemintasayapantauisudi <allcaps> uitm </allcaps> danjanganhanyafokus <allcaps> mrsm </allcaps> . uitmbukanlagidibawah <allcaps> mara </allcaps> sejakdiambilalih <allcaps> kpt </allcaps> <date> . dibawah <allcaps> mara </allcaps> ada <number> <allcaps> ipma </allcaps> cth : unikl , <allcaps> uptm </allcaps> , <allcaps> ikm </allcaps> , <allcaps> kptm </allcaps> , <allcaps> kktm </allcaps> , km , <allcaps> kpm </allcaps> dangiatmara .',\n",
       " '<allcaps> sedangkantapirdihutanpunmemilihketuadikalanganmereka </allcaps> , <allcaps> apalagikitamanusiabiasa </allcaps> . lagi <time> sebelumpusatpengundianditutup . mariramairamaitunaikanbertanggungjawabsebagairakyatuntukkeluarmengundi . biarkitaberbezapandangan , tetapihatikitabersatu . bukanuntukmasadepankitasemata , tetapianakcucukita , generasikita . - fa - <hashtag> #ge15 </hashtag> <hashtag> #pru15 </hashtag> <hashtag> #malaysia </hashtag> <hashtag> #education </hashtag> <hashtag> #people </hashtag> <hashtag> #rakyat </hashtag> <hashtag> #undi18 </hashtag> <hashtag> #proud </hashtag> <hashtag> #oilandgas </hashtag> <hashtag> #fazrulazreen </hashtag> <hashtag> #sarawak </hashtag> <hashtag> #borneo </hashtag> <hashtag> #utp </hashtag> <hashtag> #utm </hashtag> <hashtag> #uitm </hashtag> <hashtag> #ump </hashtag> <hashtag> #uum </hashtag> <hashtag> #uia </hashtag> <hashtag> #unikl </hashtag> <hashtag> #usm </hashtag> <hashtag> #unimas </hashtag>',\n",
       " '<hashtag> #upsi </hashtag> <hashtag> #uitm </hashtag> <hashtag> #ukm </hashtag> <hashtag> #upm </hashtag> <hashtag> #usm </hashtag> <hashtag> #politeknik </hashtag> <hashtag> #utm </hashtag> <hashtag> #uia </hashtag> <hashtag> #uum </hashtag> <hashtag> #um </hashtag> <hashtag> #unikl </hashtag> <hashtag> #serumviral </hashtag> <hashtag> #usim </hashtag> <hashtag> #behrang </hashtag> <hashtag> #uthm </hashtag> <hashtag> #neelofa </hashtag> <hashtag> #ipg </hashtag> <hashtag> #umt </hashtag> <hashtag> #tanjungmalim </hashtag> <hashtag> #unisza </hashtag> <hashtag> #polis </hashtag> <hashtag> #johor </hashtag> <hashtag> #umk </hashtag> <hashtag> #mizuno </hashtag> <hashtag> #asics </hashtag> <hashtag> #perak </hashtag> <hashtag> #utp </hashtag> <hashtag> #protoncity </hashtag> <hashtag> #pdrm </hashtag> <hashtag> #psas </hashtag>',\n",
       " 'thankyouuntuktrustingus ! <emoji> bintang-bintang </emoji> kenapapilihkami ? <emoji> t-shirt </emoji> no <allcaps> moq </allcaps> ! sehelaipunboleh ! <emoji> voltan tinggi </emoji> ️ freedelivery ! <emoji> benang </emoji> lebih <number> + cataloguedesigntersedia <emoji> beg wang </emoji> freecustomdesign ! <emoji> pautan </emoji> specialoffer ? tekanlinkdibiookay ! <hashtag> #adhesign </hashtag> <hashtag> #adhesignfeedback </hashtag> <hashtag> #jerseysublimation </hashtag> <hashtag> #sublimationprinting </hashtag> <hashtag> #jerseycustom </hashtag> <hashtag> #jersimurah </hashtag> <hashtag> #teamorder </hashtag> <hashtag> #dtf </hashtag> <hashtag> #dtfprinting </hashtag> <hashtag> #dtgprinting </hashtag> <hashtag> #silkscreenprinting </hashtag> <hashtag> #kilangcetakbaju </hashtag> <hashtag> #customdesign </hashtag> <hashtag> #ipta </hashtag> <hashtag> #ipts </hashtag> <hashtag> #uitm </hashtag> <hashtag> #unikl </hashtag> <hashtag> #kptm </hashtag>',\n",
       " 'unikle-gamescarnival <number> <emoji> joystick </emoji> day - <number> | saturday <date> grandfinale <allcaps> pubgm </allcaps> <emoji> api </emoji> <hashtag> #weareunikl </hashtag> <hashtag> #universitikualalumpur </hashtag> <hashtag> #unikl </hashtag> <hashtag> #unikldna </hashtag> <hashtag> #uniklnproud </hashtag> <hashtag> #uniklconvo </hashtag> <hashtag> #egames2023 </hashtag> <hashtag> #uegc2023 </hashtag> <hashtag> #esports </hashtag> <hashtag> #egames </hashtag> <hashtag> #kkdw </hashtag> <hashtag> #mara </hashtag> <hashtag> #maracorp </hashtag>',\n",
       " '<hashtag> #upsi </hashtag> <hashtag> #uitm </hashtag> <hashtag> #ukm </hashtag> <hashtag> #upm </hashtag> <hashtag> #usm </hashtag> <hashtag> #politeknik </hashtag> <hashtag> #utm </hashtag> <hashtag> #uia </hashtag> <hashtag> #uum </hashtag> <hashtag> #um </hashtag> <hashtag> #unikl </hashtag> <hashtag> #serumviral </hashtag> <hashtag> #usim </hashtag> <hashtag> #behrang </hashtag> <hashtag> #uthm </hashtag> <hashtag> #neelofa </hashtag> <hashtag> #ipg </hashtag> <hashtag> #umt </hashtag> <hashtag> #tanjungmalim </hashtag> <hashtag> #unisza </hashtag> <hashtag> #polis </hashtag> <hashtag> #johor </hashtag> <hashtag> #umk </hashtag> <hashtag> #mizuno </hashtag> <hashtag> #asics </hashtag> <hashtag> #perak </hashtag> <hashtag> #utp </hashtag> <hashtag> #protoncity </hashtag> <hashtag> #pdrm </hashtag> <hashtag> #psas </hashtag>',\n",
       " 'sneakpeak <allcaps> ussc </allcaps> <number> day <number> <emoji> api </emoji> follow <user> . pageand <user> untukupdatesandliveresults ! <emoji> telefon bimbit </emoji> <hashtag> #weareunikl </hashtag> <hashtag> #unikl </hashtag> <hashtag> #unikldna </hashtag> <hashtag> #uniklnproud </hashtag> <hashtag> #ussc </hashtag> <hashtag> #ussc2023 </hashtag> <hashtag> #17thussc </hashtag> <hashtag> #ussccomeback </hashtag> <hashtag> #uniklgo </hashtag> <hashtag> #sport </hashtag>',\n",
       " '<allcaps> graduationdayofanissyuhada </allcaps> <hashtag> #convophotoshoot </hashtag> <hashtag> #konvokesyen </hashtag> <hashtag> #convocation </hashtag> <hashtag> #konvokesyen </hashtag> <hashtag> #preconvo </hashtag> <hashtag> #postkonvo </hashtag> <hashtag> #postconvo </hashtag> <hashtag> #konvophotographer </hashtag> <hashtag> #photographerkonvo </hashtag> <hashtag> #graduation </hashtag> <hashtag> #unikl </hashtag> <hashtag> #photographerkl </hashtag> <hashtag> #gambarkonvo </hashtag> <hashtag> #kualalumpur </hashtag> <hashtag> #tamarindsquare </hashtag> <hashtag> #shahalam </hashtag> <hashtag> #photographerselangor </hashtag> <hashtag> #preconvouitm </hashtag> <hashtag> #uitmconvo </hashtag> <hashtag> #um </hashtag> <hashtag> #ukm </hashtag> <hashtag> #ukmkonvo </hashtag> <hashtag> #kptm </hashtag> <hashtag> #upm </hashtag> <hashtag> #konvoupm </hashtag> <hashtag> #konvokptm </hashtag>',\n",
       " \"accordingkepada <number> salarysurveydenganrobertwalters , herearesomekeytakeaways :< number > . <percent> ofemployersmeistrugglekepadameettoptalents's alaryexpectations . <number> . employers , especiallyintechnicalandengineeringindustries , areconcernedovertalentshortageduekepadaprofessionalsexpectinghigherremunerationskepadacoverrisinglivingcosts . <number> . wecansangkaacontinuedriseinhiringuntuksustainabilitytalents . <number> . there's ashortageofyoungautomationengineers , anditishighlyrecommendeduntukgraduateengineerskepadafocustheircareerswithinitufielduntukbetterfutureprospects . <number> . morecompetitivesalaryadjustmentswouldjadirequireduntukbothretentionandattractionoftalents . <number> . hiringin <number> howeverwilllikelycoolofffrom <number> ' selevatedlevels . companieswilljadimorecautiousinrecruitment , whileprofessionalswillalsojadireluctantkepadapergitheirjobswithoutanotherkerjaonhand . <number> . hybridandbusinesspartneringskills , suchasstakeholdermanagement , businessacumen , dataanalyticsandbusinesscontinuityplanning , willcontinuekepadajadiinhighdemandin <number> inmyupcomingvirtualseminar , iwillnotjustjaditalkingaboutoildangasprofessions , iwillalsojadidiscussingmyviewontheexpectedhiringlandscapewithintheworldoftechnicalareas ( engineeringdanmanufacturing ) andnon-technicalareas ( businessmanagement , humanresource , etc . ) untuk <number> . registeruntukpercumahere <emoji> butang ke bawah </emoji> <url> orclicklinkinbio <emoji> tangan menulis : nada kulit cahaya sederhana </emoji> <hashtag> #seminar </hashtag> <hashtag> #webinar </hashtag> <hashtag> #family </hashtag> <hashtag> #education </hashtag> <hashtag> #oilandgas </hashtag> <hashtag> #knowledge </hashtag> <hashtag> #free </hashtag> <hashtag> #share </hashtag> <hashtag> #motivation </hashtag> <hashtag> #follow </hashtag> <hashtag> #utp </hashtag> <hashtag> #uitm </hashtag> <hashtag> #um </hashtag> <hashtag> #unikl </hashtag> <hashtag> #utm </hashtag> <hashtag> #uia </hashtag> <hashtag> #ump </hashtag>\",\n",
       " 'unikl21stconvocationceremony <emoji> topi pengijazahan </emoji> <allcaps> eighthsession </allcaps> <emoji> kamera </emoji> thecelebrationreachesnewheightsaswehonorthe <hashtag> #classof2024 </hashtag> ontheirspecialhari . heartiestcongratulationskepadasemuaouramazinggraduates ! <emoji> popper parti </emoji> <hashtag> #weareunikl </hashtag> <hashtag> #universitikualalumpur </hashtag> <hashtag> #unikl </hashtag> <hashtag> #unikldna </hashtag> <hashtag> #uniklnproud </hashtag> <hashtag> #uniklconvo </hashtag> <hashtag> #uniklconvo21 </hashtag> <hashtag> #uniklconvo21st </hashtag> <hashtag> #classof24 </hashtag> <hashtag> #convo21 </hashtag> <hashtag> #november </hashtag> <hashtag> #wtckl </hashtag> <hashtag> #roadtoconvo </hashtag> <hashtag> #kkdw </hashtag> <hashtag> #mara </hashtag> <hashtag> #maracorpgroup </hashtag> <hashtag> #malaysiamadani </hashtag>',\n",
       " \"unikl17thdan18thconvocation <emoji> topi pengijazahan </emoji> <allcaps> sesi </allcaps> <number> daulattuankumenjunjungsetingggi-tinggikasihkebawahduliyangmahamuliaseripadukabagindayangdi-pertuanagongal-sultanabdullahri ' ayatuddinal-mustafabillahshahibnialmarhumsultanhajiahmadshahal-mustainbillahtuankucanseloruniversitikualalumpurdankebawahduliyangmahamuliaseripadukabagindarajapermaisuriagongtunkuhajahazizahaminahmaimunahiskandariahbintialmarhumal-mutawakkilalallahsultaniskandaral-hajberkenanberangkatmencemardulimajliskonvokesyenuniklyangke - <number> danke - <number> . <hashtag> #weareunikl </hashtag> <hashtag> #unikl </hashtag> <hashtag> #unikldna </hashtag> <hashtag> #uniklnproud </hashtag> <hashtag> #uniklconvo </hashtag> <hashtag> #class20 </hashtag> dan <number> <hashtag> #convo1718 </hashtag> <hashtag> #august </hashtag>\",\n",
       " 'preconvophotoshootuntukdinadanfriends <emoji> pusingan pusingan pusingan </emoji> bookxcesslalaport . masihtercari-carijurugambaruntukharigraduasianda ? tempahslotandasekarangdanhubungikamidi ;< url > ( hafiz ) <hashtag> #convophotographer </hashtag> <hashtag> #malaysianphotographer </hashtag> <hashtag> #konvomalaysia </hashtag> <hashtag> #konvophotoshoot </hashtag> <hashtag> #preconvophotoshoot </hashtag> <hashtag> #palingkuis </hashtag> <hashtag> #konvokuis </hashtag> <hashtag> #konvoiic </hashtag> <hashtag> #uitmshahalam </hashtag> <hashtag> #uitmdihatiku </hashtag> <hashtag> #convophotoshoot </hashtag> <hashtag> #universitikebangsaanmalaysia </hashtag> <hashtag> #ukm </hashtag> <hashtag> #universitimalaya </hashtag> <hashtag> #upm </hashtag> <hashtag> #universitiputramalaysia </hashtag> <hashtag> #uiam </hashtag> <hashtag> #konvouiam </hashtag> <hashtag> #konvousim </hashtag> <hashtag> #konvouitm </hashtag> <hashtag> #longcall </hashtag> <hashtag> #convouitm </hashtag> <hashtag> #usim </hashtag> <hashtag> #universitisainsislammalaysia </hashtag> <hashtag> #konvophotographer </hashtag> <hashtag> #longcall </hashtag> <hashtag> #unikl </hashtag> <hashtag> #konvoupnm </hashtag> <hashtag> #sunwayuniversity </hashtag>',\n",
       " 'videorumahterbukarayauniklbusinessschoolkampusgurney , kualalumpur <emoji> berkilau </emoji> <hashtag> #weareunikl </hashtag> <hashtag> #universitikualalumpur </hashtag> <hashtag> #unikl </hashtag> <hashtag> #uniklnproud </hashtag> <hashtag> #unikldna </hashtag> <hashtag> #uniklraya </hashtag> <hashtag> #uniklvogueraya </hashtag> <hashtag> #raya2023 </hashtag> <hashtag> #syawal </hashtag> <hashtag> #kkdw </hashtag> <hashtag> #maracorp </hashtag> <hashtag> #mara </hashtag> <hashtag> #malaysiamadani </hashtag>']"
      ]
     },
     "execution_count": 78,
     "metadata": {},
     "output_type": "execute_result"
    }
   ],
   "source": [
    "texts = []\n",
    "for i, caption in enumerate(hashtag_posts[\"caption_text\"]):\n",
    "    if hashtag_posts.loc[i, \"thumbnail_text\"] == \"\":\n",
    "        texts.append(preprocess_text(caption))\n",
    "    else:\n",
    "        text = caption + hashtag_posts.loc[i, \"thumbnail_text\"]\n",
    "        texts.append(preprocess_text(text))\n",
    "\n",
    "texts"
   ]
  },
  {
   "cell_type": "markdown",
   "metadata": {},
   "source": [
    "#### Detect language"
   ]
  },
  {
   "cell_type": "code",
   "execution_count": 69,
   "metadata": {},
   "outputs": [
    {
     "name": "stderr",
     "output_type": "stream",
     "text": [
      "Warning : `load_model` does not return WordVectorModel or SupervisedModel any more, but a `FastText` object which is very similar.\n"
     ]
    },
    {
     "name": "stdout",
     "output_type": "stream",
     "text": [
      "[{'standard-english': 0.9945177, 'local-english': 0.0, 'manglish': 0.0, 'standard-indonesian': 0.0, 'socialmedia-indonesian': 0.0, 'standard-malay': 0.0, 'local-malay': 0.0, 'standard-mandarin': 0.0, 'local-mandarin': 0.0, 'other': 0.0}]\n",
      "[{'standard-english': 0.9716635, 'local-english': 0.0, 'manglish': 0.0, 'standard-indonesian': 0.0, 'socialmedia-indonesian': 0.0, 'standard-malay': 0.0, 'local-malay': 0.0, 'standard-mandarin': 0.0, 'local-mandarin': 0.0, 'other': 0.0}]\n",
      "[{'standard-english': 0.0, 'local-english': 0.0, 'manglish': 0.0, 'standard-indonesian': 0.0, 'socialmedia-indonesian': 0.0, 'standard-malay': 0.9414176, 'local-malay': 0.0, 'standard-mandarin': 0.0, 'local-mandarin': 0.0, 'other': 0.0}]\n",
      "[{'standard-english': 0.0, 'local-english': 0.0, 'manglish': 0.0, 'standard-indonesian': 0.0, 'socialmedia-indonesian': 0.0, 'standard-malay': 0.0, 'local-malay': 0.0, 'standard-mandarin': 0.0, 'local-mandarin': 0.5823944, 'other': 0.0}]\n",
      "[{'standard-english': 0.0, 'local-english': 0.75940317, 'manglish': 0.0, 'standard-indonesian': 0.0, 'socialmedia-indonesian': 0.0, 'standard-malay': 0.0, 'local-malay': 0.0, 'standard-mandarin': 0.0, 'local-mandarin': 0.0, 'other': 0.0}]\n",
      "[{'standard-english': 0.0, 'local-english': 0.65943736, 'manglish': 0.0, 'standard-indonesian': 0.0, 'socialmedia-indonesian': 0.0, 'standard-malay': 0.0, 'local-malay': 0.0, 'standard-mandarin': 0.0, 'local-mandarin': 0.0, 'other': 0.0}]\n",
      "[{'standard-english': 0.0, 'local-english': 0.0, 'manglish': 0.0, 'standard-indonesian': 0.0, 'socialmedia-indonesian': 0.0, 'standard-malay': 0.0, 'local-malay': 0.0, 'standard-mandarin': 0.0, 'local-mandarin': 0.5823944, 'other': 0.0}]\n",
      "[{'standard-english': 0.0, 'local-english': 0.0, 'manglish': 0.0, 'standard-indonesian': 0.0, 'socialmedia-indonesian': 0.0, 'standard-malay': 0.0, 'local-malay': 0.0, 'standard-mandarin': 0.0, 'local-mandarin': 0.5823944, 'other': 0.0}]\n",
      "[{'standard-english': 0.0, 'local-english': 0.0, 'manglish': 0.0, 'standard-indonesian': 0.0, 'socialmedia-indonesian': 0.0, 'standard-malay': 0.0, 'local-malay': 0.0, 'standard-mandarin': 0.0, 'local-mandarin': 0.5823944, 'other': 0.0}]\n",
      "[{'standard-english': 0.0, 'local-english': 0.0, 'manglish': 0.0, 'standard-indonesian': 0.0, 'socialmedia-indonesian': 0.0, 'standard-malay': 0.8608149, 'local-malay': 0.0, 'standard-mandarin': 0.0, 'local-mandarin': 0.0, 'other': 0.0}]\n",
      "[{'standard-english': 0.0, 'local-english': 0.0, 'manglish': 0.0, 'standard-indonesian': 0.0, 'socialmedia-indonesian': 0.0, 'standard-malay': 0.0, 'local-malay': 0.0, 'standard-mandarin': 0.0, 'local-mandarin': 0.5823944, 'other': 0.0}]\n",
      "[{'standard-english': 0.0, 'local-english': 0.55994016, 'manglish': 0.0, 'standard-indonesian': 0.0, 'socialmedia-indonesian': 0.0, 'standard-malay': 0.0, 'local-malay': 0.0, 'standard-mandarin': 0.0, 'local-mandarin': 0.0, 'other': 0.0}]\n",
      "[{'standard-english': 0.0, 'local-english': 0.0, 'manglish': 0.0, 'standard-indonesian': 0.0, 'socialmedia-indonesian': 0.0, 'standard-malay': 0.0, 'local-malay': 0.0, 'standard-mandarin': 0.0, 'local-mandarin': 0.5823944, 'other': 0.0}]\n",
      "[{'standard-english': 0.0, 'local-english': 0.75915825, 'manglish': 0.0, 'standard-indonesian': 0.0, 'socialmedia-indonesian': 0.0, 'standard-malay': 0.0, 'local-malay': 0.0, 'standard-mandarin': 0.0, 'local-mandarin': 0.0, 'other': 0.0}]\n",
      "[{'standard-english': 0.0, 'local-english': 0.0, 'manglish': 0.0, 'standard-indonesian': 0.0, 'socialmedia-indonesian': 0.0, 'standard-malay': 0.0, 'local-malay': 0.0, 'standard-mandarin': 0.0, 'local-mandarin': 0.5823944, 'other': 0.0}]\n",
      "[{'standard-english': 0.0, 'local-english': 0.99867356, 'manglish': 0.0, 'standard-indonesian': 0.0, 'socialmedia-indonesian': 0.0, 'standard-malay': 0.0, 'local-malay': 0.0, 'standard-mandarin': 0.0, 'local-mandarin': 0.0, 'other': 0.0}]\n",
      "[{'standard-english': 0.0, 'local-english': 0.8644228, 'manglish': 0.0, 'standard-indonesian': 0.0, 'socialmedia-indonesian': 0.0, 'standard-malay': 0.0, 'local-malay': 0.0, 'standard-mandarin': 0.0, 'local-mandarin': 0.0, 'other': 0.0}]\n",
      "[{'standard-english': 0.98552895, 'local-english': 0.0, 'manglish': 0.0, 'standard-indonesian': 0.0, 'socialmedia-indonesian': 0.0, 'standard-malay': 0.0, 'local-malay': 0.0, 'standard-mandarin': 0.0, 'local-mandarin': 0.0, 'other': 0.0}]\n",
      "[{'standard-english': 0.0, 'local-english': 0.0, 'manglish': 0.0, 'standard-indonesian': 0.0, 'socialmedia-indonesian': 0.0, 'standard-malay': 0.0, 'local-malay': 0.0, 'standard-mandarin': 0.0, 'local-mandarin': 0.5823944, 'other': 0.0}]\n",
      "[{'standard-english': 0.9945177, 'local-english': 0.0, 'manglish': 0.0, 'standard-indonesian': 0.0, 'socialmedia-indonesian': 0.0, 'standard-malay': 0.0, 'local-malay': 0.0, 'standard-mandarin': 0.0, 'local-mandarin': 0.0, 'other': 0.0}]\n",
      "[{'standard-english': 0.0, 'local-english': 0.0, 'manglish': 0.0, 'standard-indonesian': 0.0, 'socialmedia-indonesian': 0.0, 'standard-malay': 0.0, 'local-malay': 0.0, 'standard-mandarin': 0.0, 'local-mandarin': 0.5823944, 'other': 0.0}]\n",
      "[{'standard-english': 0.0, 'local-english': 0.0, 'manglish': 0.0, 'standard-indonesian': 0.0, 'socialmedia-indonesian': 0.0, 'standard-malay': 0.0, 'local-malay': 0.0, 'standard-mandarin': 0.0, 'local-mandarin': 0.5823944, 'other': 0.0}]\n",
      "[{'standard-english': 0.0, 'local-english': 0.0, 'manglish': 0.0, 'standard-indonesian': 0.0, 'socialmedia-indonesian': 0.0, 'standard-malay': 0.0, 'local-malay': 0.0, 'standard-mandarin': 0.0, 'local-mandarin': 0.5823944, 'other': 0.0}]\n",
      "[{'standard-english': 0.570545, 'local-english': 0.0, 'manglish': 0.0, 'standard-indonesian': 0.0, 'socialmedia-indonesian': 0.0, 'standard-malay': 0.0, 'local-malay': 0.0, 'standard-mandarin': 0.0, 'local-mandarin': 0.0, 'other': 0.0}]\n",
      "[{'standard-english': 0.0, 'local-english': 0.9611917, 'manglish': 0.0, 'standard-indonesian': 0.0, 'socialmedia-indonesian': 0.0, 'standard-malay': 0.0, 'local-malay': 0.0, 'standard-mandarin': 0.0, 'local-mandarin': 0.0, 'other': 0.0}]\n",
      "[{'standard-english': 0.0, 'local-english': 0.0, 'manglish': 0.0, 'standard-indonesian': 0.0, 'socialmedia-indonesian': 0.0, 'standard-malay': 0.0, 'local-malay': 0.0, 'standard-mandarin': 0.0, 'local-mandarin': 0.5823944, 'other': 0.0}]\n",
      "[{'standard-english': 0.0, 'local-english': 0.0, 'manglish': 0.0, 'standard-indonesian': 0.0, 'socialmedia-indonesian': 0.0, 'standard-malay': 0.0, 'local-malay': 0.0, 'standard-mandarin': 0.0, 'local-mandarin': 0.5823944, 'other': 0.0}]\n",
      "[{'standard-english': 0.0, 'local-english': 0.0, 'manglish': 0.0, 'standard-indonesian': 0.0, 'socialmedia-indonesian': 0.0, 'standard-malay': 0.0, 'local-malay': 0.0, 'standard-mandarin': 0.0, 'local-mandarin': 0.5823944, 'other': 0.0}]\n",
      "[{'standard-english': 0.0, 'local-english': 0.6441537, 'manglish': 0.0, 'standard-indonesian': 0.0, 'socialmedia-indonesian': 0.0, 'standard-malay': 0.0, 'local-malay': 0.0, 'standard-mandarin': 0.0, 'local-mandarin': 0.0, 'other': 0.0}]\n",
      "[{'standard-english': 0.0, 'local-english': 0.0, 'manglish': 0.0, 'standard-indonesian': 0.0, 'socialmedia-indonesian': 0.0, 'standard-malay': 0.0, 'local-malay': 0.0, 'standard-mandarin': 0.0, 'local-mandarin': 0.5823944, 'other': 0.0}]\n",
      "[{'standard-english': 0.0, 'local-english': 0.0, 'manglish': 0.0, 'standard-indonesian': 0.0, 'socialmedia-indonesian': 0.0, 'standard-malay': 0.0, 'local-malay': 0.0, 'standard-mandarin': 0.0, 'local-mandarin': 0.5823944, 'other': 0.0}]\n",
      "[{'standard-english': 0.0, 'local-english': 0.0, 'manglish': 0.0, 'standard-indonesian': 0.0, 'socialmedia-indonesian': 0.0, 'standard-malay': 0.0, 'local-malay': 0.0, 'standard-mandarin': 0.0, 'local-mandarin': 0.5823944, 'other': 0.0}]\n",
      "[{'standard-english': 0.831635, 'local-english': 0.0, 'manglish': 0.0, 'standard-indonesian': 0.0, 'socialmedia-indonesian': 0.0, 'standard-malay': 0.0, 'local-malay': 0.0, 'standard-mandarin': 0.0, 'local-mandarin': 0.0, 'other': 0.0}]\n",
      "[{'standard-english': 0.0, 'local-english': 0.0, 'manglish': 0.0, 'standard-indonesian': 0.0, 'socialmedia-indonesian': 0.0, 'standard-malay': 0.0, 'local-malay': 0.0, 'standard-mandarin': 0.0, 'local-mandarin': 0.5823944, 'other': 0.0}]\n",
      "[{'standard-english': 0.0, 'local-english': 0.0, 'manglish': 0.0, 'standard-indonesian': 0.0, 'socialmedia-indonesian': 0.0, 'standard-malay': 0.5545069, 'local-malay': 0.0, 'standard-mandarin': 0.0, 'local-mandarin': 0.0, 'other': 0.0}]\n",
      "[{'standard-english': 0.864459, 'local-english': 0.0, 'manglish': 0.0, 'standard-indonesian': 0.0, 'socialmedia-indonesian': 0.0, 'standard-malay': 0.0, 'local-malay': 0.0, 'standard-mandarin': 0.0, 'local-mandarin': 0.0, 'other': 0.0}]\n",
      "[{'standard-english': 0.8745919, 'local-english': 0.0, 'manglish': 0.0, 'standard-indonesian': 0.0, 'socialmedia-indonesian': 0.0, 'standard-malay': 0.0, 'local-malay': 0.0, 'standard-mandarin': 0.0, 'local-mandarin': 0.0, 'other': 0.0}]\n",
      "[{'standard-english': 0.0, 'local-english': 0.0, 'manglish': 0.0, 'standard-indonesian': 0.0, 'socialmedia-indonesian': 0.0, 'standard-malay': 0.0, 'local-malay': 0.9980204, 'standard-mandarin': 0.0, 'local-mandarin': 0.0, 'other': 0.0}]\n",
      "[{'standard-english': 0.0, 'local-english': 0.0, 'manglish': 0.62860376, 'standard-indonesian': 0.0, 'socialmedia-indonesian': 0.0, 'standard-malay': 0.0, 'local-malay': 0.0, 'standard-mandarin': 0.0, 'local-mandarin': 0.0, 'other': 0.0}]\n",
      "[{'standard-english': 0.0, 'local-english': 0.0, 'manglish': 0.0, 'standard-indonesian': 0.0, 'socialmedia-indonesian': 0.0, 'standard-malay': 0.0, 'local-malay': 0.0, 'standard-mandarin': 0.0, 'local-mandarin': 0.5823944, 'other': 0.0}]\n",
      "[{'standard-english': 0.52416825, 'local-english': 0.0, 'manglish': 0.0, 'standard-indonesian': 0.0, 'socialmedia-indonesian': 0.0, 'standard-malay': 0.0, 'local-malay': 0.0, 'standard-mandarin': 0.0, 'local-mandarin': 0.0, 'other': 0.0}]\n",
      "[{'standard-english': 0.0, 'local-english': 0.0, 'manglish': 0.0, 'standard-indonesian': 0.0, 'socialmedia-indonesian': 0.0, 'standard-malay': 0.0, 'local-malay': 0.0, 'standard-mandarin': 0.0, 'local-mandarin': 0.5823944, 'other': 0.0}]\n",
      "[{'standard-english': 0.0, 'local-english': 0.0, 'manglish': 0.0, 'standard-indonesian': 0.0, 'socialmedia-indonesian': 0.0, 'standard-malay': 0.0, 'local-malay': 0.0, 'standard-mandarin': 0.0, 'local-mandarin': 0.5823944, 'other': 0.0}]\n",
      "[{'standard-english': 0.599269, 'local-english': 0.0, 'manglish': 0.0, 'standard-indonesian': 0.0, 'socialmedia-indonesian': 0.0, 'standard-malay': 0.0, 'local-malay': 0.0, 'standard-mandarin': 0.0, 'local-mandarin': 0.0, 'other': 0.0}]\n",
      "[{'standard-english': 0.0, 'local-english': 0.0, 'manglish': 0.0, 'standard-indonesian': 0.0, 'socialmedia-indonesian': 0.0, 'standard-malay': 0.0, 'local-malay': 0.0, 'standard-mandarin': 0.0, 'local-mandarin': 0.5823944, 'other': 0.0}]\n",
      "[{'standard-english': 0.0, 'local-english': 0.7250925, 'manglish': 0.0, 'standard-indonesian': 0.0, 'socialmedia-indonesian': 0.0, 'standard-malay': 0.0, 'local-malay': 0.0, 'standard-mandarin': 0.0, 'local-mandarin': 0.0, 'other': 0.0}]\n",
      "[{'standard-english': 0.0, 'local-english': 0.0, 'manglish': 0.0, 'standard-indonesian': 0.0, 'socialmedia-indonesian': 0.0, 'standard-malay': 0.0, 'local-malay': 0.0, 'standard-mandarin': 0.0, 'local-mandarin': 0.5823944, 'other': 0.0}]\n",
      "[{'standard-english': 0.0, 'local-english': 0.0, 'manglish': 0.0, 'standard-indonesian': 0.0, 'socialmedia-indonesian': 0.0, 'standard-malay': 0.0, 'local-malay': 0.36176363, 'standard-mandarin': 0.0, 'local-mandarin': 0.0, 'other': 0.0}]\n",
      "[{'standard-english': 0.0, 'local-english': 0.0, 'manglish': 0.0, 'standard-indonesian': 0.0, 'socialmedia-indonesian': 0.0, 'standard-malay': 0.0, 'local-malay': 0.0, 'standard-mandarin': 0.0, 'local-mandarin': 0.5823944, 'other': 0.0}]\n",
      "[{'standard-english': 0.0, 'local-english': 0.0, 'manglish': 0.0, 'standard-indonesian': 0.0, 'socialmedia-indonesian': 0.0, 'standard-malay': 0.0, 'local-malay': 0.0, 'standard-mandarin': 0.0, 'local-mandarin': 0.5823944, 'other': 0.0}]\n"
     ]
    }
   ],
   "source": [
    "import operator\n",
    "fast_text = malaya.language_detection.fasttext()\n",
    "\n",
    "langs = []\n",
    "lang_probas = []\n",
    "\n",
    "for text in texts:\n",
    "    prob_dict = fast_text.predict_proba([text])\n",
    "    print(prob_dict)\n",
    "\n",
    "    lang = max(prob_dict[0].items(), key=operator.itemgetter(1))[0]\n",
    "    prob = max(prob_dict[0].items(), key=operator.itemgetter(1))[1]\n",
    "    \n",
    "    langs.append(lang)\n",
    "    lang_probas.append(prob)\n",
    "\n",
    "hashtag_posts[\"Language\"] = langs\n",
    "hashtag_posts[\"Language Probability\"] = lang_probas"
   ]
  },
  {
   "cell_type": "markdown",
   "metadata": {},
   "source": [
    "### Sentiment Analysis"
   ]
  },
  {
   "cell_type": "code",
   "execution_count": 28,
   "metadata": {},
   "outputs": [
    {
     "data": {
      "text/plain": [
       "{'mesolitica/sentiment-analysis-nanot5-tiny-malaysian-cased': {'Size (MB)': 93,\n",
       "  'macro precision': 0.67768,\n",
       "  'macro recall': 0.68266,\n",
       "  'macro f1-score': 0.67997},\n",
       " 'mesolitica/sentiment-analysis-nanot5-small-malaysian-cased': {'Size (MB)': 167,\n",
       "  'macro precision': 0.67602,\n",
       "  'macro recall': 0.6712,\n",
       "  'macro f1-score': 0.67339}}"
      ]
     },
     "execution_count": 28,
     "metadata": {},
     "output_type": "execute_result"
    }
   ],
   "source": [
    "malaya.sentiment.available_huggingface"
   ]
  },
  {
   "cell_type": "code",
   "execution_count": 30,
   "metadata": {},
   "outputs": [
    {
     "name": "stdout",
     "output_type": "stream",
     "text": [
      "Trained on https://huggingface.co/datasets/mesolitica/chatgpt-explain-sentiment\n",
      "Split 90% to train, 10% to test.\n"
     ]
    }
   ],
   "source": [
    "print(malaya.sentiment.info)"
   ]
  },
  {
   "cell_type": "code",
   "execution_count": 41,
   "metadata": {},
   "outputs": [],
   "source": [
    "# load malaya sentiment model from Huggingface\n",
    "sent_model = malaya.sentiment.huggingface(model=\"mesolitica/sentiment-analysis-nanot5-small-malaysian-cased\")"
   ]
  },
  {
   "cell_type": "code",
   "execution_count": 80,
   "metadata": {},
   "outputs": [],
   "source": [
    "sentiments = []\n",
    "sentiment_probas = []\n",
    "for i, text in enumerate(texts):\n",
    "    if text:\n",
    "        prob_dict = sent_model.predict_proba([text])\n",
    "        sentiment = max(prob_dict[0].items(), key=operator.itemgetter(1))[0]\n",
    "        sentiment_prob = max(prob_dict[0].items(), key=operator.itemgetter(1))[1]\n",
    "    else:\n",
    "        sentiment = \"neutral\"\n",
    "        sentiment_prob = 0.000\n",
    "    \n",
    "    sentiments.append(sentiment)\n",
    "    sentiment_probas.append(sentiment_prob)\n",
    "\n",
    "hashtag_posts[\"sentiment\"] = sentiments\n",
    "hashtag_posts[\"sentiment probability\"] = sentiment_probas"
   ]
  },
  {
   "cell_type": "markdown",
   "metadata": {},
   "source": [
    "### Emotion analysis"
   ]
  },
  {
   "cell_type": "code",
   "execution_count": 71,
   "metadata": {},
   "outputs": [
    {
     "data": {
      "text/plain": [
       "{'mesolitica/emotion-analysis-nanot5-tiny-malaysian-cased': {'Size (MB)': 93,\n",
       "  'macro precision': 0.96107,\n",
       "  'macro recall': 0.9627,\n",
       "  'macro f1-score': 0.96182},\n",
       " 'mesolitica/emotion-analysis-nanot5-small-malaysian-cased': {'Size (MB)': 167,\n",
       "  'macro precision': 0.96814,\n",
       "  'macro recall': 0.97004,\n",
       "  'macro f1-score': 0.96905}}"
      ]
     },
     "execution_count": 71,
     "metadata": {},
     "output_type": "execute_result"
    }
   ],
   "source": [
    "malaya.emotion.available_huggingface"
   ]
  },
  {
   "cell_type": "code",
   "execution_count": 56,
   "metadata": {},
   "outputs": [
    {
     "name": "stdout",
     "output_type": "stream",
     "text": [
      "Trained on https://github.com/huseinzol05/malaysian-dataset/tree/master/corpus/emotion\n",
      "Split 80% to train, 20% to test.\n"
     ]
    }
   ],
   "source": [
    "print(malaya.emotion.info)"
   ]
  },
  {
   "cell_type": "code",
   "execution_count": 57,
   "metadata": {},
   "outputs": [],
   "source": [
    "# load malaya emotion model from Huggingface\n",
    "emo_model = malaya.emotion.huggingface(model=\"mesolitica/emotion-analysis-nanot5-small-malaysian-cased\")"
   ]
  },
  {
   "cell_type": "code",
   "execution_count": 81,
   "metadata": {},
   "outputs": [],
   "source": [
    "emotions = []\n",
    "emotion_probas = []\n",
    "for i, text in enumerate(texts):\n",
    "    if text:\n",
    "        prob_dict = emo_model.predict_proba([text])\n",
    "        emotion = max(prob_dict[0].items(), key=operator.itemgetter(1))[0]\n",
    "        emotion_prob = max(prob_dict[0].items(), key=operator.itemgetter(1))[1]\n",
    "    else:\n",
    "        emotion = \"no emotion\"\n",
    "        emotion_prob = 0.000\n",
    "    \n",
    "    emotions.append(emotion)\n",
    "    emotion_probas.append(emotion_prob)\n",
    "\n",
    "hashtag_posts[\"emotion\"] = emotions\n",
    "hashtag_posts[\"emotion probability\"] = emotion_probas"
   ]
  }
 ],
 "metadata": {
  "kernelspec": {
   "display_name": "work",
   "language": "python",
   "name": "python3"
  },
  "language_info": {
   "codemirror_mode": {
    "name": "ipython",
    "version": 3
   },
   "file_extension": ".py",
   "mimetype": "text/x-python",
   "name": "python",
   "nbconvert_exporter": "python",
   "pygments_lexer": "ipython3",
   "version": "3.10.15"
  }
 },
 "nbformat": 4,
 "nbformat_minor": 2
}
