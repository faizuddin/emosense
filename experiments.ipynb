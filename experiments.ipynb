{
 "cells": [
  {
   "cell_type": "code",
   "execution_count": 45,
   "metadata": {},
   "outputs": [],
   "source": [
    "from tweety.filters import SearchFilters\n",
    "import nest_asyncio\n",
    "from tweety import TwitterAsync\n",
    "import toml\n",
    "import os\n",
    "from pathlib import Path\n",
    "import pandas as pd\n",
    "import operator\n",
    "import seaborn as sns"
   ]
  },
  {
   "cell_type": "code",
   "execution_count": 3,
   "metadata": {},
   "outputs": [],
   "source": [
    "GLOBAL_CONFIG = {}"
   ]
  },
  {
   "cell_type": "code",
   "execution_count": 4,
   "metadata": {},
   "outputs": [],
   "source": [
    "def load_config():\n",
    "    with open(\"config/secrets.toml\", \"r\") as toml_file:\n",
    "        global GLOBAL_CONFIG\n",
    "        GLOBAL_CONFIG = toml.load(toml_file)"
   ]
  },
  {
   "cell_type": "code",
   "execution_count": 5,
   "metadata": {},
   "outputs": [],
   "source": [
    "load_config()"
   ]
  },
  {
   "cell_type": "code",
   "execution_count": 6,
   "metadata": {},
   "outputs": [],
   "source": [
    "sess_file = Path(os.getcwd() + \"/session.tw_session\")"
   ]
  },
  {
   "cell_type": "code",
   "execution_count": 6,
   "metadata": {},
   "outputs": [],
   "source": [
    "nest_asyncio.apply()"
   ]
  },
  {
   "cell_type": "code",
   "execution_count": 7,
   "metadata": {},
   "outputs": [
    {
     "name": "stdout",
     "output_type": "stream",
     "text": [
      "Authenticating using session file...\n"
     ]
    },
    {
     "data": {
      "text/plain": [
       "User(id=16975132, username=MohdFaizuddin, name=Faiz, verified=False)"
      ]
     },
     "execution_count": 7,
     "metadata": {},
     "output_type": "execute_result"
    }
   ],
   "source": [
    "app = TwitterAsync(\"session\")\n",
    "\n",
    "if not sess_file.is_file():\n",
    "    print(\"Signing in to create session file.\")\n",
    "\n",
    "    x_twitter = GLOBAL_CONFIG[\"x\"]\n",
    "    await app.sign_in(x_twitter[\"username\"], x_twitter[\"password\"])\n",
    "\n",
    "else:\n",
    "    print(\"Authenticating using session file...\")\n",
    "    \n",
    "await app.connect()"
   ]
  },
  {
   "cell_type": "code",
   "execution_count": 8,
   "metadata": {},
   "outputs": [],
   "source": [
    "search_keywords = \"UniKL Kuala Lumpur\""
   ]
  },
  {
   "cell_type": "code",
   "execution_count": 9,
   "metadata": {},
   "outputs": [],
   "source": [
    "tweets = await app.search(search_keywords, pages=10, filter_=SearchFilters.Latest(), wait_time=5)"
   ]
  },
  {
   "cell_type": "code",
   "execution_count": 10,
   "metadata": {},
   "outputs": [],
   "source": [
    "id = []\n",
    "created_on = []\n",
    "date = []\n",
    "text = []\n",
    "rich_text = []\n",
    "author = []\n",
    "is_retweet = []\n",
    "retweeted_tweet = []\n",
    "is_quoted = []\n",
    "quoted_tweet = []\n",
    "is_reply = []\n",
    "is_sensitive = []\n",
    "reply_counts = []\n",
    "quote_counts = []\n",
    "replied_to = []\n",
    "bookmark_count = []\n",
    "views = []\n",
    "likes = []\n",
    "language = []\n",
    "place = []\n",
    "retweet_counts = []\n",
    "source = []\n",
    "has_moderated_replies = []\n",
    "is_liked = []\n",
    "is_retweeted = []\n",
    "can_reply = []\n",
    "broadcast = []\n",
    "edit_control = []\n",
    "has_newer_version = []\n",
    "audio_space_id = []\n",
    "pool = []\n",
    "community = []\n",
    "media = []\n",
    "user_mentions = []\n",
    "urls = []\n",
    "hashtags = []\n",
    "symbols = []\n",
    "community_note = []\n",
    "url = []\n",
    "grok_share = []\n",
    "threads = []\n",
    "comments = []\n"
   ]
  },
  {
   "cell_type": "code",
   "execution_count": 11,
   "metadata": {},
   "outputs": [],
   "source": [
    "for t in tweets:\n",
    "    id.append(t[\"id\"])\n",
    "    created_on.append(t[\"created_on\"])\n",
    "    date.append(t[\"date\"])\n",
    "    text.append(t[\"text\"])\n",
    "    rich_text.append(t[\"rich_text\"])\n",
    "    author.append(t[\"author\"])\n",
    "    is_retweet.append(t[\"is_retweet\"])\n",
    "    retweeted_tweet.append(t[\"retweeted_tweet\"])\n",
    "    is_quoted.append(t[\"is_quoted\"])\n",
    "    quoted_tweet.append(t[\"quoted_tweet\"])\n",
    "    is_reply.append(t[\"is_reply\"])\n",
    "    is_sensitive.append(t[\"is_sensitive\"])\n",
    "    reply_counts.append(t[\"reply_counts\"])\n",
    "    quote_counts.append(t[\"quote_counts\"])\n",
    "    replied_to.append(t[\"replied_to\"])\n",
    "    bookmark_count.append(t[\"bookmark_count\"])\n",
    "    views.append(t[\"views\"])\n",
    "    likes.append(t[\"likes\"])\n",
    "    language.append(t[\"language\"])\n",
    "    place.append(t[\"place\"])\n",
    "    retweet_counts.append(t[\"retweet_counts\"])\n",
    "    source.append(t[\"source\"])\n",
    "    has_moderated_replies.append(t[\"has_moderated_replies\"])\n",
    "    is_liked.append(t[\"is_liked\"])\n",
    "    is_retweeted.append(t[\"is_retweeted\"])\n",
    "    can_reply.append(t[\"can_reply\"])\n",
    "    broadcast.append(t[\"broadcast\"])\n",
    "    edit_control.append(t[\"edit_control\"])\n",
    "    has_newer_version.append(t[\"has_newer_version\"])\n",
    "    audio_space_id.append(t[\"audio_space_id\"])\n",
    "    pool.append(t[\"pool\"])\n",
    "    community.append(t[\"community\"])\n",
    "    media.append(t[\"media\"])\n",
    "    user_mentions.append(t[\"user_mentions\"])\n",
    "    urls.append(t[\"urls\"])\n",
    "    hashtags.append(t[\"hashtags\"])\n",
    "    symbols.append(t[\"symbols\"])\n",
    "    community_note.append(t[\"community_note\"])\n",
    "    url.append(t[\"url\"])\n",
    "    grok_share.append(t[\"grok_share\"])\n",
    "    threads.append(t[\"threads\"])\n",
    "    comments.append(t[\"comments\"])"
   ]
  },
  {
   "cell_type": "code",
   "execution_count": 12,
   "metadata": {},
   "outputs": [],
   "source": [
    "df = pd.DataFrame(list(zip(id,\n",
    "                           created_on,\n",
    "                           date,\n",
    "                           text,\n",
    "                           rich_text,\n",
    "                           author,\n",
    "                           is_retweet,\n",
    "                           retweeted_tweet,\n",
    "                           is_quoted,\n",
    "                           quoted_tweet,\n",
    "                           is_reply,\n",
    "                           is_sensitive,\n",
    "                           reply_counts,\n",
    "                           quote_counts,\n",
    "                           replied_to,\n",
    "                           bookmark_count,\n",
    "                           views,\n",
    "                           likes,\n",
    "                           language,\n",
    "                           place,\n",
    "                           retweet_counts,\n",
    "                           source,\n",
    "                           has_moderated_replies,\n",
    "                           is_liked,\n",
    "                           is_retweeted,\n",
    "                           can_reply,\n",
    "                           broadcast,\n",
    "                           edit_control,\n",
    "                           has_newer_version,\n",
    "                           audio_space_id,\n",
    "                           pool,\n",
    "                           community,\n",
    "                           media,\n",
    "                           user_mentions,\n",
    "                           urls,\n",
    "                           hashtags,\n",
    "                           symbols,\n",
    "                           community_note,\n",
    "                           url,\n",
    "                           grok_share,\n",
    "                           threads,\n",
    "                           comments)), columns=[\"id\",\n",
    "                           \"created_on\",\n",
    "                           \"date\",\n",
    "                           \"text\",\n",
    "                           \"rich_text\",\n",
    "                           \"author\",\n",
    "                           \"is_retweet\",\n",
    "                           \"retweeted_tweet\",\n",
    "                           \"is_quoted\",\n",
    "                           \"quoted_tweet\",\n",
    "                           \"is_reply\",\n",
    "                           \"is_sensitive\",\n",
    "                           \"reply_counts\",\n",
    "                           \"quote_counts\",\n",
    "                           \"replied_to\",\n",
    "                           \"bookmark_count\",\n",
    "                           \"views\",\n",
    "                           \"likes\",\n",
    "                           \"language\",\n",
    "                           \"place\",\n",
    "                           \"retweet_counts\",\n",
    "                           \"source\",\n",
    "                           \"has_moderated_replies\",\n",
    "                           \"is_liked\",\n",
    "                           \"is_retweeted\",\n",
    "                           \"can_reply\",\n",
    "                           \"broadcast\",\n",
    "                           \"edit_control\",\n",
    "                           \"has_newer_version\",\n",
    "                           \"audio_space_id\",\n",
    "                           \"pool\",\n",
    "                           \"community\",\n",
    "                           \"media\",\n",
    "                           \"user_mentions\",\n",
    "                           \"urls\",\n",
    "                           \"hashtags\",\n",
    "                           \"symbols\",\n",
    "                           \"community_note\",\n",
    "                           \"url\",\n",
    "                           \"grok_share\",\n",
    "                           \"threads\",\n",
    "                           \"comments\"])"
   ]
  },
  {
   "cell_type": "code",
   "execution_count": 13,
   "metadata": {},
   "outputs": [
    {
     "data": {
      "text/html": [
       "<div>\n",
       "<style scoped>\n",
       "    .dataframe tbody tr th:only-of-type {\n",
       "        vertical-align: middle;\n",
       "    }\n",
       "\n",
       "    .dataframe tbody tr th {\n",
       "        vertical-align: top;\n",
       "    }\n",
       "\n",
       "    .dataframe thead th {\n",
       "        text-align: right;\n",
       "    }\n",
       "</style>\n",
       "<table border=\"1\" class=\"dataframe\">\n",
       "  <thead>\n",
       "    <tr style=\"text-align: right;\">\n",
       "      <th></th>\n",
       "      <th>id</th>\n",
       "      <th>created_on</th>\n",
       "      <th>date</th>\n",
       "      <th>text</th>\n",
       "      <th>rich_text</th>\n",
       "      <th>author</th>\n",
       "      <th>is_retweet</th>\n",
       "      <th>retweeted_tweet</th>\n",
       "      <th>is_quoted</th>\n",
       "      <th>quoted_tweet</th>\n",
       "      <th>...</th>\n",
       "      <th>media</th>\n",
       "      <th>user_mentions</th>\n",
       "      <th>urls</th>\n",
       "      <th>hashtags</th>\n",
       "      <th>symbols</th>\n",
       "      <th>community_note</th>\n",
       "      <th>url</th>\n",
       "      <th>grok_share</th>\n",
       "      <th>threads</th>\n",
       "      <th>comments</th>\n",
       "    </tr>\n",
       "  </thead>\n",
       "  <tbody>\n",
       "    <tr>\n",
       "      <th>0</th>\n",
       "      <td>1875088823933423672</td>\n",
       "      <td>2025-01-03 07:56:27+00:00</td>\n",
       "      <td>2025-01-03 07:56:27+00:00</td>\n",
       "      <td>🏆🔥 Get ready for SSUK 2025 (Sukan Staf Univers...</td>\n",
       "      <td>None</td>\n",
       "      <td>{'id': '1599686497', 'rest_id': '1599686497', ...</td>\n",
       "      <td>False</td>\n",
       "      <td>None</td>\n",
       "      <td>False</td>\n",
       "      <td>None</td>\n",
       "      <td>...</td>\n",
       "      <td>[{'display_url': 'pic.x.com/72AAon05MX', 'expa...</td>\n",
       "      <td>[]</td>\n",
       "      <td>[]</td>\n",
       "      <td>[]</td>\n",
       "      <td>[]</td>\n",
       "      <td>None</td>\n",
       "      <td>https://twitter.com/UniKLOfficial/status/18750...</td>\n",
       "      <td>None</td>\n",
       "      <td>[]</td>\n",
       "      <td>[]</td>\n",
       "    </tr>\n",
       "    <tr>\n",
       "      <th>1</th>\n",
       "      <td>1869954031227113538</td>\n",
       "      <td>2024-12-20 03:52:37+00:00</td>\n",
       "      <td>2024-12-20 03:52:37+00:00</td>\n",
       "      <td>You 've made UniKL proud and looking forward m...</td>\n",
       "      <td>None</td>\n",
       "      <td>{'id': '948552280604786691', 'rest_id': '94855...</td>\n",
       "      <td>False</td>\n",
       "      <td>None</td>\n",
       "      <td>False</td>\n",
       "      <td>None</td>\n",
       "      <td>...</td>\n",
       "      <td>[]</td>\n",
       "      <td>[]</td>\n",
       "      <td>[]</td>\n",
       "      <td>[]</td>\n",
       "      <td>[]</td>\n",
       "      <td>None</td>\n",
       "      <td>https://twitter.com/unikl_mestech/status/18699...</td>\n",
       "      <td>None</td>\n",
       "      <td>[]</td>\n",
       "      <td>[]</td>\n",
       "    </tr>\n",
       "    <tr>\n",
       "      <th>2</th>\n",
       "      <td>1869248718853279936</td>\n",
       "      <td>2024-12-18 05:09:58+00:00</td>\n",
       "      <td>2024-12-18 05:09:58+00:00</td>\n",
       "      <td>On 17 December 2024, the CEO of Bond Pricing A...</td>\n",
       "      <td>None</td>\n",
       "      <td>{'id': '232836641', 'rest_id': '232836641', 'c...</td>\n",
       "      <td>False</td>\n",
       "      <td>None</td>\n",
       "      <td>False</td>\n",
       "      <td>None</td>\n",
       "      <td>...</td>\n",
       "      <td>[{'display_url': 'pic.x.com/kUjsbS7w8o', 'expa...</td>\n",
       "      <td>[]</td>\n",
       "      <td>[]</td>\n",
       "      <td>[{'indices': [239, 255], 'text': 'connectwithb...</td>\n",
       "      <td>[]</td>\n",
       "      <td>None</td>\n",
       "      <td>https://twitter.com/BPA_Malaysia/status/186924...</td>\n",
       "      <td>None</td>\n",
       "      <td>[]</td>\n",
       "      <td>[]</td>\n",
       "    </tr>\n",
       "    <tr>\n",
       "      <th>3</th>\n",
       "      <td>1868237421382668593</td>\n",
       "      <td>2024-12-15 10:11:26+00:00</td>\n",
       "      <td>2024-12-15 10:11:26+00:00</td>\n",
       "      <td>We Are UniKL 💛💙\\n\\nHighlight video during Inte...</td>\n",
       "      <td>None</td>\n",
       "      <td>{'id': '1599686497', 'rest_id': '1599686497', ...</td>\n",
       "      <td>False</td>\n",
       "      <td>None</td>\n",
       "      <td>False</td>\n",
       "      <td>None</td>\n",
       "      <td>...</td>\n",
       "      <td>[{'display_url': 'pic.x.com/w0lnSMSp5E', 'expa...</td>\n",
       "      <td>[]</td>\n",
       "      <td>[]</td>\n",
       "      <td>[]</td>\n",
       "      <td>[]</td>\n",
       "      <td>None</td>\n",
       "      <td>https://twitter.com/UniKLOfficial/status/18682...</td>\n",
       "      <td>None</td>\n",
       "      <td>[]</td>\n",
       "      <td>[]</td>\n",
       "    </tr>\n",
       "    <tr>\n",
       "      <th>4</th>\n",
       "      <td>1868236826168918385</td>\n",
       "      <td>2024-12-15 10:09:04+00:00</td>\n",
       "      <td>2024-12-15 10:09:04+00:00</td>\n",
       "      <td>Photos during International Student (Undergrad...</td>\n",
       "      <td>None</td>\n",
       "      <td>{'id': '1599686497', 'rest_id': '1599686497', ...</td>\n",
       "      <td>False</td>\n",
       "      <td>None</td>\n",
       "      <td>False</td>\n",
       "      <td>None</td>\n",
       "      <td>...</td>\n",
       "      <td>[{'display_url': 'pic.x.com/loUBucdna3', 'expa...</td>\n",
       "      <td>[]</td>\n",
       "      <td>[]</td>\n",
       "      <td>[]</td>\n",
       "      <td>[]</td>\n",
       "      <td>None</td>\n",
       "      <td>https://twitter.com/UniKLOfficial/status/18682...</td>\n",
       "      <td>None</td>\n",
       "      <td>[]</td>\n",
       "      <td>[]</td>\n",
       "    </tr>\n",
       "    <tr>\n",
       "      <th>...</th>\n",
       "      <td>...</td>\n",
       "      <td>...</td>\n",
       "      <td>...</td>\n",
       "      <td>...</td>\n",
       "      <td>...</td>\n",
       "      <td>...</td>\n",
       "      <td>...</td>\n",
       "      <td>...</td>\n",
       "      <td>...</td>\n",
       "      <td>...</td>\n",
       "      <td>...</td>\n",
       "      <td>...</td>\n",
       "      <td>...</td>\n",
       "      <td>...</td>\n",
       "      <td>...</td>\n",
       "      <td>...</td>\n",
       "      <td>...</td>\n",
       "      <td>...</td>\n",
       "      <td>...</td>\n",
       "      <td>...</td>\n",
       "      <td>...</td>\n",
       "    </tr>\n",
       "    <tr>\n",
       "      <th>183</th>\n",
       "      <td>1740219894325715200</td>\n",
       "      <td>2023-12-28 03:55:29+00:00</td>\n",
       "      <td>2023-12-28 03:55:29+00:00</td>\n",
       "      <td>Selamat kepada Fachri Insan Hidayatulloh dari ...</td>\n",
       "      <td>None</td>\n",
       "      <td>{'id': '771337601269714944', 'rest_id': '77133...</td>\n",
       "      <td>False</td>\n",
       "      <td>None</td>\n",
       "      <td>False</td>\n",
       "      <td>None</td>\n",
       "      <td>...</td>\n",
       "      <td>[{'display_url': 'pic.x.com/70bzrPIXrU', 'expa...</td>\n",
       "      <td>[{'id': '253418739', 'name': 'Khofifah Indar P...</td>\n",
       "      <td>[]</td>\n",
       "      <td>[]</td>\n",
       "      <td>[]</td>\n",
       "      <td>None</td>\n",
       "      <td>https://twitter.com/JatimPemprov/status/174021...</td>\n",
       "      <td>None</td>\n",
       "      <td>[]</td>\n",
       "      <td>[]</td>\n",
       "    </tr>\n",
       "    <tr>\n",
       "      <th>184</th>\n",
       "      <td>1739869878545498131</td>\n",
       "      <td>2023-12-27 04:44:38+00:00</td>\n",
       "      <td>2023-12-27 04:44:38+00:00</td>\n",
       "      <td>Sesi taklimat Kursus Qualcomm 5G University Pr...</td>\n",
       "      <td>None</td>\n",
       "      <td>{'id': '930967808271192064', 'rest_id': '93096...</td>\n",
       "      <td>False</td>\n",
       "      <td>None</td>\n",
       "      <td>False</td>\n",
       "      <td>None</td>\n",
       "      <td>...</td>\n",
       "      <td>[{'display_url': 'pic.x.com/np7XKMR4Mp', 'expa...</td>\n",
       "      <td>[]</td>\n",
       "      <td>[]</td>\n",
       "      <td>[]</td>\n",
       "      <td>[]</td>\n",
       "      <td>None</td>\n",
       "      <td>https://twitter.com/tecmalaysia/status/1739869...</td>\n",
       "      <td>None</td>\n",
       "      <td>[]</td>\n",
       "      <td>[]</td>\n",
       "    </tr>\n",
       "    <tr>\n",
       "      <th>185</th>\n",
       "      <td>1738736123726401966</td>\n",
       "      <td>2023-12-24 01:39:30+00:00</td>\n",
       "      <td>2023-12-24 01:39:30+00:00</td>\n",
       "      <td>Majlis penyerahan Zakat oleh Assoc. Prof. Cdr....</td>\n",
       "      <td>None</td>\n",
       "      <td>{'id': '839131109640163331', 'rest_id': '83913...</td>\n",
       "      <td>False</td>\n",
       "      <td>None</td>\n",
       "      <td>False</td>\n",
       "      <td>None</td>\n",
       "      <td>...</td>\n",
       "      <td>[{'display_url': 'pic.x.com/EDymPA1sYw', 'expa...</td>\n",
       "      <td>[]</td>\n",
       "      <td>[]</td>\n",
       "      <td>[]</td>\n",
       "      <td>[]</td>\n",
       "      <td>None</td>\n",
       "      <td>https://twitter.com/UniKLMIMET/status/17387361...</td>\n",
       "      <td>None</td>\n",
       "      <td>[]</td>\n",
       "      <td>[]</td>\n",
       "    </tr>\n",
       "    <tr>\n",
       "      <th>186</th>\n",
       "      <td>1738035918727229680</td>\n",
       "      <td>2023-12-22 03:17:08+00:00</td>\n",
       "      <td>2023-12-22 03:17:08+00:00</td>\n",
       "      <td>Makmal Kejuruteraan Nilai (VE Lab) bagi projek...</td>\n",
       "      <td>None</td>\n",
       "      <td>{'id': '956325220603723777', 'rest_id': '95632...</td>\n",
       "      <td>False</td>\n",
       "      <td>None</td>\n",
       "      <td>False</td>\n",
       "      <td>None</td>\n",
       "      <td>...</td>\n",
       "      <td>[{'display_url': 'pic.x.com/viWjDgCxY2', 'expa...</td>\n",
       "      <td>[{'id': '3855751879', 'name': 'Badio', 'screen...</td>\n",
       "      <td>[]</td>\n",
       "      <td>[]</td>\n",
       "      <td>[]</td>\n",
       "      <td>None</td>\n",
       "      <td>https://twitter.com/CKBA2_JKR/status/173803591...</td>\n",
       "      <td>None</td>\n",
       "      <td>[]</td>\n",
       "      <td>[]</td>\n",
       "    </tr>\n",
       "    <tr>\n",
       "      <th>187</th>\n",
       "      <td>1737671756088004661</td>\n",
       "      <td>2023-12-21 03:10:05+00:00</td>\n",
       "      <td>2023-12-21 03:10:05+00:00</td>\n",
       "      <td>An energetic group of 10 lecturers with deep p...</td>\n",
       "      <td>None</td>\n",
       "      <td>{'id': '1054660381744914432', 'rest_id': '1054...</td>\n",
       "      <td>False</td>\n",
       "      <td>None</td>\n",
       "      <td>False</td>\n",
       "      <td>None</td>\n",
       "      <td>...</td>\n",
       "      <td>[{'display_url': 'pic.x.com/uUkZAYgoE5', 'expa...</td>\n",
       "      <td>[]</td>\n",
       "      <td>[]</td>\n",
       "      <td>[{'indices': [161, 169], 'text': 'Novugen'}]</td>\n",
       "      <td>[]</td>\n",
       "      <td>None</td>\n",
       "      <td>https://twitter.com/novugenpharma/status/17376...</td>\n",
       "      <td>None</td>\n",
       "      <td>[]</td>\n",
       "      <td>[]</td>\n",
       "    </tr>\n",
       "  </tbody>\n",
       "</table>\n",
       "<p>188 rows × 42 columns</p>\n",
       "</div>"
      ],
      "text/plain": [
       "                      id                created_on                      date  \\\n",
       "0    1875088823933423672 2025-01-03 07:56:27+00:00 2025-01-03 07:56:27+00:00   \n",
       "1    1869954031227113538 2024-12-20 03:52:37+00:00 2024-12-20 03:52:37+00:00   \n",
       "2    1869248718853279936 2024-12-18 05:09:58+00:00 2024-12-18 05:09:58+00:00   \n",
       "3    1868237421382668593 2024-12-15 10:11:26+00:00 2024-12-15 10:11:26+00:00   \n",
       "4    1868236826168918385 2024-12-15 10:09:04+00:00 2024-12-15 10:09:04+00:00   \n",
       "..                   ...                       ...                       ...   \n",
       "183  1740219894325715200 2023-12-28 03:55:29+00:00 2023-12-28 03:55:29+00:00   \n",
       "184  1739869878545498131 2023-12-27 04:44:38+00:00 2023-12-27 04:44:38+00:00   \n",
       "185  1738736123726401966 2023-12-24 01:39:30+00:00 2023-12-24 01:39:30+00:00   \n",
       "186  1738035918727229680 2023-12-22 03:17:08+00:00 2023-12-22 03:17:08+00:00   \n",
       "187  1737671756088004661 2023-12-21 03:10:05+00:00 2023-12-21 03:10:05+00:00   \n",
       "\n",
       "                                                  text rich_text  \\\n",
       "0    🏆🔥 Get ready for SSUK 2025 (Sukan Staf Univers...      None   \n",
       "1    You 've made UniKL proud and looking forward m...      None   \n",
       "2    On 17 December 2024, the CEO of Bond Pricing A...      None   \n",
       "3    We Are UniKL 💛💙\\n\\nHighlight video during Inte...      None   \n",
       "4    Photos during International Student (Undergrad...      None   \n",
       "..                                                 ...       ...   \n",
       "183  Selamat kepada Fachri Insan Hidayatulloh dari ...      None   \n",
       "184  Sesi taklimat Kursus Qualcomm 5G University Pr...      None   \n",
       "185  Majlis penyerahan Zakat oleh Assoc. Prof. Cdr....      None   \n",
       "186  Makmal Kejuruteraan Nilai (VE Lab) bagi projek...      None   \n",
       "187  An energetic group of 10 lecturers with deep p...      None   \n",
       "\n",
       "                                                author is_retweet  \\\n",
       "0    {'id': '1599686497', 'rest_id': '1599686497', ...      False   \n",
       "1    {'id': '948552280604786691', 'rest_id': '94855...      False   \n",
       "2    {'id': '232836641', 'rest_id': '232836641', 'c...      False   \n",
       "3    {'id': '1599686497', 'rest_id': '1599686497', ...      False   \n",
       "4    {'id': '1599686497', 'rest_id': '1599686497', ...      False   \n",
       "..                                                 ...        ...   \n",
       "183  {'id': '771337601269714944', 'rest_id': '77133...      False   \n",
       "184  {'id': '930967808271192064', 'rest_id': '93096...      False   \n",
       "185  {'id': '839131109640163331', 'rest_id': '83913...      False   \n",
       "186  {'id': '956325220603723777', 'rest_id': '95632...      False   \n",
       "187  {'id': '1054660381744914432', 'rest_id': '1054...      False   \n",
       "\n",
       "    retweeted_tweet is_quoted quoted_tweet  ...  \\\n",
       "0              None     False         None  ...   \n",
       "1              None     False         None  ...   \n",
       "2              None     False         None  ...   \n",
       "3              None     False         None  ...   \n",
       "4              None     False         None  ...   \n",
       "..              ...       ...          ...  ...   \n",
       "183            None     False         None  ...   \n",
       "184            None     False         None  ...   \n",
       "185            None     False         None  ...   \n",
       "186            None     False         None  ...   \n",
       "187            None     False         None  ...   \n",
       "\n",
       "                                                 media  \\\n",
       "0    [{'display_url': 'pic.x.com/72AAon05MX', 'expa...   \n",
       "1                                                   []   \n",
       "2    [{'display_url': 'pic.x.com/kUjsbS7w8o', 'expa...   \n",
       "3    [{'display_url': 'pic.x.com/w0lnSMSp5E', 'expa...   \n",
       "4    [{'display_url': 'pic.x.com/loUBucdna3', 'expa...   \n",
       "..                                                 ...   \n",
       "183  [{'display_url': 'pic.x.com/70bzrPIXrU', 'expa...   \n",
       "184  [{'display_url': 'pic.x.com/np7XKMR4Mp', 'expa...   \n",
       "185  [{'display_url': 'pic.x.com/EDymPA1sYw', 'expa...   \n",
       "186  [{'display_url': 'pic.x.com/viWjDgCxY2', 'expa...   \n",
       "187  [{'display_url': 'pic.x.com/uUkZAYgoE5', 'expa...   \n",
       "\n",
       "                                         user_mentions urls  \\\n",
       "0                                                   []   []   \n",
       "1                                                   []   []   \n",
       "2                                                   []   []   \n",
       "3                                                   []   []   \n",
       "4                                                   []   []   \n",
       "..                                                 ...  ...   \n",
       "183  [{'id': '253418739', 'name': 'Khofifah Indar P...   []   \n",
       "184                                                 []   []   \n",
       "185                                                 []   []   \n",
       "186  [{'id': '3855751879', 'name': 'Badio', 'screen...   []   \n",
       "187                                                 []   []   \n",
       "\n",
       "                                              hashtags symbols community_note  \\\n",
       "0                                                   []      []           None   \n",
       "1                                                   []      []           None   \n",
       "2    [{'indices': [239, 255], 'text': 'connectwithb...      []           None   \n",
       "3                                                   []      []           None   \n",
       "4                                                   []      []           None   \n",
       "..                                                 ...     ...            ...   \n",
       "183                                                 []      []           None   \n",
       "184                                                 []      []           None   \n",
       "185                                                 []      []           None   \n",
       "186                                                 []      []           None   \n",
       "187       [{'indices': [161, 169], 'text': 'Novugen'}]      []           None   \n",
       "\n",
       "                                                   url grok_share threads  \\\n",
       "0    https://twitter.com/UniKLOfficial/status/18750...       None      []   \n",
       "1    https://twitter.com/unikl_mestech/status/18699...       None      []   \n",
       "2    https://twitter.com/BPA_Malaysia/status/186924...       None      []   \n",
       "3    https://twitter.com/UniKLOfficial/status/18682...       None      []   \n",
       "4    https://twitter.com/UniKLOfficial/status/18682...       None      []   \n",
       "..                                                 ...        ...     ...   \n",
       "183  https://twitter.com/JatimPemprov/status/174021...       None      []   \n",
       "184  https://twitter.com/tecmalaysia/status/1739869...       None      []   \n",
       "185  https://twitter.com/UniKLMIMET/status/17387361...       None      []   \n",
       "186  https://twitter.com/CKBA2_JKR/status/173803591...       None      []   \n",
       "187  https://twitter.com/novugenpharma/status/17376...       None      []   \n",
       "\n",
       "    comments  \n",
       "0         []  \n",
       "1         []  \n",
       "2         []  \n",
       "3         []  \n",
       "4         []  \n",
       "..       ...  \n",
       "183       []  \n",
       "184       []  \n",
       "185       []  \n",
       "186       []  \n",
       "187       []  \n",
       "\n",
       "[188 rows x 42 columns]"
      ]
     },
     "execution_count": 13,
     "metadata": {},
     "output_type": "execute_result"
    }
   ],
   "source": [
    "df"
   ]
  },
  {
   "cell_type": "code",
   "execution_count": 16,
   "metadata": {},
   "outputs": [],
   "source": [
    "# append search keywords column\n",
    "df[\"search_keywords\"] = search_keywords"
   ]
  },
  {
   "cell_type": "code",
   "execution_count": 8,
   "metadata": {},
   "outputs": [],
   "source": [
    "from pymongo import MongoClient\n",
    "\n",
    "mongo_conf = GLOBAL_CONFIG[\"mongo\"]\n",
    "client = MongoClient(mongo_conf[\"mongo_uri\"])\n",
    "db = client[mongo_conf[\"mongo_db\"]]\n",
    "coll = mongo_conf[\"mongo_col\"]"
   ]
  },
  {
   "cell_type": "code",
   "execution_count": 18,
   "metadata": {},
   "outputs": [],
   "source": [
    "def create_profiles_collection(db, collection_name, validator=None):\n",
    "    if collection_name not in db.list_collection_names():\n",
    "        if validator:\n",
    "            db.create_collection(collection_name, validator=validator)\n",
    "        else:\n",
    "            db.create_collection(collection_name)\n",
    "    else:\n",
    "        print(f\"Collection '{collection_name}' already exists.\")"
   ]
  },
  {
   "cell_type": "code",
   "execution_count": 19,
   "metadata": {},
   "outputs": [],
   "source": [
    "create_profiles_collection(db, coll)"
   ]
  },
  {
   "cell_type": "code",
   "execution_count": 20,
   "metadata": {},
   "outputs": [],
   "source": [
    "def insert_data_to_mongo(db, collection_name, data_frame):\n",
    "    collection = db[collection_name]\n",
    "    records = data_frame.to_dict(orient='records')\n",
    "    collection.insert_many(records)"
   ]
  },
  {
   "cell_type": "code",
   "execution_count": 21,
   "metadata": {},
   "outputs": [],
   "source": [
    "insert_data_to_mongo(db, coll, df)"
   ]
  },
  {
   "cell_type": "code",
   "execution_count": 9,
   "metadata": {},
   "outputs": [],
   "source": [
    "profiles_collection = db[coll]\n",
    "cursor = profiles_collection.find()"
   ]
  },
  {
   "cell_type": "code",
   "execution_count": 10,
   "metadata": {},
   "outputs": [],
   "source": [
    "list_cur = list(cursor)\n",
    "dataset = pd.DataFrame(list_cur)"
   ]
  },
  {
   "cell_type": "code",
   "execution_count": 25,
   "metadata": {},
   "outputs": [
    {
     "data": {
      "text/plain": [
       "[{'indices': [239, 255], 'text': 'connectwithbpam'},\n",
       " {'indices': [256, 262], 'text': 'unikl'},\n",
       " {'indices': [263, 272], 'text': 'malaysia'},\n",
       " {'indices': [273, 279], 'text': 'bonds'}]"
      ]
     },
     "execution_count": 25,
     "metadata": {},
     "output_type": "execute_result"
    }
   ],
   "source": [
    "dataset.loc[2, \"hashtags\"]"
   ]
  },
  {
   "cell_type": "markdown",
   "metadata": {},
   "source": [
    "### Text preprocessing"
   ]
  },
  {
   "cell_type": "code",
   "execution_count": 11,
   "metadata": {},
   "outputs": [
    {
     "name": "stderr",
     "output_type": "stream",
     "text": [
      "/home/faiz/anaconda3/envs/work/lib/python3.10/site-packages/malaya/tokenizer.py:214: FutureWarning: Possible nested set at position 3397\n",
      "  self.tok = re.compile(r'({})'.format('|'.join(pipeline)))\n",
      "/home/faiz/anaconda3/envs/work/lib/python3.10/site-packages/malaya/tokenizer.py:214: FutureWarning: Possible nested set at position 3927\n",
      "  self.tok = re.compile(r'({})'.format('|'.join(pipeline)))\n"
     ]
    }
   ],
   "source": [
    "import malaya"
   ]
  },
  {
   "cell_type": "code",
   "execution_count": 70,
   "metadata": {},
   "outputs": [],
   "source": [
    "def preprocess_text(text):\n",
    "    # demoji\n",
    "    demoji = malaya.preprocessing.demoji()\n",
    "    demoji_text = demoji.demoji(text)\n",
    "\n",
    "    # malaya preprocessing\n",
    "    preproc = malaya.preprocessing.preprocessing(demoji=demoji)\n",
    "    preproc_text = \"\".join(preproc.process(text))\n",
    "\n",
    "    for k,v in demoji_text.items():\n",
    "        preproc_text = preproc_text.replace(k,v)\n",
    "\n",
    "    w_tokeniser = malaya.tokenizer.Tokenizer()\n",
    "    s_tokeniser = malaya.tokenizer.SentenceTokenizer()\n",
    "\n",
    "    w_tokens = w_tokeniser.tokenize(preproc_text, lowercase=True)\n",
    "    # s_tokens = s_tokeniser.tokenize(preproc_text)\n",
    "\n",
    "    return \"\".join(w_tokens)"
   ]
  },
  {
   "cell_type": "code",
   "execution_count": 71,
   "metadata": {},
   "outputs": [],
   "source": [
    "texts = []\n",
    "\n",
    "for text in dataset[\"text\"]:\n",
    "    texts.append(preprocess_text(text))"
   ]
  },
  {
   "cell_type": "code",
   "execution_count": 49,
   "metadata": {},
   "outputs": [
    {
     "name": "stderr",
     "output_type": "stream",
     "text": [
      "Warning : `load_model` does not return WordVectorModel or SupervisedModel any more, but a `FastText` object which is very similar.\n"
     ]
    }
   ],
   "source": [
    "import operator\n",
    "fast_text = malaya.language_detection.fasttext()\n",
    "\n",
    "langs = []\n",
    "lang_probas = []\n",
    "\n",
    "for text in dataset[\"text\"]:\n",
    "    prob_dict = fast_text.predict_proba([text])\n",
    "\n",
    "    lang = max(prob_dict[0].items(), key=operator.itemgetter(1))[0]\n",
    "    prob = max(prob_dict[0].items(), key=operator.itemgetter(1))[1]\n",
    "\n",
    "    langs.append(lang)\n",
    "    lang_probas.append(prob)"
   ]
  },
  {
   "cell_type": "code",
   "execution_count": 50,
   "metadata": {},
   "outputs": [],
   "source": [
    "lang_df = pd.DataFrame(list(zip(langs, lang_probas)), columns=[\"language\", \"language_probability\"])"
   ]
  },
  {
   "cell_type": "code",
   "execution_count": 51,
   "metadata": {},
   "outputs": [
    {
     "data": {
      "text/html": [
       "<div>\n",
       "<style scoped>\n",
       "    .dataframe tbody tr th:only-of-type {\n",
       "        vertical-align: middle;\n",
       "    }\n",
       "\n",
       "    .dataframe tbody tr th {\n",
       "        vertical-align: top;\n",
       "    }\n",
       "\n",
       "    .dataframe thead th {\n",
       "        text-align: right;\n",
       "    }\n",
       "</style>\n",
       "<table border=\"1\" class=\"dataframe\">\n",
       "  <thead>\n",
       "    <tr style=\"text-align: right;\">\n",
       "      <th></th>\n",
       "      <th>language</th>\n",
       "      <th>language_probability</th>\n",
       "    </tr>\n",
       "  </thead>\n",
       "  <tbody>\n",
       "    <tr>\n",
       "      <th>0</th>\n",
       "      <td>manglish</td>\n",
       "      <td>0.806866</td>\n",
       "    </tr>\n",
       "    <tr>\n",
       "      <th>1</th>\n",
       "      <td>local-english</td>\n",
       "      <td>0.791622</td>\n",
       "    </tr>\n",
       "    <tr>\n",
       "      <th>2</th>\n",
       "      <td>local-english</td>\n",
       "      <td>0.513222</td>\n",
       "    </tr>\n",
       "    <tr>\n",
       "      <th>3</th>\n",
       "      <td>standard-english</td>\n",
       "      <td>0.382878</td>\n",
       "    </tr>\n",
       "    <tr>\n",
       "      <th>4</th>\n",
       "      <td>local-english</td>\n",
       "      <td>0.553134</td>\n",
       "    </tr>\n",
       "    <tr>\n",
       "      <th>...</th>\n",
       "      <td>...</td>\n",
       "      <td>...</td>\n",
       "    </tr>\n",
       "    <tr>\n",
       "      <th>183</th>\n",
       "      <td>standard-malay</td>\n",
       "      <td>0.793704</td>\n",
       "    </tr>\n",
       "    <tr>\n",
       "      <th>184</th>\n",
       "      <td>standard-malay</td>\n",
       "      <td>0.882033</td>\n",
       "    </tr>\n",
       "    <tr>\n",
       "      <th>185</th>\n",
       "      <td>local-malay</td>\n",
       "      <td>0.747472</td>\n",
       "    </tr>\n",
       "    <tr>\n",
       "      <th>186</th>\n",
       "      <td>standard-malay</td>\n",
       "      <td>0.932277</td>\n",
       "    </tr>\n",
       "    <tr>\n",
       "      <th>187</th>\n",
       "      <td>standard-english</td>\n",
       "      <td>0.961120</td>\n",
       "    </tr>\n",
       "  </tbody>\n",
       "</table>\n",
       "<p>188 rows × 2 columns</p>\n",
       "</div>"
      ],
      "text/plain": [
       "             language  language_probability\n",
       "0            manglish              0.806866\n",
       "1       local-english              0.791622\n",
       "2       local-english              0.513222\n",
       "3    standard-english              0.382878\n",
       "4       local-english              0.553134\n",
       "..                ...                   ...\n",
       "183    standard-malay              0.793704\n",
       "184    standard-malay              0.882033\n",
       "185       local-malay              0.747472\n",
       "186    standard-malay              0.932277\n",
       "187  standard-english              0.961120\n",
       "\n",
       "[188 rows x 2 columns]"
      ]
     },
     "execution_count": 51,
     "metadata": {},
     "output_type": "execute_result"
    }
   ],
   "source": [
    "lang_df"
   ]
  },
  {
   "cell_type": "code",
   "execution_count": 65,
   "metadata": {},
   "outputs": [
    {
     "data": {
      "image/png": "[encoded data removed]",
      "text/plain": [
       "<Figure size 640x480 with 1 Axes>"
      ]
     },
     "metadata": {},
     "output_type": "display_data"
    }
   ],
   "source": [
    "plot = sns.countplot(lang_df, x=\"language\")\n",
    "plot.tick_params(axis='x', rotation=90)"
   ]
  },
  {
   "cell_type": "markdown",
   "metadata": {},
   "source": [
    "#### Translation to Malay language (ms)"
   ]
  },
  {
   "cell_type": "code",
   "execution_count": 56,
   "metadata": {},
   "outputs": [
    {
     "data": {
      "application/vnd.jupyter.widget-view+json": {
       "model_id": "b471f82d2d8d40149686a6698974e5c4",
       "version_major": 2,
       "version_minor": 0
      },
      "text/plain": [
       "tokenizer_config.json:   0%|          | 0.00/754 [00:00<?, ?B/s]"
      ]
     },
     "metadata": {},
     "output_type": "display_data"
    },
    {
     "data": {
      "application/vnd.jupyter.widget-view+json": {
       "model_id": "e67b6aa6bf8a40e5a7d60b2c19a3e18c",
       "version_major": 2,
       "version_minor": 0
      },
      "text/plain": [
       "vocab.json:   0%|          | 0.00/517k [00:00<?, ?B/s]"
      ]
     },
     "metadata": {},
     "output_type": "display_data"
    },
    {
     "data": {
      "application/vnd.jupyter.widget-view+json": {
       "model_id": "7cf62cf5261e4033aeaaa4ca29ed4aed",
       "version_major": 2,
       "version_minor": 0
      },
      "text/plain": [
       "merges.txt:   0%|          | 0.00/303k [00:00<?, ?B/s]"
      ]
     },
     "metadata": {},
     "output_type": "display_data"
    },
    {
     "data": {
      "application/vnd.jupyter.widget-view+json": {
       "model_id": "fa4fcda72e33476cbaf8c8fdc60dccc4",
       "version_major": 2,
       "version_minor": 0
      },
      "text/plain": [
       "added_tokens.json:   0%|          | 0.00/2.59k [00:00<?, ?B/s]"
      ]
     },
     "metadata": {},
     "output_type": "display_data"
    },
    {
     "data": {
      "application/vnd.jupyter.widget-view+json": {
       "model_id": "2e129a1e4a80430781d57a7d09f65399",
       "version_major": 2,
       "version_minor": 0
      },
      "text/plain": [
       "special_tokens_map.json:   0%|          | 0.00/15.1k [00:00<?, ?B/s]"
      ]
     },
     "metadata": {},
     "output_type": "display_data"
    },
    {
     "data": {
      "application/vnd.jupyter.widget-view+json": {
       "model_id": "73d768eebc84478d892b6677b173422c",
       "version_major": 2,
       "version_minor": 0
      },
      "text/plain": [
       "tokenizer.json:   0%|          | 0.00/1.38M [00:00<?, ?B/s]"
      ]
     },
     "metadata": {},
     "output_type": "display_data"
    },
    {
     "data": {
      "application/vnd.jupyter.widget-view+json": {
       "model_id": "3cc3883b03234f5c998904e6035945c5",
       "version_major": 2,
       "version_minor": 0
      },
      "text/plain": [
       "config.json:   0%|          | 0.00/819 [00:00<?, ?B/s]"
      ]
     },
     "metadata": {},
     "output_type": "display_data"
    },
    {
     "data": {
      "application/vnd.jupyter.widget-view+json": {
       "model_id": "9a10ac45c50541aa9e01de450634c551",
       "version_major": 2,
       "version_minor": 0
      },
      "text/plain": [
       "pytorch_model.bin:   0%|          | 0.00/358M [00:00<?, ?B/s]"
      ]
     },
     "metadata": {},
     "output_type": "display_data"
    },
    {
     "name": "stderr",
     "output_type": "stream",
     "text": [
      "huggingface/tokenizers: The current process just got forked, after parallelism has already been used. Disabling parallelism to avoid deadlocks...\n",
      "To disable this warning, you can either:\n",
      "\t- Avoid using `tokenizers` before the fork if possible\n",
      "\t- Explicitly set the environment variable TOKENIZERS_PARALLELISM=(true | false)\n"
     ]
    },
    {
     "data": {
      "application/vnd.jupyter.widget-view+json": {
       "model_id": "9f2de745d8b94a21a388851642a91dd3",
       "version_major": 2,
       "version_minor": 0
      },
      "text/plain": [
       "generation_config.json:   0%|          | 0.00/164 [00:00<?, ?B/s]"
      ]
     },
     "metadata": {},
     "output_type": "display_data"
    }
   ],
   "source": [
    "trans_model = malaya.translation.huggingface(model = 'mesolitica/translation-nanot5-small-malaysian-cased')"
   ]
  },
  {
   "cell_type": "code",
   "execution_count": 58,
   "metadata": {},
   "outputs": [
    {
     "data": {
      "text/plain": [
       "'An energetic group of 10 lecturers with deep passion for science from Universiti Kuala Lumpur Royal College of Medicine Perak (UniKL RCMP) have recently visited #Novugen’s USFDA approved pharmaceutical and oncology manufacturing facilities on 13th of December 2023. https://t.co/uUkZAYgoE5'"
      ]
     },
     "execution_count": 58,
     "metadata": {},
     "output_type": "execute_result"
    }
   ],
   "source": [
    "dataset.loc[187, \"text\"]"
   ]
  },
  {
   "cell_type": "code",
   "execution_count": 62,
   "metadata": {},
   "outputs": [
    {
     "data": {
      "text/plain": [
       "['Kami UniKL 💛💙\\n\\nVideo highlight semasa Penglibatan Pelajar Antarabangsa (Belajar): September & Oktober 2024 Pengambilan di Pusat Bandar Perdana Kuala Lumpur, 14 Disember 2024 🎥 https://t.co/w0lnSMSp5E']"
      ]
     },
     "execution_count": 62,
     "metadata": {},
     "output_type": "execute_result"
    }
   ],
   "source": [
    "trans_model.generate([dataset.loc[3, \"text\"]], to_lang = 'ms', max_length = 1000)"
   ]
  },
  {
   "cell_type": "code",
   "execution_count": 65,
   "metadata": {},
   "outputs": [
    {
     "name": "stdout",
     "output_type": "stream",
     "text": [
      "<class 'pandas.core.frame.DataFrame'>\n",
      "RangeIndex: 188 entries, 0 to 187\n",
      "Data columns (total 44 columns):\n",
      " #   Column                 Non-Null Count  Dtype         \n",
      "---  ------                 --------------  -----         \n",
      " 0   _id                    188 non-null    object        \n",
      " 1   id                     188 non-null    object        \n",
      " 2   created_on             188 non-null    datetime64[ns]\n",
      " 3   date                   188 non-null    datetime64[ns]\n",
      " 4   text                   188 non-null    object        \n",
      " 5   rich_text              27 non-null     object        \n",
      " 6   author                 188 non-null    object        \n",
      " 7   is_retweet             188 non-null    object        \n",
      " 8   retweeted_tweet        0 non-null      object        \n",
      " 9   is_quoted              188 non-null    object        \n",
      " 10  quoted_tweet           1 non-null      object        \n",
      " 11  is_reply               188 non-null    object        \n",
      " 12  is_sensitive           188 non-null    object        \n",
      " 13  reply_counts           188 non-null    object        \n",
      " 14  quote_counts           188 non-null    object        \n",
      " 15  replied_to             0 non-null      object        \n",
      " 16  bookmark_count         188 non-null    object        \n",
      " 17  views                  188 non-null    object        \n",
      " 18  likes                  188 non-null    object        \n",
      " 19  language               188 non-null    object        \n",
      " 20  place                  5 non-null      object        \n",
      " 21  retweet_counts         188 non-null    object        \n",
      " 22  source                 188 non-null    object        \n",
      " 23  has_moderated_replies  188 non-null    object        \n",
      " 24  is_liked               188 non-null    object        \n",
      " 25  is_retweeted           188 non-null    object        \n",
      " 26  can_reply              188 non-null    object        \n",
      " 27  broadcast              0 non-null      object        \n",
      " 28  edit_control           188 non-null    object        \n",
      " 29  has_newer_version      188 non-null    object        \n",
      " 30  audio_space_id         0 non-null      object        \n",
      " 31  pool                   0 non-null      object        \n",
      " 32  community              0 non-null      object        \n",
      " 33  media                  188 non-null    object        \n",
      " 34  user_mentions          188 non-null    object        \n",
      " 35  urls                   188 non-null    object        \n",
      " 36  hashtags               188 non-null    object        \n",
      " 37  symbols                188 non-null    object        \n",
      " 38  community_note         0 non-null      object        \n",
      " 39  url                    188 non-null    object        \n",
      " 40  grok_share             0 non-null      object        \n",
      " 41  threads                188 non-null    object        \n",
      " 42  comments               188 non-null    object        \n",
      " 43  search_keywords        188 non-null    object        \n",
      "dtypes: datetime64[ns](2), object(42)\n",
      "memory usage: 64.8+ KB\n"
     ]
    }
   ],
   "source": [
    "dataset.info()"
   ]
  },
  {
   "cell_type": "markdown",
   "metadata": {},
   "source": [
    "## Sentiment analysis"
   ]
  },
  {
   "cell_type": "code",
   "execution_count": 66,
   "metadata": {},
   "outputs": [
    {
     "data": {
      "text/plain": [
       "{'mesolitica/sentiment-analysis-nanot5-tiny-malaysian-cased': {'Size (MB)': 93,\n",
       "  'macro precision': 0.67768,\n",
       "  'macro recall': 0.68266,\n",
       "  'macro f1-score': 0.67997},\n",
       " 'mesolitica/sentiment-analysis-nanot5-small-malaysian-cased': {'Size (MB)': 167,\n",
       "  'macro precision': 0.67602,\n",
       "  'macro recall': 0.6712,\n",
       "  'macro f1-score': 0.67339}}"
      ]
     },
     "execution_count": 66,
     "metadata": {},
     "output_type": "execute_result"
    }
   ],
   "source": [
    "malaya.sentiment.available_huggingface"
   ]
  },
  {
   "cell_type": "code",
   "execution_count": 67,
   "metadata": {},
   "outputs": [
    {
     "name": "stdout",
     "output_type": "stream",
     "text": [
      "Trained on https://huggingface.co/datasets/mesolitica/chatgpt-explain-sentiment\n",
      "Split 90% to train, 10% to test.\n"
     ]
    }
   ],
   "source": [
    "print(malaya.sentiment.info)"
   ]
  },
  {
   "cell_type": "code",
   "execution_count": 68,
   "metadata": {},
   "outputs": [],
   "source": [
    "# load model from Huggingface\n",
    "sentiment_model = malaya.sentiment.huggingface(model=\"mesolitica/sentiment-analysis-nanot5-small-malaysian-cased\")"
   ]
  },
  {
   "cell_type": "code",
   "execution_count": 72,
   "metadata": {},
   "outputs": [],
   "source": [
    "sentiments = []\n",
    "sentiment_probas = []\n",
    "for i, text in enumerate(texts):\n",
    "    if text:\n",
    "        prob_dict = sentiment_model.predict_proba([text])\n",
    "        sentiment = max(prob_dict[0].items(), key=operator.itemgetter(1))[0]\n",
    "        sentiment_prob = max(prob_dict[0].items(), key=operator.itemgetter(1))[1]\n",
    "    else:\n",
    "        sentiment = \"neutral\"\n",
    "        sentiment_prob = 0.000\n",
    "    \n",
    "    sentiments.append(sentiment)\n",
    "    sentiment_probas.append(sentiment_prob)"
   ]
  },
  {
   "cell_type": "code",
   "execution_count": 73,
   "metadata": {},
   "outputs": [
    {
     "data": {
      "text/html": [
       "<div>\n",
       "<style scoped>\n",
       "    .dataframe tbody tr th:only-of-type {\n",
       "        vertical-align: middle;\n",
       "    }\n",
       "\n",
       "    .dataframe tbody tr th {\n",
       "        vertical-align: top;\n",
       "    }\n",
       "\n",
       "    .dataframe thead th {\n",
       "        text-align: right;\n",
       "    }\n",
       "</style>\n",
       "<table border=\"1\" class=\"dataframe\">\n",
       "  <thead>\n",
       "    <tr style=\"text-align: right;\">\n",
       "      <th></th>\n",
       "      <th>sentiment</th>\n",
       "      <th>sentiment_probability</th>\n",
       "    </tr>\n",
       "  </thead>\n",
       "  <tbody>\n",
       "    <tr>\n",
       "      <th>0</th>\n",
       "      <td>positive</td>\n",
       "      <td>0.679903</td>\n",
       "    </tr>\n",
       "    <tr>\n",
       "      <th>1</th>\n",
       "      <td>positive</td>\n",
       "      <td>0.955390</td>\n",
       "    </tr>\n",
       "    <tr>\n",
       "      <th>2</th>\n",
       "      <td>neutral</td>\n",
       "      <td>0.611747</td>\n",
       "    </tr>\n",
       "    <tr>\n",
       "      <th>3</th>\n",
       "      <td>neutral</td>\n",
       "      <td>0.981847</td>\n",
       "    </tr>\n",
       "    <tr>\n",
       "      <th>4</th>\n",
       "      <td>neutral</td>\n",
       "      <td>0.884309</td>\n",
       "    </tr>\n",
       "    <tr>\n",
       "      <th>...</th>\n",
       "      <td>...</td>\n",
       "      <td>...</td>\n",
       "    </tr>\n",
       "    <tr>\n",
       "      <th>183</th>\n",
       "      <td>neutral</td>\n",
       "      <td>0.559100</td>\n",
       "    </tr>\n",
       "    <tr>\n",
       "      <th>184</th>\n",
       "      <td>positive</td>\n",
       "      <td>0.938196</td>\n",
       "    </tr>\n",
       "    <tr>\n",
       "      <th>185</th>\n",
       "      <td>neutral</td>\n",
       "      <td>0.736944</td>\n",
       "    </tr>\n",
       "    <tr>\n",
       "      <th>186</th>\n",
       "      <td>neutral</td>\n",
       "      <td>0.684105</td>\n",
       "    </tr>\n",
       "    <tr>\n",
       "      <th>187</th>\n",
       "      <td>neutral</td>\n",
       "      <td>0.863614</td>\n",
       "    </tr>\n",
       "  </tbody>\n",
       "</table>\n",
       "<p>188 rows × 2 columns</p>\n",
       "</div>"
      ],
      "text/plain": [
       "    sentiment  sentiment_probability\n",
       "0    positive               0.679903\n",
       "1    positive               0.955390\n",
       "2     neutral               0.611747\n",
       "3     neutral               0.981847\n",
       "4     neutral               0.884309\n",
       "..        ...                    ...\n",
       "183   neutral               0.559100\n",
       "184  positive               0.938196\n",
       "185   neutral               0.736944\n",
       "186   neutral               0.684105\n",
       "187   neutral               0.863614\n",
       "\n",
       "[188 rows x 2 columns]"
      ]
     },
     "execution_count": 73,
     "metadata": {},
     "output_type": "execute_result"
    }
   ],
   "source": [
    "sentiment_df = pd.DataFrame(list(zip(sentiments, sentiment_probas)), columns=[\"sentiment\", \"sentiment_probability\"])"
   ]
  },
  {
   "cell_type": "code",
   "execution_count": 74,
   "metadata": {},
   "outputs": [],
   "source": [
    "import seaborn as sns"
   ]
  },
  {
   "cell_type": "code",
   "execution_count": 76,
   "metadata": {},
   "outputs": [
    {
     "data": {
      "text/plain": [
       "<Axes: xlabel='sentiment', ylabel='count'>"
      ]
     },
     "execution_count": 76,
     "metadata": {},
     "output_type": "execute_result"
    },
    {
     "data": {
      "image/png": "[encoded data removed]",
      "text/plain": [
       "<Figure size 640x480 with 1 Axes>"
      ]
     },
     "metadata": {},
     "output_type": "display_data"
    }
   ],
   "source": [
    "sns.countplot(sentiment_df, x=\"sentiment\")"
   ]
  },
  {
   "cell_type": "code",
   "execution_count": 96,
   "metadata": {},
   "outputs": [
    {
     "data": {
      "text/plain": [
       "<Axes: xlabel='sentiment_probability', ylabel='Count'>"
      ]
     },
     "execution_count": 96,
     "metadata": {},
     "output_type": "execute_result"
    },
    {
     "data": {
      "image/png": "[encoded data removed]",
      "text/plain": [
       "<Figure size 640x480 with 1 Axes>"
      ]
     },
     "metadata": {},
     "output_type": "display_data"
    }
   ],
   "source": [
    "sns.histplot(sentiment_df, x=\"sentiment_probability\", bins=20)"
   ]
  },
  {
   "cell_type": "code",
   "execution_count": 103,
   "metadata": {},
   "outputs": [
    {
     "data": {
      "text/plain": [
       "Text(0.5, 1.0, 'Probability Distribution for Neutral Sentiments')"
      ]
     },
     "execution_count": 103,
     "metadata": {},
     "output_type": "execute_result"
    },
    {
     "data": {
      "image/png": "[encoded data removed]",
      "text/plain": [
       "<Figure size 640x480 with 1 Axes>"
      ]
     },
     "metadata": {},
     "output_type": "display_data"
    }
   ],
   "source": [
    "sns.histplot(sentiment_df[sentiment_df[\"sentiment\"]==\"neutral\"], x=\"sentiment_probability\", bins=8).set_title(\"Probability Distribution for Neutral Sentiments\")"
   ]
  },
  {
   "cell_type": "markdown",
   "metadata": {},
   "source": [
    "### Emotion Analysis"
   ]
  },
  {
   "cell_type": "code",
   "execution_count": 12,
   "metadata": {},
   "outputs": [
    {
     "data": {
      "text/plain": [
       "{'mesolitica/emotion-analysis-nanot5-tiny-malaysian-cased': {'Size (MB)': 93,\n",
       "  'macro precision': 0.96107,\n",
       "  'macro recall': 0.9627,\n",
       "  'macro f1-score': 0.96182},\n",
       " 'mesolitica/emotion-analysis-nanot5-small-malaysian-cased': {'Size (MB)': 167,\n",
       "  'macro precision': 0.96814,\n",
       "  'macro recall': 0.97004,\n",
       "  'macro f1-score': 0.96905}}"
      ]
     },
     "execution_count": 12,
     "metadata": {},
     "output_type": "execute_result"
    }
   ],
   "source": [
    "malaya.emotion.available_huggingface"
   ]
  },
  {
   "cell_type": "code",
   "execution_count": 105,
   "metadata": {},
   "outputs": [
    {
     "name": "stdout",
     "output_type": "stream",
     "text": [
      "Trained on https://github.com/huseinzol05/malaysian-dataset/tree/master/corpus/emotion\n",
      "Split 80% to train, 20% to test.\n"
     ]
    }
   ],
   "source": [
    "print(malaya.emotion.info)"
   ]
  },
  {
   "cell_type": "code",
   "execution_count": 13,
   "metadata": {},
   "outputs": [],
   "source": [
    "# load malaya emotion model from Huggingface\n",
    "emo_model = malaya.emotion.huggingface(model=\"mesolitica/emotion-analysis-nanot5-small-malaysian-cased\")"
   ]
  },
  {
   "cell_type": "markdown",
   "metadata": {},
   "source": [
    "#### Text preprocessing"
   ]
  },
  {
   "cell_type": "code",
   "execution_count": 14,
   "metadata": {},
   "outputs": [
    {
     "name": "stderr",
     "output_type": "stream",
     "text": [
      "/home/faiz/anaconda3/envs/work/lib/python3.10/site-packages/malaya/preprocessing.py:41: FutureWarning: Possible nested set at position 42\n",
      "  k.lower(): re.compile(_expressions[k]) for k, v in _expressions.items()\n",
      "/home/faiz/anaconda3/envs/work/lib/python3.10/site-packages/malaya/preprocessing.py:41: FutureWarning: Possible nested set at position 3\n",
      "  k.lower(): re.compile(_expressions[k]) for k, v in _expressions.items()\n"
     ]
    }
   ],
   "source": [
    "demoji = malaya.preprocessing.demoji()\n",
    "preprocessing = malaya.preprocessing.preprocessing(demoji=demoji)\n",
    "\n",
    "proc_texts = []\n",
    "\n",
    "for t in dataset[\"text\"]:\n",
    "    demoji_text = demoji.demoji(t)\n",
    "    joined = \" \".join(preprocessing.process(t))\n",
    "    for k,v in demoji_text.items():\n",
    "        joined = joined.replace(k,v)\n",
    "\n",
    "    proc_texts.append(joined)    "
   ]
  },
  {
   "cell_type": "code",
   "execution_count": 15,
   "metadata": {},
   "outputs": [
    {
     "data": {
      "text/plain": [
       "['<emoji> trofi </emoji> <emoji> api </emoji> Get ready untuk <allcaps> SSUK </allcaps> <number> ( Sukan Staf Universiti Kuala Lumpur ) ! <emoji> kalendar </emoji> Date : <number> – <number> January <number> <emoji> pusingan pusingan pusingan </emoji> Venue : UniKL <allcaps> MIAT </allcaps> Cheer on awak teams and witness the spirit of sportsmanship and unity ! <emoji> Biceps flexed </emoji> Stay tuned untuk more updates ! <url>',\n",
       " \"You ' ve made UniKL proud and looking forward more success from awak in the future . <emoji> Pingat tempat ke -2 </emoji> 2nd prize ( <allcaps> USD </allcaps> <number> ) dengan the project title Plant Elixir from UniKL <allcaps> MESTECH </allcaps> . Once again , congratulations from semua of us ! <emoji> wajah tersenyum dengan mata hati </emoji> Universiti Kuala Lumpur - Unikl\",\n",
       " 'On <number> December <number> , the <allcaps> CEO </allcaps> of Bond Pricing Agency Malaysia ( <allcaps> BPAM </allcaps> ) , Meor Amri Meor Ayob , delivered an insightful talk titled \" The Strategic Role of Bond Pricing in Corporate Finance dan Economic Stability \" pada Universiti Kuala Lumpur . <hashtag> #connectwithbpam </hashtag> <hashtag> #unikl </hashtag> <hashtag> #malaysia </hashtag> <hashtag> #bonds </hashtag> <url>',\n",
       " 'We Are UniKL <emoji> jantung kuning </emoji> <emoji> hati biru </emoji> Highlight video during International Student ( Undergraduate ) Engagement : September dan October <number> Intakes pada Perdana Kuala Lumpur City Centre , <number> December <number> <emoji> kamera filem </emoji> <url>',\n",
       " 'Photos during International Student ( Undergraduate ) Engagement : September dan October <number> Intakes pada Perdana Kuala Lumpur City Centre , <number> December <number> <emoji> wajah tersenyum dengan cermin mata hitam </emoji> <url>',\n",
       " '<hashtag> #BuletinBernama </hashtag> : Majlis Amanah Rakyat ( <allcaps> MARA </allcaps> ) menerusi Universiti Kuala Lumpur ( UniKL ) bakal bekerjasama dengan Mohamed Bin Zayed University of Artificial Intelligence , Emiriah Arab Bersatu ( <allcaps> UAE </allcaps> ) untuk mewujudkan sebuah fakulti Ai di universiti berkenaan . <url>',\n",
       " 'Universiti Kuala Lumpur ( UniKL ) akan menjalinkan kerjasama dengan Mohamed bin Zayed University of Artificial Intelligence ( <allcaps> MBZUAI </allcaps> ) di Emiriah Arab Bersatu ( <allcaps> UAE </allcaps> ) untuk membangunkan sebuah fakulti Kecerdasan Buatan ( AI ) . <url>',\n",
       " 'Fakulti AI bakal diwujudkan di UniKL Universiti Kuala Lumpur ( UniKL ) akan mendapat kerjasama Mohamed bin Zayed University of Artificial Intelligence di Emiriah Arab Bersatu ( <allcaps> UAE </allcaps> ) bagi membangunkan fakulti kecerdasan buatan ( AI ) . Timbalan Perdana Menteri , Datuk Seri Dr Ahmad Zahid Hamidi berkata , kolaborasi itu bertepatan dengan reputasi institusi itu sebagai universiti AI pertama di dunia dan pengalaman negara itu dalam meneroka teknologi terbabit perlu dimanfaatkan . Anda boleh baca berita penuh di portal Sinar Harian di <url> atau swipe naik di IG story serta jangan lupa follow IG <user> untuk berita terkini dalam dan luar negara . Muzik : Elevate dari <url> <hashtag> #SinarHarian </hashtag> <hashtag> #BeritaSemasa </hashtag> <hashtag> #AI </hashtag> <hashtag> #UNIKL </hashtag> Artikel : <url>',\n",
       " 'Fakulti AI bakal diwujudkan di UniKL Universiti Kuala Lumpur ( UniKL ) akan mendapat kerjasama Mohamed bin Zayed University of Artificial Intelligence di Emiriah Arab Bersatu ( <allcaps> UAE </allcaps> ) bagi membangunkan fakulti kecerdasan buatan ( AI ) . Timbalan Perdana Menteri , Datuk Seri Dr Ahmad Zahid Hamidi berkata , kolaborasi itu bertepatan dengan reputasi institusi itu sebagai universiti AI pertama di dunia dan pengalaman negara itu dalam meneroka teknologi terbabit perlu dimanfaatkan . Artikel : <url> Muzik : Elevate dari <url> <hashtag> #SinarHarian </hashtag> <hashtag> #BeritaSemasa </hashtag> <hashtag> #AI </hashtag> <hashtag> #UNIKL </hashtag>',\n",
       " '<hashtag> #NSTnation </hashtag> Universiti Kuala Lumpur ( UniKL ) will soon establish a new Artificial Intelligence ( AI ) faculty kepada prepare future generations untuk the rapidly advancing technological landscape . <url>',\n",
       " 'Setinggi-tinggi penghargaan kepada YBhg. Datuk Dr. Awang Azman bin Awang Pawi , Ahli Lembaga Pengarah , Universiti Kuala Lumpur sempena Majlis Konvokesyen kedua puluh satu UniKL daripada Lembaga Pengarah , Pengurusan , Warga Kerja , Alumni dan Mahasiswa Universiti Kuala Lumpur . <url>',\n",
       " '𝗕𝗘𝗥𝗦𝗔𝗠𝗔 𝗪𝗔𝗥𝗜𝗦 𝗚𝗥𝗔𝗗𝗨𝗔𝗡 | 𝗞𝗢𝗡𝗩𝗢𝗞𝗘𝗦𝗬𝗘𝗡 𝗨𝗡𝗜𝗞𝗟 𝗞𝗘 <number> Raikan kejayaan para graduan di Konvokesyen UniKL Kali ke <number> , <number> - <date> di World Trade Centre Kuala Lumpur . <hashtag> #MerakyatkanMARA </hashtag> <hashtag> #malaysiamadani </hashtag> <hashtag> #kkdw </hashtag> <hashtag> #unikl </hashtag> <hashtag> #UNIKLCONVO21 </hashtag> <url>',\n",
       " 'Salam Takziah <emoji> 🤲 🏽 </emoji> Salam Takziah kepada seluruh ahli keluarga Tan Sri Datuk Seri Dr. Ibrahim Bin Saad , Presiden / Ketua Pegawai Eksekutif Pertama , Universiti Kuala Lumpur ( <number> – <number> ) yang telah meninggal dunia pada <date> . <url>',\n",
       " 'Invest Selangor had the honor of welcoming Universiti Kuala Lumpur ( UniKL ) , led dengan its President , Prof . Ir . Dr. Azman , untuk a recent courtesy visit . The meeting focused on exploring strategic collaborations kepada bridge academia and state initiatives . ( <number> / <number> ) <url>',\n",
       " 'Jumpa anda di Pusat Dagangan Dunia Kuala Lumpur <emoji> 👨 \\u200d 🎓 </emoji> <emoji> 👩 \\u200d 🎓 </emoji> <hashtag> #WeAreUniKL </hashtag> <hashtag> #UniversitiKualaLumpur </hashtag> <hashtag> #UniKL </hashtag> <hashtag> #UniKLDNA </hashtag> <hashtag> #UniKLnProud </hashtag> <hashtag> #UniKLConvo </hashtag> <hashtag> #UniKLConvo21 </hashtag> <hashtag> #UniKLConvo21st </hashtag> <hashtag> #ClassOf24 </hashtag> <hashtag> #Convo21 </hashtag> <hashtag> #November </hashtag> <hashtag> #WTCKL </hashtag> <hashtag> #RoadToConvo </hashtag> <hashtag> #KKDW </hashtag> <hashtag> #MARA </hashtag> <hashtag> #MARACorpGroup </hashtag> <hashtag> #MalaysiaMadani </hashtag> <url>',\n",
       " 'UniKL 21st Convocation is calling ! <emoji> penerima telefon </emoji> <emoji> berkilau </emoji> Are awak guys excited ? Because we are ! <emoji> bintang-bintang </emoji> Can not wait kepada sih awak semua pada the World Trade Centre , Kuala Lumpur untuk the UniKL 21st Convocation Ceremony from <number> - <date> . See awak there ! <emoji> wajah tersenyum dengan cermin mata hitam </emoji> <url>',\n",
       " 'UniKL 21st Convocation <emoji> topi pengijazahan </emoji> Hari ini Isnin <date> Team \" <allcaps> LED </allcaps> , Pentas , Teknikal \" dah mula masuk dan setup , jadi agak agak macam mana rupa pentas konvokesyen kita bagi tahun ini ya ? <emoji> wajah berfikir </emoji> Jumpa anda di Pusat Dagangan Dunia Kuala Lumpur <emoji> 👨 🏼 \\u200d topi pengijazahan </emoji> <emoji> 👩 🏼 \\u200d topi pengijazahan </emoji> <url>',\n",
       " \"Robe Collection Day <emoji> topi pengijazahan </emoji> Robe collection venue : Quill City Mall , Kuala Lumpur - Level <number> ( Lot <number> - <number> ) dan Level <number> ( UniKL <allcaps> BIS </allcaps> ' Cafeteria ) <emoji> bangunan pejabat </emoji> <url>\",\n",
       " 'UniKL 21st Convocation <emoji> topi pengijazahan </emoji> Dewan Merdeka , Pusat Dagangan Dunia Kuala Lumpur akan dibanjiri oleh graduan UniKL kelas <number> tidak lama sahaja lagi . Jadi , Jumpa anda di sini <emoji> wajah tersenyum dengan cermin mata hitam </emoji> <emoji> topi pengijazahan </emoji> <hashtag> #WeAreUniKL </hashtag> <hashtag> #UniKLConvo </hashtag> <hashtag> #UniKLConvo21 </hashtag> <hashtag> #UniKLConvo21st </hashtag> <hashtag> #ClassOf24 </hashtag> <hashtag> #Convo21 </hashtag> <hashtag> #November </hashtag> <hashtag> #WTCKL </hashtag> <hashtag> #RoadToConvo </hashtag> <url>',\n",
       " \"<emoji> topi pengijazahan </emoji> UniKL 21st Convocation Countdown <emoji> topi pengijazahan </emoji> Only <number> days kepada pergi untuk UniKL's Class of <number> ! <emoji> api </emoji> Are awak excited ? <emoji> bintang-bintang </emoji> <emoji> berkilau </emoji> Get the latest info pada <url> We can not wait kepada celebrate dengan awak pada the World Trade Centre , Kuala Lumpur ! Congratulations ! <emoji> topi pengijazahan </emoji> <url>\",\n",
       " \"UniKL 21st Convocation <emoji> topi pengijazahan </emoji> Only <number> days left ! Min can not wait kepada pengalaman the main hall's atmosphere untuk the Class of <number> . For more info , visit <url> atau contact us . See awak pada the World Trade Centre , Kuala Lumpur . Congratulations kepada semua graduates ! <emoji> topi pengijazahan </emoji> <url>\",\n",
       " \"UniKL 21st Convocation <emoji> topi pengijazahan </emoji> Only <number> days left ! Min can not wait kepada pengalaman the main hall's atmosphere untuk the Class of <number> . For more info , visit <url> atau contact us . See awak pada the World Trade Centre , Kuala Lumpur . Congratulations kepada semua graduates ! <emoji> topi pengijazahan </emoji> <url>\",\n",
       " 'We look forward kepada seeing awak pada the World Trade Centre , Kuala Lumpur untuk the convocation ceremony <emoji> bangunan pejabat </emoji> Congratulations once again <emoji> Popper Parti </emoji>',\n",
       " 'We look forward kepada seeing awak pada the World Trade Centre , Kuala Lumpur untuk the convocation ceremony <emoji> bangunan pejabat </emoji> Congratulations once again <emoji> Popper Parti </emoji> <hashtag> #UniKLConvo </hashtag> <hashtag> #UniKLConvo21 </hashtag> <hashtag> #UniKLConvo21th </hashtag> <hashtag> #ClassOf24 </hashtag> <hashtag> #Convo21 </hashtag> <hashtag> #November </hashtag> <hashtag> #WTCKL </hashtag> <hashtag> #RoadToConvo </hashtag> <hashtag> #KKDW </hashtag> <hashtag> #MARA </hashtag> <hashtag> #MARACorp </hashtag> <hashtag> #MalaysiaMadani </hashtag>',\n",
       " 'Alhamdulillah , penyerahan bot <allcaps> CSR </allcaps> UniKL - <allcaps> NADMA </allcaps> telah berjaya dilaksanakan kepada wakil pihak pengurusan bencana Negeri Kelantan , melalui Agensi Pertahanan Awam Daerah Pasir Mas dan Pasir Puteh . <url>',\n",
       " 'Academic Research dan Innovation Excellence Night ( <allcaps> ARIEN </allcaps> <number> ) <emoji> 🎖 ️ </emoji> Photos during Academic Research dan Innovation Excellence Night ( <allcaps> ARIEN </allcaps> <number> ) pada Grand Ballroom , Concorde Hotel Kuala Lumpur . Congratulations kepada semua recipients <emoji> kamera dengan kilat </emoji> <url>',\n",
       " \"Majlis mengucapkan jutaan terima kasih kepada Yang Berhormat Dato' Sri SH Mohmed Puzi Bin SH Ali , Pengerusi Universiti Kuala Lumpur dan dif-dif kehormat yang lain kerana hadir dan menyempurnakan majlis ini <emoji> \\U0001faf0 🏼 </emoji> <url>\",\n",
       " 'Pengerusi Universiti Kuala Lumpur pada hari sabtu yang lepas <date> yang bertempat di SK Jalan Gurney <number> , Kuala Lumpur <emoji> berkilau </emoji> <url>',\n",
       " '<allcaps> ACPC </allcaps> Session <number> , <number> <emoji> topi pengijazahan </emoji> Photos during UniKL Foundation Appreciation and Certificate Presentation Ceremony ( <allcaps> ACPC </allcaps> ) Session <date> pada Grand Ballroom , Level <number> Premiera Hotel Kuala Lumpur akhir Friday , <date> <emoji> pening </emoji> <url>',\n",
       " '<allcaps> UNAND </allcaps> – UniKL Malaysia Jajaki Kerja Sama : Padang ( <allcaps> UNAND </allcaps> ) - Universitas Andalas menerima kunjungan Ketua Kantor Internasional , Universiti Kuala Lumpur ( UniKL ) Malaysia , Dr. Nadia Razali dan direktur pengembangan kerja sama UniKL , Prof . Dr. Ilham … <url> Unand <url>',\n",
       " 'Sorotan Video Majlis Penutupan Forum Tenaga Madani : Menggerakkan untuk Tindakan Masa Depan Sifar Bersih dan Disempurnakan oleh YBhg. Datuk Wira Dr. Asyraf Wajdi bin Dato Dusuki Pengerusi <allcaps> MARA </allcaps> dan Pro Canselor Universiti Kuala Lumpur bertempat di Dewan Gemilang , UniKL <allcaps> BMI </allcaps> <emoji> kamera filem </emoji> <url>',\n",
       " 'Gambar sekitar Majlis Penutupan Forum Tenaga Madani : Menggerakkan untuk Tindakan Masa Depan Sifar Bersih dan Disempurnakan oleh YBhg. Datuk Wira Dr. Asyraf Wajdi bin Dato Dusuki Pengerusi <allcaps> MARA </allcaps> dan Pro Canselor Universiti Kuala Lumpur bertempat di Dewan Gemilang , UniKL <allcaps> BMI </allcaps> <url>',\n",
       " \"Today's signing further builds on this commitment . The document exchange was held pada UniKL <allcaps> BMI </allcaps> Campus in Gombak , Kuala Lumpur , between Encik Raja Iskandar Raja Mukhtaruddin , Malakoff's Chief People Officer and Yang Berhormat Dato' Sri Sh Mohmed Puzi Sh Ali , Chairman of UniKL ,\",\n",
       " 'Petang ini saya berkesempatan bersama para pelajar baharu Universiti Kuala Lumpur ( UniKL ) ambilan Oktober dalam satu sesi dialog yang berlangsung di Dewan Bestari , UniKL Kampus Kota . <hashtag> #MerakyatkanMARA </hashtag> <hashtag> #MARAGemilang </hashtag> <hashtag> #WeAreUNIKL </hashtag> <hashtag> #WAU2024 </hashtag> <hashtag> #HidupBiarBerjasa </hashtag> <hashtag> #HidupKuMilikUmmah </hashtag> <url>',\n",
       " '<emoji> Globe menunjukkan Asia-Australia </emoji> グローバル人材育成の強化へ ! <emoji> Globe menunjukkan Asia-Australia </emoji> グローバル人材育成のアルー Universiti Kuala Lumpurと業務提携 アルー ( <number> ) は 、 Universiti Kuala Lumpur ( 以下 : UniKL / ユニケーエル ) と海外派遣研修業務に関する業務提携に合意しました ! UniKLは政府系私立大学連盟に加盟している名門4大学の1つで 、 実践重視の教育を行っています 。 この提携により受講者は質の高いバディと組んで課題に向き合い 、 学びを深めることができます ! アルーはこの提携により海外派遣研修をさらに拡充させ 、 実際のビジネスの場で価値を発揮できるグローバル人材の育成を支援してまいります <repeated> ! </repeated>',\n",
       " 'Sesi Ramah Mesra <emoji> mikrofon </emoji> Sesi Ramah Mesra YBhg. Datuk Wira Dr. Asyraf Wajdi bin Dato Dusuki Pengerusi <allcaps> MARA </allcaps> dan Pro Canselor Universiti Kuala Lumpur , bersama Mahasiswa Universiti Kuala Lumpur Pengambilan <date> <emoji> 🙌 🏼 </emoji> <url>',\n",
       " 'Dear new students of UniKL dan semua <emoji> berkilau </emoji> Catch our engagement dan introduction kepada <allcaps> SDCL </allcaps> session Welcoming and Orientation Week dengan Prof . Ts . Dr. Zalizah Awang Long , Deputy President - <allcaps> SDCL </allcaps> Universiti Kuala Lumpur , <url>',\n",
       " 'GMUXWOWOCT2024 <emoji> 🤙 🏼 </emoji> Hey , early birds ! <emoji> matahari dengan muka </emoji> Welcome belakang kepada another exciting edition of Good Morning UniKL Special Edition <allcaps> WOW OCT </allcaps> <number> dengan YBhg. Prof . Ir . Dr. Azman bin Senin , President / Chief Executive Officer Universiti Kuala Lumpur ( UniKL ) . <url>',\n",
       " 'Presiden dan Ketua Pegawai Eksekutif Universiti Kuala Lumpur ( UniKL ) , Profesor Ir . Dr Azman Senin berkata , setiap institusi pengajian harus meletak keperluan industri sebagai penanda aras pembangunannya . <url> <user> <user> <hashtag> #RTM </hashtag> <hashtag> #BeritaRTM </hashtag> <url>',\n",
       " 'Majlis ini adalah untuk meraikan bakat kreatif dan usaha gigih semua yang terlibat dalam merealisasikan <allcaps> MBOR </allcaps> ini ! <emoji> trofi </emoji> <emoji> mengangkat tangan </emoji> Marilah kita sama-sama menghargai usaha semua yang terlibat di Dewan Bunga Raya , Sek . Keb . Jalan Gurney <number> , Kuala Lumpur , … <repeated> . </repeated>',\n",
       " \"Majlis mengucapkan jutaan terima kasih kepada Yang Berhormat Dato' Sri SH Mohmed Puzi Bin SH Ali , Pengerusi Universiti Kuala Lumpur kerana hadir dan menyampaikan sijil serta penyerahan zakat . <hashtag> #WeAreUniKL </hashtag> <hashtag> #UniKL </hashtag> <hashtag> #UniKLnProud </hashtag> <hashtag> #UniKLDNA </hashtag> <hashtag> #KKDW </hashtag> <hashtag> #MARA </hashtag> <hashtag> #MaraCorpGroup </hashtag> <hashtag> #MalaysiaMadani </hashtag> <url>\",\n",
       " 'Kerja-kerja pembinaan bot ini telah menggunakan tenaga pakar , alumni dan mahasiswa UniKL <allcaps> MIMET </allcaps> dan kerja-kerja pembuatan dilakukan mengikut piawaian yang ditetapkan dan dipantau oleh UniKL Resources Sdn Bhd ( <allcaps> URSB </allcaps> ) .',\n",
       " 'bulan dan dijangkakan siap sepenuhnya pada <date> . Kerja-kerja ini telah dilaksanakan di Limbungan , UniKL <allcaps> MIMET </allcaps> di Lumut , Perak .',\n",
       " 'Projek design dan build dan pengujian ini dijalankan oleh UniKL Malaysian Institute of Marine Engineering Technology ( UniKL <allcaps> MIMET </allcaps> ) untuk kegunaan Agensi Pengurusan Bencana Negara ( <allcaps> NADMA </allcaps> ) . Projek ini bermula pada <date> dan tempoh kontrak yang diberikan adalah selama <number>',\n",
       " \"Warmest congratulations kepada Dr. Noor A' in A . Rahman untuk her achievement pada the Falling Walls Lab Kuala Lumpur <number> competition pada UniKL City Campus . She will represent <allcaps> UTP </allcaps> and Malaysia pada the prestigious Falling Walls Lab Finale in Berlin , Germany , from <number> - <date> . <url>\",\n",
       " 'Falling Walls Lab Kuala Lumpur <emoji> mikrofon </emoji> Moments during Falling Walls Lab Kuala Lumpur <emoji> kamera dengan kilat </emoji> <emoji> kalendar </emoji> Thursday , <date> <emoji> bangunan pejabat </emoji> Venue : Bestari Lecture Hall , Level <number> , UniKL City Campus , Universiti Kuala Lumpur , Malaysia <emoji> kamera filem </emoji> Live : UniKLPAGE dan <allcaps> DAAD </allcaps> <url>',\n",
       " '<emoji> kalendar </emoji> Competition hari : Thursday , <date> , from <time> onwards <emoji> bangunan pejabat </emoji> Venue : Bestari Lecture Hall , Level <number> , UniKL City Campus , Universiti Kuala Lumpur , Malaysia <emoji> periksa butang tanda </emoji> Register here : <url>',\n",
       " 'Falling Walls Lab Kuala Lumpur is happening this month <repeated> ! </repeated> <emoji> bintang-bintang </emoji> Secure awak seat kepada witness innovators pitch their groundbreaking ideas in just <number> minutes dengan <number> slides ! Which of the finalists will jadi awak favorite ? Who will , in the end , represent Malaysia pada the final in Germany ? <url>',\n",
       " 'Date : <number> - <date> ( Tue dan Wed ) Venue : Concorde Hotel , Kuala Lumpur <emoji> 🇲 🇾 </emoji> Publication Opportunities All approved abstracts in <allcaps> ICMST </allcaps> <number> will jadi published in our <allcaps> ISBN </allcaps> conference proceeding .',\n",
       " 'Salam Hormat dan Salam Sejahtera , Pihak Universiti Kuala Lumpur Institute of Medical Science Technology ( UniKL <allcaps> MESTECH </allcaps> ) ingin menjemput para pelajar / ibubapa untuk ke Sesi Pre-Boarding Bersama Alumni UniKL <allcaps> MESTECH </allcaps> . <url>',\n",
       " 'Announcement hari <emoji> ‼ ️ </emoji> Steps kepada UniKL 21th Convocation <emoji> topi pengijazahan </emoji> We look forward kepada seeing awak pada the World Trade Centre , Kuala Lumpur untuk the convocation ceremony <emoji> bangunan pejabat </emoji> Congratulations once again <emoji> berkilau </emoji> <url>',\n",
       " 'Selamat menyambut Maulidur Rasul 1446H <emoji> bulan Sabit </emoji> <emoji> berkilau </emoji> Bersama-sama kita hayati sirah dan sunnah Nabi Muhammad <allcaps> SAW </allcaps> untuk menjadi umat yang lebih baik . <emoji> ☪ ️ </emoji> <emoji> berkilau </emoji> Ikhlas dari Universiti Kuala Lumpur . <url>',\n",
       " 'We look forward kepada seeing awak pada the World Trade Centre , Kuala Lumpur untuk the convocation ceremony <emoji> bangunan pejabat </emoji> Congratulations once again <emoji> berkilau </emoji>',\n",
       " 'We look forward kepada seeing awak pada the World Trade Centre , Kuala Lumpur untuk the convocation ceremony <emoji> bangunan pejabat </emoji> Congratulations once again <emoji> berkilau </emoji>',\n",
       " 'Course Fees : ✓ UniKL Students / Alumni - <money> ✓ Other <allcaps> IPT </allcaps> students - <money> ✓ Non-students - <money> <emoji> Berlian biru kecil </emoji> Dates dan Location : <emoji> 🗓 ️ </emoji> <number> - <date> <emoji> bangunan pejabat </emoji> Universiti Kuala Lumpur Institute of Medical Science Technology , A1 - <number> , Jln <allcaps> TKS </allcaps> <number> , Taman Kajang Sentral , Kajang , Selangor',\n",
       " 'Sdn Bhd ( M-Aerotech ) dan Malaysian Institute of Aviation Technology , Universiti Kuala Lumpur ( UniKL <allcaps> MIAT </allcaps> ) , manakala Honeycomb Aerospace Technologies ( Beijing ) diwakili Pengurus Besarnya , Cheng Yin Jie .',\n",
       " \"UniKL , yes Universiti Kuala Lumpur - Malaysia's biggest government linked university is joining Study in Malaysia Education Fair Pakistan <number> powered dengan <allcaps> EMGS </allcaps> in Lahore . Find the right fit untuk awak future ! <allcaps> FREE </allcaps> Entry , Register Now <emoji> 👇 🏻 </emoji> <url> For More Info <number> <number> <number> <number> <hashtag> #EducationMalaysiaGlobalServices </hashtag> <hashtag> #EMGS </hashtag> <hashtag> #StudyinMalaysia </hashtag> <hashtag> #InternationalStudent </hashtag> <hashtag> #StudyAbroad </hashtag> <hashtag> #Lahore </hashtag> <hashtag> #Pakistan </hashtag> <hashtag> #event </hashtag> <hashtag> #EMGSEvent </hashtag> <hashtag> #Malaysia </hashtag> <hashtag> #EducationFair2024 </hashtag> <hashtag> #MalaysianUniversity </hashtag> <hashtag> #September </hashtag> <hashtag> #education </hashtag> <hashtag> #BudgetFriendly </hashtag> <hashtag> #affordable </hashtag> <hashtag> #unikl </hashtag> <hashtag> #UniversitiKualaLumpur </hashtag>\",\n",
       " 'Date dan Location <emoji> kalendar </emoji> Date : <number> - <number> October <number> <emoji> pukul tiga </emoji> Time : <time> - <time> <emoji> pusingan pusingan pusingan </emoji> Venue : Universiti Kuala Lumpur Institute of Medical Science Technology , A1 - <number> , Jln <allcaps> TKS </allcaps> <number> , Taman Kajang Sentral , <number> Kajang , Selangor',\n",
       " 'Merdeka Fun Walk <emoji> 🏃 🏻 \\u200d ♂ ️ </emoji> Moments during Merdeka Walk , Run dan Ride Jubli Emas <allcaps> IKM KL X MARA </allcaps> Corporation Group <number> <emoji> Pingat sukan </emoji> <emoji> 🗓 ️ </emoji> <date> ( Sunday ) <emoji> jam loceng </emoji> <time> - <time> <emoji> pusingan pusingan pusingan </emoji> Kuala Lumpur ( KL Car-Free Morning ) <url>',\n",
       " 'Ucapan tulus ikhlas ini daripada Lembaga Pengarah , Pengurusan , Warga Kerja , Alumni dan Mahasiswa Universiti Kuala Lumpur . <hashtag> #WeAreUniKL </hashtag> <hashtag> #UniversitiKualaLumpur </hashtag> <hashtag> #UniKL </hashtag> <hashtag> #UniKLDNA </hashtag> <hashtag> #UniKLnProud </hashtag> <hashtag> #KKDW </hashtag> <hashtag> #MARA </hashtag> <hashtag> #MaraCorpGroup </hashtag> <hashtag> #MalaysiaMadani </hashtag>',\n",
       " 'Min mampu gelak sahaja lah tengok mereka training <emoji> muka dengan air mata kegembiraan </emoji> Sampai ada nak menangis ya <emoji> wajah tersenyum dengan peluh </emoji> UniKL Voice training untuk apa ? <emoji> wajah berfikir </emoji> Haaa stay tuneeeee <emoji> wajah tersenyum dengan cermin mata hitam </emoji> <emoji> berkilau </emoji> Layari <url> dan jadi sebahagian daripada keluarga besar Universiti Kuala Lumpur <emoji> komputer riba </emoji> <url>',\n",
       " 'Kemerdekaan Malaysia <number> Tahun <emoji> 🇲 🇾 </emoji> Warga Universiti Kuala Lumpur mengucapkan Selamat Menyambut Hari Kemerdekaan ke - <number> . Semoga kemerdekaan tahun ini memberi pengertian kecintaan terhadap negara . Mari kita raikan hari bersejarah ini dengan penuh kesyukuran . <url>',\n",
       " '\" Malaysia Madani : Jiwa Merdeka \" dipilih sebagai tema Hari Kebangsaan dan Hari Malaysia <number> . Layari <url> dan jadi sebahagian daripada keluarga besar Universiti Kuala Lumpur <emoji> komputer riba </emoji> ⠀ ⠀ ⠀ ⠀ ⠀ ⠀ ⠀ ⠀ ⠀ ⠀ ⠀ ⠀ <hashtag> #WeAreUniKL </hashtag> <hashtag> #UniversitiKualaLumpur </hashtag> <hashtag> #UniKL </hashtag> <hashtag> #JiwaMerdeka </hashtag>',\n",
       " '\" Malaysia Madani : Jiwa Merdeka \" dipilih sebagai tema Hari Kebangsaan dan Hari Malaysia <number> . Layari <url> dan jadi sebahagian daripada keluarga besar Universiti Kuala Lumpur <emoji> komputer riba </emoji> ⠀ ⠀ ⠀ ⠀ ⠀ ⠀ ⠀ ⠀ ⠀ ⠀ ⠀ ⠀',\n",
       " 'Sambutan Hari Jadi Ke - <number> , Tuan Yang Terutama Tun Seri Setia Dr. Haji Mohd Ali Bin Mohd Rustam , Yang Di-Pertua Negeri Melaka . Ucapan Ikhlas ini Daripada Lembaga Pengarah , Pengurusan , Warga Kerja , Alumni Dan Mahasiswa Universiti Kuala Lumpur <emoji> wajah tersenyum dengan cermin mata hitam </emoji>',\n",
       " 'Setinggi-Tinggi Ucapan Tahniah <emoji> berkilau </emoji> Setinggi-Tinggi Ucapan Tahniah kepada Prof . Madya Datuk Dr. Awang Azman Bin Awang Pawi , Ahli Lembaga Pengarah Universiti Kuala Lumpur , Di Atas Pengurniaan Darjah Pangkuan Seri Melaka ( D.P.S.M. ) Yang Membawa Gelaran Datuk Sempena : <url>',\n",
       " 'Malam Apresiasi Alumni UniKL <number> <emoji> berkilau </emoji> Sorotan sekitar Majlis Malam Apresiasi Alumni UniKL <number> di Dewan Tun Razak <number> | Aras <number> , Pusat Dagangan Dunia Kuala Lumpur <emoji> wajah tersenyum dengan cermin mata hitam </emoji> <url>',\n",
       " '<number> - <date> - Seluruh Warga <allcaps> ILP </allcaps> Tangkak mendoakan kejayaan buat Saudari Nursyafiqah Binti Ab Razak dalam penyertaan World Skills Malaysia Belia ( <allcaps> WSMB </allcaps> ) <number> bagi Bidang Mechanical Engineering <allcaps> CADD </allcaps> di Universiti Kuala Lumpur Malaysia France Institute ( UniKL <allcaps> MFI </allcaps> ) , Bangi . <url>',\n",
       " 'Sambutan Hari UniKL Ke <number> <emoji> Popper Parti </emoji> Sorotan sekitar Majlis Amanat YBhg. Prof . Ir . Dr. Azman Bin Senin , Presiden / Ketua Pegawai Eksekutif Universiti Kuala Lumpur sempena Sambutan Hari UniKL Ke <number> di Dewan Kuliah Bestari Aras <number> , UniKL Kampus Kota <emoji> wajah tersenyum dengan cermin mata hitam </emoji> <url>',\n",
       " 'attended the taklimat , which covered the functions of <allcaps> EMGS </allcaps> , the pelajar visa application process , and the latest updates from Malaysian HEIs such as Asia Pacific University of Technology dan Innovation ( <allcaps> APU </allcaps> ) , Multimedia University ( <allcaps> MMU </allcaps> ) , and Universiti Kuala Lumpur ( <allcaps> UNIKL </allcaps> ) .',\n",
       " 'Sambutan Hari UniKL Ke <number> <emoji> Popper Parti </emoji> Gambar sekitar Majlis Amanat YBhg. Prof . Ir . Dr. Azman Bin Senin , Presiden / Ketua Pegawai Eksekutif Universiti Kuala Lumpur sempena Sambutan Hari UniKL Ke <number> di Dewan Kuliah Bestari Aras <number> , UniKL Kampus Kota <emoji> wajah tersenyum dengan cermin mata hitam </emoji> <url>',\n",
       " 'Sambutan Hari UniKL Ke <number> <emoji> Popper Parti </emoji> Majlis Amanat YBhg. Prof . Ir . Dr. Azman Bin Senin , Presiden / Ketua Pegawai Eksekutif Universiti Kuala Lumpur sempena Sambutan Hari UniKL Ke <number> <emoji> wajah tersenyum dengan cermin mata hitam </emoji> <emoji> 🗓 ️ </emoji> <date> ( Khamis ) <emoji> jam loceng </emoji> <time> Pagi <emoji> kamera filem </emoji> Microsoft Teams <emoji> pusingan pusingan pusingan </emoji> Dewan Kuliah Bestari Aras <number> , UniKL Kampus Kota <url>',\n",
       " '<allcaps> SELAMAT ULANG TAHUN KE </allcaps> - <number> <allcaps> UNIVERSITI KUALA LUMPUR </allcaps> ( UniKL ) ! <user> Semoga maju jaya dan semoga terus melakar kejayaan demi kejayaan . <hashtag> #MARACORP </hashtag> <hashtag> #MARACorpGroup </hashtag> <hashtag> #MARA </hashtag> <hashtag> #MajlisAmanahRakyat </hashtag> <hashtag> #KKDW </hashtag> <hashtag> #UniversitiKualaLumpur </hashtag> <hashtag> #UniKL </hashtag> <hashtag> #UniKLnProud </hashtag> <hashtag> #UlangTahun </hashtag> <hashtag> #Anniversary </hashtag> <url>',\n",
       " 'Happy 22nd Anniversary UniKL <emoji> Popper Parti </emoji> On this hari , 20th <date> , we shall celebrate the 22nd Anniversary of Universiti Kuala Lumpur . <number> years of bittersweet memories of ups and downs . ⠀ ⠀ ⠀ ⠀ ⠀ ⠀ ⠀ ⠀ ⠀ ⠀ ⠀ We Love You UniKL ! <emoji> hati biru </emoji> <emoji> jantung kuning </emoji> <url>',\n",
       " '<number> Years Freedom , <number> Years Thriving <emoji> 🇲 🇾 </emoji> As the nation celebrates its independence , Universiti Kuala Lumpur ( UniKL ) reflects on its own <number> - year journey , marked dengan resilience , innovation , and a commitment kepada nation-building . <url>',\n",
       " '<number> Hour Non-Stop Augmented Reality ( AR ) Fun Mural Project \" Malaysia Book Of Record \" <emoji> kamera dengan kilat </emoji> Lawatan President / <allcaps> CEO </allcaps> Universiti Kuala Lumpur iaitu Prof . Ir . Dr. Azman Bin Senin ke Sekolah Kebangsaan Jalan Gurney <number> dan <number> yang bertempat di Kuala Lumpur untuk menyaksikan sendiri dan melukis <url>',\n",
       " \"<emoji> 🧑 \\u200d 🎓 </emoji> Study At Universiti Kuala Lumpur <emoji> 🇲 🇾 </emoji> <emoji> ☢ ️ </emoji> UniKL pada a glance is the leading entrepreneurial technical university in Malaysia based in the heart of Malaysia's capital and commerce kawasan . <allcaps> HURRY UP </allcaps> <emoji> ‼ ️ </emoji> <allcaps> APPLY NOW </allcaps> <emoji> ☎ ️ </emoji> Kuala Lumpur : + <number> - <number> <emoji> ☎ ️ </emoji> Dhaka : + <number> <url>\",\n",
       " 'Maksud Logo UniKL <emoji> berkilau </emoji> Pernah tertanya-tanya apa yang membuatkan logo UniKL unik ? <emoji> Bintang bercahaya </emoji> Logo UniKL merupakan misi , nilai , dan komitmen kita untuk kecemerlangan . Jom selami kisah di sebalik logo ini yang mewakili perjalanan kita dari tengah-tengah Kuala Lumpur ke masa depan Malaysia <url>',\n",
       " 'Sorotan Video Lawatan Kerja <emoji> 🛩 ️ </emoji> Sorotan Video kunjungan Lawatan kerja YB Datuk Ts . Mustapha Bin Sakmud , Timbalan Menteri Pendidikan Tinggi ke Universiti Kuala Lumpur Malaysian Institute Of Aviation Technology ( Kampus Subang ) <emoji> kamera filem </emoji> <url>',\n",
       " 'Sorotan Video Reel <emoji> kamera filem </emoji> Sorotan Video Reel kunjungan Lawatan kerja YB Datuk Ts . Mustapha Bin Sakmud , Timbalan Menteri Pendidikan Tinggi ke Universiti Kuala Lumpur Malaysian Institute Of Aviation Technology ( Kampus Subang ) <emoji> 🛩 ️ </emoji> <url>',\n",
       " 'YB Datuk Ts . Mustapha ke UniKL <allcaps> MIAT </allcaps> ( Kampus Subang ) <emoji> 🛩 ️ </emoji> Gambar sekitar kunjungan Lawatan kerja YB Datuk Ts . Mustapha Bin Sakmud , Timbalan Menteri Pendidikan Tinggi ke Universiti Kuala Lumpur Malaysian Institute Of Aviation Technology ( Kampus Subang ) <url>',\n",
       " 'Selamat Datang <emoji> 🛩 ️ </emoji> YB Datuk Ts . Mustapha Bin Sakmud Timbalan Menteri Pendidikan Tinggi Ke Universiti Kuala Lumpur Malaysian Institute Of Aviation Technology ( Kampus Subang ) <emoji> 🗓 ️ </emoji> <date> ( Isnin ) | <number> Safar 1446h <emoji> jam loceng </emoji> <time> Petang <hashtag> #WeAreUniKL </hashtag> <hashtag> #UniversitiKualaLumpur </hashtag> <url>',\n",
       " 'Date dan Location <emoji> kalendar air mata </emoji> October <number> - <number> , <number> <emoji> bangunan pejabat </emoji> Universiti Kuala Lumpur Institute of Medical Science Technology , A1 - <number> , Jln <allcaps> TKS </allcaps> <number> , Taman Kajang Sentral , <number> Kajang , Selangor <emoji> Berlian biru kecil </emoji> Register Today <url> <emoji> penerima telefon </emoji> Whatsapp <phone> untuk registration assistance ! <hashtag> #histology </hashtag>',\n",
       " 'Congratulations Professor <emoji> wajah tersenyum dengan cermin mata hitam </emoji> We are delighted kepada announce the successful candidates from the recent Promotion Exercise untuk the year <number> . Universiti Kuala Lumpur ( UniKL ) proudly extends its heartfelt congratulations kepada itu individuals who ada … <url>',\n",
       " 'Hello Malaysia ! <emoji> 🇲 🇾 </emoji> Held akhir masa in <number> , Falling Walls Lab competition is finally coming belakang kepada Kuala Lumpur ! <emoji> bintang-bintang </emoji> <url>',\n",
       " 'Selamat Menyambut Hari Pahlawan kepada seluruh pewira di Malaysia dari kami seluruh warga Universiti Kuala Lumpur . <emoji> 🇲 🇾 </emoji> <emoji> berkilau </emoji> Terima kasih di atas jasa dan pengorbanan demi menjaga keamanan dan kesejahteraan Malaysia dari dahulu hingga kini . <url>',\n",
       " 'Tuanku Canselor , Universiti Kuala Lumpur sempena Memuliakan Hari Ulang Tahun Keputeraan yang ke - <number> Kebawah Duli Paduka Baginda Sultan Pahang pada <date> ( Selasa ) bersamaan <number> Muharam <number> Hijrah . <hashtag> #TuankuCanselor </hashtag> <hashtag> #WeAreUniKL </hashtag> <hashtag> #UniversitiKualaLumpur </hashtag> <hashtag> #UniKLDNA </hashtag> <hashtag> #UniKLnProud </hashtag>',\n",
       " 'Hi Translogician ! <emoji> berkilau </emoji> Let us join an interesting session dengan guest professors from University Kuala Lumpur Institute of Aviation Technology ( UniKL <allcaps> MIAT </allcaps> ) ! <emoji> bintang-bintang </emoji> This event will take place on : <emoji> 🗓 ️ </emoji> Friday , <date> <emoji> jam loceng </emoji> <number> - End <emoji> pusingan pusingan pusingan </emoji> <allcaps> ITL </allcaps> Trisakti Jakarta <emoji> pautan </emoji> <url> <url>',\n",
       " 'Guest of Honour <emoji> 🎙 ️ </emoji> Prof . Ts . Dr. Zalizah Awang Long , Deputy President - <allcaps> SDCL </allcaps> Universiti Kuala Lumpur Thank awak Prof . Ts . Dr. Zalizah Awang Long dan semua the directors untuk gracing the ceremony . <url>',\n",
       " 'GMUXWOWJULY2024 <emoji> 🤙 🏼 </emoji> Hey , early birds ! <emoji> matahari dengan muka </emoji> Welcome belakang kepada another exciting edition of Good Morning UniKL Special Edition <allcaps> WOW JULY </allcaps> <number> dengan YBhg. Assoc . Prof . Ir . Dr. Azman bin Senin , President / Chief Executive Officer Universiti Kuala Lumpur ( UniKL ) . <url>',\n",
       " 'Tahniah diucapkan kepada calon <allcaps> STPM </allcaps> <number> yang mendapat keputusan peperiksaan pada hari ini . Jangan tunggu lagi ! Mohon sekarang untuk sertai Universiti Kuala Lumpur <hashtag> #UniKL </hashtag> bagi program Ijazah Sarjana Muda sesi kemasukan Julai dan <date> . <url>',\n",
       " 'Hi Translogician ! Let us join an interesting session dengan guest professors from University Kuala Lumpur Institute of Aviation Technology ( UniKL <allcaps> MIAT </allcaps> ) ! <emoji> 🙌 🏻 </emoji> This event will take place on : <emoji> kalendar air mata </emoji> Friday , <date> <emoji> jam loceng </emoji> <number> - <number> <allcaps> WIB </allcaps> <emoji> Pushpin </emoji> <allcaps> ITL </allcaps> Trisakti Jakarta <url>',\n",
       " '<allcaps> GEORGE TOWN </allcaps> , - YBhg. Tuan Abdul Kahar bin Abdullah telah menerima kunjungan hormat oleh YBrs . Ir . Dr. Mohd Nizam bin Ahmad , Ketua Kampus Universiti Kuala Lumpur ( UniKL ) Cawangan Kulim , Kedah bersama-sama pegawai kanan di Pejabat Setiausaha Kerajaan Negeri Pulau Pinang ( <allcaps> PSUKPP </allcaps> ) <url>',\n",
       " '\" Ketersediaan Mental di dalam Perlawanan \" dan tips persiapan atlit sebelum ke <allcaps> USSC </allcaps> <number> yang berlangsung pada <number> ~ <date> di UniKL <allcaps> MIMET </allcaps> , Lumut , Perak <emoji> trofi </emoji> Universiti Kuala Lumpur berterima kasih kepada kedua-dua bekas atlit negara kerana sudi ke UniKL khususnya ke <allcaps> MIIT </allcaps> <emoji> wajah tersenyum dengan cermin mata hitam </emoji> <url>',\n",
       " 'Sorotan Hari Anugerah Pendidik <allcaps> MARA </allcaps> <number> yang diadakan di Hotel Premiera Kuala Lumpur <emoji> topi pengijazahan </emoji> Penghargaan khas buat pendidik-pendidik cemerlang yang telah menyumbang kepada kecemerlangan pendidikan <allcaps> MARA </allcaps> dan negara . <url>',\n",
       " 'Hari Anugerah Pendidik <allcaps> MARA </allcaps> <number> <emoji> topi pengijazahan </emoji> Universiti Kuala Lumpur berbangga ke atas kejayaan UniKL Business School ( <allcaps> UBIS </allcaps> ) dan <number> tenaga pengajar di mana masing-masing telah merangkul <number> anugerah semasa Hari Anugerah Pendidik <allcaps> MARA </allcaps> <number> <emoji> trofi </emoji> <url>',\n",
       " 'YB Tuan Ng Sze Han ke UniKL <allcaps> MIDI </allcaps> <emoji> Monorel </emoji> Gambar sekitar Kunjungan industri YB Tuan Ng Sze Han , Exco Pelaburan , Perdagangan dan Mobiliti Negeri Selangor ke Universiti Kuala Lumpur Malaysia Italy Design Institute dan Universiti Kuala Lumpur Asia Rail Centre pada hari ini <date> , Selasa <url>',\n",
       " '<allcaps> DYTM RAJA MUDA SELANGOR MENCEMAR DULI MELAWAT UNIKL MIAT SUBANG </allcaps> Duli Yang Teramat Mulia Raja Muda Selangor , Tengku Amir Shah Ibni Sultan Sharafuddin Idris Shah Alhaj berkenan mencemar duli melawat Universiti Kuala Lumpur ( UniKL <allcaps> MIAT </allcaps> ) Kampus Subang <url>',\n",
       " 'Kami di Universiti Kuala Lumpur berasa amat gembira dengan keberangkatan Tuanku Raja Muda Selangor ke UniKL <allcaps> MIAT </allcaps> ( Kampus Subang ) <emoji> \\U0001faf6 🏻 </emoji> <hashtag> #WeAreUniKL </hashtag> <hashtag> #UniversitiKualaLumpur </hashtag> <hashtag> #UniKL </hashtag> <hashtag> #Royal </hashtag> <hashtag> #Selangor </hashtag> <hashtag> #RMS </hashtag> <hashtag> #UniKLnProud </hashtag> <hashtag> #UniKLDNA </hashtag> <hashtag> #KKDW </hashtag> <hashtag> #MARA </hashtag> <hashtag> #MaraCorpGroup </hashtag> <hashtag> #MalaysiaMadani </hashtag> <url>',\n",
       " '<allcaps> UNIVERSITI KUALA LUMPUR MALAYSIAN INSTITUTE OF AVIATION TECHNOLOGY </allcaps> ( <allcaps> KAMPUS SUBANG </allcaps> ) <allcaps> PADA HARI RABU </allcaps> <number> <allcaps> JUN </allcaps> <number> <allcaps> BERSAMAAN </allcaps> <number> <allcaps> ZULHIJJAH </allcaps> 1445H <hashtag> #WeAreUniKL </hashtag> <hashtag> #UniversitiKualaLumpur </hashtag> <hashtag> #UniKL </hashtag> <hashtag> #Royal </hashtag> <hashtag> #Selangor </hashtag> <hashtag> #RMS </hashtag> <hashtag> #UniKLnProud </hashtag> <hashtag> #UniKLDNA </hashtag> <hashtag> #KKDW </hashtag> <hashtag> #MARA </hashtag> <hashtag> #MaraCorpGroup </hashtag> <hashtag> #MalaysiaMadani </hashtag>',\n",
       " 'Selamat Hari Raya Aidiladha <emoji> lembu </emoji> <emoji> berkilau </emoji> Semoga ibadah korban kita kali ini dapat dilakukan dengan sempurna dan diberkati . Semoga segala ibadah yang dikerjakan diterima Allah S.W.T. Ikhlas dari kami warga Universiti Kuala Lumpur ! <emoji> berkilau </emoji> <url>',\n",
       " \"Happy Father's Day <emoji> orang tua </emoji> <emoji> lelaki </emoji> <emoji> berkilau </emoji> Celebrating the unwavering strength and guidance of fathers everywhere . Happy Father's Day from Universiti Kuala Lumpur ! <hashtag> #UniversitiKualaLumpur </hashtag> <hashtag> #UniKL </hashtag> <hashtag> #UniKLnProud </hashtag> <hashtag> #UniKLDNA </hashtag> <hashtag> #WeAreUniKL </hashtag> <hashtag> #KKDW </hashtag> <hashtag> #MaraCorp </hashtag> <hashtag> #MARA </hashtag> <hashtag> #MalaysiaMadani </hashtag> <url>\",\n",
       " 'Congratulations Universiti Kuala Lumpur ( UniKL ) as <number> of its campuses obtained more tahan <percent> Graduate Employability Rate akhir year . <url>',\n",
       " 'So , wait no more let us join us pada Universiti Kuala Lumpur <url> <emoji> topi pengijazahan </emoji> Shape awak future and awak career path <emoji> 👨 🏼 \\u200d topi pengijazahan </emoji> <emoji> 🧑 🏼 \\u200d topi pengijazahan </emoji> <hashtag> #WeAreUniKL </hashtag> <hashtag> #UniKL </hashtag> <hashtag> #GraduateEmployabilityRate </hashtag> <hashtag> #GE </hashtag> <hashtag> #TopTwenty </hashtag> <hashtag> #UniKLnProud </hashtag> <hashtag> #UniKLDNA </hashtag> <hashtag> #KKDW </hashtag> <hashtag> #MARA </hashtag> <hashtag> #MaraCorpGroup </hashtag> <hashtag> #MalaysiaMadani </hashtag> <url>',\n",
       " \"Turut serta Perdana Menteri dan Menteri Kewangan , <allcaps> YAB </allcaps> Dato' Seri Anwar Ibrahim , Timbalan Perdana Menteri dan Menteri Kemajuan Desa dan Wilayah , <allcaps> YAB </allcaps> Dato' Seri Dr. Ahmad Zahid Hamidi dan Presiden / Ketua Pegawai Eksekutif Universiti Kuala Lumpur , YBhg. Prof . Madya Ir . Dr. Azman Senin . <url>\",\n",
       " 'Majlis Menandatangani Surat Niat ( <allcaps> LOI </allcaps> ) antara Universiti Kuala Lumpur ( UniKL ) dan Government-Industry <allcaps> TVET </allcaps> Coordination Body ( <allcaps> GITC </allcaps> ) <emoji> jabat tangan </emoji> Gambar sekitar Majlis Menandatangani Surat Niat ( <allcaps> LOI </allcaps> ) antara ( UniKL ) dan ( <allcaps> GITC </allcaps> ) pada <date> ( Sabtu ) di ( <allcaps> ILP </allcaps> ) Kuala Langat . <url>',\n",
       " 'Hai semua ! Kami adalah pelajar tahun akhir dari program Sarjana Muda Sains Kejururawatan ( Kepujian ) di Universiti Kuala Lumpur Royal College of Medicine Perak ( UniKL <allcaps> RCMP </allcaps> ) . Sebagai sebahagian daripada subjek Metodologi Penyelidikan Profesional kami , kami sedang menjalankan kajian',\n",
       " 'Disebalik tabir siaran langsung Biz Malaysia <allcaps> RTM </allcaps> <emoji> kamera filem </emoji> Topik yang dibawakan hari ini ialah \" Menjayakan Pemerkasaan <allcaps> TVET </allcaps> \" bersama Prof . Madya Ir . Dr. Azman Senin , Presiden / Ketua Pegawai Eksekutif Universiti Kuala Lumpur ( UniKL ) di Angkasapuri , <allcaps> RTM </allcaps> <emoji> televisyen </emoji> <url>',\n",
       " 'Menjayakan Pemerkasaan <allcaps> TVET </allcaps> <emoji> topi pengijazahan </emoji> <emoji> berkilau </emoji> Saksikan Prof . Madya IR . Dr. Azman Senin , Presiden / Ketua Pegawai Eksekutif Universiti Kuala Lumpur ( UniKL ) Saksikan pada : <emoji> 🗓 ️ </emoji> Selasa , <date> <emoji> jam loceng </emoji> <time> <emoji> televisyen </emoji> <allcaps> RTM TV </allcaps> <number> <url>',\n",
       " 'Sekitar Program Tangggungjawab Sosial Korporat ( <allcaps> CSR </allcaps> ) . Terima kasih kepada <number> pelajar dan tenaga pengajar UniKL telah menjayakan aktiviti gotong-royong membersihkan persekitaran Kuala Lumpur Sports City di pinggiran Sungai Kuyoh . <url>',\n",
       " '<number> . Tunku Abdul Rahman University of Management and Technology ( <allcaps> TAR UMT </allcaps> ) <number> . Universiti Kebangsaan Malaysia ( <allcaps> UKM </allcaps> ) <number> . Universiti Kuala Lumpur ( UniKL ) <number> . Universiti Poly-Tech Malaysia ( <allcaps> UPTM </allcaps> ) <number> . Universiti Utara Malaysia ( <allcaps> UUM </allcaps> ) <number> . Universiti Teknologi Malaysia ( <allcaps> UTM </allcaps> )',\n",
       " 'pada <date> Bersamaan <number> Zulkaedah 1445H sembah takzim daripada : Lembaga Pengarah , Pengurusan , Warga Kerja , Alumni dan Mahasiswa Universiti Kuala Lumpur <hashtag> #WeAreUniKL </hashtag> <hashtag> #UniKL </hashtag> <hashtag> #UniKLDNA </hashtag> <hashtag> #UniKLnProud </hashtag> <hashtag> #KKDW </hashtag> <hashtag> #MARA </hashtag> <hashtag> #MARACorpGroup </hashtag>',\n",
       " 'Karnival <allcaps> IPMA </allcaps> <number> <emoji> topi pengijazahan </emoji> Terima kasih kepada semua pengunjung yang serbu booth UniKL di <number> buah negeri iaitu di Kuala Lumpur , Perak dan Kedah untuk bertanyakan soalan tentang UniKL dan terus apply masuk ke UniKL <number> Kampus <emoji> wajah tersenyum dengan cermin mata hitam </emoji> <emoji> topi pengijazahan </emoji> Jumpa lagi anda semua pada minggu hadapan <emoji> 💪 🏼 </emoji> <url>',\n",
       " 'Universiti Kuala Lumpur - Malaysian Institute of Chemical and Bioengineering Technology ( UniKL <allcaps> MICET </allcaps> ) will jadi organizing an event namely <allcaps> SPM </allcaps> F1 Camp as their assessment untuk the <allcaps> SPM </allcaps> candidates , virtually . <url>',\n",
       " 'Karnival <allcaps> IPMA </allcaps> <number> <emoji> topi pengijazahan </emoji> Live Update <emoji> ‼ ️ </emoji> di Ibu Pejabat <allcaps> MARA </allcaps> dan Busana <allcaps> MARA </allcaps> , Kuala Lumpur sampai jam <number> Petang ini sahaja <emoji> pusingan pusingan pusingan </emoji> Jangan lepaskan peluang ini ! Jumpa kami di lokasi , ataupun layari <url> <emoji> berkilau </emoji> <url>',\n",
       " 'Karnival <allcaps> IPMA </allcaps> <number> <emoji> topi pengijazahan </emoji> Suasana di Ibu Pejabat <allcaps> MARA </allcaps> dan Busana <allcaps> MARA </allcaps> , Kuala Lumpur <emoji> bangunan pejabat </emoji> Jangan lepaskan peluang ini ! Jumpa kami di lokasi , ataupun layari <url> <emoji> berkilau </emoji> <hashtag> #WeAreUniKL </hashtag> <hashtag> #UniversitiKualaLumpur </hashtag> <hashtag> #UniKL </hashtag> <hashtag> #KarnivalIPMA </hashtag> <hashtag> #TVETMARA </hashtag> <hashtag> #SPM2023 </hashtag> <hashtag> #KIPMA2024 </hashtag> <url>',\n",
       " '<emoji> pusingan pusingan pusingan </emoji> Lokasi : Ibu Pejabat <allcaps> MARA </allcaps> dan Busana <allcaps> MARA </allcaps> , Kuala Lumpur <emoji> jam loceng </emoji> Masa : <time> hingga <time> <emoji> pusingan pusingan pusingan </emoji> Lokasi : Aman Central , Alor Setar , Kedah <emoji> pusingan pusingan pusingan </emoji> Lokasi : Angsana Ipoh Mall , Ipoh <emoji> jam loceng </emoji> Masa : <time> hingga <time> <url>',\n",
       " 'Karnival <allcaps> IPMA </allcaps> <number> <emoji> topi pengijazahan </emoji> Jangan lupa temujanji anda bersama dengan UniKL pada minggu ini di <number> Negeri secara serentak iaitu Kuala Lumpur , Perak dan Kedah . Dapatkan pelbagai informasi tentang UniKL di Karnival Pendidikan <allcaps> MARA </allcaps> <number> . <emoji> 🗓 ️ </emoji> Tarikh : <number> dan <date> ( Sabtu dan Ahad ) <url>',\n",
       " 'Seterusnya , saya menyaksikan Universiti Kuala Lumpur ( UniKL ) menjalin Perjanjian Persefahaman dengan rakan-rakan strategik dari China . Ini merupakan satu langkah penting dalam memperkukuh komitmen UniKL dalam bidang Pendidikan Teknikal dan Vokasional ( <allcaps> TVET </allcaps> ) . Perkongsian dengan institusi di China ini akan membuka peluang kepada pelajar UniKL untuk mendapatkan pengalaman praktikal yang berharga serta memperluaskan jaringan di peringkat antarabangsa . Ini adalah bukti bahawa UniKL sentiasa berusaha untuk memberikan yang terbaik kepada para pelajarnya , selaras dengan matlamat untuk melahirkan graduan yang kompeten dan berdaya saing di peringkat global . Perjanjian yang ditandatangani ini mencakupi pelbagai bidang seperti pembangunan bakat <allcaps> TVET </allcaps> , inisiatif penyelidikan bersama dan penempatan praktikal . Kerjasama UniKL dengan Universiti Southwest Jiaotong , Universiti Nantong , Liuzhou Railway Vocational and Technical College , serta syarikat inovatif seperti Alibaba Cloud dan <allcaps> KTK DOM </allcaps> adalah satu pencapaian yang sangat membanggakan . Saya yakin bahawa kolaborasi ini akan membawa peluang pertumbuhan dan pembangunan yang signifikan bagi UniKL . Bersama-sama , kita berharap agar kerjasama ini akan membuka peluang-peluang baru dalam bidang pendidikan , teknologi dan inovasi antara Malaysia dan China . <hashtag> #UniKL </hashtag> <hashtag> #TVET </hashtag> <hashtag> #50TahunMalaysiaChina </hashtag>',\n",
       " \"Semoga YBhg. Dato' Sri dan keluarga sentiasa dalam lindungan Allah <allcaps> SWT </allcaps> . Ikhlas daripada Lembaga Pengarah , Pengurusan , Warga Kerja , Alumni dan Mahasiswa Universiti Kuala Lumpur <emoji> hati biru </emoji> <emoji> jantung kuning </emoji> <hashtag> #WeAreUniKL </hashtag> <hashtag> #UniKL </hashtag> <hashtag> #KSU </hashtag> <hashtag> #UniKLnProud </hashtag> <hashtag> #UniKLDNA </hashtag> <hashtag> #KKDW </hashtag> <hashtag> #MARA </hashtag> <hashtag> #MaraCorpGroup </hashtag> <hashtag> #MalaysiaMadani </hashtag>\",\n",
       " \"Selamat Bersara <emoji> 🤝 🏻 </emoji> Universiti Kuala Lumpur ( UniKL ) mengucapkan selamat bersara kepada YBhg. Dato' Sri Ramlan bin Dato' Harun , Ketua Setiausaha Kementerian Kemajuan Desa dan Wilayah . <url>\",\n",
       " 'Jom Masuk U <number> diteruskan lagi untuk minggu ke - <number> <repeated> ! </repeated> Jom temui Universiti Kuala Lumpur <hashtag> #UniKL </hashtag> di lokasi seterusnya Jom Masuk U <number> di Zon Timur <number> dan Zon Utara , anjuran Kementerian Pendidikan Tinggi ( <allcaps> KPT </allcaps> ) . <url>',\n",
       " 'Setelah pertemuan yang konstruktif dengan pengurusan tertinggi Huawei , siri lawatan ke Huawei diteruskan dengan acara kemuncak dengan menyaksikan sesi menandatangani Memorandum Persefahaman ( <allcaps> MOU </allcaps> ) antara Universiti Kuala Lumpur ( UniKL ) dan Huawei . Sebagai Pengerusi Jawatankuasa Pengurusan Bencana Pusat , saya melihat kerjasama strategik melalui pemeteraian <allcaps> MOU </allcaps> ini penting bagi memperkasa Sistem Kawalan Pengurusan Bencana disamping dapat memudahkan urusan pertukaran maklumat akademik dan penyelidikan . Selain itu , <allcaps> MOU </allcaps> ini juga merangkumi hasrat bagi penubuhan Pusat Pengendalian Pintar Huawei di Kampus UniKL <allcaps> BMI </allcaps> yang akan menjadi teras kolaborasi dalam bidang penyelidikan dan pembangunan ( R dan D ) . Pusat ini juga dapat menyediakan peluang latihan dan kursus pendek yang diiktiraf untuk manfaat pelajar UniKL dan seluruh masyarakat . Besar harapan saya agar langkah proaktif yang diambil pada hari ini akan membawa impak yang positif kepada kemajuan dan kemakmuran negara . Saya juga yakin bahawa <allcaps> MOU </allcaps> ini dapat menjadi pemangkin kepada inovasi yang berterusan dan kemajuan yang mampan untuk manfaat industri dan bidang pendidikan tempatan . <hashtag> #UniKL </hashtag> <hashtag> #Huawei </hashtag> <hashtag> #MalaysiaChina </hashtag>',\n",
       " 'We extend our gratitude kepada semua the Malaysian higher education institutions itu participated in this event . Including <number> . Universiti Kebangsaan Malaysia ( <allcaps> UKM </allcaps> ) <number> . Asia Pacific University of Technology dan Innovation ( <allcaps> APU </allcaps> ) <number> . Universiti Kuala Lumpur ( <allcaps> UNIKL </allcaps> )',\n",
       " \"Program Khidmat Komuniti Madani UniKL <number> <emoji> berkilau </emoji> Video Highlight Penutup Program Khidmat Komuniti Madani UniKL <number> bersama YB Dato' Sri Sh Mohmed Puzi Bin Sh Ali , Ahli Parlimen Pekan / Pengerusi Universiti Kuala Lumpur di Dewan Utama <allcaps> MRSM </allcaps> Tun Abdul Razak , Pekan , Pahang <emoji> kamera filem </emoji> <url>\",\n",
       " \"Program Khidmat Komuniti Madani UniKL <number> <emoji> berkilau </emoji> Gambar sepanjang Penutup Program Khidmat Komuniti Madani UniKL <number> bersama YB Dato' Sri Sh Mohmed Puzi Bin Sh Ali , Ahli Parlimen Pekan / Pengerusi Universiti Kuala Lumpur di Dewan Utama <allcaps> MRSM </allcaps> Tun Abdul Razak , Pekan , Pahang <emoji> wajah tersenyum dengan mata tersenyum </emoji> <url>\",\n",
       " 'Jom Masuk U <number> diteruskan lagi <repeated> ! </repeated> Jom temui Universiti Kuala Lumpur <hashtag> #UniKL </hashtag> di lokasi seterusnya Jom Masuk U <number> di Zon Sarawak <number> dan Zon Sabah <number> , anjuran Kementerian Pendidikan Tinggi ( <allcaps> KPT </allcaps> ) . <url>',\n",
       " 'Jom Masuk U <number> diteruskan lagi <repeated> ! </repeated> Jom temui Universiti Kuala Lumpur <hashtag> #UniKL </hashtag> di lokasi seterusnya Jom Masuk U <number> di Zon Sarawak <number> dan Zon Sabah <number> , anjuran Kementerian Pendidikan Tinggi ( <allcaps> KPT </allcaps> ) . <url>',\n",
       " 'Date dan Location <emoji> kalendar air mata </emoji> June <number> - <number> , <number> <emoji> bangunan pejabat </emoji> Universiti Kuala Lumpur Institute of Medical Science Technology , A1 - <number> , Jln <allcaps> TKS </allcaps> <number> , Taman Kajang Sentral , <number> Kajang , Selangor <emoji> Berlian biru kecil </emoji> Register Today <url> <emoji> penerima telefon </emoji> Whatsapp <phone> untuk registration assistance !',\n",
       " 'Sincerely from Universiti Kuala Lumpur Institute of Medical Science Technology ( UniKL <allcaps> MESTECH </allcaps> ) <emoji> wajah berseri dengan mata tersenyum </emoji> <hashtag> #UniversitiKualaLumpur </hashtag> <hashtag> #UniKL </hashtag> <hashtag> #UniKLnProud </hashtag> <hashtag> #UniKLDNA </hashtag> <hashtag> #WeAreUniKL </hashtag> <hashtag> #KKDW </hashtag> <hashtag> #MaraCorp </hashtag> <hashtag> #MARA </hashtag> <hashtag> #MalaysiaMadani </hashtag> <hashtag> #UniKLMESTECH </hashtag> <hashtag> #alliedhealthsciences </hashtag>',\n",
       " \"Happy Teacher's Day ! <emoji> 👩 \\u200d 🏫 </emoji> <emoji> 👨 \\u200d 🏫 </emoji> <emoji> 🧑 \\u200d 🏫 </emoji> Honoring the heroes who inspire , mendidik , and shape our future . Your dedication and passion transform lives and ignite the spark of curiosity in every pelajar . <emoji> budak lelaki </emoji> <emoji> kanak -kanak </emoji> Sincerely , Universiti Kuala Lumpur <emoji> wajah berseri dengan mata tersenyum </emoji> <url>\",\n",
       " '<allcaps> MOU </allcaps> UniKL dan <allcaps> JPK </allcaps> <emoji> memo </emoji> Gambar di sekitar Majlis menandatangani memorandum persefahaman antara Universiti Kuala Lumpur dan Jabatan Pembangunan Kemahiran pada hari Isnin <date> yang bertempat di Dewan Bankuet Aras <number> , UniKL Kampus Kota <emoji> bangunan pejabat </emoji> <url>',\n",
       " '<allcaps> JAWATAN KOSONG UNIVERSITI KUALA LUMPUR </allcaps> ( <allcaps> UNIKL </allcaps> ) - <number> <allcaps> JUN </allcaps> <number> Sila rujuk iklan jawatan dan baca syarat kelayakan terlebih dahulu sebelum memohon melalui pautan di bawah : <allcaps> UNIKL </allcaps> <url> <url>',\n",
       " 'bertempat di Hall <number> , Booth ( Zodiac Milpro Asia ) , Malaysia International Trade and Exhibition Centre ( <allcaps> MITEC </allcaps> ) Dutamas , Kuala Lumpur <emoji> Anchor </emoji> Semoga <allcaps> MOA </allcaps> di antara <allcaps> URSB </allcaps> dan <allcaps> REDS </allcaps> memberi impak yang besar kepada UniKL dan Negara <emoji> 🇲 🇾 </emoji> <hashtag> #WeAreUniKL </hashtag> <hashtag> #UniKL </hashtag> <hashtag> #MITEC </hashtag> <hashtag> #URSB </hashtag> <hashtag> #REDS </hashtag> <url>',\n",
       " 'Global Turbine Asia Sdn Bhd ( <allcaps> GTA </allcaps> ) , Armed Forces Fund Board Foundation ( <allcaps> YLTAT </allcaps> ) and Universiti Kuala Lumpur ( UniKL ) yesterday forged a collaboration kepada strengthen the sustainability of education and skills training untuk children of Malaysian Armed Forces ( <allcaps> MAF </allcaps> ) personnel and veterans',\n",
       " 'Highlights of Universiti Kuala Lumpur sealing its pertama Letter of Intent dengan Kemalak Aerospace Sdn. Bhd. ( <allcaps> KASB </allcaps> ) , followed dengan securing kedua Letter of Intent dengan Global Turbine Asia and Yayasan Lembaga Tabung Angkatan Tentera , during <allcaps> DSA </allcaps> dan <allcaps> NASTEC </allcaps> <number> pada <allcaps> MITEC </allcaps> , Kuala Lumpur . <url>',\n",
       " 'Bersempena pameran <allcaps> DSA </allcaps> dan <allcaps> NATSEC </allcaps> Asia <number> , Global Turbine Asia San Bhd ( <allcaps> GTA </allcaps> ) , Yayasan Lembaga Tabung Angkatan Tentera ( <allcaps> YLTAT </allcaps> ) , dan Universiti Kuala Lumpur ( UniKL ) telah menandatangani satu Surat Hasrat ( Letter of Intent ) untuk mewujudkan kerjasama selama dua tahun bermula tahun ini . <number> / <number>',\n",
       " \"Selamat Ulang Tahun kepada YBhg. Dato' Luqman bin Ahmad , Timbalan Ketua Setiausaha ( Makro ) Kementerian Ekonomi dan Ahli Lembaga Pengarah Universiti Kuala Lumpur . Semoga Allah memberkati perkhidmatan dan terima kasih atas sumbangan dari semua pihak . <hashtag> #WeAreUniKL </hashtag> <hashtag> #UniKLProud </hashtag> <url>\",\n",
       " 'Jom Masuk U <number> <repeated> ! </repeated> Jom temui Universiti Kuala Lumpur <hashtag> #UniKL </hashtag> di lokasi pertama Jom Masuk U <number> Zon Tengah <number> , anjuran Kementerian Pendidikan Tinggi ( <allcaps> KPT </allcaps> ) . <hashtag> #JomMasukU </hashtag> <hashtag> #JomMasukU2024 </hashtag> <hashtag> #WeAreUniKL </hashtag> <hashtag> #UniversitiKualaLumpur </hashtag> <hashtag> #UniKLnProud </hashtag> <hashtag> #UniKLDNA </hashtag> <hashtag> #JoinUniKLToday </hashtag> <url>',\n",
       " '( <number> / <number> ) <allcaps> GLU </allcaps> consists of <number> universities ; Multimedia University ( <allcaps> MMU </allcaps> ) , Universiti Tenaga Nasional ( <allcaps> UNITEN </allcaps> ) , Universiti Teknologi Petronas ( <allcaps> UTP </allcaps> ) , and Universiti Kuala Lumpur ( UniKL ) .',\n",
       " 'Selamat Menyambut Hari Pekerja <emoji> pekerja pembinaan </emoji> <emoji> 👩 \\u200d 💼 </emoji> <emoji> 🧑 \\u200d 💼 </emoji> Selamat Menyambut Hari Pekerja dari keluarga Universiti Kuala Lumpur ! <emoji> Popper Parti </emoji> Terima kasih atas dedikasi dan semangat anda dalam setiap tugas . Biar hari ini mengingatkan kita akan peranan penting kita dalam membentuk masa depan yang lebih baik . <url>',\n",
       " 'Selamat Menyambut Hari Pekerja <emoji> pekerja pembinaan </emoji> <emoji> 👩 \\u200d 💼 </emoji> <emoji> 🧑 \\u200d 💼 </emoji> Selamat Menyambut Hari Pekerja dari keluarga Universiti Kuala Lumpur ! <emoji> Popper Parti </emoji> Terima kasih atas dedikasi dan semangat anda dalam setiap tugas . Biar hari ini mengingatkan kita akan peranan penting kita dalam membentuk masa depan yang lebih baik . <url>',\n",
       " '<allcaps> CALL FOR EXHIBITION </allcaps> ( AIREx10th ) Research and Innovation Section of UniKL <allcaps> MIMET </allcaps> will jadi organizing the 10th Apprentice Innovation Research Exhibition ( AIREx ) , <number> . <emoji> Globe dengan meridian </emoji> Date : 6th <date> <emoji> Globe dengan meridian </emoji> Venue : UniKL <allcaps> MIMET </allcaps> , Perak . <emoji> Globe dengan meridian </emoji> Theme : \" <allcaps> WHERE FOSTERING INNOVATIONS ARE SUSTAINED </allcaps> \" <url>',\n",
       " \"Selamat Ulang Tahun <emoji> wajah tersenyum dengan cermin mata hitam </emoji> Selamat Menyambut Ulang Tahun Kelahiran kepada YB Dato' Sri SH Mohamed Puzi bin SH Ali , Pengerusi dan Pro Canselor Universiti Kuala Lumpur , pada hari Sabtu , <date> <emoji> berkilau </emoji> Ucapan ikhlas dari Lembaga Pengarah , Pengurusan , Warga Kerja , Alumni , dan Mahasiswa <url>\",\n",
       " \"Tahniah <emoji> beg bimbit </emoji> Sekalung tahniah diucapkan kepada Yang Berbahagia Dato' Amir Azhar Bin Ibrahim di atas pelantikan sebagai Pemangku Ketua Pegawai Eksekutif Kumpulan <allcaps> MARA </allcaps> Corporation. Ucapan tulus ikhlas ini daripada seluruh Warga Universiti Kuala Lumpur . <url>\",\n",
       " \"Terima Kasih <emoji> berkilau </emoji> Setinggi-tinggi penghargaan dan terima kasih kepada Yang Berbahagia Dato' Julainie Bin Mohd Salleh di atas sumbangan yang dicurahkan sebagai Ketua Pegawai Eksekutif Kumpulan <allcaps> MARA </allcaps> Corporation. Ucapan ikhlas ini daripada Warga Universiti Kuala Lumpur . <url>\",\n",
       " 'Visitation from <allcaps> TKP </allcaps> ( PB ) <allcaps> NADMA </allcaps> kepada University Kuala Lumpur Malaysian Institute of Marine Engineering Technology ( UniKL <allcaps> MIMET </allcaps> ) . A productive discourse was held regarding the construction of boats untuk individuals affected dengan flooding , facilitated dengan <allcaps> NADMA </allcaps> , and the implementation of training programs aimed pada ensuring the adequate maintenance of these vessels . We express our sincere gratitude kepada Associate Professor Dr. Salwani untuk facilitating the connection between <allcaps> NADMA </allcaps> and the educational campuses . <hashtag> #WeAreUniKL </hashtag> <hashtag> #UniversitiKualaLumpur </hashtag> <hashtag> #UniKL </hashtag> <hashtag> #UniKLDNA </hashtag> <hashtag> #UniKLnProud </hashtag> <hashtag> #MalaysiaMadani </hashtag> <hashtag> #MerakyatkanMARA </hashtag>',\n",
       " \"Universiti Tunku Abdul Rahman ( <allcaps> UTAR </allcaps> ) Universiti Kuala Lumpur ( UniKL ) <allcaps> UCSI </allcaps> University Taylor's University Sunway University SEGi University Asia Pacific University of Technology and Innovation ( <allcaps> APU </allcaps> ) Infrastructure University Kuala Lumpur ( <allcaps> IUKL </allcaps> ) <allcaps> MAHSA </allcaps> City University Malaysia\",\n",
       " 'UniKL Harmoni Syawal <emoji> berkilau </emoji> Universiti Kuala Lumpur extends warm wishes untuk a joyous Selamat Hari Raya Aidilfitri ! May this festive occasion overflow dengan joy , happiness , and love as we mark the culmination of Ramadan . Let us seize this moment kepada deepen connections dengan keluarga , friends , and the community . May forgiveness , unity , and compassion abound as we embrace the spirit of the season . May Allah shower us dengan prosperity , baik health , and happiness . Maaf Zahir dan Batin from everyone pada Universiti Kuala Lumpur . Selamat Hari Raya ! <emoji> berkilau </emoji> <emoji> bulan Sabit </emoji> New intake in progress visit <url> kepada know more on the programmes of awak interest . <hashtag> #WeAreUniKL </hashtag> <hashtag> #UniversitiKualaLumpur </hashtag> <hashtag> #UniKL </hashtag> <hashtag> #UniKLnProud </hashtag> <hashtag> #UniKLDNA </hashtag> <hashtag> #UniKLRaya </hashtag> <hashtag> #UniKL </hashtag> HarmoniSyawal <hashtag> #Raya2024 </hashtag> <hashtag> #Syawal </hashtag> <hashtag> #KKDW </hashtag> <hashtag> #MaraCorp </hashtag> <hashtag> #MARA </hashtag> <hashtag> #MalaysiaMadani </hashtag>',\n",
       " 'UniKL Harmoni Syawal <emoji> berkilau </emoji> Universiti Kuala Lumpur extends warm wishes untuk a joyous Selamat Hari Raya Aidilfitri ! May this festive occasion overflow dengan joy , happiness , and love as we mark the culmination of Ramadan . Let us seize this moment kepada deepen connections dengan keluarga , friends , and the community . May forgiveness , unity , and compassion abound as we embrace the spirit of the season . May Allah shower us dengan prosperity , baik health , and happiness . Maaf Zahir dan Batin from everyone pada Universiti Kuala Lumpur . Selamat Hari Raya ! <emoji> berkilau </emoji> <emoji> bulan Sabit </emoji> New intake in progress visit <url> kepada know more on the programmes of awak interest . <hashtag> #WeAreUniKL </hashtag> <hashtag> #UniversitiKualaLumpur </hashtag> <hashtag> #UniKL </hashtag> <hashtag> #UniKLnProud </hashtag> <hashtag> #UniKLDNA </hashtag> <hashtag> #UniKLRaya </hashtag> <hashtag> #UniKL </hashtag> HarmoniSyawal <hashtag> #Raya2024 </hashtag> <hashtag> #Syawal </hashtag> <hashtag> #KKDW </hashtag> <hashtag> #MaraCorp </hashtag> <hashtag> #MARA </hashtag> <hashtag> #MalaysiaMadani </hashtag>',\n",
       " 'Universiti Kuala Lumpur mempersembahkan <emoji> Lembaga Clapper </emoji> \" Tapi , Sayang Tidak ! \" Setiap titik coretan ini menceritakan lebih dari sekadar kisah biasa . Ia adalah pengakuan atas kekuatan dan ketabahan seorang isteri yang menghadapi asam garam kehidupan bersama suaminya . Jom saksikan kisah ini , yang penuh dengan inspirasi dan pengajaran . Jangan lupa komen dibawah selepas anda menonton Video ini <emoji> 👇 🏼 </emoji> <emoji> Menangis wajah </emoji> <hashtag> #Syawal </hashtag> <hashtag> #HariRayaAidilfitri </hashtag> <hashtag> #UniKLHarmoniSyawal </hashtag> <hashtag> #HarmoniSyawal </hashtag> <hashtag> #WeAreUniKL </hashtag> <hashtag> #UniversitiKualaLumpur </hashtag> <hashtag> #UniKL </hashtag> <hashtag> #TapiSayangTidak </hashtag> <hashtag> #IklanRaya </hashtag> <hashtag> #UniKLDNA </hashtag> <hashtag> #UniKLnProud </hashtag> <hashtag> #KKDW </hashtag> <hashtag> #MajlisAmanahRakyat </hashtag> <hashtag> #MARACorpGroup </hashtag>',\n",
       " 'Tahniah <emoji> beg bimbit </emoji> Sekalung tahniah diucapkan kepada YBrs . Encik Mohamad Rafi Bin Shahzada di atas pelantikan sebagai Pengerusi <allcaps> MARA </allcaps> Corporation Sdn Bhd. Ucapan Tulus ikhlas ini daripada Lembaga Pengarah , Pengurusan , Warga Kerja , Alumni dan Mahasiswa Universiti Kuala Lumpur . <hashtag> #WeAreUniKL </hashtag> <hashtag> #UniversitiKualaLumpur </hashtag> <hashtag> #UniKL </hashtag> <hashtag> #UniKLnProud </hashtag> <hashtag> #UniKLDNA </hashtag> <hashtag> #KKDW </hashtag> <hashtag> #MARA </hashtag> <hashtag> #MaraCorpGroup </hashtag>',\n",
       " 'Check out this sneak peek into the Hydrodynamics Wave Tank Testing Center pada UniKL <allcaps> MIMET </allcaps> <emoji> berkilau </emoji> <emoji> Anchor </emoji> ️ <hashtag> #uniklmimet </hashtag> <hashtag> #uniklmarine </hashtag> <hashtag> #lumutcampus </hashtag> <hashtag> #marineengineering </hashtag> <hashtag> #offshoreengineering </hashtag> <hashtag> #navalarchitecture </hashtag> <hashtag> #maritimemanagement </hashtag> <hashtag> #marineelectrical </hashtag> <hashtag> #marineelectronics </hashtag> <hashtag> #electrictechnicalofficer </hashtag> <url>',\n",
       " 'Tahniah diucapkan kepada calon-calon lepasan Sijil Tinggi Agama Malaysia ( <allcaps> STAM </allcaps> ) yang menerima keputusan peperiksaan pada hari ini . Jangan lepaskan peluang ini <repeated> ! </repeated> Jom sertai Ijazah Sarjana Muda di Universiti Kuala Lumpur <hashtag> #UniKL </hashtag> bagi sesi kemasukan Julai atau <date> . Permohonan sudah dibuka <repeated> ! </repeated> Pautan permohonan atas talian <emoji> indeks backhand menunjuk ke kanan </emoji> <url> Senarai program yang ditawarkan <emoji> indeks backhand menunjuk ke kanan </emoji> <url> Maklumat lanjut mengenai kemasukan ke UniKL , hubungi kami : <emoji> telefon </emoji> : <number> <number> <number> atau <number> - <number> <emoji> telefon bimbit </emoji> : <number> - <number> ( <url> atau <number> - <number> ( <url> <emoji> komputer riba </emoji> : <email> <hashtag> #STAM </hashtag> <hashtag> #STAM2023 </hashtag> <hashtag> #JomMasukUniKL </hashtag> <hashtag> #JomMasukU </hashtag> <hashtag> #MeSRAUniKL </hashtag> <hashtag> #WeAreUniKL </hashtag> <hashtag> #UniKLDNA </hashtag> <hashtag> #UniKLnProud </hashtag> <hashtag> #UniKLMilikMARA </hashtag> <hashtag> #AsasiUniKL </hashtag> <hashtag> #DiplomaUniKL </hashtag> <hashtag> #BachelorUniKL </hashtag>',\n",
       " '<allcaps> CALL FOR EXHIBITION </allcaps> ( AIREx10th ) Research and Innovation Section of UniKL <allcaps> MIMET </allcaps> will jadi organizing the 10th Apprentice Innovation Research Exhibition ( AIREx ) , <number> . <emoji> Globe dengan meridian </emoji> Date : 6th <date> <emoji> Globe dengan meridian </emoji> Venue : UniKL <allcaps> MIMET </allcaps> , Perak . <emoji> Globe dengan meridian </emoji> Theme : \" <allcaps> WHERE FOSTERING INNOVATIONS ARE SUSTAINED </allcaps> \" <url>',\n",
       " 'Marhaban Ya Ramadan ( MYR4 . <number> ) <number> <emoji> berkilau </emoji> Salam Ramadan diucapkan kepada semua umat Islam di Universiti Kuala Lumpur dan di seluruh dunia . Pada <number> bersamaan 1445H , pihak Jawatankuasa Seksyen Islamik UniKL ( <allcaps> UIS </allcaps> ) , Jawatankuasa Huffaz Profesional UniKL ( <allcaps> HPCC </allcaps> ) dan Pusat Pembangunan Mahasiswa ( <allcaps> CSD </allcaps> ) membawakan program-program terbaik sepanjang bulan ramadan kali ini , antaranya <emoji> 👇 🏼 </emoji> <emoji> berlian oren kecil </emoji> Tadarus Al-Quran dan Infaq Ramadan 1445H <emoji> Berlian biru kecil </emoji> Tazkirah Ramadan <emoji> berlian oren kecil </emoji> 4T : ( Tadarus , Talaqqi , Tahsin , Tadabbur ) <emoji> Berlian biru kecil </emoji> Bubur Lambuk UniKL <emoji> berlian oren kecil </emoji> UniKL Mega Tadarus <emoji> Berlian biru kecil </emoji> Iftar Mega @ UniKL <allcaps> MFI </allcaps> <emoji> berlian oren kecil </emoji> Recording of Eid Takbir @ Each Campus Jadi jangan lupa untuk menyertai kami di semua platform media sosial UniKLPAGE . Selamat berpuasa bersama Universiti Kuala Lumpur <emoji> ☺ ️ </emoji> <hashtag> #WeAreUniKL </hashtag> <hashtag> #UniversitiKualaLumpur </hashtag> <hashtag> #UniKL </hashtag> <hashtag> #RamadanKareem </hashtag> <hashtag> #Ramadan </hashtag> <hashtag> #Ramadan1445H </hashtag> <hashtag> #MarhabanYaRamadan </hashtag> <hashtag> #UniKLnProud </hashtag> <hashtag> #UniKLDNA </hashtag> <hashtag> #KKDW </hashtag> <hashtag> #MARA </hashtag> <hashtag> #MaraCorpGroup </hashtag>',\n",
       " \"UniKL Japan Universities Programme Graduation Ceremony <emoji> topi pengijazahan </emoji> Sabtu | <date> Hotel Tenera , Bangi Sorotan UniKL Japan Universities Programme Graduation Ceremony yang disampaikan oleh YB Dato' Sri Sh Mohmed Puzi bin Sh Ali , Pengerusi dan Pro Canselor Universiti Kuala Lumpur . <url>\",\n",
       " 'UniKL Foundation Appreciation dan Certificate Presentation Ceremony Sesi1 / <number> <emoji> topi pengijazahan </emoji> Jumaat | <date> Grand Ballroom , Aras <number> Premiera Hotel Kuala Lumpur Sorotan UniKL Foundation Appreciation dan Certificate Presentation Ceremony Sesi1 / <number> yang disampaikan oleh YBhg. Prof . Madya . Ir . Dr. Azman bin Senin , Presiden / Ketua Pegawai Eksekutif Universiti Kuala Lumpur .',\n",
       " 'Dive into the Future dengan Universiti Kuala Lumpur ! Join us this weekend pada the Education dan Further Studies Fair Series <number> pada the Mid Valley Exhibition Centre , Kuala Lumpur ! Visit our booth pada Hall <number> , E10 dan E11 , kepada embark on awak journey kepada success ! See awak there ! <url>',\n",
       " \"Empowered women empower women . Happy International Women's Day from Universiti Kuala Lumpur ! <emoji> Biceps flexed </emoji> <emoji> Bilik Wanita </emoji> <hashtag> #WeAreUniKL </hashtag> <hashtag> #UniversitiKualaLumpur </hashtag> <hashtag> #UniKL </hashtag> <hashtag> #UniKLDNA </hashtag> <hashtag> #UniKLnProud </hashtag> <url>\",\n",
       " 'I am pada Universiti Kuala Lumpur British Malaysian Institute ( UniKL <allcaps> BMI </allcaps> ) in Gombak , Selangor <url>',\n",
       " 'Repost from <user> <emoji> api </emoji> Konvensyen Pemerkasaan Undi <number> Institusi Pendidikan Tinggi <emoji> 🗳 ️ </emoji> Kementerian Pendidikan Tinggi dengan kerjasama Majlis Perwakilan Pelajar Universiti Kuala Lumpur akan menganjurkan Konvensyen Pemerkasaan Undi <number> Institusi Pengajian Tinggi pada ketetapan berikut : Tarikh : <number> dan <date> Hari : Sabtu dan Ahad Masa : <time> - <time> Tempat : Universiti Kuala Lumpur Malaysian Institute of Industrial Technology ( UniKL <allcaps> MITEC </allcaps> ) Program ini dianjurkan untuk melahirkan mahasiswa yang prihatin dengan sistem pemerintahan negara yang mempunyai keupayaan dalam menyumbang kepada pembentukan kerajaan yang berdemokrasi dan meningkatkan kesedaran golongan mahasiswa tentang kepentingan untuk menunaikan bertanggungjawab sebagai pengundi . Program ini akan dimeriahkan oleh wakil pelajar dari Universiti Awam , Kolej Komuniti , Universiti Berkaitan Kerajaan Malaysia ( <allcaps> GLU </allcaps> ) , Politeknik dan Universiti Swasta di sekitar Johor . ______________________________________________ Ikuti berita dan maklumat hebahan Konvensyen Pemerkasaan Undi <number> Institusi Pendidikan Tinggi di : Instagram : kpundi18ipt <hashtag> #WeAreUniKL </hashtag> <hashtag> #UniversitiKualaLumpur </hashtag> <hashtag> #UniKL </hashtag> <hashtag> #UniKLMITEC </hashtag> <hashtag> #KPU18 </hashtag> <hashtag> #USRC </hashtag> <hashtag> #Undi18 </hashtag> <hashtag> #UniKLDNA </hashtag> <hashtag> #UniKLnProud </hashtag> <hashtag> #KKDW </hashtag> <hashtag> #MARA </hashtag> <hashtag> #MARACorp </hashtag>',\n",
       " 'Yayasan Selangor menerima kunjungan hormat daripada Universiti Teknikal dan Vokasional Negara Universiti Kuala Lumpur ( UniKL ) . <hashtag> #YayasanSelangor </hashtag> <hashtag> #UniKL </hashtag> <hashtag> #KitaSelangor </hashtag> <hashtag> #MalaysiaMadani </hashtag> <hashtag> #TekadPendidikan </hashtag> <hashtag> #TVET </hashtag> <hashtag> #AdaApaDenganYayasanSelangor </hashtag> <url>',\n",
       " '<allcaps> PERBINCANGAN BERSAMA UNIKL UNTUK PROGRAM COMMUNITY BASED DISASTER RISK MANAGEMENT </allcaps> ( <allcaps> CBDRM </allcaps> ) | <date> | Kuala Lumpur Perbincangan ini bagi mewujudkan platform pendedahan berkenaan dengan Mekanisma Pengurusan Bencana dan cara pelaksanaan <allcaps> CBDRM </allcaps> di kalangan komuniti UniKL . <url>',\n",
       " \"Join us on March <number> , <number> , pada Dewan Khatulistiwa , UniKL <allcaps> MIMET </allcaps> , as we dive into the world of shipping and offshore industries dengan the renowned TikTok influencer , Asnawi Hamdan , in ' Industrial Talk dengan Asnawi Hamdan' ! <url>\",\n",
       " '𝗖𝗘𝗢 𝗔𝗟𝗟 𝗦𝗧𝗔𝗥 VS 𝗠𝗔𝗥𝗔 𝗠𝗔𝗩𝗘𝗥𝗜𝗖𝗞𝗦 𝗙𝗖 <emoji> bolasepak </emoji> Moments semasa perlawanan persahabatan di antara <allcaps> CEO ALL STAR VS MARA MAVERICKS FC </allcaps> yang berjalan secara langsung di Padang Sintetik , Universiti Kuala Lumpur <allcaps> MIAT </allcaps> , Sepang . Perlawanan persahabatan bola sepak yang menemukan pemain dari kalangan Pengurusan dan Subsidiari <allcaps> MARA </allcaps> .',\n",
       " \"Get ready kepada ignite awak future pada Universiti Kuala Lumpur <hashtag> #UniKL </hashtag> ! Applications are officially <allcaps> OPEN </allcaps> untuk the thrilling <number> Intake ! Immerse yourself in the pulse-pounding excitement of joining our exceptional Foundation , Diploma , and Bachelor's Degree Programmes . Are awak eager kepada explore the diverse world of programs offered pada <hashtag> #UniKL </hashtag> ? Dive into the exhilaration dengan clicking the link below untuk semua the electrifying details ! <emoji> indeks backhand menunjuk ke kanan </emoji> <url> Ready kepada take the plunge ? Seize the opportunity and submit awak Online Application <allcaps> NOW </allcaps> ! <emoji> indeks backhand menunjuk ke kanan </emoji> <url> Feel the energy and connect dengan MeSRA UniKL : <emoji> ☎ ️ </emoji> Call us pada <number> <number> <number> atau <number> - <number> <emoji> telefon bimbit </emoji> Reach out kepada us pada <number> - <number> atau <number> - <number> <emoji> komputer riba </emoji> Email us pada <email> For an explosion of enthusiasm , visit our website : <url> Embark on awak UniKL journey dengan zeal ! <hashtag> #WeAreUniKL </hashtag> <hashtag> #UniKLmilikMARA </hashtag> <hashtag> #UniversitiKualaLumpur </hashtag> <hashtag> #UniKLnProud </hashtag> <hashtag> #UniKLDNA </hashtag> <hashtag> #JoinUniKLToday </hashtag> <hashtag> #FoundationUniKL </hashtag> <hashtag> #DiplomaUniKL </hashtag> <hashtag> #BachelorsDegreeUniKL </hashtag> <hashtag> #PostgraduateUniKL </hashtag> <hashtag> #UniKLExcellence </hashtag>\",\n",
       " 'His excellency Massimo Rustico kepada UniKL <allcaps> MIDI </allcaps> <emoji> 🇮 🇹 </emoji> Video Highlight during Courtesy Visit dengan Ambassador of Italy kepada Malaysia kepada Universiti Kuala Lumpur Malaysia Italy Design Institute <emoji> Rail ringan </emoji> <hashtag> #WeAreUniKL </hashtag> <hashtag> #UniKL </hashtag> <hashtag> #UniversitiKualaLumpur </hashtag> <hashtag> #UniKLMIDI </hashtag> <hashtag> #AmbassadorItaly </hashtag> <hashtag> #UniKLDNA </hashtag> <hashtag> #UniKLnProud </hashtag> <hashtag> #KKDW </hashtag> <hashtag> #MARA </hashtag> <hashtag> #MARACorp </hashtag>',\n",
       " 'His excellency Massimo Rustico kepada UniKL <allcaps> MIDI </allcaps> <emoji> 🇮 🇹 </emoji> Photo during Courtesy Visit dengan Ambassador of Italy kepada Malaysia kepada Universiti Kuala Lumpur Malaysia Italy Design Institute . <url>',\n",
       " \"<allcaps> KARNIVAL USAHAWAN DESA </allcaps> ( <allcaps> KUD </allcaps> ) <allcaps> KOTA SAMARAHAN </allcaps> : <allcaps> RAIL THEME FOR SARAWAK </allcaps> <emoji> Rail ringan </emoji> Universiti Kuala Lumpur ( UniKL ) has been invited kepada participate in the highly anticipated Karnival Usahawan Desa ( <allcaps> KUD </allcaps> ) , which was the pertama ministry rural entrepreneurship carnival held this year . The event , organised dengan Bahagian Usahawan Desa ( UD ) , <allcaps> KKDW </allcaps> , will serve as a platform untuk UniKL kepada connect dengan local people , agencies , entrepreneurs , showcasing its academic offerings , technical expertise and provide valuable information on educational and collaboration opportunities . Started from <date> until <date> pada Halaman Samarahan , Kota Samarahan , Sarawak , UniKL prime focus on rail concept exhibition theme which was personally requested dengan YBhg Datuk Rubiah Wang , Deputy Minister of <allcaps> KKDW </allcaps> , kepada provide awareness and simulation activities through train driving simulator and virtual reality ( VR ) train simulation . <allcaps> YAB </allcaps> Dato' Seri Dr Ahmad Zahid Hamidi ( <allcaps> DSAZ </allcaps> ) , Deputy Prime Minister has visited UniKL booth and was briefed dengan AP Ir Dr Azman Senin , UniKL President on UniKL products and services showcased . <hashtag> #WeAreUniKL </hashtag> <hashtag> #UniversitiKualaLumpur </hashtag> <hashtag> #UniKL </hashtag> <hashtag> #UniKLDNA </hashtag> <hashtag> #UniKLnProud </hashtag> <hashtag> #KUD </hashtag> <hashtag> #KKDW </hashtag> <hashtag> #MARA </hashtag> <hashtag> #MARACorp </hashtag>\",\n",
       " 'Selamat Menyambut Hari Wilayah Persekutuan <emoji> wajah tersenyum dengan mata tersenyum </emoji> Kami seluruh warga Universiti Kuala Lumpur mengucapkan \" Selamat Menyambut Hari Wilayah Persekutuan <number> \" kepada seluruh warga Kuala Lumpur , Putrajaya dan Labuan . Semoga kekal sihat dan maju jaya <emoji> wajah tersenyum dengan cermin mata hitam </emoji> <hashtag> #WeAreUniKL </hashtag> <hashtag> #UniversitiKualaLumpur </hashtag> <hashtag> #UniKL </hashtag> <hashtag> #UniKLDNA </hashtag> <hashtag> #UniKLnProud </hashtag> <hashtag> #WilayahPersekutuan </hashtag> <hashtag> #KKDW </hashtag> <hashtag> #MARA </hashtag> <hashtag> #MARACorp </hashtag>',\n",
       " 'UniKL Excellence Program ! <emoji> Bintang bercahaya </emoji> Video Highlight UniKL Excellence Program <emoji> kamera filem </emoji> Let us join now and jadi part of Big Family in Universiti Kuala Lumpur ( UniKL ) . Where Knowledge is Applied and Dreams Realised <emoji> topi pengijazahan </emoji> <hashtag> #WeAreUniKL </hashtag> <hashtag> #UniKL </hashtag> <hashtag> #UniversitiKualaLumpur </hashtag> <hashtag> #UniKLExcellenceProgram </hashtag> <hashtag> #JoinUsNow </hashtag> <hashtag> #UniKLIANS </hashtag> <hashtag> #UniKLDNA </hashtag> <hashtag> #UniKLnProud </hashtag> <hashtag> #KKDW </hashtag> <hashtag> #MARA </hashtag> <hashtag> #MARACorp </hashtag>',\n",
       " 'Let us join now and jadi part of Big Family in Universiti Kuala Lumpur ( UniKL ) . Where Knowledge is Applied and Dreams Realised <emoji> topi pengijazahan </emoji> <hashtag> #WeAreUniKL </hashtag> <hashtag> #UniKL </hashtag> <hashtag> #UniversitiKualaLumpur </hashtag> <hashtag> #UniKLExcellenceProgram </hashtag> <hashtag> #JoinUsNow </hashtag> <hashtag> #UniKLIANS </hashtag> <hashtag> #UniKLDNA </hashtag> <hashtag> #UniKLnProud </hashtag> <hashtag> #KKDW </hashtag> <hashtag> #MARA </hashtag> <hashtag> #MARACorp </hashtag> <url>',\n",
       " 'Goodluck Batch <number> <emoji> wajah tersenyum dengan cermin mata hitam </emoji> Best of luck kepada the incredible Batch <number> as awak embark on awak <allcaps> SPM </allcaps> journey ! May awak hard work and dedication shine in every exam paper . Remember , awak ada got this conquer itu exams and embrace success ! <emoji> buku </emoji> <emoji> Bintang bercahaya </emoji> Join our besar keluarga pada Universiti Kuala Lumpur <emoji> \\U0001faf6 🏻 </emoji> <hashtag> #WeAreUniKL </hashtag> <hashtag> #UniKL </hashtag> <hashtag> #UniversitiKualaLumpur </hashtag> <hashtag> #UniKLDNA </hashtag> <hashtag> #UniKLnProud </hashtag> <hashtag> #KKDW </hashtag> <hashtag> #MARA </hashtag> <hashtag> #MARACorp </hashtag> <hashtag> #SPM2023 </hashtag> <hashtag> #Batch06 </hashtag> <hashtag> #GoodLuck </hashtag> <hashtag> #DoTheBest </hashtag> <hashtag> #JoinUniKL </hashtag>',\n",
       " 'Min nak mengucapkan selamat mengundi bagi para perwakilan pelajar sesi <number> / <number> . Goodluck <emoji> 💪 🏼 </emoji> Repost from <user> <emoji> topi pengijazahan </emoji> Selamat mengundi kepada Mahasiswa / saya UniKL <emoji> 🗳 ️ </emoji> Assalamualaikum dan Salam Sejahtera , Majlis Perwakilan Pelajar Universiti Kuala Lumpur sesi <number> / <number> ingin mengucapkan Selamat Mengundi Kepada Mahasiswa / saya UniKL . Pilihlah pemimpin yang mempunyai integriti dan bertanggungjawab , mampu memperkuat suara mahasiswa / saya UniKL serta meningkatkan reputasi UniKL bersama universiti-universiti terkemuka yang lain . Sekian terima kasih . Ikhlas daripada : Majlis Perwakilan Pelajar Universiti Kuala Lumpur Sesi <number> / <number> <hashtag> #WeAreUniKL </hashtag> <hashtag> #UniKL </hashtag> <hashtag> #UniversitiKualaLumpur </hashtag> <hashtag> #USRC </hashtag> <hashtag> #SRCUniKL </hashtag> <hashtag> #SRCElectionDay2024 </hashtag> <hashtag> #UniKLDNA </hashtag> <hashtag> #UniKLnProud </hashtag> <hashtag> #KKDW </hashtag> <hashtag> #MARA </hashtag> <hashtag> #MARACorp </hashtag>',\n",
       " 'Penganalisis Ekonomi Universiti Kuala Lumpur ( UniKL ) Business School , Profesor Madya Dr Aimi Zulhazmi Abdul Rashid berpandangan , harga gula Malaysia yang rendah iaitu pada kadar <money> bagi setiap kilogram ( kampung ) berbanding negara jiran <allcaps> ASEAN </allcaps> lain mengakibatkan kerugian jutaan ringgit .',\n",
       " 'Also in attendance were the top management of Hanyang University , a representative from Universiti Kuala Lumpur ( UniKL ) as maklumlah as Hanyang Erica University . <url>',\n",
       " 'Assalamualaikum dan Salam Sejahtera Kami pelajar dari Bachelor Pharmaceutical Technology UniKL <allcaps> RCMP </allcaps> Ipoh akan mengadakan program khidmat masyarakat bersama anak-anak yatim cemerlang dari <allcaps> SMK </allcaps> Seri Ampang Kuala Lumpur di Zoo Negara . <url>',\n",
       " 'Setinggi-tinggi tahniah kepada YBrs . Assoc . Prof . Ir . Dr. Azman Senin di atas pelantikan sebagai Presiden / Ketua Pegawai Eksekutif , Universiti Kuala Lumpur ( UniKL ) Warga kerja <allcaps> TDA </allcaps> mengucapkan selamat maju jaya dalam menggalas amanah yang diberi . <hashtag> #TDABerhad </hashtag> <hashtag> #UniKL </hashtag> <url>',\n",
       " 'May UniKL continue kepada prosper and become satu of the leading university in the country under dia leadership . Congratulations AP Ir . Dr. Azman <emoji> wajah tersenyum dengan cermin mata hitam </emoji> <hashtag> #WeAreUniKL </hashtag> <hashtag> #UniKL </hashtag> <hashtag> #UniversitiKualaLumpur </hashtag> <hashtag> #UniKLDNA </hashtag> <hashtag> #UniKLnProud </hashtag> <hashtag> #Congratulations </hashtag> <hashtag> #KKDW </hashtag> <hashtag> #MARA </hashtag> <hashtag> #MARACorp </hashtag>',\n",
       " 'Congratulations <emoji> pening </emoji> Universiti Kuala Lumpur would like kepada congratulate Assoc . Prof . Ir . Dr. Azman Bin Senin on dia appointment as the 5th President / <allcaps> CEO </allcaps> of Universiti Kuala Lumpur . May UniKL continue kepada prosper and become satu of the leading university in the country under dia leadership . Congratulations AP Ir . Dr. Azman <emoji> wajah tersenyum dengan cermin mata hitam </emoji> <hashtag> #WeAreUniKL </hashtag> <hashtag> #UniKL </hashtag> <hashtag> #UniversitiKualaLumpur </hashtag> <hashtag> #UniKLDNA </hashtag> <hashtag> #UniKLnProud </hashtag> <hashtag> #Congratulations </hashtag> <hashtag> #KKDW </hashtag> <hashtag> #MARA </hashtag> <hashtag> #MARACorp </hashtag>',\n",
       " 'Eager kepada explore the diverse programmes offered pada <hashtag> #UniKL </hashtag> ? Online applications are now open untuk Universiti Kuala Lumpur Malaysian Institute of Information Technology ( UniKL <allcaps> MIIT </allcaps> ) <hashtag> #UniKL </hashtag> <number> Intake <emoji> tanda seru merah </emoji> <emoji> telefon bimbit </emoji> : + <number> <emoji> komputer riba </emoji> : <email> <emoji> Globe menunjukkan Eropah-Afrika </emoji> <url> <url>',\n",
       " \"Get ready kepada ignite awak future pada Universiti Kuala Lumpur <hashtag> #UniKL </hashtag> ! Applications are officially <allcaps> OPEN </allcaps> untuk the thrilling <number> Intake ! Immerse yourself in the pulse-pounding excitement of joining our exceptional Foundation , Diploma , and Bachelor's Degree Programmes . Are awak eager kepada explore the diverse world of programs offered pada <hashtag> #UniKL </hashtag> ? Dive into the exhilaration dengan clicking the link below untuk semua the electrifying details ! <emoji> indeks backhand menunjuk ke kanan </emoji> <url> Ready kepada take the plunge ? Seize the opportunity and submit awak Online Application <allcaps> NOW </allcaps> ! <emoji> indeks backhand menunjuk ke kanan </emoji> <url> Feel the energy and connect dengan MeSRA UniKL : <emoji> ☎ ️ </emoji> Call us pada <number> <number> <number> atau <number> - <number> <emoji> telefon bimbit </emoji> Reach out kepada us pada <number> - <number> atau <number> - <number> <emoji> komputer riba </emoji> Email us pada <email> For an explosion of enthusiasm , visit our website : <url> Embark on awak UniKL journey dengan zeal ! <hashtag> #WeAreUniKL </hashtag> <hashtag> #UniKLmilikMARA </hashtag> <hashtag> #UniversitiKualaLumpur </hashtag> <hashtag> #UniKLnProud </hashtag> <hashtag> #UniKLDNA </hashtag> <hashtag> #JoinUniKLToday </hashtag> <hashtag> #FoundationUniKL </hashtag> <hashtag> #DiplomaUniKL </hashtag> <hashtag> #BachelorsDegreeUniKL </hashtag> <hashtag> #PostgraduateUniKL </hashtag> <hashtag> #UniKLExcellence </hashtag>\",\n",
       " 'Selamat kepada Fachri Insan Hidayatulloh dari <allcaps> MAN </allcaps> <number> Pasuruan atas pencapaian luar biasa sebagai Juara <number> di <allcaps> UNIKL </allcaps> International Robot Competition , Universitas Kuala Lumpur ! <user> <user> <url>',\n",
       " 'Sesi taklimat Kursus Qualcomm 5G University Program Sesi taklimat ini bukan sekadar berkongsi maklumat , tetapi juga membuka pintu kepada industri telekomunikasi 5G bersama Universiti Kuala Lumpur - Malaysian Institute of Information Technology ( UniKL <allcaps> MIIT </allcaps> ) . <url>',\n",
       " 'Majlis penyerahan Zakat oleh Assoc . Prof . Cdr . ( Rtd . ) Ts . Dr. Aminuddin Md Arof kepada <number> pelajar UniKL <allcaps> MIMET </allcaps> yang layak bagi sesi Jul / <date> telah diadakan pada 22hb <date> bertempat di Bilik Mesyuarat Utama , UniKL <allcaps> MIMET </allcaps> . <url>',\n",
       " 'Makmal Kejuruteraan Nilai ( VE Lab ) bagi projek Penubuhan Universiti Kuala Lumpur Asia Sustainable Transportation Institute ( UniKL <allcaps> ASTI </allcaps> ) telah diadakan di UniKL <allcaps> BMI </allcaps> , Gombak , Selangor pada <number> - <date> . <user> <user> <user> <user> <url>',\n",
       " \"An energetic group of <number> lecturers dengan dalam passion untuk science from Universiti Kuala Lumpur Royal College of Medicine Perak ( UniKL <allcaps> RCMP </allcaps> ) ada recently visited <hashtag> #Novugen </hashtag> ' s <allcaps> USFDA </allcaps> approved pharmaceutical and oncology manufacturing facilities on 13th of December <number> . <url>\"]"
      ]
     },
     "execution_count": 15,
     "metadata": {},
     "output_type": "execute_result"
    }
   ],
   "source": [
    "proc_texts"
   ]
  },
  {
   "cell_type": "code",
   "execution_count": 42,
   "metadata": {},
   "outputs": [],
   "source": [
    "import operator\n",
    "\n",
    "emotions = []\n",
    "emotion_probas = []\n",
    "for i, text in enumerate(proc_texts):\n",
    "    if text:\n",
    "        prob_dict = emo_model.predict_proba([text])\n",
    "        emotion = max(prob_dict[0].items(), key=operator.itemgetter(1))[0]\n",
    "        emotion_prob = max(prob_dict[0].items(), key=operator.itemgetter(1))[1]\n",
    "    else:\n",
    "        emotion = \"no emotion\"\n",
    "        emotion_prob = 0.000\n",
    "    \n",
    "        \n",
    "    emotions.append(emotion)\n",
    "    emotion_probas.append(emotion_prob)"
   ]
  },
  {
   "cell_type": "code",
   "execution_count": 46,
   "metadata": {},
   "outputs": [],
   "source": [
    "emotion_df = pd.DataFrame(list(zip(emotions, emotion_probas)), columns=[\"emotion\", \"emotion_probability\"])"
   ]
  },
  {
   "cell_type": "code",
   "execution_count": 47,
   "metadata": {},
   "outputs": [],
   "source": [
    "emotion_df[\"text\"] = dataset[\"text\"]"
   ]
  },
  {
   "cell_type": "code",
   "execution_count": null,
   "metadata": {},
   "outputs": [],
   "source": [
    "emotion_df"
   ]
  },
  {
   "cell_type": "code",
   "execution_count": 48,
   "metadata": {},
   "outputs": [
    {
     "data": {
      "text/plain": [
       "<Axes: xlabel='emotion', ylabel='count'>"
      ]
     },
     "execution_count": 48,
     "metadata": {},
     "output_type": "execute_result"
    },
    {
     "data": {
      "image/png": "[encoded data removed]",
      "text/plain": [
       "<Figure size 640x480 with 1 Axes>"
      ]
     },
     "metadata": {},
     "output_type": "display_data"
    }
   ],
   "source": [
    "sns.countplot(emotion_df, x=\"emotion\")"
   ]
  }
 ],
 "metadata": {
  "kernelspec": {
   "display_name": "work",
   "language": "python",
   "name": "python3"
  },
  "language_info": {
   "codemirror_mode": {
    "name": "ipython",
    "version": 3
   },
   "file_extension": ".py",
   "mimetype": "text/x-python",
   "name": "python",
   "nbconvert_exporter": "python",
   "pygments_lexer": "ipython3",
   "version": "3.10.15"
  }
 },
 "nbformat": 4,
 "nbformat_minor": 2
}
