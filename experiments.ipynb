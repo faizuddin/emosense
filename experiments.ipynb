{
 "cells": [
  {
   "cell_type": "code",
   "execution_count": 43,
   "metadata": {},
   "outputs": [
    {
     "name": "stderr",
     "output_type": "stream",
     "text": [
      "/home/faiz/anaconda3/envs/work/lib/python3.10/site-packages/malaya/tokenizer.py:214: FutureWarning:\n",
      "\n",
      "Possible nested set at position 3397\n",
      "\n",
      "/home/faiz/anaconda3/envs/work/lib/python3.10/site-packages/malaya/tokenizer.py:214: FutureWarning:\n",
      "\n",
      "Possible nested set at position 3927\n",
      "\n"
     ]
    }
   ],
   "source": [
    "from instagrapi import Client\n",
    "import pandas as pd\n",
    "import matplotlib.pyplot as plt\n",
    "import plotly.express as px\n",
    "\n",
    "from PIL import Image\n",
    "import requests\n",
    "from io import BytesIO\n",
    "\n",
    "import pytesseract\n",
    "import malaya\n"
   ]
  },
  {
   "cell_type": "code",
   "execution_count": null,
   "metadata": {},
   "outputs": [
    {
     "data": {
      "text/plain": [
       "True"
      ]
     },
     "execution_count": 2,
     "metadata": {},
     "output_type": "execute_result"
    }
   ],
   "source": [
    "cl = Client()\n",
    "cl.login(USERNAME, PASSWORD)"
   ]
  },
  {
   "cell_type": "code",
   "execution_count": null,
   "metadata": {},
   "outputs": [],
   "source": [
    "hashtag_dump = cl.hashtag_medias_recent_v1(HASHTAG, 50)"
   ]
  },
  {
   "cell_type": "code",
   "execution_count": 4,
   "metadata": {},
   "outputs": [],
   "source": [
    "tmp = []\n",
    "for i in range(0,50):\n",
    "    tmp.append(hashtag_dump[i].model_dump())\n",
    "\n",
    "hashtag_posts = pd.DataFrame(tmp)"
   ]
  },
  {
   "cell_type": "code",
   "execution_count": null,
   "metadata": {},
   "outputs": [],
   "source": [
    "hashtag_posts"
   ]
  },
  {
   "cell_type": "markdown",
   "metadata": {},
   "source": [
    "### Plotting location on the map "
   ]
  },
  {
   "cell_type": "code",
   "execution_count": 24,
   "metadata": {},
   "outputs": [],
   "source": [
    "def media_type_func(x,y):\n",
    "    if x == 1:\n",
    "        return \"Photo\"\n",
    "    elif x == 2 and y == \"feed\":\n",
    "        return \"Video\"\n",
    "    elif x == 2 and y == \"igtv\":\n",
    "        return \"IGTV\"\n",
    "    elif x == 2 and y == \"clips\":\n",
    "        return \"Reel\"\n",
    "    else:\n",
    "        return \"Album\""
   ]
  },
  {
   "cell_type": "code",
   "execution_count": null,
   "metadata": {},
   "outputs": [],
   "source": [
    "geo_df = pd.DataFrame()\n",
    "\n",
    "geo_df[\"User\"] = hashtag_posts[\"user\"].str.get(\"username\")\n",
    "geo_df[\"Taken at\"] = hashtag_posts[\"taken_at\"]\n",
    "geo_df[\"Type\"] = hashtag_posts[\"media_type\"]\n",
    "geo_df[\"Product type\"] = hashtag_posts[\"product_type\"]\n",
    "\n",
    "geo_df[\"Type\"] = geo_df.apply(lambda x: media_type_func(x[\"Type\"], x[\"Product type\"]), axis=1)\n",
    "\n",
    "geo_df[\"Lat\"] = hashtag_posts[\"location\"].str.get(\"lat\")\n",
    "geo_df[\"Lan\"] = hashtag_posts[\"location\"].str.get(\"lng\")"
   ]
  },
  {
   "cell_type": "code",
   "execution_count": 42,
   "metadata": {},
   "outputs": [
    {
     "data": {
      "application/vnd.plotly.v1+json": {
       "config": {
        "plotlyServerURL": "https://plot.ly"
       },
       "data": [
        {
         "customdata": [
          [
           "2019-10-14T02:40:39+00:00"
          ],
          [
           "2019-10-23T11:30:34+00:00"
          ],
          [
           "2024-12-08T07:57:15+00:00"
          ],
          [
           "2024-12-05T12:46:19+00:00"
          ],
          [
           "2024-12-10T23:31:15+00:00"
          ],
          [
           "2020-10-14T14:44:17+00:00"
          ],
          [
           "2017-10-25T07:24:12+00:00"
          ],
          [
           "2022-08-11T11:06:31+00:00"
          ],
          [
           "2024-12-06T14:35:08+00:00"
          ],
          [
           "2024-12-06T14:01:40+00:00"
          ],
          [
           "2018-10-15T08:07:38+00:00"
          ],
          [
           "2023-12-09T12:16:28+00:00"
          ],
          [
           "2024-12-06T03:50:16+00:00"
          ],
          [
           "2024-12-08T12:44:45+00:00"
          ],
          [
           "2023-11-05T02:17:03+00:00"
          ],
          [
           "2023-11-04T03:28:16+00:00"
          ],
          [
           "2024-12-08T02:17:01+00:00"
          ],
          [
           "2024-11-19T10:16:30+00:00"
          ],
          [
           "2024-11-28T15:51:43+00:00"
          ],
          [
           "2023-09-01T13:47:37+00:00"
          ]
         ],
         "hovertemplate": "<b>%{hovertext}</b><br><br>Type=Album<br>Lat=%{lat}<br>Lan=%{lon}<br>Taken at=%{customdata[0]}<extra></extra>",
         "hovertext": [
          "azfarheri",
          "naufalomar",
          "uniklpage",
          "uniklpage",
          "uniklmidi_official",
          "rienaamirah",
          "jijieyzamri",
          "uniklpage",
          "uniklpage",
          "uniklpage",
          "niyardzn",
          "uniklpage",
          "uniklpage",
          "uniklpage",
          "uniklpage",
          "uniklpage",
          "uniklbsc24",
          "uniklpage",
          "uniklpage",
          "uniklpage"
         ],
         "lat": [
          null,
          3.0384667896177,
          2.9778139339138,
          3.1633339402696,
          3.1280882835434,
          null,
          2.8949337704684,
          3.1621219109884,
          2.9770623547916,
          2.9778139339138,
          null,
          3.1280882835434,
          3.1633339402696,
          2.9770623547916,
          3.1687865968729,
          3.1687865968729,
          null,
          3.1683866923095,
          3.0709893152613,
          4.6677473
         ],
         "legendgroup": "Album",
         "lon": [
          null,
          101.76751583668,
          101.79117223417,
          101.69545900615,
          101.73827221829,
          null,
          101.67672341436,
          101.69233321308,
          101.79121784164,
          101.79117223417,
          null,
          101.73827221829,
          101.69545900615,
          101.79121784164,
          101.69155061245,
          101.69155061245,
          null,
          101.69134795429,
          101.60842895508,
          101.0773568
         ],
         "marker": {
          "color": "#636efa"
         },
         "mode": "markers",
         "name": "Album",
         "showlegend": true,
         "subplot": "map",
         "type": "scattermap"
        },
        {
         "customdata": [
          [
           "2017-10-21T13:39:54+00:00"
          ],
          [
           "2024-12-10T09:51:01+00:00"
          ],
          [
           "2024-12-06T08:23:41+00:00"
          ],
          [
           "2024-12-11T07:14:57+00:00"
          ],
          [
           "2024-12-07T12:00:25+00:00"
          ],
          [
           "2024-12-06T01:14:06+00:00"
          ],
          [
           "2024-12-11T08:53:50+00:00"
          ],
          [
           "2024-12-11T10:58:25+00:00"
          ],
          [
           "2024-11-28T07:23:07+00:00"
          ],
          [
           "2024-12-08T03:12:46+00:00"
          ],
          [
           "2024-12-11T11:00:30+00:00"
          ],
          [
           "2024-11-16T14:52:11+00:00"
          ],
          [
           "2024-12-10T03:54:28+00:00"
          ],
          [
           "2022-12-20T07:14:01+00:00"
          ],
          [
           "2024-12-10T07:20:11+00:00"
          ],
          [
           "2024-12-08T23:25:17+00:00"
          ],
          [
           "2024-12-08T23:18:09+00:00"
          ],
          [
           "2024-12-10T14:13:31+00:00"
          ]
         ],
         "hovertemplate": "<b>%{hovertext}</b><br><br>Type=Photo<br>Lat=%{lat}<br>Lan=%{lon}<br>Taken at=%{customdata[0]}<extra></extra>",
         "hovertext": [
          "liyadnan",
          "alumnimfi",
          "alumnimfi",
          "uniklpage",
          "uniklpage",
          "stareducationfair",
          "beast_silatclub",
          "uniklbsc24",
          "uniklpage",
          "uniklpage",
          "uniklbsc24",
          "uniklpage",
          "uniklbsc24",
          "uniklpage",
          "uniklalumni",
          "uniklmiit",
          "uniklmiit",
          "jenggokapak"
         ],
         "lat": [
          2.8949337704684,
          null,
          null,
          2.7161303489728,
          null,
          null,
          null,
          null,
          3.0709893152613,
          2.9778139339138,
          null,
          3.1591511595119,
          null,
          null,
          null,
          null,
          null,
          null
         ],
         "legendgroup": "Photo",
         "lon": [
          101.67672341436,
          null,
          null,
          101.94341430242,
          null,
          null,
          null,
          null,
          101.60842895508,
          101.79117223417,
          null,
          101.7014409742,
          null,
          null,
          null,
          null,
          null,
          null
         ],
         "marker": {
          "color": "#EF553B"
         },
         "mode": "markers",
         "name": "Photo",
         "showlegend": true,
         "subplot": "map",
         "type": "scattermap"
        },
        {
         "customdata": [
          [
           "2024-12-11T05:37:27+00:00"
          ],
          [
           "2022-06-19T05:22:19+00:00"
          ],
          [
           "2024-05-16T10:22:33+00:00"
          ],
          [
           "2022-09-22T03:54:32+00:00"
          ],
          [
           "2022-12-23T07:08:06+00:00"
          ],
          [
           "2023-05-10T13:59:45+00:00"
          ],
          [
           "2022-06-20T07:11:02+00:00"
          ],
          [
           "2024-11-28T06:11:50+00:00"
          ]
         ],
         "hovertemplate": "<b>%{hovertext}</b><br><br>Type=Reel<br>Lat=%{lat}<br>Lan=%{lon}<br>Taken at=%{customdata[0]}<extra></extra>",
         "hovertext": [
          "uniklpage",
          "uniklpage",
          "drasyrafwajdi",
          "uniklpage",
          "uniklpage",
          "uniklpage",
          "uniklpage",
          "fa_ezahh"
         ],
         "lat": [
          2.7161303489728,
          null,
          3.15,
          3.1595067321215,
          3.1621219109884,
          3.1669788724026,
          null,
          3.2504656395006
         ],
         "legendgroup": "Reel",
         "lon": [
          101.94341430242,
          null,
          101.533,
          101.70016917537,
          101.69233321308,
          101.71976476908,
          null,
          101.7270898819
         ],
         "marker": {
          "color": "#00cc96"
         },
         "mode": "markers",
         "name": "Reel",
         "showlegend": true,
         "subplot": "map",
         "type": "scattermap"
        },
        {
         "customdata": [
          [
           "2021-10-05T13:19:30+00:00"
          ],
          [
           "2019-02-08T08:22:15+00:00"
          ],
          [
           "2019-02-11T10:12:38+00:00"
          ],
          [
           "2018-01-16T07:15:46+00:00"
          ]
         ],
         "hovertemplate": "<b>%{hovertext}</b><br><br>Type=Video<br>Lat=%{lat}<br>Lan=%{lon}<br>Taken at=%{customdata[0]}<extra></extra>",
         "hovertext": [
          "uniklpage",
          "bossfhockey",
          "kamponghockey",
          "daveyharte"
         ],
         "lat": [
          3.1591511595119,
          null,
          3.1707689633882,
          3.0590166851993
         ],
         "legendgroup": "Video",
         "lon": [
          101.7014409742,
          null,
          101.67379074653,
          101.69349397549
         ],
         "marker": {
          "color": "#ab63fa"
         },
         "mode": "markers",
         "name": "Video",
         "showlegend": true,
         "subplot": "map",
         "type": "scattermap"
        }
       ],
       "layout": {
        "legend": {
         "title": {
          "text": "Type"
         },
         "tracegroupgap": 0
        },
        "map": {
         "center": {
          "lat": 3.1215324945880467,
          "lon": 101.70115756390634
         },
         "domain": {
          "x": [
           0,
           1
          ],
          "y": [
           0,
           1
          ]
         },
         "style": "carto-darkmatter",
         "zoom": 11
        },
        "mapbox": {
         "center": {
          "lat": 3.1215324945880467,
          "lon": 101.70115756390634
         },
         "style": "carto-darkmatter",
         "zoom": 11
        },
        "margin": {
         "t": 60
        },
        "template": {
         "data": {
          "bar": [
           {
            "error_x": {
             "color": "#2a3f5f"
            },
            "error_y": {
             "color": "#2a3f5f"
            },
            "marker": {
             "line": {
              "color": "#E5ECF6",
              "width": 0.5
             },
             "pattern": {
              "fillmode": "overlay",
              "size": 10,
              "solidity": 0.2
             }
            },
            "type": "bar"
           }
          ],
          "barpolar": [
           {
            "marker": {
             "line": {
              "color": "#E5ECF6",
              "width": 0.5
             },
             "pattern": {
              "fillmode": "overlay",
              "size": 10,
              "solidity": 0.2
             }
            },
            "type": "barpolar"
           }
          ],
          "carpet": [
           {
            "aaxis": {
             "endlinecolor": "#2a3f5f",
             "gridcolor": "white",
             "linecolor": "white",
             "minorgridcolor": "white",
             "startlinecolor": "#2a3f5f"
            },
            "baxis": {
             "endlinecolor": "#2a3f5f",
             "gridcolor": "white",
             "linecolor": "white",
             "minorgridcolor": "white",
             "startlinecolor": "#2a3f5f"
            },
            "type": "carpet"
           }
          ],
          "choropleth": [
           {
            "colorbar": {
             "outlinewidth": 0,
             "ticks": ""
            },
            "type": "choropleth"
           }
          ],
          "contour": [
           {
            "colorbar": {
             "outlinewidth": 0,
             "ticks": ""
            },
            "colorscale": [
             [
              0,
              "#0d0887"
             ],
             [
              0.1111111111111111,
              "#46039f"
             ],
             [
              0.2222222222222222,
              "#7201a8"
             ],
             [
              0.3333333333333333,
              "#9c179e"
             ],
             [
              0.4444444444444444,
              "#bd3786"
             ],
             [
              0.5555555555555556,
              "#d8576b"
             ],
             [
              0.6666666666666666,
              "#ed7953"
             ],
             [
              0.7777777777777778,
              "#fb9f3a"
             ],
             [
              0.8888888888888888,
              "#fdca26"
             ],
             [
              1,
              "#f0f921"
             ]
            ],
            "type": "contour"
           }
          ],
          "contourcarpet": [
           {
            "colorbar": {
             "outlinewidth": 0,
             "ticks": ""
            },
            "type": "contourcarpet"
           }
          ],
          "heatmap": [
           {
            "colorbar": {
             "outlinewidth": 0,
             "ticks": ""
            },
            "colorscale": [
             [
              0,
              "#0d0887"
             ],
             [
              0.1111111111111111,
              "#46039f"
             ],
             [
              0.2222222222222222,
              "#7201a8"
             ],
             [
              0.3333333333333333,
              "#9c179e"
             ],
             [
              0.4444444444444444,
              "#bd3786"
             ],
             [
              0.5555555555555556,
              "#d8576b"
             ],
             [
              0.6666666666666666,
              "#ed7953"
             ],
             [
              0.7777777777777778,
              "#fb9f3a"
             ],
             [
              0.8888888888888888,
              "#fdca26"
             ],
             [
              1,
              "#f0f921"
             ]
            ],
            "type": "heatmap"
           }
          ],
          "heatmapgl": [
           {
            "colorbar": {
             "outlinewidth": 0,
             "ticks": ""
            },
            "colorscale": [
             [
              0,
              "#0d0887"
             ],
             [
              0.1111111111111111,
              "#46039f"
             ],
             [
              0.2222222222222222,
              "#7201a8"
             ],
             [
              0.3333333333333333,
              "#9c179e"
             ],
             [
              0.4444444444444444,
              "#bd3786"
             ],
             [
              0.5555555555555556,
              "#d8576b"
             ],
             [
              0.6666666666666666,
              "#ed7953"
             ],
             [
              0.7777777777777778,
              "#fb9f3a"
             ],
             [
              0.8888888888888888,
              "#fdca26"
             ],
             [
              1,
              "#f0f921"
             ]
            ],
            "type": "heatmapgl"
           }
          ],
          "histogram": [
           {
            "marker": {
             "pattern": {
              "fillmode": "overlay",
              "size": 10,
              "solidity": 0.2
             }
            },
            "type": "histogram"
           }
          ],
          "histogram2d": [
           {
            "colorbar": {
             "outlinewidth": 0,
             "ticks": ""
            },
            "colorscale": [
             [
              0,
              "#0d0887"
             ],
             [
              0.1111111111111111,
              "#46039f"
             ],
             [
              0.2222222222222222,
              "#7201a8"
             ],
             [
              0.3333333333333333,
              "#9c179e"
             ],
             [
              0.4444444444444444,
              "#bd3786"
             ],
             [
              0.5555555555555556,
              "#d8576b"
             ],
             [
              0.6666666666666666,
              "#ed7953"
             ],
             [
              0.7777777777777778,
              "#fb9f3a"
             ],
             [
              0.8888888888888888,
              "#fdca26"
             ],
             [
              1,
              "#f0f921"
             ]
            ],
            "type": "histogram2d"
           }
          ],
          "histogram2dcontour": [
           {
            "colorbar": {
             "outlinewidth": 0,
             "ticks": ""
            },
            "colorscale": [
             [
              0,
              "#0d0887"
             ],
             [
              0.1111111111111111,
              "#46039f"
             ],
             [
              0.2222222222222222,
              "#7201a8"
             ],
             [
              0.3333333333333333,
              "#9c179e"
             ],
             [
              0.4444444444444444,
              "#bd3786"
             ],
             [
              0.5555555555555556,
              "#d8576b"
             ],
             [
              0.6666666666666666,
              "#ed7953"
             ],
             [
              0.7777777777777778,
              "#fb9f3a"
             ],
             [
              0.8888888888888888,
              "#fdca26"
             ],
             [
              1,
              "#f0f921"
             ]
            ],
            "type": "histogram2dcontour"
           }
          ],
          "mesh3d": [
           {
            "colorbar": {
             "outlinewidth": 0,
             "ticks": ""
            },
            "type": "mesh3d"
           }
          ],
          "parcoords": [
           {
            "line": {
             "colorbar": {
              "outlinewidth": 0,
              "ticks": ""
             }
            },
            "type": "parcoords"
           }
          ],
          "pie": [
           {
            "automargin": true,
            "type": "pie"
           }
          ],
          "scatter": [
           {
            "fillpattern": {
             "fillmode": "overlay",
             "size": 10,
             "solidity": 0.2
            },
            "type": "scatter"
           }
          ],
          "scatter3d": [
           {
            "line": {
             "colorbar": {
              "outlinewidth": 0,
              "ticks": ""
             }
            },
            "marker": {
             "colorbar": {
              "outlinewidth": 0,
              "ticks": ""
             }
            },
            "type": "scatter3d"
           }
          ],
          "scattercarpet": [
           {
            "marker": {
             "colorbar": {
              "outlinewidth": 0,
              "ticks": ""
             }
            },
            "type": "scattercarpet"
           }
          ],
          "scattergeo": [
           {
            "marker": {
             "colorbar": {
              "outlinewidth": 0,
              "ticks": ""
             }
            },
            "type": "scattergeo"
           }
          ],
          "scattergl": [
           {
            "marker": {
             "colorbar": {
              "outlinewidth": 0,
              "ticks": ""
             }
            },
            "type": "scattergl"
           }
          ],
          "scattermapbox": [
           {
            "marker": {
             "colorbar": {
              "outlinewidth": 0,
              "ticks": ""
             }
            },
            "type": "scattermapbox"
           }
          ],
          "scatterpolar": [
           {
            "marker": {
             "colorbar": {
              "outlinewidth": 0,
              "ticks": ""
             }
            },
            "type": "scatterpolar"
           }
          ],
          "scatterpolargl": [
           {
            "marker": {
             "colorbar": {
              "outlinewidth": 0,
              "ticks": ""
             }
            },
            "type": "scatterpolargl"
           }
          ],
          "scatterternary": [
           {
            "marker": {
             "colorbar": {
              "outlinewidth": 0,
              "ticks": ""
             }
            },
            "type": "scatterternary"
           }
          ],
          "surface": [
           {
            "colorbar": {
             "outlinewidth": 0,
             "ticks": ""
            },
            "colorscale": [
             [
              0,
              "#0d0887"
             ],
             [
              0.1111111111111111,
              "#46039f"
             ],
             [
              0.2222222222222222,
              "#7201a8"
             ],
             [
              0.3333333333333333,
              "#9c179e"
             ],
             [
              0.4444444444444444,
              "#bd3786"
             ],
             [
              0.5555555555555556,
              "#d8576b"
             ],
             [
              0.6666666666666666,
              "#ed7953"
             ],
             [
              0.7777777777777778,
              "#fb9f3a"
             ],
             [
              0.8888888888888888,
              "#fdca26"
             ],
             [
              1,
              "#f0f921"
             ]
            ],
            "type": "surface"
           }
          ],
          "table": [
           {
            "cells": {
             "fill": {
              "color": "#EBF0F8"
             },
             "line": {
              "color": "white"
             }
            },
            "header": {
             "fill": {
              "color": "#C8D4E3"
             },
             "line": {
              "color": "white"
             }
            },
            "type": "table"
           }
          ]
         },
         "layout": {
          "annotationdefaults": {
           "arrowcolor": "#2a3f5f",
           "arrowhead": 0,
           "arrowwidth": 1
          },
          "autotypenumbers": "strict",
          "coloraxis": {
           "colorbar": {
            "outlinewidth": 0,
            "ticks": ""
           }
          },
          "colorscale": {
           "diverging": [
            [
             0,
             "#8e0152"
            ],
            [
             0.1,
             "#c51b7d"
            ],
            [
             0.2,
             "#de77ae"
            ],
            [
             0.3,
             "#f1b6da"
            ],
            [
             0.4,
             "#fde0ef"
            ],
            [
             0.5,
             "#f7f7f7"
            ],
            [
             0.6,
             "#e6f5d0"
            ],
            [
             0.7,
             "#b8e186"
            ],
            [
             0.8,
             "#7fbc41"
            ],
            [
             0.9,
             "#4d9221"
            ],
            [
             1,
             "#276419"
            ]
           ],
           "sequential": [
            [
             0,
             "#0d0887"
            ],
            [
             0.1111111111111111,
             "#46039f"
            ],
            [
             0.2222222222222222,
             "#7201a8"
            ],
            [
             0.3333333333333333,
             "#9c179e"
            ],
            [
             0.4444444444444444,
             "#bd3786"
            ],
            [
             0.5555555555555556,
             "#d8576b"
            ],
            [
             0.6666666666666666,
             "#ed7953"
            ],
            [
             0.7777777777777778,
             "#fb9f3a"
            ],
            [
             0.8888888888888888,
             "#fdca26"
            ],
            [
             1,
             "#f0f921"
            ]
           ],
           "sequentialminus": [
            [
             0,
             "#0d0887"
            ],
            [
             0.1111111111111111,
             "#46039f"
            ],
            [
             0.2222222222222222,
             "#7201a8"
            ],
            [
             0.3333333333333333,
             "#9c179e"
            ],
            [
             0.4444444444444444,
             "#bd3786"
            ],
            [
             0.5555555555555556,
             "#d8576b"
            ],
            [
             0.6666666666666666,
             "#ed7953"
            ],
            [
             0.7777777777777778,
             "#fb9f3a"
            ],
            [
             0.8888888888888888,
             "#fdca26"
            ],
            [
             1,
             "#f0f921"
            ]
           ]
          },
          "colorway": [
           "#636efa",
           "#EF553B",
           "#00cc96",
           "#ab63fa",
           "#FFA15A",
           "#19d3f3",
           "#FF6692",
           "#B6E880",
           "#FF97FF",
           "#FECB52"
          ],
          "font": {
           "color": "#2a3f5f"
          },
          "geo": {
           "bgcolor": "white",
           "lakecolor": "white",
           "landcolor": "#E5ECF6",
           "showlakes": true,
           "showland": true,
           "subunitcolor": "white"
          },
          "hoverlabel": {
           "align": "left"
          },
          "hovermode": "closest",
          "mapbox": {
           "style": "light"
          },
          "paper_bgcolor": "white",
          "plot_bgcolor": "#E5ECF6",
          "polar": {
           "angularaxis": {
            "gridcolor": "white",
            "linecolor": "white",
            "ticks": ""
           },
           "bgcolor": "#E5ECF6",
           "radialaxis": {
            "gridcolor": "white",
            "linecolor": "white",
            "ticks": ""
           }
          },
          "scene": {
           "xaxis": {
            "backgroundcolor": "#E5ECF6",
            "gridcolor": "white",
            "gridwidth": 2,
            "linecolor": "white",
            "showbackground": true,
            "ticks": "",
            "zerolinecolor": "white"
           },
           "yaxis": {
            "backgroundcolor": "#E5ECF6",
            "gridcolor": "white",
            "gridwidth": 2,
            "linecolor": "white",
            "showbackground": true,
            "ticks": "",
            "zerolinecolor": "white"
           },
           "zaxis": {
            "backgroundcolor": "#E5ECF6",
            "gridcolor": "white",
            "gridwidth": 2,
            "linecolor": "white",
            "showbackground": true,
            "ticks": "",
            "zerolinecolor": "white"
           }
          },
          "shapedefaults": {
           "line": {
            "color": "#2a3f5f"
           }
          },
          "ternary": {
           "aaxis": {
            "gridcolor": "white",
            "linecolor": "white",
            "ticks": ""
           },
           "baxis": {
            "gridcolor": "white",
            "linecolor": "white",
            "ticks": ""
           },
           "bgcolor": "#E5ECF6",
           "caxis": {
            "gridcolor": "white",
            "linecolor": "white",
            "ticks": ""
           }
          },
          "title": {
           "x": 0.05
          },
          "xaxis": {
           "automargin": true,
           "gridcolor": "white",
           "linecolor": "white",
           "ticks": "",
           "title": {
            "standoff": 15
           },
           "zerolinecolor": "white",
           "zerolinewidth": 2
          },
          "yaxis": {
           "automargin": true,
           "gridcolor": "white",
           "linecolor": "white",
           "ticks": "",
           "title": {
            "standoff": 15
           },
           "zerolinecolor": "white",
           "zerolinewidth": 2
          }
         }
        }
       }
      }
     },
     "metadata": {},
     "output_type": "display_data"
    }
   ],
   "source": [
    "fig = px.scatter_map(geo_df, lat=\"Lat\", lon=\"Lan\", map_style=\"carto-darkmatter\", hover_name=\"User\", hover_data=\"Taken at\", color=\"Type\", zoom=11)\n",
    "fig.show()"
   ]
  },
  {
   "cell_type": "markdown",
   "metadata": {},
   "source": [
    "### Text preprocessing"
   ]
  },
  {
   "cell_type": "code",
   "execution_count": 44,
   "metadata": {},
   "outputs": [],
   "source": [
    "# Unix/Linux\n",
    "tesseract_path = r\"/usr/bin/tesseract\"\n",
    "\n",
    "# Set tesseract path\n",
    "pytesseract.pytesseract.tesseract_cmd = tesseract_path\n"
   ]
  },
  {
   "cell_type": "markdown",
   "metadata": {},
   "source": [
    "#### Extract text from photo"
   ]
  },
  {
   "cell_type": "code",
   "execution_count": 64,
   "metadata": {},
   "outputs": [
    {
     "name": "stdout",
     "output_type": "stream",
     "text": [
      "Extracted text: \n",
      "Extracted text: Ma ALOPIN\n",
      "\n",
      "DONATION\n",
      "\n",
      "For our UniKL Alumni Flood Victims\n",
      "\n",
      "Monetary Donations\n",
      "\n",
      "BS cimB\n",
      "\n",
      "Universiti Teknikal Mara Sdn Bhd\n",
      "\n",
      "8000 2759 72\n",
      "\n",
      "Remarks :\n",
      "ALUMNI CARE <Campus Name> - [Your Name]\n",
      "\n",
      "Any inquiries, please contact PIC.\n",
      "\n",
      "Kindly forward the proof of payment to\n",
      "PIC via WhatsApp for confirmation.\n",
      "\n",
      "+ Mrs. Azween:- 012-749 8174\n",
      "\n",
      "www.unikledu.my\n",
      "\n",
      "Item Donations\n",
      "ALUMNI CARE Box of LOVE\n",
      "\n",
      "1. Beras SKG 6. Bihun\n",
      "\n",
      "2. Minyak Masak Botol (1kg) 7. Mi Segera\n",
      "— 3. Tepung gandum 8. Biskut\n",
      "\n",
      "4. Sardin 9. Susu pekat\n",
      "\n",
      "5. Teh\n",
      "\n",
      "Collection Centers :\n",
      "UniKL HQ/MIIT, Kuala Lumpur\n",
      "« Mrs. Azween (CACS level 3) :- 012-749 8174\n",
      "\n",
      "UniKL RCMP, Ipoh, Perak\n",
      "« Mr. Azrul (CL office) :- 011-3247 4700\n",
      "\n",
      "UniKL MSI, Kulim, Kedah\n",
      "« Mr. Azlan (CL office) :- 019-414 5048\n",
      "\n",
      "UnIKL Page\n",
      "\n",
      "Extracted text: Uni\n",
      "\n",
      "M&\\RA B) UNIVERSITI\n",
      "ennai ALUMNI |\n",
      "\n",
      "CORPORATION\n",
      "\n",
      "ALUMNI CARE SQUAD\n",
      "\n",
      "VOLUNTEERS\n",
      "\n",
      "Let us contribute to help\n",
      "our UniKL Alumni affected\n",
      "by the recent floods.\n",
      "\n",
      "JOIN US\n",
      "\n",
      "@ 012 - 749 8174\n",
      "@uniklalumni\n",
      "\n",
      "\n",
      "Extracted text: yampaian Sijil Institution of Railway\n",
      "Signal Engineers (IRSE), UniKL\n",
      "\n",
      "UniKL joins Railtec and Trovon\n",
      "to shape global rail expertise\n",
      "\n",
      "RUALALUMPUR,\n",
      "\n",
      "www.unikl.edu.my | Ww oO UniKL Page\n",
      "\n",
      "Extracted text: UNIVERSITI A\n",
      "RUALA COMPUR,\n",
      "\n",
      "Come & NWeet wy\n",
      "The STAR Education Fair 2024\n",
      "\n",
      "1 4-1 5 DEC Setia SPICE\n",
      "\n",
      "2024 Convention Centre\n",
      "\n",
      "\n",
      "Extracted text: \n",
      "Extracted text: DEC Setia SPICE\n",
      "\n",
      "The STAR Education Fair 2024 |\n",
      "2024 Convention Centre\n",
      "\n",
      "\n",
      "Extracted text: by Cia BEAST FIGHTER SILAT CLUB\n",
      "\n",
      "1 OPENPOSITION: See\n",
      "° ¢ FULL TERMSTUDENT FOR\n",
      "9:00PM * TREASURER 2025\n",
      "MICROSOFT TEAMS Sais . Cees | PORCLUB\n",
      "e\n",
      "OPIS XCOLSeSTeS + AM any\n",
      "\n",
      "° EXCOEPRA ACTIONS TAKEN\n",
      "\n",
      "\n",
      "Extracted text: \n",
      "Extracted text: \n",
      "Extracted text: oe\n",
      "\n",
      "EVENT WENUE  ‘.\n",
      "\n",
      "* ARENA SUKAN KUALA LUMPUR\n",
      "7.00 AM - 7.00 PM\n",
      "\n",
      "& MARA www.bis.unikl.edu.my aa Os y\n",
      "\n",
      "Extracted text: \n",
      "Extracted text: \n",
      "Extracted text: @2 Aaa\n",
      "KUALALUMPUR,\n",
      "\n",
      "www.unikl.edulmy Oo UniKL Page\n",
      "\n",
      "\n",
      "Extracted text: \n",
      "Extracted text: \n",
      "Extracted text: BEAST SPORT CARNIVAL 2624\n",
      "\n",
      "ny SUKAN KUALA LUMPUR\n",
      "\n",
      "\n",
      "Extracted text: sees\n",
      "\n",
      "LAAN\n",
      "\n",
      "AL- FATIHAH\n",
      "\n",
      "TAN SRI DATUK SERI DR. IBRAHIM BIN SAAD\n",
      "\n",
      "PRESIDEN/KETUA PEGAWAI EKSEKUTIF PERTAMA\n",
      "UNIVERSITI KUALA LUMPUR\n",
      "(2002 - 2005)\n",
      "\n",
      "LEMBAGA PENGARAH, PENGURUSAN TERTINGGI DAN SELURUH WARGA UniKL MENGUCAPKAN TAKZIAH KEPADA\n",
      "KELUARGA ALLAHYARHAM TAN SRI DATUK SERI DR. IBRAHIM BIN SAAD ATAS PEMERGIAN ALLAHYARHAM\n",
      "KE RAHMATULLAH PADA 15 NOVEMBER 2024.\n",
      "SEMOGA ROH ALLAHYARHAM DICUCURI RAHMAT ALLAH SWT DAN DITEMPATKAN BERSAMA ROH.\n",
      "ORANG-ORANG BERIMAN\n",
      "\n",
      "Salam Takziah Dari\n",
      "\n",
      "MARA a3 KL\n",
      "\n",
      "Srsve or eowrawiEs Sea”\n",
      "\n",
      "Extracted text: UNIKE BEAST SPORT CARNIVAL\n",
      "\n",
      "jes) Os y HVNS.\n",
      "\n",
      "Extracted text: \n",
      "Extracted text: ates\n",
      "HAMMAD FAIZ BIN ZULKIFFLI\n",
      "\n",
      "LOR OF COMPUTER ENGINEERING TECHNOLOGY (NETWORKING SYSTEMS) UNIKL MIIT\n",
      "\n",
      "Sémoga rohnya dicucuri rahmat dan\n",
      "ditempatkan dalam kalangan mereka yang beriman.\n",
      "\n",
      "‘Salam Takziah Dari\n",
      "\n",
      "Extracted text: “We Print\n",
      "\n",
      "EVERYTHING”\n",
      "\n",
      "Contact Us:\n",
      "\n",
      "Proud Alumni:\n",
      "\n",
      "\n",
      "Extracted text: \n",
      "Extracted text: Premier Digital\n",
      "Tech Institution\n",
      "\n",
      "(CH INSTITUTIONS #MYPDTI MYPDTI C3) MDEC.MY/PDTI\n",
      "\n",
      "Extracted text: a\n",
      "gg Rng\n",
      "© vrs\n",
      "\n",
      "jit.unikl.edu.my UniKL MIIT\n",
      "\n",
      "\n",
      "Extracted text: \n",
      "Extracted text: \n",
      "Extracted text: \n",
      "Extracted text: \n",
      "Extracted text: LUMNI CARE\n",
      "\n",
      "INIVERSIT]\n",
      "\n",
      "it\n",
      "\n",
      "DONATION\n",
      "\n",
      "For our UniKL Alumni Flood Victims\n",
      "\n",
      "Monetary Donations\n",
      "\n",
      "By cimB\n",
      "\n",
      "Universiti Teknikal Mara Sdn Bhd\n",
      "\n",
      "8000 2759 72\n",
      "\n",
      "Remarks :\n",
      "ALUMNI CARE <Campus Name> - [Your Name]\n",
      "\n",
      "Any inquiries, please contact PIC.\n",
      "\n",
      "Kindly forward the proof of payment to\n",
      "PIC via WhatsApp for confirmation.\n",
      "\n",
      "+ Mrs. Azween:- 012-749 8174\n",
      "\n",
      "www.unikledu.my\n",
      "\n",
      "Item Donations\n",
      "ALUMNI CARE Box of LOVE\n",
      "\n",
      "1. Beras 5KG 6. Bihun\n",
      "\n",
      "2. Minyak Masak Botol (1kg) 7. Mi Segera\n",
      "3. Tepung gandum 8. Biskut\n",
      "\n",
      "4. Sardin 9. Susu pekat\n",
      "5. Teh\n",
      "\n",
      "Collection Centers :\n",
      "UniKL HQ/MIIT, Kuala Lumpur\n",
      "+ Mrs. Azween (CACS level 3) :- 012-749 8174\n",
      "\n",
      "UniKL RCMP, Ipoh, Perak\n",
      "* Mr. Azrul (CL office) :- 011-3247 4700\n",
      "\n",
      "UniKL MSI, Kulim, Kedah\n",
      "» Mr. Azlan (CL office) :- 019-414 5048\n",
      "\n",
      "UnIKL Page\n",
      "\n"
     ]
    }
   ],
   "source": [
    "img_texts = []\n",
    "\n",
    "for img_url in hashtag_posts[\"thumbnail_url\"]:\n",
    "    if img_url:\n",
    "        response = requests.get(img_url)\n",
    "        img_text = pytesseract.image_to_string(Image.open(BytesIO(response.content)))\n",
    "        print(f\"Extracted text: {img_text}\")\n",
    "        img_texts.append(img_text)\n",
    "    else:\n",
    "        img_texts.append(\"\")\n",
    "\n",
    "hashtag_posts[\"thumbnail_text\"] = img_texts"
   ]
  },
  {
   "cell_type": "code",
   "execution_count": 77,
   "metadata": {},
   "outputs": [],
   "source": [
    "def preprocess_text(text):\n",
    "    # this uses NLTK\n",
    "    # tokens = word_tokenize(text.lower())\n",
    "\n",
    "    # this uses malaya toolkit\n",
    "    tokenizer = malaya.tokenizer.Tokenizer()    \n",
    "    tokens = tokenizer.tokenize(text, lowercase=True)\n",
    "\n",
    "    # remove alphanumeric word(s)\n",
    "    filtered_tokens = [word for word in tokens if word.isalnum()]\n",
    "    \n",
    "    return ' '.join(filtered_tokens)"
   ]
  },
  {
   "cell_type": "code",
   "execution_count": null,
   "metadata": {},
   "outputs": [],
   "source": [
    "hashtag_posts"
   ]
  },
  {
   "cell_type": "code",
   "execution_count": 82,
   "metadata": {},
   "outputs": [
    {
     "data": {
      "text/plain": [
       "['d day convocation yeayyy pre convo shoot at bukit bintang kuala lumpur theme lights at the city shoot by',\n",
       " 'sister dah convo dahh dah betul betul bersedia nak berkhidmat untuk masyarakat dah',\n",
       " 'alumni care donation we re reaching out to support our unikl alumni affected by the recent floods your help can make a huge difference monetary donations universiti teknikal mara sdn bhd cimb 8000275972 remarks alumni care campus name your name note please send proof of your donation transaction to the pic via whatsapp item donations please contact the pic of the specified collection centers thank you for your generosity and support together we can help our community in this time of need should you have any inquiries please reach out to mrs azween at alopin donation for our unikl alumni flood victims monetary donations bs cimb universiti teknikal mara sdn bhd 8000 2759 72 remarks alumni care campus name your name any inquiries please contact pic kindly forward the proof of payment to pic via whatsapp for confirmation mrs azween item donations alumni care box of love 1 beras skg 6 bihun 2 minyak masak botol 1kg 7 mi segera 3 tepung gandum 8 biskut 4 sardin 9 susu pekat 5 teh collection centers unikl hq miit kuala lumpur mrs azween cacs level 3 unikl rcmp ipoh perak mr azrul cl office 011 3247 4700 unikl msi kulim kedah mr azlan cl office unikl page',\n",
       " 'walk walk fashion baby',\n",
       " 'join the unikl alumni care squad the alumni relations and connection hub arch at universiti kuala lumpur unikl is calling on fellow alumni to volunteer and assist those affected by the recent floods your support can make a real difference if re interested in volunteering please fill out the form through the qr code or the link below arch will review your responses and get in touch with you shortly together we can support our community in this time of need fill out the form m ra universiti ennai alumni corporation alumni care squad volunteers let us contribute to help our unikl alumni affected by the recent floods join us 012 749 8174',\n",
       " 'uniklxpress unikl joins railtec and trovon to shape global rail expertise universiti kuala lumpur unikl has entered a strategic partnership with m rail technics railtec and trovon group pty ltd to bolster the technical capabilities and employability of its graduates supporting malaysia s burgeoning railway sector the partnership agreement was formalised during the handback ceremony for the scs class 92 train maintenance repair and overhaul mro project at the seremban emu depot the event was graced by the deputy prime minister and minister of rural and regional development kkdw yab dato seri ahmad zahid hamidi who witnessed the document exchange representing unikl were its chairman yb dato sri sh mohmed puzi sh ali and president ceo prof ir azman senin for full story go to unikl s website sijil institution of railway signal engineers irse unikl unikl joins railtec and trovon to shape global rail expertise rualalumpur ww oo unikl page',\n",
       " 'unikl carnival 2024 final day sunday valorant',\n",
       " 'are you ready to take the next step toward your academic future come and meet us at the star education fair 2024 𝐃𝐚𝐭𝐞 14th 15th december 2024 saturday sunday 𝐓𝐢𝐦𝐞 𝐕𝐞𝐧𝐮𝐞 setia spice convention centre penang 𝐔𝐧𝐢𝐊𝐋 𝐁𝐨𝐨𝐭𝐡 𝐍𝐮𝐦𝐛𝐞𝐫 a46 a47 explore wide range of programmes and discover how we can help you achieve your educational and career goals our team will be there to guide you on how unikl can help you achieve your dreams don t miss this opportunity to shape your future with unikl start your journey with unikl let s build your bright future together a ruala compur come nweet wy the star education fair 2024 1 4 1 5 dec setia spice 2024 convention centre',\n",
       " 'icetss 2024 day 1 photos during the international conference on entrepreneurship technology and social sciences icetss 2024 at steg hotel kuala lumpur this event occurred on wednesday and thursday december 4th and 5th 2024 wednesday 4 december 2024',\n",
       " 'train scs class 92 gambar sekitar majlis penyerahan handback ceremony tren scs class 92 projek maintenance repair overhaul mro dan perjanjian kolaborasi collaboration agreement di antara m rail technics railtec dengan universiti kuala lumpur unikl oleh yab dato seri ahmad zahid bin hamidi timbalan perdana menteri malaysia',\n",
       " 'unikl bekerjasama dengan railtec trovon untuk memajukan kepakaran rel global kerjasama strategik ini memperkukuh kebolehpasaran graduan dan kemahiran teknikal menyokong industri rel malaysia yang semakin berkembang dengan peluang antarabangsa latihan berstruktur dan fokus pada kecemerlangan mro unikl memacu masa depan teknologi rel kita membina tenaga kerja mahir untuk memenuhi keperluan industri dan mengangkat sektor rel malaysia ke peringkat global',\n",
       " 'are you ready to take the next step toward your academic future come and meet us at the star education fair 2024 𝐃𝐚𝐭𝐞 14th 15th december 2024 saturday sunday 𝐓𝐢𝐦𝐞 𝐕𝐞𝐧𝐮𝐞 setia spice convention centre penang 𝐔𝐧𝐢𝐊𝐋 𝐁𝐨𝐨𝐭𝐡 𝐍𝐮𝐦𝐛𝐞𝐫 a46 a47 explore unikl s wide range of programmes and discover how we can help you achieve your educational and career goals our team will be there to guide you on how unikl can help you achieve your dreams don t miss this opportunity to shape your future with unikl start your journey with unikl let s build your bright future together setia spice the star education fair 2024 2024 convention centre',\n",
       " 'assalamualaikum wbt to all beast fighter club members we will be holding an annual grand meeting on the 18th december 2024 via microsoft teams to appoint the new high committee for the year 2025 any students who are interested to be one of our highcomm for next year can fill in this google form to be listed as candidate this opportunity is open to all bachelor student in unikl business school requirements and open positions are as seen in the poster open position 1 secretary 2 vice secretary 3 treasurer 4 exco media 5 sub exco media 6 exco logistics 7 exco epra please be informed that the last day to fill in the google form will be on the 17th december 2024 sunday and student only eligible to apply for one position only ghocs for every position is also allocated google form link for application applicants could also can scan the qr code on the poster to register as candidate goodluck beast fighters and we hope to see you soon as the next frontline of this great club cia beast fighter silat club 1 openposition see full termstudent for treasurer 2025 microsoft teams sais cees porclub e opis xcolsestes am any excoepra actions taken',\n",
       " 'little moments big memories throwback some of my graduation photos after graduated in bachelor of business administration in marketing honours last year one of the biggest achievement for me as i managed to complete my study one year earlier from the study period haha sanggup tau ambil byk subjek padatkan class schedule per semester sebab nak habis awal even though busy with part time jobs as a model grab driver masa tu my close friends tau la i punya penat barai camana apapun hidup ni kena yakin usaha tawakal je kalau nak sanggup tanggung risiko just do it we all make mistakes struggles and even will regret things that s how we learn grow better right how time flies i miss all my friends assignments clubs environment in tiber teringin nak sambung belajar balik should i',\n",
       " 'road to next step',\n",
       " 'salam we are unikl host sembang wow kita ada pesanan sikit yang nak ditujukan kepada yang baru sahaja masuk bagi pengambilan dan kepada seluruh pelajar unikl min pun nak cakap sikit ni walau dimana pun kampus unikl anda diseluruh malaysia ingatlah kita tetap bawah satu bumbung besar unikl semoga berjaya dan kita jumpa di puncak kejayaan inshaallah amin we are unikl host sembang wow',\n",
       " 'nope repost from cheeky postman always delivers follow',\n",
       " 'event venue the countdown to the unikl beast sport carnival 2024 is on and this year s event will take place at the arena sukan kuala lumpur known for its modern facilities and dynamic atmosphere it s the perfect stage for our athletes to showcase their strength spirit and sportsmanship save the date 15 december 2024 event time waze arena sukan kuala lumpur address 210 jalan ayer jerneh mukim setapak 53200 kuala lumpur let s make this event one for the books at arena sukan kuala lumpur where champions are made and memories are created event wenue arena sukan kuala lumpur mara aa os y',\n",
       " 'unikl convocation 17 18 after almost 2 years the prestigious unikl convocation ceremony could not be held due to covid and other unforeseen problems the wait is now over t forget tomorrow monday 20 june 2022 at unikl will announce 17th 18th convocation cermony date for more information about the convocation directly go to the website 21',\n",
       " 'unikl 17th 18th convocation sesi 1 daulat tuanku menjunjung kasih kebawah duli yang maha mulia seri paduka baginda yang agong abdullah ri ayatuddin billah shah ibni almarhum sultan haji ahmad shah billah tuanku canselor universiti kuala lumpur dan kebawah duli yang maha mulia seri paduka baginda raja permaisuri agong tunku hajah azizah aminah maimunah iskandariah binti almarhum alallah sultan iskandar berkenan berangkat mencemar duli majlis konvokesyen unikl yang 21',\n",
       " 'unikl carnival 2024 friday',\n",
       " 'unikl carnival 2024 friday eafc25',\n",
       " 'in everything i do she s always there to be my cheerleader be it sports or academics i am not the smartest in the class nor the best student during my highschool days i failed my addmaths skipped geography classes climbed the school gate for mcdonald konon gangster but am not haha sudah terhantuk baru terngadah best described my highschool experiences that moment i got accepted into unikl to that moment also i started to muhasabah diri all i can think about at that moment is to make her proud i thought i have sacrificed a lot nope i was wrong that was literally of her sacrifices for our family eventho she never checked on our homework or to bother on how many subjects we took every semester bcs shes super busy bee she s still there to monitor in silent all i we have to give is a good result not to please everyone but only her mummy kakak dah buat habis baik utk banggakan mummy and jadi contoh utk adik adik its true everybody has their own struggles and this is ours we did it mom we have climbed the mountain together',\n",
       " 'unikl carnival 2023 saturday grand finale pubgm',\n",
       " 'graduates choice award gratitude to our incredible community of over alumni and students at unikl your choice to make us the graduate s choice of employer in the private higher education institution category fills us with pride the honour bestowed at talentbank s graduates choice award gca gala night on reflects our commitment to fostering a workplace where dreams thrive',\n",
       " 'unikl carnival 2024 grand final day the excitement continues get ready for an day as pubg and efootball 2025 take center stage the finest players from 12 unikl campuses are set to clash for the ultimate glory and the championship title 8th december 2024 unikl mestech the stakes are higher the matches are tougher and the energy will be unmatched bring your spirit cheer for your campus and be part of the epic showdown who will rise as the champion join us to find out aaa kualalumpur oo unikl page',\n",
       " 'icetss 2024 day 2 photos during the international conference on entrepreneurship technology and social sciences icetss 2024 at steg hotel kuala lumpur this event occurred on wednesday and thursday december 4th and 5th 2024 thursday 5 december 2024',\n",
       " 'on fire in maleisië',\n",
       " 'unikl carnival 2024 final day sunday prize giving ceremony uegc 2024 champions pubgm mestech the silence champions bmi mohammad akbar champions eafc25 mitec lutfilhadi champions valorant bmi cybtrn champions mlbb bmi cybtrn overal champions uegc 2023 congratulations to all winners',\n",
       " 'buka peluang kepada anak bumiputera dalam industri baikpulih dan penyelenggaraan penerbangan hari ini saya ke universiti kuala lumpur malaysian institute of aviation technology unikl miat kampus subang selangor bagi meninjau suasana pembelajaran pelajar dan yang ada di kampus ini teruja saya kelengkapan teknologi yang ada di miat subang ini bagi memberikan pendedahan kepada para pelatih miat berkenaan real dalam bidang penyelenggaraan pembaikan dan baik pulih kapal penerbangan mro lebih membanggakan unikl miat merupakan kampus yang pertama di malaysia yang memperkenalkan teaching pada tahun 2013 ketika high tvet htvet sedang dirangka yang kini fokus kepada aviation dan aircraft maintanance unikl miat mengadakan kerjasama bersama mro seperti mhs aviation galaxy aerospace dan hammock helicopters yang beroperasi di hangar unikl miat dan ini memberi pendedahan para staff dan pelajar unikl bagi memanfaatkan fasiliti dan teknologi mereka dalam bidang mro sebagai perantis mengendalikan helikopter dan kapal berteknologi tinggi yang bernilai lebih ratusan juta unikl miat juga menekankan pembelajaran melalui konsep industry based education training ibet usaha sama dengan industri dalam dan luar negara seperti turkish aerospace incorporation tusas yang seterusnya memberi peluang lepasan untuk bekerja di seluruh pelusuk dunia semoga unikl miat terus menjadi kampus yang beri ruang dan peluang kepada untuk mendalami ilmu berteknologi tinggi dalam bidang penerbangan seterusnya memberikan peluang pekerjaan bergaji premium buat para graduan',\n",
       " 'unikl 20th convocation ceremony celebrating the extraordinary achievements of the 20th unikl convocation third session',\n",
       " 'only 4 days left unikl beast sport carnival 2024 is almost here get ready to experience the power passion and perseverance of our incredible ubis athletes as they embrace their inner beast mark your calendars just 4 days to go location arena sukan kuala lumpur date time 15 december 2024 let s come together and make unikl beast sport carnival 2024 an unforgettable event sport carnival 2624 ny sukan kuala lumpur',\n",
       " 'unikl 20th convocation ceremony first session excited to begin the journey towards a memorable graduation day for our congratulations graduates',\n",
       " 'hi ubis are you ready for the action of the year welcome to the unikl beast sport carnival this year we re bringing the lineup of sports teams who are ready to showcase their passion and talent let s meet the stars of the arena bba in marketing bba in me bachelor in acc bba in ib bba in if ae tpd fib fintech join the beast mode movement get ready to witness incredible talents and the blazing spirit of sportsmanship from every ubis course show your support and let s make this year s carnival an unforgettable celebration of sports and unity mark your calendars location arena sukan kuala lumpur date time 15 december 2024 bring the passion bring the pride bring the beast within',\n",
       " 'salam takziah salam takziah kepada seluruh ahli keluarga tan sri datuk seri ibrahim bin saad presiden ketua pegawai eksekutif pertama universiti kuala lumpur 2002 2005 yang telah meninggal dunia pada lembaga pengarah pengurusan tertinggi dan seluruh warga unikl mengucapkan takziah kepada keluarga allahyarham tan sri datuk seri ibrahim bin saad atas pemergian allahyarham kerahmatullah semoga roh allahyarham dicucuri rahmat allah swt dan ditempatkan bersama roh beriman laan al fatihah tan sri datuk seri ibrahim bin saad presiden ketua pegawai eksekutif pertama universiti kuala lumpur 2002 2005 lembaga pengarah pengurusan tertinggi dan seluruh warga unikl mengucapkan takziah kepada keluarga allahyarham tan sri datuk seri ibrahim bin saad atas pemergian allahyarham ke rahmatullah pada 15 november 2024 semoga roh allahyarham dicucuri rahmat allah swt dan ditempatkan bersama roh beriman salam takziah dari mara a3 kl srsve or eowrawies sea',\n",
       " 'unikl 21st convocation ceremony eighth session the celebration reaches new heights as we honor the on their special day heartiest congratulations to all our amazing graduates',\n",
       " '5 days to go unikl beast sport carnival 2024 is almost here hi ubis get ready to witness the spirit strength and determination of our ubis athletes as they prepare to unleash their inner beast let s come together to cheer and support our athletes as they give their all in every games match and challenge mark your calendars only 5 days left location arena sukan kuala lumpur date time 15 december 2024 let s make unikl beast sport carnival 2024 a roaring success beast sport carnival jes os y hvns',\n",
       " 'repost from there s a new unikl s first indoor cafe in kl with futuristic theme also known as unibistro it serves up to 8 vendors to fuel your appetite with large space lot of tables to accommodate your whole crew surely a place that you wanna go not to mention every corners here are so take out your phone and let s snapping around open to public too location lvl 4 quill city mall kl unikl bis operating hours weekdays only',\n",
       " 'salam takziah salam takziah kepada seluruh ahli keluarga allahyarham muhammad faiz bin zulkiffli pelajar semester 5 bachelor of computer engineering technology networking systems with honours dari unikl miit telah meninggal dunia pada hari ini didoakan semoga roh allahyarham dicucuri rahmat allah swt dan semoga ahli keluarga tabah hadapi ujian yang amat berat ini amin ya rabbal alamin hammad faiz bin zulkiffli lor of computer engineering technology networking systems unikl miit sémoga rohnya dicucuri rahmat dan ditempatkan dalam kalangan mereka yang beriman salam takziah dari',\n",
       " 'alumni care a heartfelt thank you we extend our deepest gratitude to our generous alumnus mr saiful sazali abdul rashid msi midi ubis and his company brilliant million works for their thoughtful donations towards the alumni care box of love your kindness and support are making a real difference in the lives of fellow alumni affected by the flood together we are stronger and together we care we print everything contact us proud alumni',\n",
       " 'announcement day for the class of 2022 graduands buckle up and get ready for the 19th convocation ceremony which will take place from 11th to the 14th of february 2023 prepare your itinerary leaves and accommodations to attend this thrilling ceremony graduates are welcome to confirm their attendance to the ceremony via the link provided you will need to confirm your attendance latest by monday 30 january 2023 your next course of action is in the proceeding pages of the convocation webpage for more info about convocation ceremony for class of 2022 go to our website we look forward to seeing you at the world trade centre kuala lumpur for the convocation ceremony congratulations once again',\n",
       " 'posted we would like to express our heartfelt gratitude to the md pdti deans and heads of department for taking the time to join us at the q4 meeting the meeting was officiated by ts nik naharudin bin mohd nasir director of digital talent mdec who delivered opening remarks reflecting on the achievements of 2024 and the collective efforts in driving digital talent development the meeting provided a valuable opportunity to reflect the milestones reached this year and identify key takeaways as we conclude 2024 additionally we were privileged to gain industry insights from aws and masverse which enriched our discussions and broadened our perspectives thank you for your commitment and invaluable contributions as we work together to drive impactful outcomes for the future be part of our global community visit for programmes of choice digital tech institution ch institutions mypdti c3 mdec my pdti',\n",
       " 'graduates choice award photos during graduates choice award 2024 at grand lagoon ballroom sunway resort hotel wednesday congratulations to unikl all winners',\n",
       " 'posted uniklmiit a big shoutout to siti naqiah binti mustapha kamal for her outstanding achievements her hard work and dedication have earned her certifications in professional visual design along with expertise in adobe photoshop and adobe illustrator these accomplishments reflect her passion for creativity and her commitment to excellence in the field of multimedia design we re so proud of you siti naqiah keep reaching for the stars and may this be just the beginning of your journey toward even greater success be part of our global community visit for programmes of choice gg rng vrs unikl miit',\n",
       " 'video rumah terbuka raya unikl business school kampus gurney kuala lumpur',\n",
       " 'announcement day for the classes of 2020 2021 graduands buckle up and get ready for the 17th 18th convocation ceremony which will take place in prepare your itinerary leaves and accommodations to attend this thrilling ceremony graduates are welcome to confirm their attendance at the ceremony via the link provided you will need to confirm your attendance by on 20 july 2022 your next course of action is in the proceeding pages of the convocation webpage for more info about convocation ceremony for class 2020 2021 go to our website we look forward to seeing you at the world trade centre kuala lumpur for the convocation ceremony congratulations once again 21',\n",
       " 'week 7 is packed with lab work and assessment verification before the break these sessions are the perfect opportunity to get to know my students better and memorize their names with more students joining us this year next semester will be more challenging alhamdulillah thank you to all my dedicated students for your hard work and commitment cuti dulu naik sem kita pulun lagi depa ja cuti kita kerja unikl bmi the place of transformative learning',\n",
       " 'battling hard over here with 3rd game tomorrow night in the league',\n",
       " 'mbbs graduates day today 132 graduates of the bachelor of medicine and bachelor of surgery mbbs from unikl royal college of medicine perak unikl rcmp took their oath contributing to the significant growth in the number of graduates in this programme our current count stands at graduates congratulations and good job to all doctors from unikl rcmp',\n",
       " 'ramai alumni kita yang terkesan jadi ayuhlah kita sama membantu kalau tak banyak sikit pun memadai paling tidak kita kirimkan doa moga selamanya selamat hendaknya alumni care donation re reaching out to support our unikl alumni affected by the recent floods your help can make a huge difference monetary donations universiti teknikal mara sdn bhd cimb 8000275972 remarks alumni care campus name your name please send proof of your donation transaction to the pic via whatsapp for any inquiries contact pic mrs azween at item donations please contact the pic of the specified collection centers thank you for your generosity and support together we can support our community in this time of need care iniversit it donation for our unikl alumni flood victims monetary donations by cimb universiti teknikal mara sdn bhd 8000 2759 72 remarks alumni care campus name your name any inquiries please contact pic kindly forward the proof of payment to pic via whatsapp for confirmation mrs azween item donations alumni care box of love 1 beras 5kg 6 bihun 2 minyak masak botol 1kg 7 mi segera 3 tepung gandum 8 biskut 4 sardin 9 susu pekat 5 teh collection centers unikl hq miit kuala lumpur mrs azween cacs level 3 unikl rcmp ipoh perak mr azrul cl office 011 3247 4700 unikl msi kulim kedah mr azlan cl office unikl page']"
      ]
     },
     "execution_count": 82,
     "metadata": {},
     "output_type": "execute_result"
    }
   ],
   "source": [
    "texts = []\n",
    "for i, caption in enumerate(hashtag_posts[\"caption_text\"]):\n",
    "    if hashtag_posts.loc[i, \"thumbnail_text\"] == \"\":\n",
    "        texts.append(preprocess_text(caption))\n",
    "    else:\n",
    "        text = caption + hashtag_posts.loc[i, \"thumbnail_text\"]\n",
    "        texts.append(preprocess_text(text))\n",
    "\n",
    "texts"
   ]
  },
  {
   "cell_type": "markdown",
   "metadata": {},
   "source": [
    "#### Detect language"
   ]
  },
  {
   "cell_type": "code",
   "execution_count": 83,
   "metadata": {},
   "outputs": [
    {
     "name": "stdout",
     "output_type": "stream",
     "text": [
      "[{'standard-english': 0.0, 'local-english': 0.0, 'manglish': 0.0, 'standard-indonesian': 0.0, 'socialmedia-indonesian': 0.0, 'standard-malay': 0.0, 'local-malay': 0.7632781, 'standard-mandarin': 0.0, 'local-mandarin': 0.0, 'other': 0.0}]\n",
      "[{'standard-english': 0.0, 'local-english': 0.0, 'manglish': 0.0, 'standard-indonesian': 0.0, 'socialmedia-indonesian': 0.0, 'standard-malay': 0.0, 'local-malay': 0.9847328, 'standard-mandarin': 0.0, 'local-mandarin': 0.0, 'other': 0.0}]\n",
      "[{'standard-english': 0.0, 'local-english': 0.0, 'manglish': 0.45959678, 'standard-indonesian': 0.0, 'socialmedia-indonesian': 0.0, 'standard-malay': 0.0, 'local-malay': 0.0, 'standard-mandarin': 0.0, 'local-mandarin': 0.0, 'other': 0.0}]\n",
      "[{'standard-english': 0.0, 'local-english': 0.0, 'manglish': 0.0, 'standard-indonesian': 0.0, 'socialmedia-indonesian': 0.0, 'standard-malay': 0.80992615, 'local-malay': 0.0, 'standard-mandarin': 0.0, 'local-mandarin': 0.0, 'other': 0.0}]\n",
      "[{'standard-english': 0.7093655, 'local-english': 0.0, 'manglish': 0.0, 'standard-indonesian': 0.0, 'socialmedia-indonesian': 0.0, 'standard-malay': 0.0, 'local-malay': 0.0, 'standard-mandarin': 0.0, 'local-mandarin': 0.0, 'other': 0.0}]\n",
      "[{'standard-english': 0.9805268, 'local-english': 0.0, 'manglish': 0.0, 'standard-indonesian': 0.0, 'socialmedia-indonesian': 0.0, 'standard-malay': 0.0, 'local-malay': 0.0, 'standard-mandarin': 0.0, 'local-mandarin': 0.0, 'other': 0.0}]\n",
      "[{'standard-english': 0.9061153, 'local-english': 0.0, 'manglish': 0.0, 'standard-indonesian': 0.0, 'socialmedia-indonesian': 0.0, 'standard-malay': 0.0, 'local-malay': 0.0, 'standard-mandarin': 0.0, 'local-mandarin': 0.0, 'other': 0.0}]\n",
      "[{'standard-english': 0.0, 'local-english': 0.6261354, 'manglish': 0.0, 'standard-indonesian': 0.0, 'socialmedia-indonesian': 0.0, 'standard-malay': 0.0, 'local-malay': 0.0, 'standard-mandarin': 0.0, 'local-mandarin': 0.0, 'other': 0.0}]\n",
      "[{'standard-english': 0.991231, 'local-english': 0.0, 'manglish': 0.0, 'standard-indonesian': 0.0, 'socialmedia-indonesian': 0.0, 'standard-malay': 0.0, 'local-malay': 0.0, 'standard-mandarin': 0.0, 'local-mandarin': 0.0, 'other': 0.0}]\n",
      "[{'standard-english': 0.0, 'local-english': 0.0, 'manglish': 0.0, 'standard-indonesian': 0.0, 'socialmedia-indonesian': 0.0, 'standard-malay': 0.0, 'local-malay': 0.83348745, 'standard-mandarin': 0.0, 'local-mandarin': 0.0, 'other': 0.0}]\n",
      "[{'standard-english': 0.0, 'local-english': 0.0, 'manglish': 0.0, 'standard-indonesian': 0.0, 'socialmedia-indonesian': 0.0, 'standard-malay': 0.9879052, 'local-malay': 0.0, 'standard-mandarin': 0.0, 'local-mandarin': 0.0, 'other': 0.0}]\n",
      "[{'standard-english': 0.0, 'local-english': 0.6254021, 'manglish': 0.0, 'standard-indonesian': 0.0, 'socialmedia-indonesian': 0.0, 'standard-malay': 0.0, 'local-malay': 0.0, 'standard-mandarin': 0.0, 'local-mandarin': 0.0, 'other': 0.0}]\n",
      "[{'standard-english': 0.6463458, 'local-english': 0.0, 'manglish': 0.0, 'standard-indonesian': 0.0, 'socialmedia-indonesian': 0.0, 'standard-malay': 0.0, 'local-malay': 0.0, 'standard-mandarin': 0.0, 'local-mandarin': 0.0, 'other': 0.0}]\n",
      "[{'standard-english': 0.0, 'local-english': 0.0, 'manglish': 0.7357138, 'standard-indonesian': 0.0, 'socialmedia-indonesian': 0.0, 'standard-malay': 0.0, 'local-malay': 0.0, 'standard-mandarin': 0.0, 'local-mandarin': 0.0, 'other': 0.0}]\n",
      "[{'standard-english': 0.0, 'local-english': 0.0, 'manglish': 0.9809284, 'standard-indonesian': 0.0, 'socialmedia-indonesian': 0.0, 'standard-malay': 0.0, 'local-malay': 0.0, 'standard-mandarin': 0.0, 'local-mandarin': 0.0, 'other': 0.0}]\n",
      "[{'standard-english': 0.0, 'local-english': 0.0, 'manglish': 0.0, 'standard-indonesian': 0.0, 'socialmedia-indonesian': 0.0, 'standard-malay': 0.0, 'local-malay': 0.9504163, 'standard-mandarin': 0.0, 'local-mandarin': 0.0, 'other': 0.0}]\n",
      "[{'standard-english': 0.0, 'local-english': 0.9115521, 'manglish': 0.0, 'standard-indonesian': 0.0, 'socialmedia-indonesian': 0.0, 'standard-malay': 0.0, 'local-malay': 0.0, 'standard-mandarin': 0.0, 'local-mandarin': 0.0, 'other': 0.0}]\n",
      "[{'standard-english': 0.85307205, 'local-english': 0.0, 'manglish': 0.0, 'standard-indonesian': 0.0, 'socialmedia-indonesian': 0.0, 'standard-malay': 0.0, 'local-malay': 0.0, 'standard-mandarin': 0.0, 'local-mandarin': 0.0, 'other': 0.0}]\n",
      "[{'standard-english': 0.85546654, 'local-english': 0.0, 'manglish': 0.0, 'standard-indonesian': 0.0, 'socialmedia-indonesian': 0.0, 'standard-malay': 0.0, 'local-malay': 0.0, 'standard-mandarin': 0.0, 'local-mandarin': 0.0, 'other': 0.0}]\n",
      "[{'standard-english': 0.0, 'local-english': 0.0, 'manglish': 0.0, 'standard-indonesian': 0.0, 'socialmedia-indonesian': 0.0, 'standard-malay': 0.82470423, 'local-malay': 0.0, 'standard-mandarin': 0.0, 'local-mandarin': 0.0, 'other': 0.0}]\n",
      "[{'standard-english': 0.8334415, 'local-english': 0.0, 'manglish': 0.0, 'standard-indonesian': 0.0, 'socialmedia-indonesian': 0.0, 'standard-malay': 0.0, 'local-malay': 0.0, 'standard-mandarin': 0.0, 'local-mandarin': 0.0, 'other': 0.0}]\n",
      "[{'standard-english': 0.80514294, 'local-english': 0.0, 'manglish': 0.0, 'standard-indonesian': 0.0, 'socialmedia-indonesian': 0.0, 'standard-malay': 0.0, 'local-malay': 0.0, 'standard-mandarin': 0.0, 'local-mandarin': 0.0, 'other': 0.0}]\n",
      "[{'standard-english': 0.0, 'local-english': 0.7534724, 'manglish': 0.0, 'standard-indonesian': 0.0, 'socialmedia-indonesian': 0.0, 'standard-malay': 0.0, 'local-malay': 0.0, 'standard-mandarin': 0.0, 'local-mandarin': 0.0, 'other': 0.0}]\n",
      "[{'standard-english': 0.6464797, 'local-english': 0.0, 'manglish': 0.0, 'standard-indonesian': 0.0, 'socialmedia-indonesian': 0.0, 'standard-malay': 0.0, 'local-malay': 0.0, 'standard-mandarin': 0.0, 'local-mandarin': 0.0, 'other': 0.0}]\n",
      "[{'standard-english': 0.7673043, 'local-english': 0.0, 'manglish': 0.0, 'standard-indonesian': 0.0, 'socialmedia-indonesian': 0.0, 'standard-malay': 0.0, 'local-malay': 0.0, 'standard-mandarin': 0.0, 'local-mandarin': 0.0, 'other': 0.0}]\n",
      "[{'standard-english': 0.7533466, 'local-english': 0.0, 'manglish': 0.0, 'standard-indonesian': 0.0, 'socialmedia-indonesian': 0.0, 'standard-malay': 0.0, 'local-malay': 0.0, 'standard-mandarin': 0.0, 'local-mandarin': 0.0, 'other': 0.0}]\n",
      "[{'standard-english': 0.9901681, 'local-english': 0.0, 'manglish': 0.0, 'standard-indonesian': 0.0, 'socialmedia-indonesian': 0.0, 'standard-malay': 0.0, 'local-malay': 0.0, 'standard-mandarin': 0.0, 'local-mandarin': 0.0, 'other': 0.0}]\n",
      "[{'standard-english': 0.5528822, 'local-english': 0.0, 'manglish': 0.0, 'standard-indonesian': 0.0, 'socialmedia-indonesian': 0.0, 'standard-malay': 0.0, 'local-malay': 0.0, 'standard-mandarin': 0.0, 'local-mandarin': 0.0, 'other': 0.0}]\n",
      "[{'standard-english': 0.9150669, 'local-english': 0.0, 'manglish': 0.0, 'standard-indonesian': 0.0, 'socialmedia-indonesian': 0.0, 'standard-malay': 0.0, 'local-malay': 0.0, 'standard-mandarin': 0.0, 'local-mandarin': 0.0, 'other': 0.0}]\n",
      "[{'standard-english': 0.0, 'local-english': 0.0, 'manglish': 0.0, 'standard-indonesian': 0.0, 'socialmedia-indonesian': 0.0, 'standard-malay': 0.8419146, 'local-malay': 0.0, 'standard-mandarin': 0.0, 'local-mandarin': 0.0, 'other': 0.0}]\n",
      "[{'standard-english': 0.99496007, 'local-english': 0.0, 'manglish': 0.0, 'standard-indonesian': 0.0, 'socialmedia-indonesian': 0.0, 'standard-malay': 0.0, 'local-malay': 0.0, 'standard-mandarin': 0.0, 'local-mandarin': 0.0, 'other': 0.0}]\n",
      "[{'standard-english': 0.7990683, 'local-english': 0.0, 'manglish': 0.0, 'standard-indonesian': 0.0, 'socialmedia-indonesian': 0.0, 'standard-malay': 0.0, 'local-malay': 0.0, 'standard-mandarin': 0.0, 'local-mandarin': 0.0, 'other': 0.0}]\n",
      "[{'standard-english': 0.8981058, 'local-english': 0.0, 'manglish': 0.0, 'standard-indonesian': 0.0, 'socialmedia-indonesian': 0.0, 'standard-malay': 0.0, 'local-malay': 0.0, 'standard-mandarin': 0.0, 'local-mandarin': 0.0, 'other': 0.0}]\n",
      "[{'standard-english': 0.60018826, 'local-english': 0.0, 'manglish': 0.0, 'standard-indonesian': 0.0, 'socialmedia-indonesian': 0.0, 'standard-malay': 0.0, 'local-malay': 0.0, 'standard-mandarin': 0.0, 'local-mandarin': 0.0, 'other': 0.0}]\n",
      "[{'standard-english': 0.0, 'local-english': 0.0, 'manglish': 0.0, 'standard-indonesian': 0.0, 'socialmedia-indonesian': 0.0, 'standard-malay': 0.81586534, 'local-malay': 0.0, 'standard-mandarin': 0.0, 'local-mandarin': 0.0, 'other': 0.0}]\n",
      "[{'standard-english': 0.9772678, 'local-english': 0.0, 'manglish': 0.0, 'standard-indonesian': 0.0, 'socialmedia-indonesian': 0.0, 'standard-malay': 0.0, 'local-malay': 0.0, 'standard-mandarin': 0.0, 'local-mandarin': 0.0, 'other': 0.0}]\n",
      "[{'standard-english': 0.8309893, 'local-english': 0.0, 'manglish': 0.0, 'standard-indonesian': 0.0, 'socialmedia-indonesian': 0.0, 'standard-malay': 0.0, 'local-malay': 0.0, 'standard-mandarin': 0.0, 'local-mandarin': 0.0, 'other': 0.0}]\n",
      "[{'standard-english': 0.0, 'local-english': 0.7395742, 'manglish': 0.0, 'standard-indonesian': 0.0, 'socialmedia-indonesian': 0.0, 'standard-malay': 0.0, 'local-malay': 0.0, 'standard-mandarin': 0.0, 'local-mandarin': 0.0, 'other': 0.0}]\n",
      "[{'standard-english': 0.0, 'local-english': 0.0, 'manglish': 0.0, 'standard-indonesian': 0.0, 'socialmedia-indonesian': 0.0, 'standard-malay': 0.0, 'local-malay': 0.85892177, 'standard-mandarin': 0.0, 'local-mandarin': 0.0, 'other': 0.0}]\n",
      "[{'standard-english': 0.8375204, 'local-english': 0.0, 'manglish': 0.0, 'standard-indonesian': 0.0, 'socialmedia-indonesian': 0.0, 'standard-malay': 0.0, 'local-malay': 0.0, 'standard-mandarin': 0.0, 'local-mandarin': 0.0, 'other': 0.0}]\n",
      "[{'standard-english': 0.66451275, 'local-english': 0.0, 'manglish': 0.0, 'standard-indonesian': 0.0, 'socialmedia-indonesian': 0.0, 'standard-malay': 0.0, 'local-malay': 0.0, 'standard-mandarin': 0.0, 'local-mandarin': 0.0, 'other': 0.0}]\n",
      "[{'standard-english': 0.82474023, 'local-english': 0.0, 'manglish': 0.0, 'standard-indonesian': 0.0, 'socialmedia-indonesian': 0.0, 'standard-malay': 0.0, 'local-malay': 0.0, 'standard-mandarin': 0.0, 'local-mandarin': 0.0, 'other': 0.0}]\n",
      "[{'standard-english': 0.7587243, 'local-english': 0.0, 'manglish': 0.0, 'standard-indonesian': 0.0, 'socialmedia-indonesian': 0.0, 'standard-malay': 0.0, 'local-malay': 0.0, 'standard-mandarin': 0.0, 'local-mandarin': 0.0, 'other': 0.0}]\n",
      "[{'standard-english': 0.6234627, 'local-english': 0.0, 'manglish': 0.0, 'standard-indonesian': 0.0, 'socialmedia-indonesian': 0.0, 'standard-malay': 0.0, 'local-malay': 0.0, 'standard-mandarin': 0.0, 'local-mandarin': 0.0, 'other': 0.0}]\n",
      "[{'standard-english': 0.0, 'local-english': 0.0, 'manglish': 0.0, 'standard-indonesian': 0.0, 'socialmedia-indonesian': 0.0, 'standard-malay': 0.45865107, 'local-malay': 0.0, 'standard-mandarin': 0.0, 'local-mandarin': 0.0, 'other': 0.0}]\n",
      "[{'standard-english': 0.59241694, 'local-english': 0.0, 'manglish': 0.0, 'standard-indonesian': 0.0, 'socialmedia-indonesian': 0.0, 'standard-malay': 0.0, 'local-malay': 0.0, 'standard-mandarin': 0.0, 'local-mandarin': 0.0, 'other': 0.0}]\n",
      "[{'standard-english': 0.0, 'local-english': 0.0, 'manglish': 0.7170021, 'standard-indonesian': 0.0, 'socialmedia-indonesian': 0.0, 'standard-malay': 0.0, 'local-malay': 0.0, 'standard-mandarin': 0.0, 'local-mandarin': 0.0, 'other': 0.0}]\n",
      "[{'standard-english': 0.0, 'local-english': 0.863763, 'manglish': 0.0, 'standard-indonesian': 0.0, 'socialmedia-indonesian': 0.0, 'standard-malay': 0.0, 'local-malay': 0.0, 'standard-mandarin': 0.0, 'local-mandarin': 0.0, 'other': 0.0}]\n",
      "[{'standard-english': 0.8224159, 'local-english': 0.0, 'manglish': 0.0, 'standard-indonesian': 0.0, 'socialmedia-indonesian': 0.0, 'standard-malay': 0.0, 'local-malay': 0.0, 'standard-mandarin': 0.0, 'local-mandarin': 0.0, 'other': 0.0}]\n",
      "[{'standard-english': 0.0, 'local-english': 0.0, 'manglish': 0.0, 'standard-indonesian': 0.0, 'socialmedia-indonesian': 0.0, 'standard-malay': 0.0, 'local-malay': 0.39946267, 'standard-mandarin': 0.0, 'local-mandarin': 0.0, 'other': 0.0}]\n"
     ]
    },
    {
     "name": "stderr",
     "output_type": "stream",
     "text": [
      "Warning : `load_model` does not return WordVectorModel or SupervisedModel any more, but a `FastText` object which is very similar.\n"
     ]
    }
   ],
   "source": [
    "import operator\n",
    "fast_text = malaya.language_detection.fasttext()\n",
    "\n",
    "langs = []\n",
    "lang_probas = []\n",
    "\n",
    "for text in texts:\n",
    "    prob_dict = fast_text.predict_proba([text])\n",
    "    print(prob_dict)\n",
    "\n",
    "    lang = max(prob_dict[0].items(), key=operator.itemgetter(1))[0]\n",
    "    prob = max(prob_dict[0].items(), key=operator.itemgetter(1))[1]\n",
    "    \n",
    "    langs.append(lang)\n",
    "    lang_probas.append(prob)\n",
    "\n",
    "hashtag_posts[\"Language\"] = langs\n",
    "hashtag_posts[\"Language Probability\"] = lang_probas"
   ]
  },
  {
   "cell_type": "code",
   "execution_count": null,
   "metadata": {},
   "outputs": [],
   "source": []
  }
 ],
 "metadata": {
  "kernelspec": {
   "display_name": "work",
   "language": "python",
   "name": "python3"
  },
  "language_info": {
   "codemirror_mode": {
    "name": "ipython",
    "version": 3
   },
   "file_extension": ".py",
   "mimetype": "text/x-python",
   "name": "python",
   "nbconvert_exporter": "python",
   "pygments_lexer": "ipython3",
   "version": "3.10.15"
  }
 },
 "nbformat": 4,
 "nbformat_minor": 2
}
