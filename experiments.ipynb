{
 "cells": [
  {
   "cell_type": "code",
<<<<<<< HEAD
   "execution_count": 24,
   "metadata": {},
   "outputs": [],
   "source": [
    "from tweety.filters import SearchFilters\n",
    "import nest_asyncio\n",
    "from tweety import TwitterAsync\n",
    "import toml\n",
    "import os\n",
    "from pathlib import Path\n",
    "import pandas as pd"
=======
   "execution_count": 1,
   "metadata": {},
   "outputs": [
    {
     "name": "stderr",
     "output_type": "stream",
     "text": [
      "/home/faiz/anaconda3/envs/work/lib/python3.10/site-packages/malaya/tokenizer.py:214: FutureWarning: Possible nested set at position 3397\n",
      "  self.tok = re.compile(r'({})'.format('|'.join(pipeline)))\n",
      "/home/faiz/anaconda3/envs/work/lib/python3.10/site-packages/malaya/tokenizer.py:214: FutureWarning: Possible nested set at position 3927\n",
      "  self.tok = re.compile(r'({})'.format('|'.join(pipeline)))\n"
     ]
    }
   ],
   "source": [
    "from instagrapi import Client\n",
    "from instagrapi.exceptions import LoginRequired\n",
    "import toml\n",
    "import logging\n",
    "\n",
    "import pandas as pd\n",
    "import matplotlib.pyplot as plt\n",
    "import plotly.express as px\n",
    "\n",
    "from PIL import Image\n",
    "import requests\n",
    "from io import BytesIO\n",
    "\n",
    "import pytesseract\n",
    "import malaya"
   ]
  },
  {
   "cell_type": "markdown",
   "metadata": {},
   "source": [
    "### Initialise client and load secrets file"
>>>>>>> 4e36de1ab11672148ad23254924f544aea67897b
   ]
  },
  {
   "cell_type": "code",
<<<<<<< HEAD
   "execution_count": 8,
   "metadata": {},
   "outputs": [],
   "source": [
    "sess_file = Path(os.getcwd() + \"/session.tw_session\")\n",
    "secret_file = Path(\"config/secrets.toml\")"
=======
   "execution_count": 2,
   "metadata": {},
   "outputs": [],
   "source": [
    "cl = Client()\n",
    "\n",
    "with open('secrets.toml', 'r') as f:\n",
    "    secrets = toml.load(f)"
   ]
  },
  {
   "cell_type": "markdown",
   "metadata": {},
   "source": [
    "### Login management"
   ]
  },
  {
   "cell_type": "markdown",
   "metadata": {},
   "source": [
    "#### Create session file\n",
    "Skip this if `session.json` has been created."
   ]
  },
  {
   "cell_type": "code",
   "execution_count": null,
   "metadata": {},
   "outputs": [],
   "source": [
    "\n",
    "cl.login(secrets[\"instagram\"][\"username\"], secrets[\"instagram\"][\"password\"])\n",
    "\n",
    "# save session file\n",
    "cl.dump_settings(\"session.json\")"
   ]
  },
  {
   "cell_type": "markdown",
   "metadata": {},
   "source": [
    "### Login function"
>>>>>>> 4e36de1ab11672148ad23254924f544aea67897b
   ]
  },
  {
   "cell_type": "code",
<<<<<<< HEAD
   "execution_count": 9,
=======
   "execution_count": 4,
   "metadata": {},
   "outputs": [],
   "source": [
    "logger = logging.getLogger()\n",
    "\n",
    "\n",
    "def login_user():\n",
    "    \"\"\"\n",
    "    Attempts to login to Instagram using either the provided session information\n",
    "    or the provided username and password.\n",
    "    \"\"\"\n",
    "\n",
    "    session = cl.load_settings(\"session.json\")\n",
    "\n",
    "    login_via_session = False\n",
    "    login_via_pw = False\n",
    "\n",
    "    if session:\n",
    "        try:\n",
    "            cl.set_settings(session)\n",
    "            cl.login(secrets[\"instagram\"][\"username\"], secrets[\"instagram\"][\"password\"])\n",
    "\n",
    "            # check if session is valid\n",
    "            try:\n",
    "                cl.get_timeline_feed()\n",
    "            except LoginRequired:\n",
    "                logger.info(\"Session is invalid, need to login via username and password\")\n",
    "\n",
    "                old_session = cl.get_settings()\n",
    "\n",
    "                # use the same device uuids across logins\n",
    "                cl.set_settings({})\n",
    "                cl.set_uuids(old_session[\"uuids\"])\n",
    "\n",
    "                cl.login(secrets[\"instagram\"][\"username\"], secrets[\"instagram\"][\"password\"])\n",
    "            login_via_session = True\n",
    "        except Exception as e:\n",
    "            logger.info(\"Couldn't login user using session information: %s\" % e)\n",
    "\n",
    "    if not login_via_session:\n",
    "        try:\n",
    "            logger.info(\"Attempting to login via username and password. username: %s\" % secrets[\"instagram\"][\"username\"])\n",
    "            if cl.login(secrets[\"instagram\"][\"username\"], secrets[\"instagram\"][\"password\"]):\n",
    "                login_via_pw = True\n",
    "        except Exception as e:\n",
    "            logger.info(\"Couldn't login user using username and password: %s\" % e)\n",
    "\n",
    "    if not login_via_pw and not login_via_session:\n",
    "        raise Exception(\"Couldn't login user with either password or session\")"
   ]
  },
  {
   "cell_type": "markdown",
   "metadata": {},
   "source": [
    "#### Login"
   ]
  },
  {
   "cell_type": "code",
   "execution_count": 5,
   "metadata": {},
   "outputs": [],
   "source": [
    "login_user()"
   ]
  },
  {
   "cell_type": "code",
   "execution_count": 15,
   "metadata": {},
   "outputs": [],
   "source": [
    "# hashtag_dump = cl.hashtag_medias_recent_v1(\"UniKL\", 50)\n",
    "hashtag_dump = cl.hashtag_medias_recent(\"UniKL\", 50)"
   ]
  },
  {
   "cell_type": "code",
   "execution_count": 16,
>>>>>>> 4e36de1ab11672148ad23254924f544aea67897b
   "metadata": {},
   "outputs": [],
   "source": [
    "nest_asyncio.apply()"
   ]
  },
  {
   "cell_type": "code",
<<<<<<< HEAD
   "execution_count": 10,
   "metadata": {},
   "outputs": [
    {
     "name": "stdout",
     "output_type": "stream",
     "text": [
      "Authenticating using session file...\n"
     ]
    },
    {
     "data": {
      "text/plain": [
       "User(id=16975132, username=MohdFaizuddin, name=Faiz, verified=False)"
      ]
     },
     "execution_count": 10,
     "metadata": {},
     "output_type": "execute_result"
    }
   ],
   "source": [
    "app = TwitterAsync(\"session\")\n",
    "\n",
    "if not sess_file.is_file():\n",
    "    print(\"Signin to create session file.\")\n",
    "\n",
    "    with open(secret_file) as f:\n",
    "        config = toml.load(f)\n",
    "\n",
    "    await app.sign_in(config[\"x\"][\"username\"], config[\"x\"][\"password\"])\n",
    "\n",
    "else:\n",
    "    print(\"Authenticating using session file...\")\n",
    "    \n",
    "await app.connect()"
   ]
  },
  {
   "cell_type": "code",
   "execution_count": 40,
   "metadata": {},
   "outputs": [],
   "source": [
    "tweets = await app.search(\"#UniKL\", filter_=SearchFilters.Latest(), wait_time=5)"
=======
   "execution_count": null,
   "metadata": {},
   "outputs": [],
   "source": [
    "hashtag_posts"
   ]
  },
  {
   "cell_type": "markdown",
   "metadata": {},
   "source": [
    "### Plotting location on the map "
   ]
  },
  {
   "cell_type": "code",
   "execution_count": 17,
   "metadata": {},
   "outputs": [],
   "source": [
    "def media_type_func(x,y):\n",
    "    if x == 1:\n",
    "        return \"Photo\"\n",
    "    elif x == 2 and y == \"feed\":\n",
    "        return \"Video\"\n",
    "    elif x == 2 and y == \"igtv\":\n",
    "        return \"IGTV\"\n",
    "    elif x == 2 and y == \"clips\":\n",
    "        return \"Reel\"\n",
    "    else:\n",
    "        return \"Album\""
   ]
  },
  {
   "cell_type": "code",
   "execution_count": 18,
   "metadata": {},
   "outputs": [],
   "source": [
    "geo_df = pd.DataFrame()\n",
    "\n",
    "geo_df[\"User\"] = hashtag_posts[\"user\"].str.get(\"username\")\n",
    "geo_df[\"Taken at\"] = hashtag_posts[\"taken_at\"]\n",
    "geo_df[\"Type\"] = hashtag_posts[\"media_type\"]\n",
    "geo_df[\"Product type\"] = hashtag_posts[\"product_type\"]\n",
    "\n",
    "geo_df[\"Type\"] = geo_df.apply(lambda x: media_type_func(x[\"Type\"], x[\"Product type\"]), axis=1)\n",
    "\n",
    "geo_df[\"Lat\"] = hashtag_posts[\"location\"].str.get(\"lat\")\n",
    "geo_df[\"Lan\"] = hashtag_posts[\"location\"].str.get(\"lng\")"
>>>>>>> 4e36de1ab11672148ad23254924f544aea67897b
   ]
  },
  {
   "cell_type": "code",
<<<<<<< HEAD
   "execution_count": 23,
=======
   "execution_count": 19,
>>>>>>> 4e36de1ab11672148ad23254924f544aea67897b
   "metadata": {},
   "outputs": [
    {
     "data": {
<<<<<<< HEAD
      "text/plain": [
       "<tweety.types.twDataTypes.Excel at 0x19905ea81d0>"
      ]
=======
      "application/vnd.plotly.v1+json": {
       "config": {
        "plotlyServerURL": "https://plot.ly"
       },
       "data": [
        {
         "customdata": [
          [
           "2019-08-13T06:18:52+00:00"
          ],
          [
           "2024-12-11T08:45:09+00:00"
          ],
          [
           "2018-11-12T13:48:06+00:00"
          ],
          [
           "2024-12-10T09:32:10+00:00"
          ],
          [
           "2024-01-21T09:52:49+00:00"
          ],
          [
           "2022-11-19T06:58:44+00:00"
          ]
         ],
         "hovertemplate": "<b>%{hovertext}</b><br><br>Type=Photo<br>Lat=%{lat}<br>Lan=%{lon}<br>Taken at=%{customdata[0]}<extra></extra>",
         "hovertext": [
          "nazirhussin10",
          "uniklpage",
          "joshualqy",
          "snack4lifee",
          "drasyrafwajdi",
          "fazrulazreen"
         ],
         "lat": [
          null,
          null,
          null,
          null,
          null,
          null
         ],
         "legendgroup": "Photo",
         "lon": [
          null,
          null,
          null,
          null,
          null,
          null
         ],
         "marker": {
          "color": "#636efa"
         },
         "mode": "markers",
         "name": "Photo",
         "showlegend": true,
         "subplot": "map",
         "type": "scattermap"
        },
        {
         "customdata": [
          [
           "2020-03-04T00:45:28+00:00"
          ]
         ],
         "hovertemplate": "<b>%{hovertext}</b><br><br>Type=IGTV<br>Lat=%{lat}<br>Lan=%{lon}<br>Taken at=%{customdata[0]}<extra></extra>",
         "hovertext": [
          "momento.unikl"
         ],
         "lat": [
          null
         ],
         "legendgroup": "IGTV",
         "lon": [
          null
         ],
         "marker": {
          "color": "#EF553B"
         },
         "mode": "markers",
         "name": "IGTV",
         "showlegend": true,
         "subplot": "map",
         "type": "scattermap"
        },
        {
         "customdata": [
          [
           "2023-06-20T08:12:37+00:00"
          ],
          [
           "2024-12-02T01:50:35+00:00"
          ],
          [
           "2024-12-12T17:25:58+00:00"
          ],
          [
           "2024-12-10T18:06:19+00:00"
          ],
          [
           "2022-06-19T05:22:19+00:00"
          ],
          [
           "2024-12-09T03:01:43+00:00"
          ],
          [
           "2024-12-05T05:13:30+00:00"
          ],
          [
           "2023-05-10T13:59:45+00:00"
          ]
         ],
         "hovertemplate": "<b>%{hovertext}</b><br><br>Type=Reel<br>Lat=%{lat}<br>Lan=%{lon}<br>Taken at=%{customdata[0]}<extra></extra>",
         "hovertext": [
          "adriaanahairy",
          "upsi._3_.cop",
          "javapitstopmobile",
          "uniklpage",
          "uniklpage",
          "upsi._3_.cop",
          "upsi._3_.cop",
          "uniklpage"
         ],
         "lat": [
          null,
          null,
          null,
          2.7161303489728,
          null,
          null,
          null,
          3.1669788724026
         ],
         "legendgroup": "Reel",
         "lon": [
          null,
          null,
          null,
          101.94341430242,
          null,
          null,
          null,
          101.71976476908
         ],
         "marker": {
          "color": "#00cc96"
         },
         "mode": "markers",
         "name": "Reel",
         "showlegend": true,
         "subplot": "map",
         "type": "scattermap"
        },
        {
         "customdata": [
          [
           "2024-12-12T00:35:31+00:00"
          ],
          [
           "2024-12-11T05:09:59+00:00"
          ],
          [
           "2024-12-11T05:05:13+00:00"
          ],
          [
           "2024-12-12T00:42:54+00:00"
          ],
          [
           "2024-12-10T15:16:46+00:00"
          ],
          [
           "2024-12-11T13:54:13+00:00"
          ],
          [
           "2024-12-09T08:27:05+00:00"
          ],
          [
           "2020-11-14T18:58:38+00:00"
          ],
          [
           "2024-12-01T12:32:43+00:00"
          ],
          [
           "2024-12-01T12:24:03+00:00"
          ],
          [
           "2020-10-14T14:44:17+00:00"
          ],
          [
           "2024-11-28T15:51:43+00:00"
          ],
          [
           "2024-12-13T01:25:32+00:00"
          ],
          [
           "2024-12-08T07:57:15+00:00"
          ],
          [
           "2022-12-05T12:36:05+00:00"
          ],
          [
           "2024-12-08T18:14:21+00:00"
          ],
          [
           "2024-11-22T11:57:13+00:00"
          ],
          [
           "2024-11-21T12:49:04+00:00"
          ],
          [
           "2024-12-11T04:38:51+00:00"
          ],
          [
           "2024-12-12T02:15:00+00:00"
          ],
          [
           "2022-11-27T13:57:11+00:00"
          ],
          [
           "2024-12-05T12:46:19+00:00"
          ],
          [
           "2024-11-01T14:38:24+00:00"
          ],
          [
           "2024-12-11T08:59:55+00:00"
          ],
          [
           "2024-12-12T13:54:30+00:00"
          ],
          [
           "2024-12-11T02:00:00+00:00"
          ],
          [
           "2023-12-09T12:16:28+00:00"
          ],
          [
           "2023-07-18T10:39:55+00:00"
          ],
          [
           "2024-09-14T16:25:41+00:00"
          ],
          [
           "2023-01-21T03:56:25+00:00"
          ],
          [
           "2024-11-19T10:16:30+00:00"
          ],
          [
           "2022-08-11T11:06:31+00:00"
          ],
          [
           "2024-12-06T12:36:33+00:00"
          ]
         ],
         "hovertemplate": "<b>%{hovertext}</b><br><br>Type=Album<br>Lat=%{lat}<br>Lan=%{lon}<br>Taken at=%{customdata[0]}<extra></extra>",
         "hovertext": [
          "mfieldplay",
          "mfieldplay",
          "mfieldplay",
          "mfieldplay",
          "uniklpage",
          "aiyedgraphy",
          "sekeping.art",
          "sweet_nikku_",
          "aiyedgraphy",
          "aiyedgraphy",
          "rienaamirah",
          "uniklpage",
          "uniklpage",
          "uniklpage",
          "fazrulazreen",
          "fareedaqml",
          "aiyedgraphy",
          "aiyedgraphy",
          "nasvisual",
          "4dhesign",
          "fazrulazreen",
          "uniklpage",
          "aiyedgraphy",
          "wowmimet",
          "southern_bundle_collection_2.0",
          "4dhesign",
          "uniklpage",
          "uniklpage",
          "aiyedgraphy",
          "fazrulazreen",
          "uniklpage",
          "uniklpage",
          "fotogenz.gallery"
         ],
         "lat": [
          2.8512782618881,
          2.8512782618881,
          2.8512782618881,
          2.8512782618881,
          2.7161303489728,
          null,
          3.0651734883111,
          null,
          null,
          null,
          null,
          3.0709893152613,
          3.1591511595119,
          2.9778139339138,
          null,
          null,
          null,
          null,
          null,
          null,
          null,
          3.1633339402696,
          null,
          null,
          null,
          null,
          3.1280882835434,
          2.92808402215,
          null,
          6.3046173405398,
          3.1683866923095,
          3.1621219109884,
          3.12264
         ],
         "legendgroup": "Album",
         "lon": [
          101.73589359272,
          101.73589359272,
          101.73589359272,
          101.73589359272,
          101.94341430242,
          null,
          101.50191710747,
          null,
          null,
          null,
          null,
          101.60842895508,
          101.7014409742,
          101.79117223417,
          null,
          null,
          null,
          null,
          null,
          null,
          null,
          101.69545900615,
          null,
          null,
          null,
          null,
          101.73827221829,
          101.75888094,
          null,
          99.721946474838,
          101.69134795429,
          101.69233321308,
          101.6517
         ],
         "marker": {
          "color": "#ab63fa"
         },
         "mode": "markers",
         "name": "Album",
         "showlegend": true,
         "subplot": "map",
         "type": "scattermap"
        },
        {
         "customdata": [
          [
           "2021-10-05T13:19:30+00:00"
          ],
          [
           "2019-08-16T06:43:42+00:00"
          ]
         ],
         "hovertemplate": "<b>%{hovertext}</b><br><br>Type=Video<br>Lat=%{lat}<br>Lan=%{lon}<br>Taken at=%{customdata[0]}<extra></extra>",
         "hovertext": [
          "uniklpage",
          "m.hidayat.azizan"
         ],
         "lat": [
          3.1591511595119,
          4.6033634318334
         ],
         "legendgroup": "Video",
         "lon": [
          101.7014409742,
          101.09036532403
         ],
         "marker": {
          "color": "#FFA15A"
         },
         "mode": "markers",
         "name": "Video",
         "showlegend": true,
         "subplot": "map",
         "type": "scattermap"
        }
       ],
       "layout": {
        "legend": {
         "title": {
          "text": "Type"
         },
         "tracegroupgap": 0
        },
        "map": {
         "center": {
          "lat": 3.2508633648022345,
          "lon": 101.59474365602989
         },
         "domain": {
          "x": [
           0,
           1
          ],
          "y": [
           0,
           1
          ]
         },
         "style": "carto-darkmatter",
         "zoom": 11
        },
        "mapbox": {
         "center": {
          "lat": 3.2508633648022345,
          "lon": 101.59474365602989
         },
         "style": "carto-darkmatter",
         "zoom": 11
        },
        "margin": {
         "t": 60
        },
        "template": {
         "data": {
          "bar": [
           {
            "error_x": {
             "color": "#2a3f5f"
            },
            "error_y": {
             "color": "#2a3f5f"
            },
            "marker": {
             "line": {
              "color": "#E5ECF6",
              "width": 0.5
             },
             "pattern": {
              "fillmode": "overlay",
              "size": 10,
              "solidity": 0.2
             }
            },
            "type": "bar"
           }
          ],
          "barpolar": [
           {
            "marker": {
             "line": {
              "color": "#E5ECF6",
              "width": 0.5
             },
             "pattern": {
              "fillmode": "overlay",
              "size": 10,
              "solidity": 0.2
             }
            },
            "type": "barpolar"
           }
          ],
          "carpet": [
           {
            "aaxis": {
             "endlinecolor": "#2a3f5f",
             "gridcolor": "white",
             "linecolor": "white",
             "minorgridcolor": "white",
             "startlinecolor": "#2a3f5f"
            },
            "baxis": {
             "endlinecolor": "#2a3f5f",
             "gridcolor": "white",
             "linecolor": "white",
             "minorgridcolor": "white",
             "startlinecolor": "#2a3f5f"
            },
            "type": "carpet"
           }
          ],
          "choropleth": [
           {
            "colorbar": {
             "outlinewidth": 0,
             "ticks": ""
            },
            "type": "choropleth"
           }
          ],
          "contour": [
           {
            "colorbar": {
             "outlinewidth": 0,
             "ticks": ""
            },
            "colorscale": [
             [
              0,
              "#0d0887"
             ],
             [
              0.1111111111111111,
              "#46039f"
             ],
             [
              0.2222222222222222,
              "#7201a8"
             ],
             [
              0.3333333333333333,
              "#9c179e"
             ],
             [
              0.4444444444444444,
              "#bd3786"
             ],
             [
              0.5555555555555556,
              "#d8576b"
             ],
             [
              0.6666666666666666,
              "#ed7953"
             ],
             [
              0.7777777777777778,
              "#fb9f3a"
             ],
             [
              0.8888888888888888,
              "#fdca26"
             ],
             [
              1,
              "#f0f921"
             ]
            ],
            "type": "contour"
           }
          ],
          "contourcarpet": [
           {
            "colorbar": {
             "outlinewidth": 0,
             "ticks": ""
            },
            "type": "contourcarpet"
           }
          ],
          "heatmap": [
           {
            "colorbar": {
             "outlinewidth": 0,
             "ticks": ""
            },
            "colorscale": [
             [
              0,
              "#0d0887"
             ],
             [
              0.1111111111111111,
              "#46039f"
             ],
             [
              0.2222222222222222,
              "#7201a8"
             ],
             [
              0.3333333333333333,
              "#9c179e"
             ],
             [
              0.4444444444444444,
              "#bd3786"
             ],
             [
              0.5555555555555556,
              "#d8576b"
             ],
             [
              0.6666666666666666,
              "#ed7953"
             ],
             [
              0.7777777777777778,
              "#fb9f3a"
             ],
             [
              0.8888888888888888,
              "#fdca26"
             ],
             [
              1,
              "#f0f921"
             ]
            ],
            "type": "heatmap"
           }
          ],
          "heatmapgl": [
           {
            "colorbar": {
             "outlinewidth": 0,
             "ticks": ""
            },
            "colorscale": [
             [
              0,
              "#0d0887"
             ],
             [
              0.1111111111111111,
              "#46039f"
             ],
             [
              0.2222222222222222,
              "#7201a8"
             ],
             [
              0.3333333333333333,
              "#9c179e"
             ],
             [
              0.4444444444444444,
              "#bd3786"
             ],
             [
              0.5555555555555556,
              "#d8576b"
             ],
             [
              0.6666666666666666,
              "#ed7953"
             ],
             [
              0.7777777777777778,
              "#fb9f3a"
             ],
             [
              0.8888888888888888,
              "#fdca26"
             ],
             [
              1,
              "#f0f921"
             ]
            ],
            "type": "heatmapgl"
           }
          ],
          "histogram": [
           {
            "marker": {
             "pattern": {
              "fillmode": "overlay",
              "size": 10,
              "solidity": 0.2
             }
            },
            "type": "histogram"
           }
          ],
          "histogram2d": [
           {
            "colorbar": {
             "outlinewidth": 0,
             "ticks": ""
            },
            "colorscale": [
             [
              0,
              "#0d0887"
             ],
             [
              0.1111111111111111,
              "#46039f"
             ],
             [
              0.2222222222222222,
              "#7201a8"
             ],
             [
              0.3333333333333333,
              "#9c179e"
             ],
             [
              0.4444444444444444,
              "#bd3786"
             ],
             [
              0.5555555555555556,
              "#d8576b"
             ],
             [
              0.6666666666666666,
              "#ed7953"
             ],
             [
              0.7777777777777778,
              "#fb9f3a"
             ],
             [
              0.8888888888888888,
              "#fdca26"
             ],
             [
              1,
              "#f0f921"
             ]
            ],
            "type": "histogram2d"
           }
          ],
          "histogram2dcontour": [
           {
            "colorbar": {
             "outlinewidth": 0,
             "ticks": ""
            },
            "colorscale": [
             [
              0,
              "#0d0887"
             ],
             [
              0.1111111111111111,
              "#46039f"
             ],
             [
              0.2222222222222222,
              "#7201a8"
             ],
             [
              0.3333333333333333,
              "#9c179e"
             ],
             [
              0.4444444444444444,
              "#bd3786"
             ],
             [
              0.5555555555555556,
              "#d8576b"
             ],
             [
              0.6666666666666666,
              "#ed7953"
             ],
             [
              0.7777777777777778,
              "#fb9f3a"
             ],
             [
              0.8888888888888888,
              "#fdca26"
             ],
             [
              1,
              "#f0f921"
             ]
            ],
            "type": "histogram2dcontour"
           }
          ],
          "mesh3d": [
           {
            "colorbar": {
             "outlinewidth": 0,
             "ticks": ""
            },
            "type": "mesh3d"
           }
          ],
          "parcoords": [
           {
            "line": {
             "colorbar": {
              "outlinewidth": 0,
              "ticks": ""
             }
            },
            "type": "parcoords"
           }
          ],
          "pie": [
           {
            "automargin": true,
            "type": "pie"
           }
          ],
          "scatter": [
           {
            "fillpattern": {
             "fillmode": "overlay",
             "size": 10,
             "solidity": 0.2
            },
            "type": "scatter"
           }
          ],
          "scatter3d": [
           {
            "line": {
             "colorbar": {
              "outlinewidth": 0,
              "ticks": ""
             }
            },
            "marker": {
             "colorbar": {
              "outlinewidth": 0,
              "ticks": ""
             }
            },
            "type": "scatter3d"
           }
          ],
          "scattercarpet": [
           {
            "marker": {
             "colorbar": {
              "outlinewidth": 0,
              "ticks": ""
             }
            },
            "type": "scattercarpet"
           }
          ],
          "scattergeo": [
           {
            "marker": {
             "colorbar": {
              "outlinewidth": 0,
              "ticks": ""
             }
            },
            "type": "scattergeo"
           }
          ],
          "scattergl": [
           {
            "marker": {
             "colorbar": {
              "outlinewidth": 0,
              "ticks": ""
             }
            },
            "type": "scattergl"
           }
          ],
          "scattermapbox": [
           {
            "marker": {
             "colorbar": {
              "outlinewidth": 0,
              "ticks": ""
             }
            },
            "type": "scattermapbox"
           }
          ],
          "scatterpolar": [
           {
            "marker": {
             "colorbar": {
              "outlinewidth": 0,
              "ticks": ""
             }
            },
            "type": "scatterpolar"
           }
          ],
          "scatterpolargl": [
           {
            "marker": {
             "colorbar": {
              "outlinewidth": 0,
              "ticks": ""
             }
            },
            "type": "scatterpolargl"
           }
          ],
          "scatterternary": [
           {
            "marker": {
             "colorbar": {
              "outlinewidth": 0,
              "ticks": ""
             }
            },
            "type": "scatterternary"
           }
          ],
          "surface": [
           {
            "colorbar": {
             "outlinewidth": 0,
             "ticks": ""
            },
            "colorscale": [
             [
              0,
              "#0d0887"
             ],
             [
              0.1111111111111111,
              "#46039f"
             ],
             [
              0.2222222222222222,
              "#7201a8"
             ],
             [
              0.3333333333333333,
              "#9c179e"
             ],
             [
              0.4444444444444444,
              "#bd3786"
             ],
             [
              0.5555555555555556,
              "#d8576b"
             ],
             [
              0.6666666666666666,
              "#ed7953"
             ],
             [
              0.7777777777777778,
              "#fb9f3a"
             ],
             [
              0.8888888888888888,
              "#fdca26"
             ],
             [
              1,
              "#f0f921"
             ]
            ],
            "type": "surface"
           }
          ],
          "table": [
           {
            "cells": {
             "fill": {
              "color": "#EBF0F8"
             },
             "line": {
              "color": "white"
             }
            },
            "header": {
             "fill": {
              "color": "#C8D4E3"
             },
             "line": {
              "color": "white"
             }
            },
            "type": "table"
           }
          ]
         },
         "layout": {
          "annotationdefaults": {
           "arrowcolor": "#2a3f5f",
           "arrowhead": 0,
           "arrowwidth": 1
          },
          "autotypenumbers": "strict",
          "coloraxis": {
           "colorbar": {
            "outlinewidth": 0,
            "ticks": ""
           }
          },
          "colorscale": {
           "diverging": [
            [
             0,
             "#8e0152"
            ],
            [
             0.1,
             "#c51b7d"
            ],
            [
             0.2,
             "#de77ae"
            ],
            [
             0.3,
             "#f1b6da"
            ],
            [
             0.4,
             "#fde0ef"
            ],
            [
             0.5,
             "#f7f7f7"
            ],
            [
             0.6,
             "#e6f5d0"
            ],
            [
             0.7,
             "#b8e186"
            ],
            [
             0.8,
             "#7fbc41"
            ],
            [
             0.9,
             "#4d9221"
            ],
            [
             1,
             "#276419"
            ]
           ],
           "sequential": [
            [
             0,
             "#0d0887"
            ],
            [
             0.1111111111111111,
             "#46039f"
            ],
            [
             0.2222222222222222,
             "#7201a8"
            ],
            [
             0.3333333333333333,
             "#9c179e"
            ],
            [
             0.4444444444444444,
             "#bd3786"
            ],
            [
             0.5555555555555556,
             "#d8576b"
            ],
            [
             0.6666666666666666,
             "#ed7953"
            ],
            [
             0.7777777777777778,
             "#fb9f3a"
            ],
            [
             0.8888888888888888,
             "#fdca26"
            ],
            [
             1,
             "#f0f921"
            ]
           ],
           "sequentialminus": [
            [
             0,
             "#0d0887"
            ],
            [
             0.1111111111111111,
             "#46039f"
            ],
            [
             0.2222222222222222,
             "#7201a8"
            ],
            [
             0.3333333333333333,
             "#9c179e"
            ],
            [
             0.4444444444444444,
             "#bd3786"
            ],
            [
             0.5555555555555556,
             "#d8576b"
            ],
            [
             0.6666666666666666,
             "#ed7953"
            ],
            [
             0.7777777777777778,
             "#fb9f3a"
            ],
            [
             0.8888888888888888,
             "#fdca26"
            ],
            [
             1,
             "#f0f921"
            ]
           ]
          },
          "colorway": [
           "#636efa",
           "#EF553B",
           "#00cc96",
           "#ab63fa",
           "#FFA15A",
           "#19d3f3",
           "#FF6692",
           "#B6E880",
           "#FF97FF",
           "#FECB52"
          ],
          "font": {
           "color": "#2a3f5f"
          },
          "geo": {
           "bgcolor": "white",
           "lakecolor": "white",
           "landcolor": "#E5ECF6",
           "showlakes": true,
           "showland": true,
           "subunitcolor": "white"
          },
          "hoverlabel": {
           "align": "left"
          },
          "hovermode": "closest",
          "mapbox": {
           "style": "light"
          },
          "paper_bgcolor": "white",
          "plot_bgcolor": "#E5ECF6",
          "polar": {
           "angularaxis": {
            "gridcolor": "white",
            "linecolor": "white",
            "ticks": ""
           },
           "bgcolor": "#E5ECF6",
           "radialaxis": {
            "gridcolor": "white",
            "linecolor": "white",
            "ticks": ""
           }
          },
          "scene": {
           "xaxis": {
            "backgroundcolor": "#E5ECF6",
            "gridcolor": "white",
            "gridwidth": 2,
            "linecolor": "white",
            "showbackground": true,
            "ticks": "",
            "zerolinecolor": "white"
           },
           "yaxis": {
            "backgroundcolor": "#E5ECF6",
            "gridcolor": "white",
            "gridwidth": 2,
            "linecolor": "white",
            "showbackground": true,
            "ticks": "",
            "zerolinecolor": "white"
           },
           "zaxis": {
            "backgroundcolor": "#E5ECF6",
            "gridcolor": "white",
            "gridwidth": 2,
            "linecolor": "white",
            "showbackground": true,
            "ticks": "",
            "zerolinecolor": "white"
           }
          },
          "shapedefaults": {
           "line": {
            "color": "#2a3f5f"
           }
          },
          "ternary": {
           "aaxis": {
            "gridcolor": "white",
            "linecolor": "white",
            "ticks": ""
           },
           "baxis": {
            "gridcolor": "white",
            "linecolor": "white",
            "ticks": ""
           },
           "bgcolor": "#E5ECF6",
           "caxis": {
            "gridcolor": "white",
            "linecolor": "white",
            "ticks": ""
           }
          },
          "title": {
           "x": 0.05
          },
          "xaxis": {
           "automargin": true,
           "gridcolor": "white",
           "linecolor": "white",
           "ticks": "",
           "title": {
            "standoff": 15
           },
           "zerolinecolor": "white",
           "zerolinewidth": 2
          },
          "yaxis": {
           "automargin": true,
           "gridcolor": "white",
           "linecolor": "white",
           "ticks": "",
           "title": {
            "standoff": 15
           },
           "zerolinecolor": "white",
           "zerolinewidth": 2
          }
         }
        }
       }
      }
>>>>>>> 4e36de1ab11672148ad23254924f544aea67897b
     },
     "execution_count": 23,
     "metadata": {},
     "output_type": "execute_result"
    }
   ],
   "source": [
<<<<<<< HEAD
    "tweets.to_xlsx()"
   ]
  },
  {
   "cell_type": "code",
   "execution_count": 62,
   "metadata": {},
   "outputs": [],
   "source": [
    "id = []\n",
    "created_on = []\n",
    "date = []\n",
    "text = []\n",
    "rich_text = []\n",
    "author = []\n",
    "is_retweet = []\n",
    "retweeted_tweet = []\n",
    "is_quoted = []\n",
    "quoted_tweet = []\n",
    "is_reply = []\n",
    "is_sensitive = []\n",
    "reply_counts = []\n",
    "quote_counts = []\n",
    "replied_to = []\n",
    "bookmark_count = []\n",
    "views = []\n",
    "likes = []\n",
    "language = []\n",
    "place = []\n",
    "retweet_counts = []\n",
    "source = []\n",
    "has_moderated_replies = []\n",
    "is_liked = []\n",
    "is_retweeted = []\n",
    "can_reply = []\n",
    "broadcast = []\n",
    "edit_control = []\n",
    "has_newer_version = []\n",
    "audio_space_id = []\n",
    "pool = []\n",
    "community = []\n",
    "media = []\n",
    "user_mentions = []\n",
    "urls = []\n",
    "hashtags = []\n",
    "symbols = []\n",
    "community_note = []\n",
    "url = []\n",
    "grok_share = []\n",
    "threads = []\n",
    "comments = []\n"
   ]
  },
  {
   "cell_type": "code",
   "execution_count": 63,
   "metadata": {},
   "outputs": [],
   "source": [
    "for t in tweets:\n",
    "    id.append(t[\"id\"])\n",
    "    created_on.append(t[\"created_on\"])\n",
    "    date.append(t[\"date\"])\n",
    "    text.append(t[\"text\"])\n",
    "    rich_text.append(t[\"rich_text\"])\n",
    "    author.append(t[\"author\"])\n",
    "    is_retweet.append(t[\"is_retweet\"])\n",
    "    retweeted_tweet.append(t[\"retweeted_tweet\"])\n",
    "    is_quoted.append(t[\"is_quoted\"])\n",
    "    quoted_tweet.append(t[\"quoted_tweet\"])\n",
    "    is_reply.append(t[\"is_reply\"])\n",
    "    is_sensitive.append(t[\"is_sensitive\"])\n",
    "    reply_counts.append(t[\"reply_counts\"])\n",
    "    quote_counts.append(t[\"quote_counts\"])\n",
    "    replied_to.append(t[\"replied_to\"])\n",
    "    bookmark_count.append(t[\"bookmark_count\"])\n",
    "    views.append(t[\"views\"])\n",
    "    likes.append(t[\"likes\"])\n",
    "    language.append(t[\"language\"])\n",
    "    place.append(t[\"place\"])\n",
    "    retweet_counts.append(t[\"retweet_counts\"])\n",
    "    source.append(t[\"source\"])\n",
    "    has_moderated_replies.append(t[\"has_moderated_replies\"])\n",
    "    is_liked.append(t[\"is_liked\"])\n",
    "    is_retweeted.append(t[\"is_retweeted\"])\n",
    "    can_reply.append(t[\"can_reply\"])\n",
    "    broadcast.append(t[\"broadcast\"])\n",
    "    edit_control.append(t[\"edit_control\"])\n",
    "    has_newer_version.append(t[\"has_newer_version\"])\n",
    "    audio_space_id.append(t[\"audio_space_id\"])\n",
    "    pool.append(t[\"pool\"])\n",
    "    community.append(t[\"community\"])\n",
    "    media.append(t[\"media\"])\n",
    "    user_mentions.append(t[\"user_mentions\"])\n",
    "    urls.append(t[\"urls\"])\n",
    "    hashtags.append(t[\"hashtags\"])\n",
    "    symbols.append(t[\"symbols\"])\n",
    "    community_note.append(t[\"community_note\"])\n",
    "    url.append(t[\"url\"])\n",
    "    grok_share.append(t[\"grok_share\"])\n",
    "    threads.append(t[\"threads\"])\n",
    "    comments.append(t[\"comments\"])"
   ]
  },
  {
   "cell_type": "code",
   "execution_count": 75,
   "metadata": {},
   "outputs": [],
   "source": [
    "df = pd.DataFrame(list(zip(id,\n",
    "                           created_on,\n",
    "                           date,\n",
    "                           text,\n",
    "                           rich_text,\n",
    "                           author,\n",
    "                           is_retweet,\n",
    "                           retweeted_tweet,\n",
    "                           is_quoted,\n",
    "                           quoted_tweet,\n",
    "                           is_reply,\n",
    "                           is_sensitive,\n",
    "                           reply_counts,\n",
    "                           quote_counts,\n",
    "                           replied_to,\n",
    "                           bookmark_count,\n",
    "                           views,\n",
    "                           likes,\n",
    "                           language,\n",
    "                           place,\n",
    "                           retweet_counts,\n",
    "                           source,\n",
    "                           has_moderated_replies,\n",
    "                           is_liked,\n",
    "                           is_retweeted,\n",
    "                           can_reply,\n",
    "                           broadcast,\n",
    "                           edit_control,\n",
    "                           has_newer_version,\n",
    "                           audio_space_id,\n",
    "                           pool,\n",
    "                           community,\n",
    "                           media,\n",
    "                           user_mentions,\n",
    "                           urls,\n",
    "                           hashtags,\n",
    "                           symbols,\n",
    "                           community_note,\n",
    "                           url,\n",
    "                           grok_share,\n",
    "                           threads,\n",
    "                           comments)), columns=[\"id\",\n",
    "                           \"created_on\",\n",
    "                           \"date\",\n",
    "                           \"text\",\n",
    "                           \"rich_text\",\n",
    "                           \"author\",\n",
    "                           \"is_retweet\",\n",
    "                           \"retweeted_tweet\",\n",
    "                           \"is_quoted\",\n",
    "                           \"quoted_tweet\",\n",
    "                           \"is_reply\",\n",
    "                           \"is_sensitive\",\n",
    "                           \"reply_counts\",\n",
    "                           \"quote_counts\",\n",
    "                           \"replied_to\",\n",
    "                           \"bookmark_count\",\n",
    "                           \"views\",\n",
    "                           \"likes\",\n",
    "                           \"language\",\n",
    "                           \"place\",\n",
    "                           \"retweet_counts\",\n",
    "                           \"source\",\n",
    "                           \"has_moderated_replies\",\n",
    "                           \"is_liked\",\n",
    "                           \"is_retweeted\",\n",
    "                           \"can_reply\",\n",
    "                           \"broadcast\",\n",
    "                           \"edit_control\",\n",
    "                           \"has_newer_version\",\n",
    "                           \"audio_space_id\",\n",
    "                           \"pool\",\n",
    "                           \"community\",\n",
    "                           \"media\",\n",
    "                           \"user_mentions\",\n",
    "                           \"urls\",\n",
    "                           \"hashtags\",\n",
    "                           \"symbols\",\n",
    "                           \"community_note\",\n",
    "                           \"url\",\n",
    "                           \"grok_share\",\n",
    "                           \"threads\",\n",
    "                           \"comments\"])"
   ]
  },
  {
   "cell_type": "code",
   "execution_count": 79,
   "metadata": {},
   "outputs": [
    {
     "data": {
      "text/html": [
       "<div>\n",
       "<style scoped>\n",
       "    .dataframe tbody tr th:only-of-type {\n",
       "        vertical-align: middle;\n",
       "    }\n",
       "\n",
       "    .dataframe tbody tr th {\n",
       "        vertical-align: top;\n",
       "    }\n",
       "\n",
       "    .dataframe thead th {\n",
       "        text-align: right;\n",
       "    }\n",
       "</style>\n",
       "<table border=\"1\" class=\"dataframe\">\n",
       "  <thead>\n",
       "    <tr style=\"text-align: right;\">\n",
       "      <th></th>\n",
       "      <th>id</th>\n",
       "      <th>created_on</th>\n",
       "      <th>date</th>\n",
       "      <th>text</th>\n",
       "      <th>rich_text</th>\n",
       "      <th>author</th>\n",
       "      <th>is_retweet</th>\n",
       "      <th>retweeted_tweet</th>\n",
       "      <th>is_quoted</th>\n",
       "      <th>quoted_tweet</th>\n",
       "      <th>...</th>\n",
       "      <th>media</th>\n",
       "      <th>user_mentions</th>\n",
       "      <th>urls</th>\n",
       "      <th>hashtags</th>\n",
       "      <th>symbols</th>\n",
       "      <th>community_note</th>\n",
       "      <th>url</th>\n",
       "      <th>grok_share</th>\n",
       "      <th>threads</th>\n",
       "      <th>comments</th>\n",
       "    </tr>\n",
       "  </thead>\n",
       "  <tbody>\n",
       "    <tr>\n",
       "      <th>0</th>\n",
       "      <td>1873243396372086822</td>\n",
       "      <td>2024-12-29 05:43:23+00:00</td>\n",
       "      <td>2024-12-29 05:43:23+00:00</td>\n",
       "      <td>Biserial correlation is used to measure the st...</td>\n",
       "      <td>None</td>\n",
       "      <td>{'id': '1813538837815230465', 'rest_id': '1813...</td>\n",
       "      <td>False</td>\n",
       "      <td>None</td>\n",
       "      <td>False</td>\n",
       "      <td>None</td>\n",
       "      <td>...</td>\n",
       "      <td>[{'display_url': 'pic.x.com/7Gov6VDGXO', 'expa...</td>\n",
       "      <td>[]</td>\n",
       "      <td>[]</td>\n",
       "      <td>[{'indices': [154, 159], 'text': 'spss'}, {'in...</td>\n",
       "      <td>[]</td>\n",
       "      <td>None</td>\n",
       "      <td>https://twitter.com/SPSS_SERVICE/status/187324...</td>\n",
       "      <td>None</td>\n",
       "      <td>[]</td>\n",
       "      <td>[]</td>\n",
       "    </tr>\n",
       "    <tr>\n",
       "      <th>1</th>\n",
       "      <td>1870317427709596053</td>\n",
       "      <td>2024-12-21 03:56:38+00:00</td>\n",
       "      <td>2024-12-21 03:56:38+00:00</td>\n",
       "      <td>#MARACorp #MARACorpGroup #MARA #MajlisAmanahRa...</td>\n",
       "      <td>None</td>\n",
       "      <td>{'id': '1423570826264158211', 'rest_id': '1423...</td>\n",
       "      <td>False</td>\n",
       "      <td>None</td>\n",
       "      <td>False</td>\n",
       "      <td>None</td>\n",
       "      <td>...</td>\n",
       "      <td>[]</td>\n",
       "      <td>[]</td>\n",
       "      <td>[]</td>\n",
       "      <td>[{'indices': [0, 9], 'text': 'MARACorp'}, {'in...</td>\n",
       "      <td>[]</td>\n",
       "      <td>None</td>\n",
       "      <td>https://twitter.com/maracorporation/status/187...</td>\n",
       "      <td>None</td>\n",
       "      <td>[]</td>\n",
       "      <td>[]</td>\n",
       "    </tr>\n",
       "    <tr>\n",
       "      <th>2</th>\n",
       "      <td>1869248718853279936</td>\n",
       "      <td>2024-12-18 05:09:58+00:00</td>\n",
       "      <td>2024-12-18 05:09:58+00:00</td>\n",
       "      <td>On 17 December 2024, the CEO of Bond Pricing A...</td>\n",
       "      <td>None</td>\n",
       "      <td>{'id': '232836641', 'rest_id': '232836641', 'c...</td>\n",
       "      <td>False</td>\n",
       "      <td>None</td>\n",
       "      <td>False</td>\n",
       "      <td>None</td>\n",
       "      <td>...</td>\n",
       "      <td>[{'display_url': 'pic.x.com/kUjsbS7w8o', 'expa...</td>\n",
       "      <td>[]</td>\n",
       "      <td>[]</td>\n",
       "      <td>[{'indices': [239, 255], 'text': 'connectwithb...</td>\n",
       "      <td>[]</td>\n",
       "      <td>None</td>\n",
       "      <td>https://twitter.com/BPA_Malaysia/status/186924...</td>\n",
       "      <td>None</td>\n",
       "      <td>[]</td>\n",
       "      <td>[]</td>\n",
       "    </tr>\n",
       "    <tr>\n",
       "      <th>3</th>\n",
       "      <td>1868236845324414996</td>\n",
       "      <td>2024-12-15 10:09:08+00:00</td>\n",
       "      <td>2024-12-15 10:09:08+00:00</td>\n",
       "      <td>#WeAreUniKL #UniversitiKualaLumpur #UniKL #Uni...</td>\n",
       "      <td>None</td>\n",
       "      <td>{'id': '1599686497', 'rest_id': '1599686497', ...</td>\n",
       "      <td>False</td>\n",
       "      <td>None</td>\n",
       "      <td>False</td>\n",
       "      <td>None</td>\n",
       "      <td>...</td>\n",
       "      <td>[{'display_url': 'pic.x.com/S4ya8Nvdwv', 'expa...</td>\n",
       "      <td>[]</td>\n",
       "      <td>[]</td>\n",
       "      <td>[{'indices': [0, 11], 'text': 'WeAreUniKL'}, {...</td>\n",
       "      <td>[]</td>\n",
       "      <td>None</td>\n",
       "      <td>https://twitter.com/UniKLOfficial/status/18682...</td>\n",
       "      <td>None</td>\n",
       "      <td>[]</td>\n",
       "      <td>[]</td>\n",
       "    </tr>\n",
       "    <tr>\n",
       "      <th>4</th>\n",
       "      <td>1867940132244115667</td>\n",
       "      <td>2024-12-14 14:30:06+00:00</td>\n",
       "      <td>2024-12-14 14:30:06+00:00</td>\n",
       "      <td>UniKLXPRESS 📝\\n\\n“UniKL to elevate education f...</td>\n",
       "      <td>None</td>\n",
       "      <td>{'id': '1599686497', 'rest_id': '1599686497', ...</td>\n",
       "      <td>False</td>\n",
       "      <td>None</td>\n",
       "      <td>False</td>\n",
       "      <td>None</td>\n",
       "      <td>...</td>\n",
       "      <td>[{'display_url': 'pic.x.com/AEKveIq8Jf', 'expa...</td>\n",
       "      <td>[]</td>\n",
       "      <td>[{'display_url': 'xpress.unikl.edu.my/educatio...</td>\n",
       "      <td>[{'indices': [153, 164], 'text': 'WeAreUniKL'}...</td>\n",
       "      <td>[]</td>\n",
       "      <td>None</td>\n",
       "      <td>https://twitter.com/UniKLOfficial/status/18679...</td>\n",
       "      <td>None</td>\n",
       "      <td>[]</td>\n",
       "      <td>[]</td>\n",
       "    </tr>\n",
       "    <tr>\n",
       "      <th>5</th>\n",
       "      <td>1867482638543732864</td>\n",
       "      <td>2024-12-13 08:12:11+00:00</td>\n",
       "      <td>2024-12-13 08:12:11+00:00</td>\n",
       "      <td>UniKLXPRESS 📝\\n\\n“19-year partnership with Rus...</td>\n",
       "      <td>None</td>\n",
       "      <td>{'id': '1599686497', 'rest_id': '1599686497', ...</td>\n",
       "      <td>False</td>\n",
       "      <td>None</td>\n",
       "      <td>False</td>\n",
       "      <td>None</td>\n",
       "      <td>...</td>\n",
       "      <td>[{'display_url': 'pic.x.com/OgXOKljbZ0', 'expa...</td>\n",
       "      <td>[]</td>\n",
       "      <td>[{'display_url': 'xpress.unikl.edu.my/partners...</td>\n",
       "      <td>[{'indices': [133, 144], 'text': 'WeAreUniKL'}...</td>\n",
       "      <td>[]</td>\n",
       "      <td>None</td>\n",
       "      <td>https://twitter.com/UniKLOfficial/status/18674...</td>\n",
       "      <td>None</td>\n",
       "      <td>[]</td>\n",
       "      <td>[]</td>\n",
       "    </tr>\n",
       "    <tr>\n",
       "      <th>6</th>\n",
       "      <td>1866744139569918063</td>\n",
       "      <td>2024-12-11 07:17:39+00:00</td>\n",
       "      <td>2024-12-11 07:17:39+00:00</td>\n",
       "      <td>UniKLXPRESS 📝\\n\\n“UniKL joins Railtec and Trov...</td>\n",
       "      <td>None</td>\n",
       "      <td>{'id': '1599686497', 'rest_id': '1599686497', ...</td>\n",
       "      <td>False</td>\n",
       "      <td>None</td>\n",
       "      <td>False</td>\n",
       "      <td>None</td>\n",
       "      <td>...</td>\n",
       "      <td>[{'display_url': 'pic.x.com/BQKeVfEaB5', 'expa...</td>\n",
       "      <td>[]</td>\n",
       "      <td>[{'display_url': 'xpress.unikl.edu.my/railtect...</td>\n",
       "      <td>[{'indices': [148, 159], 'text': 'WeAreUniKL'}...</td>\n",
       "      <td>[]</td>\n",
       "      <td>None</td>\n",
       "      <td>https://twitter.com/UniKLOfficial/status/18667...</td>\n",
       "      <td>None</td>\n",
       "      <td>[]</td>\n",
       "      <td>[]</td>\n",
       "    </tr>\n",
       "    <tr>\n",
       "      <th>7</th>\n",
       "      <td>1864956573103387009</td>\n",
       "      <td>2024-12-06 08:54:30+00:00</td>\n",
       "      <td>2024-12-06 08:54:30+00:00</td>\n",
       "      <td>May the best team rise to victory! 🎉\\n\\n#WeAre...</td>\n",
       "      <td>None</td>\n",
       "      <td>{'id': '1599686497', 'rest_id': '1599686497', ...</td>\n",
       "      <td>False</td>\n",
       "      <td>None</td>\n",
       "      <td>False</td>\n",
       "      <td>None</td>\n",
       "      <td>...</td>\n",
       "      <td>[]</td>\n",
       "      <td>[]</td>\n",
       "      <td>[]</td>\n",
       "      <td>[{'indices': [38, 49], 'text': 'WeAreUniKL'}, ...</td>\n",
       "      <td>[]</td>\n",
       "      <td>None</td>\n",
       "      <td>https://twitter.com/UniKLOfficial/status/18649...</td>\n",
       "      <td>None</td>\n",
       "      <td>[]</td>\n",
       "      <td>[]</td>\n",
       "    </tr>\n",
       "    <tr>\n",
       "      <th>8</th>\n",
       "      <td>1863498508495630452</td>\n",
       "      <td>2024-12-02 08:20:41+00:00</td>\n",
       "      <td>2024-12-02 08:20:41+00:00</td>\n",
       "      <td>📌 Apply now at https://t.co/16Qdbhrq7x or scan...</td>\n",
       "      <td>None</td>\n",
       "      <td>{'id': '1675769013501308928', 'rest_id': '1675...</td>\n",
       "      <td>False</td>\n",
       "      <td>None</td>\n",
       "      <td>False</td>\n",
       "      <td>None</td>\n",
       "      <td>...</td>\n",
       "      <td>[]</td>\n",
       "      <td>[]</td>\n",
       "      <td>[{'display_url': 'hyuglobalcenter.org', 'expan...</td>\n",
       "      <td>[{'indices': [67, 79], 'text': 'learnkorean'},...</td>\n",
       "      <td>[]</td>\n",
       "      <td>None</td>\n",
       "      <td>https://twitter.com/sarang_comm/status/1863498...</td>\n",
       "      <td>None</td>\n",
       "      <td>[]</td>\n",
       "      <td>[]</td>\n",
       "    </tr>\n",
       "    <tr>\n",
       "      <th>9</th>\n",
       "      <td>1862070101350236337</td>\n",
       "      <td>2024-11-28 09:44:42+00:00</td>\n",
       "      <td>2024-11-28 09:44:42+00:00</td>\n",
       "      <td>\"Kalau arwah atuk masih ada, pasti dialah yang...</td>\n",
       "      <td>None</td>\n",
       "      <td>{'id': '4711228398', 'rest_id': '4711228398', ...</td>\n",
       "      <td>False</td>\n",
       "      <td>None</td>\n",
       "      <td>False</td>\n",
       "      <td>None</td>\n",
       "      <td>...</td>\n",
       "      <td>[]</td>\n",
       "      <td>[]</td>\n",
       "      <td>[{'display_url': 'sinarbestari.sinarharian.com...</td>\n",
       "      <td>[{'indices': [105, 118], 'text': 'sinarbestari...</td>\n",
       "      <td>[]</td>\n",
       "      <td>None</td>\n",
       "      <td>https://twitter.com/sinarbestarimy/status/1862...</td>\n",
       "      <td>None</td>\n",
       "      <td>[]</td>\n",
       "      <td>[]</td>\n",
       "    </tr>\n",
       "    <tr>\n",
       "      <th>10</th>\n",
       "      <td>1861232649639207387</td>\n",
       "      <td>2024-11-26 02:16:58+00:00</td>\n",
       "      <td>2024-11-26 02:16:58+00:00</td>\n",
       "      <td>UNIKL BAKAL JALIN KERJASAMA DENGAN UNIVERSITI ...</td>\n",
       "      <td>None</td>\n",
       "      <td>{'id': '1645966062058631168', 'rest_id': '1645...</td>\n",
       "      <td>False</td>\n",
       "      <td>None</td>\n",
       "      <td>False</td>\n",
       "      <td>None</td>\n",
       "      <td>...</td>\n",
       "      <td>[]</td>\n",
       "      <td>[]</td>\n",
       "      <td>[{'display_url': 'vt.tiktok.com/ZSj9vNpKM/', '...</td>\n",
       "      <td>[{'indices': [131, 146], 'text': 'MalaysiaMADA...</td>\n",
       "      <td>[]</td>\n",
       "      <td>None</td>\n",
       "      <td>https://twitter.com/909090mira_mira/status/186...</td>\n",
       "      <td>None</td>\n",
       "      <td>[]</td>\n",
       "      <td>[]</td>\n",
       "    </tr>\n",
       "    <tr>\n",
       "      <th>11</th>\n",
       "      <td>1860818343420391501</td>\n",
       "      <td>2024-11-24 22:50:40+00:00</td>\n",
       "      <td>2024-11-24 22:50:40+00:00</td>\n",
       "      <td>Spearman Correlation used for not normal data ...</td>\n",
       "      <td>None</td>\n",
       "      <td>{'id': '1813538837815230465', 'rest_id': '1813...</td>\n",
       "      <td>False</td>\n",
       "      <td>None</td>\n",
       "      <td>False</td>\n",
       "      <td>None</td>\n",
       "      <td>...</td>\n",
       "      <td>[{'display_url': 'pic.x.com/eEcceBTD8i', 'expa...</td>\n",
       "      <td>[]</td>\n",
       "      <td>[]</td>\n",
       "      <td>[{'indices': [115, 120], 'text': 'spss'}, {'in...</td>\n",
       "      <td>[]</td>\n",
       "      <td>None</td>\n",
       "      <td>https://twitter.com/SPSS_SERVICE/status/186081...</td>\n",
       "      <td>None</td>\n",
       "      <td>[]</td>\n",
       "      <td>[]</td>\n",
       "    </tr>\n",
       "    <tr>\n",
       "      <th>12</th>\n",
       "      <td>1860321259067965747</td>\n",
       "      <td>2024-11-23 13:55:25+00:00</td>\n",
       "      <td>2024-11-23 13:55:25+00:00</td>\n",
       "      <td>Meet the amazing folks behind the UniKL Convoc...</td>\n",
       "      <td>None</td>\n",
       "      <td>{'id': '333293236', 'rest_id': '333293236', 'c...</td>\n",
       "      <td>False</td>\n",
       "      <td>None</td>\n",
       "      <td>False</td>\n",
       "      <td>None</td>\n",
       "      <td>...</td>\n",
       "      <td>[{'display_url': 'pic.x.com/RjSvJqe8hB', 'expa...</td>\n",
       "      <td>[]</td>\n",
       "      <td>[]</td>\n",
       "      <td>[{'indices': [122, 133], 'text': 'uniklconvo'}...</td>\n",
       "      <td>[]</td>\n",
       "      <td>None</td>\n",
       "      <td>https://twitter.com/aaizatmustaffa/status/1860...</td>\n",
       "      <td>None</td>\n",
       "      <td>[]</td>\n",
       "      <td>[]</td>\n",
       "    </tr>\n",
       "    <tr>\n",
       "      <th>13</th>\n",
       "      <td>1858798091597738162</td>\n",
       "      <td>2024-11-19 09:02:54+00:00</td>\n",
       "      <td>2024-11-19 09:02:54+00:00</td>\n",
       "      <td>Satu lagi khabar gembira kepada bakal-bakal pe...</td>\n",
       "      <td>None</td>\n",
       "      <td>{'id': '4711228398', 'rest_id': '4711228398', ...</td>\n",
       "      <td>False</td>\n",
       "      <td>None</td>\n",
       "      <td>False</td>\n",
       "      <td>None</td>\n",
       "      <td>...</td>\n",
       "      <td>[]</td>\n",
       "      <td>[]</td>\n",
       "      <td>[{'display_url': 'sinarbestari.sinarharian.com...</td>\n",
       "      <td>[{'indices': [98, 104], 'text': 'unikl'}, {'in...</td>\n",
       "      <td>[]</td>\n",
       "      <td>None</td>\n",
       "      <td>https://twitter.com/sinarbestarimy/status/1858...</td>\n",
       "      <td>None</td>\n",
       "      <td>[]</td>\n",
       "      <td>[]</td>\n",
       "    </tr>\n",
       "    <tr>\n",
       "      <th>14</th>\n",
       "      <td>1858755403766772116</td>\n",
       "      <td>2024-11-19 06:13:16+00:00</td>\n",
       "      <td>2024-11-19 06:13:16+00:00</td>\n",
       "      <td>𝗕𝗜𝗖𝗔𝗥𝗔 𝗚𝗥𝗔𝗗𝗨𝗔𝗡 | 𝗞𝗢𝗡𝗩𝗢𝗞𝗘𝗦𝗬𝗘𝗡 𝗨𝗡𝗜𝗞𝗟 𝗞𝗘 𝟮𝟭 \\n\\n#...</td>\n",
       "      <td>None</td>\n",
       "      <td>{'id': '130896395', 'rest_id': '130896395', 'c...</td>\n",
       "      <td>False</td>\n",
       "      <td>None</td>\n",
       "      <td>False</td>\n",
       "      <td>None</td>\n",
       "      <td>...</td>\n",
       "      <td>[{'display_url': 'pic.x.com/w0z2J2xN5y', 'expa...</td>\n",
       "      <td>[]</td>\n",
       "      <td>[]</td>\n",
       "      <td>[{'indices': [43, 59], 'text': 'MerakyatkanMAR...</td>\n",
       "      <td>[]</td>\n",
       "      <td>None</td>\n",
       "      <td>https://twitter.com/maragov/status/18587554037...</td>\n",
       "      <td>None</td>\n",
       "      <td>[]</td>\n",
       "      <td>[]</td>\n",
       "    </tr>\n",
       "    <tr>\n",
       "      <th>15</th>\n",
       "      <td>1858748379595239597</td>\n",
       "      <td>2024-11-19 05:45:22+00:00</td>\n",
       "      <td>2024-11-19 05:45:22+00:00</td>\n",
       "      <td>𝗞𝗘𝗞𝗨𝗥𝗔𝗡𝗚𝗔𝗡 𝗕𝗨𝗞𝗔𝗡 𝗛𝗔𝗟𝗔𝗡𝗚𝗔𝗡 𝗨𝗡𝗧𝗨𝗞 𝗕𝗘𝗥𝗝𝗔𝗬𝗔 | 𝗞𝗢𝗡𝗩...</td>\n",
       "      <td>None</td>\n",
       "      <td>{'id': '130896395', 'rest_id': '130896395', 'c...</td>\n",
       "      <td>False</td>\n",
       "      <td>None</td>\n",
       "      <td>False</td>\n",
       "      <td>None</td>\n",
       "      <td>...</td>\n",
       "      <td>[{'display_url': 'pic.x.com/b40NYrwZCs', 'expa...</td>\n",
       "      <td>[]</td>\n",
       "      <td>[]</td>\n",
       "      <td>[{'indices': [68, 84], 'text': 'MerakyatkanMAR...</td>\n",
       "      <td>[]</td>\n",
       "      <td>None</td>\n",
       "      <td>https://twitter.com/maragov/status/18587483795...</td>\n",
       "      <td>None</td>\n",
       "      <td>[]</td>\n",
       "      <td>[]</td>\n",
       "    </tr>\n",
       "    <tr>\n",
       "      <th>16</th>\n",
       "      <td>1858725656919765126</td>\n",
       "      <td>2024-11-19 04:15:04+00:00</td>\n",
       "      <td>2024-11-19 04:15:04+00:00</td>\n",
       "      <td>𝗣𝗘𝗥𝗠𝗔𝗧𝗔 𝗨𝗡𝗜𝗞 | 𝗞𝗢𝗡𝗩𝗢𝗞𝗘𝗦𝗬𝗘𝗡 𝗨𝗡𝗜𝗞𝗟 𝗞𝗘 𝟮𝟭 \\n\\n#Me...</td>\n",
       "      <td>None</td>\n",
       "      <td>{'id': '130896395', 'rest_id': '130896395', 'c...</td>\n",
       "      <td>False</td>\n",
       "      <td>None</td>\n",
       "      <td>False</td>\n",
       "      <td>None</td>\n",
       "      <td>...</td>\n",
       "      <td>[{'display_url': 'pic.x.com/YRPhP7In7M', 'expa...</td>\n",
       "      <td>[]</td>\n",
       "      <td>[]</td>\n",
       "      <td>[{'indices': [41, 57], 'text': 'MerakyatkanMAR...</td>\n",
       "      <td>[]</td>\n",
       "      <td>None</td>\n",
       "      <td>https://twitter.com/maragov/status/18587256569...</td>\n",
       "      <td>None</td>\n",
       "      <td>[]</td>\n",
       "      <td>[]</td>\n",
       "    </tr>\n",
       "    <tr>\n",
       "      <th>17</th>\n",
       "      <td>1858714096818155983</td>\n",
       "      <td>2024-11-19 03:29:08+00:00</td>\n",
       "      <td>2024-11-19 03:29:08+00:00</td>\n",
       "      <td>Semoga roh arwah Muhammad Alif Haaiman ditempa...</td>\n",
       "      <td>None</td>\n",
       "      <td>{'id': '4711228398', 'rest_id': '4711228398', ...</td>\n",
       "      <td>False</td>\n",
       "      <td>None</td>\n",
       "      <td>False</td>\n",
       "      <td>None</td>\n",
       "      <td>...</td>\n",
       "      <td>[{'display_url': 'pic.x.com/lZcvOSifwH', 'expa...</td>\n",
       "      <td>[]</td>\n",
       "      <td>[]</td>\n",
       "      <td>[{'indices': [111, 124], 'text': 'sinarbestari...</td>\n",
       "      <td>[]</td>\n",
       "      <td>None</td>\n",
       "      <td>https://twitter.com/sinarbestarimy/status/1858...</td>\n",
       "      <td>None</td>\n",
       "      <td>[]</td>\n",
       "      <td>[]</td>\n",
       "    </tr>\n",
       "  </tbody>\n",
       "</table>\n",
       "<p>18 rows × 42 columns</p>\n",
       "</div>"
      ],
      "text/plain": [
       "                     id                created_on                      date  \\\n",
       "0   1873243396372086822 2024-12-29 05:43:23+00:00 2024-12-29 05:43:23+00:00   \n",
       "1   1870317427709596053 2024-12-21 03:56:38+00:00 2024-12-21 03:56:38+00:00   \n",
       "2   1869248718853279936 2024-12-18 05:09:58+00:00 2024-12-18 05:09:58+00:00   \n",
       "3   1868236845324414996 2024-12-15 10:09:08+00:00 2024-12-15 10:09:08+00:00   \n",
       "4   1867940132244115667 2024-12-14 14:30:06+00:00 2024-12-14 14:30:06+00:00   \n",
       "5   1867482638543732864 2024-12-13 08:12:11+00:00 2024-12-13 08:12:11+00:00   \n",
       "6   1866744139569918063 2024-12-11 07:17:39+00:00 2024-12-11 07:17:39+00:00   \n",
       "7   1864956573103387009 2024-12-06 08:54:30+00:00 2024-12-06 08:54:30+00:00   \n",
       "8   1863498508495630452 2024-12-02 08:20:41+00:00 2024-12-02 08:20:41+00:00   \n",
       "9   1862070101350236337 2024-11-28 09:44:42+00:00 2024-11-28 09:44:42+00:00   \n",
       "10  1861232649639207387 2024-11-26 02:16:58+00:00 2024-11-26 02:16:58+00:00   \n",
       "11  1860818343420391501 2024-11-24 22:50:40+00:00 2024-11-24 22:50:40+00:00   \n",
       "12  1860321259067965747 2024-11-23 13:55:25+00:00 2024-11-23 13:55:25+00:00   \n",
       "13  1858798091597738162 2024-11-19 09:02:54+00:00 2024-11-19 09:02:54+00:00   \n",
       "14  1858755403766772116 2024-11-19 06:13:16+00:00 2024-11-19 06:13:16+00:00   \n",
       "15  1858748379595239597 2024-11-19 05:45:22+00:00 2024-11-19 05:45:22+00:00   \n",
       "16  1858725656919765126 2024-11-19 04:15:04+00:00 2024-11-19 04:15:04+00:00   \n",
       "17  1858714096818155983 2024-11-19 03:29:08+00:00 2024-11-19 03:29:08+00:00   \n",
       "\n",
       "                                                 text rich_text  \\\n",
       "0   Biserial correlation is used to measure the st...      None   \n",
       "1   #MARACorp #MARACorpGroup #MARA #MajlisAmanahRa...      None   \n",
       "2   On 17 December 2024, the CEO of Bond Pricing A...      None   \n",
       "3   #WeAreUniKL #UniversitiKualaLumpur #UniKL #Uni...      None   \n",
       "4   UniKLXPRESS 📝\\n\\n“UniKL to elevate education f...      None   \n",
       "5   UniKLXPRESS 📝\\n\\n“19-year partnership with Rus...      None   \n",
       "6   UniKLXPRESS 📝\\n\\n“UniKL joins Railtec and Trov...      None   \n",
       "7   May the best team rise to victory! 🎉\\n\\n#WeAre...      None   \n",
       "8   📌 Apply now at https://t.co/16Qdbhrq7x or scan...      None   \n",
       "9   \"Kalau arwah atuk masih ada, pasti dialah yang...      None   \n",
       "10  UNIKL BAKAL JALIN KERJASAMA DENGAN UNIVERSITI ...      None   \n",
       "11  Spearman Correlation used for not normal data ...      None   \n",
       "12  Meet the amazing folks behind the UniKL Convoc...      None   \n",
       "13  Satu lagi khabar gembira kepada bakal-bakal pe...      None   \n",
       "14  𝗕𝗜𝗖𝗔𝗥𝗔 𝗚𝗥𝗔𝗗𝗨𝗔𝗡 | 𝗞𝗢𝗡𝗩𝗢𝗞𝗘𝗦𝗬𝗘𝗡 𝗨𝗡𝗜𝗞𝗟 𝗞𝗘 𝟮𝟭 \\n\\n#...      None   \n",
       "15  𝗞𝗘𝗞𝗨𝗥𝗔𝗡𝗚𝗔𝗡 𝗕𝗨𝗞𝗔𝗡 𝗛𝗔𝗟𝗔𝗡𝗚𝗔𝗡 𝗨𝗡𝗧𝗨𝗞 𝗕𝗘𝗥𝗝𝗔𝗬𝗔 | 𝗞𝗢𝗡𝗩...      None   \n",
       "16  𝗣𝗘𝗥𝗠𝗔𝗧𝗔 𝗨𝗡𝗜𝗞 | 𝗞𝗢𝗡𝗩𝗢𝗞𝗘𝗦𝗬𝗘𝗡 𝗨𝗡𝗜𝗞𝗟 𝗞𝗘 𝟮𝟭 \\n\\n#Me...      None   \n",
       "17  Semoga roh arwah Muhammad Alif Haaiman ditempa...      None   \n",
       "\n",
       "                                               author is_retweet  \\\n",
       "0   {'id': '1813538837815230465', 'rest_id': '1813...      False   \n",
       "1   {'id': '1423570826264158211', 'rest_id': '1423...      False   \n",
       "2   {'id': '232836641', 'rest_id': '232836641', 'c...      False   \n",
       "3   {'id': '1599686497', 'rest_id': '1599686497', ...      False   \n",
       "4   {'id': '1599686497', 'rest_id': '1599686497', ...      False   \n",
       "5   {'id': '1599686497', 'rest_id': '1599686497', ...      False   \n",
       "6   {'id': '1599686497', 'rest_id': '1599686497', ...      False   \n",
       "7   {'id': '1599686497', 'rest_id': '1599686497', ...      False   \n",
       "8   {'id': '1675769013501308928', 'rest_id': '1675...      False   \n",
       "9   {'id': '4711228398', 'rest_id': '4711228398', ...      False   \n",
       "10  {'id': '1645966062058631168', 'rest_id': '1645...      False   \n",
       "11  {'id': '1813538837815230465', 'rest_id': '1813...      False   \n",
       "12  {'id': '333293236', 'rest_id': '333293236', 'c...      False   \n",
       "13  {'id': '4711228398', 'rest_id': '4711228398', ...      False   \n",
       "14  {'id': '130896395', 'rest_id': '130896395', 'c...      False   \n",
       "15  {'id': '130896395', 'rest_id': '130896395', 'c...      False   \n",
       "16  {'id': '130896395', 'rest_id': '130896395', 'c...      False   \n",
       "17  {'id': '4711228398', 'rest_id': '4711228398', ...      False   \n",
       "\n",
       "   retweeted_tweet is_quoted quoted_tweet  ...  \\\n",
       "0             None     False         None  ...   \n",
       "1             None     False         None  ...   \n",
       "2             None     False         None  ...   \n",
       "3             None     False         None  ...   \n",
       "4             None     False         None  ...   \n",
       "5             None     False         None  ...   \n",
       "6             None     False         None  ...   \n",
       "7             None     False         None  ...   \n",
       "8             None     False         None  ...   \n",
       "9             None     False         None  ...   \n",
       "10            None     False         None  ...   \n",
       "11            None     False         None  ...   \n",
       "12            None     False         None  ...   \n",
       "13            None     False         None  ...   \n",
       "14            None     False         None  ...   \n",
       "15            None     False         None  ...   \n",
       "16            None     False         None  ...   \n",
       "17            None     False         None  ...   \n",
       "\n",
       "                                                media user_mentions  \\\n",
       "0   [{'display_url': 'pic.x.com/7Gov6VDGXO', 'expa...            []   \n",
       "1                                                  []            []   \n",
       "2   [{'display_url': 'pic.x.com/kUjsbS7w8o', 'expa...            []   \n",
       "3   [{'display_url': 'pic.x.com/S4ya8Nvdwv', 'expa...            []   \n",
       "4   [{'display_url': 'pic.x.com/AEKveIq8Jf', 'expa...            []   \n",
       "5   [{'display_url': 'pic.x.com/OgXOKljbZ0', 'expa...            []   \n",
       "6   [{'display_url': 'pic.x.com/BQKeVfEaB5', 'expa...            []   \n",
       "7                                                  []            []   \n",
       "8                                                  []            []   \n",
       "9                                                  []            []   \n",
       "10                                                 []            []   \n",
       "11  [{'display_url': 'pic.x.com/eEcceBTD8i', 'expa...            []   \n",
       "12  [{'display_url': 'pic.x.com/RjSvJqe8hB', 'expa...            []   \n",
       "13                                                 []            []   \n",
       "14  [{'display_url': 'pic.x.com/w0z2J2xN5y', 'expa...            []   \n",
       "15  [{'display_url': 'pic.x.com/b40NYrwZCs', 'expa...            []   \n",
       "16  [{'display_url': 'pic.x.com/YRPhP7In7M', 'expa...            []   \n",
       "17  [{'display_url': 'pic.x.com/lZcvOSifwH', 'expa...            []   \n",
       "\n",
       "                                                 urls  \\\n",
       "0                                                  []   \n",
       "1                                                  []   \n",
       "2                                                  []   \n",
       "3                                                  []   \n",
       "4   [{'display_url': 'xpress.unikl.edu.my/educatio...   \n",
       "5   [{'display_url': 'xpress.unikl.edu.my/partners...   \n",
       "6   [{'display_url': 'xpress.unikl.edu.my/railtect...   \n",
       "7                                                  []   \n",
       "8   [{'display_url': 'hyuglobalcenter.org', 'expan...   \n",
       "9   [{'display_url': 'sinarbestari.sinarharian.com...   \n",
       "10  [{'display_url': 'vt.tiktok.com/ZSj9vNpKM/', '...   \n",
       "11                                                 []   \n",
       "12                                                 []   \n",
       "13  [{'display_url': 'sinarbestari.sinarharian.com...   \n",
       "14                                                 []   \n",
       "15                                                 []   \n",
       "16                                                 []   \n",
       "17                                                 []   \n",
       "\n",
       "                                             hashtags symbols community_note  \\\n",
       "0   [{'indices': [154, 159], 'text': 'spss'}, {'in...      []           None   \n",
       "1   [{'indices': [0, 9], 'text': 'MARACorp'}, {'in...      []           None   \n",
       "2   [{'indices': [239, 255], 'text': 'connectwithb...      []           None   \n",
       "3   [{'indices': [0, 11], 'text': 'WeAreUniKL'}, {...      []           None   \n",
       "4   [{'indices': [153, 164], 'text': 'WeAreUniKL'}...      []           None   \n",
       "5   [{'indices': [133, 144], 'text': 'WeAreUniKL'}...      []           None   \n",
       "6   [{'indices': [148, 159], 'text': 'WeAreUniKL'}...      []           None   \n",
       "7   [{'indices': [38, 49], 'text': 'WeAreUniKL'}, ...      []           None   \n",
       "8   [{'indices': [67, 79], 'text': 'learnkorean'},...      []           None   \n",
       "9   [{'indices': [105, 118], 'text': 'sinarbestari...      []           None   \n",
       "10  [{'indices': [131, 146], 'text': 'MalaysiaMADA...      []           None   \n",
       "11  [{'indices': [115, 120], 'text': 'spss'}, {'in...      []           None   \n",
       "12  [{'indices': [122, 133], 'text': 'uniklconvo'}...      []           None   \n",
       "13  [{'indices': [98, 104], 'text': 'unikl'}, {'in...      []           None   \n",
       "14  [{'indices': [43, 59], 'text': 'MerakyatkanMAR...      []           None   \n",
       "15  [{'indices': [68, 84], 'text': 'MerakyatkanMAR...      []           None   \n",
       "16  [{'indices': [41, 57], 'text': 'MerakyatkanMAR...      []           None   \n",
       "17  [{'indices': [111, 124], 'text': 'sinarbestari...      []           None   \n",
       "\n",
       "                                                  url grok_share threads  \\\n",
       "0   https://twitter.com/SPSS_SERVICE/status/187324...       None      []   \n",
       "1   https://twitter.com/maracorporation/status/187...       None      []   \n",
       "2   https://twitter.com/BPA_Malaysia/status/186924...       None      []   \n",
       "3   https://twitter.com/UniKLOfficial/status/18682...       None      []   \n",
       "4   https://twitter.com/UniKLOfficial/status/18679...       None      []   \n",
       "5   https://twitter.com/UniKLOfficial/status/18674...       None      []   \n",
       "6   https://twitter.com/UniKLOfficial/status/18667...       None      []   \n",
       "7   https://twitter.com/UniKLOfficial/status/18649...       None      []   \n",
       "8   https://twitter.com/sarang_comm/status/1863498...       None      []   \n",
       "9   https://twitter.com/sinarbestarimy/status/1862...       None      []   \n",
       "10  https://twitter.com/909090mira_mira/status/186...       None      []   \n",
       "11  https://twitter.com/SPSS_SERVICE/status/186081...       None      []   \n",
       "12  https://twitter.com/aaizatmustaffa/status/1860...       None      []   \n",
       "13  https://twitter.com/sinarbestarimy/status/1858...       None      []   \n",
       "14  https://twitter.com/maragov/status/18587554037...       None      []   \n",
       "15  https://twitter.com/maragov/status/18587483795...       None      []   \n",
       "16  https://twitter.com/maragov/status/18587256569...       None      []   \n",
       "17  https://twitter.com/sinarbestarimy/status/1858...       None      []   \n",
       "\n",
       "   comments  \n",
       "0        []  \n",
       "1        []  \n",
       "2        []  \n",
       "3        []  \n",
       "4        []  \n",
       "5        []  \n",
       "6        []  \n",
       "7        []  \n",
       "8        []  \n",
       "9        []  \n",
       "10       []  \n",
       "11       []  \n",
       "12       []  \n",
       "13       []  \n",
       "14       []  \n",
       "15       []  \n",
       "16       []  \n",
       "17       []  \n",
       "\n",
       "[18 rows x 42 columns]"
      ]
     },
     "execution_count": 79,
     "metadata": {},
     "output_type": "execute_result"
    }
   ],
   "source": [
    "df"
=======
    "fig = px.scatter_map(geo_df, lat=\"Lat\", lon=\"Lan\", map_style=\"carto-darkmatter\", hover_name=\"User\", hover_data=\"Taken at\", color=\"Type\", zoom=11)\n",
    "fig.show()"
>>>>>>> 4e36de1ab11672148ad23254924f544aea67897b
   ]
  },
  {
   "cell_type": "markdown",
   "metadata": {},
   "source": [
    "### Text preprocessing"
   ]
  },
  {
   "cell_type": "code",
   "execution_count": 20,
   "metadata": {},
   "outputs": [],
   "source": [
    "# Unix/Linux\n",
    "tesseract_path = r\"/usr/bin/tesseract\"\n",
    "\n",
    "# Set tesseract path\n",
    "pytesseract.pytesseract.tesseract_cmd = tesseract_path\n"
   ]
  },
  {
   "cell_type": "markdown",
   "metadata": {},
   "source": [
    "#### Extract text from photo"
   ]
  },
  {
   "cell_type": "code",
   "execution_count": 21,
   "metadata": {},
   "outputs": [
    {
     "name": "stdout",
     "output_type": "stream",
     "text": [
      "Extracted text: a\n",
      "\n",
      "\n",
      "Extracted text: \n",
      "Extracted text: \n",
      "Extracted text: \n",
      "Extracted text: CK\n",
      "UNIVERSITI\n",
      "KUALA LUMPUR\n",
      "\n",
      "YOUR\n",
      "\n",
      "TRIAL SPM\n",
      "RESULTS\n",
      "ARE ALL YOU\n",
      "NEED TO\n",
      "APPLY!\n",
      "\n",
      "SPM 2024 students\n",
      "can now apply for\n",
      "the July 2025\n",
      "intake using\n",
      "\n",
      "Trial SPM results.\n",
      "\n",
      "© »Ppty Topay:\n",
      "\n",
      "\n",
      "Extracted text: \n",
      "Extracted text: Salam dan selamat petang..bagaimana\n",
      "feedback tentang kerepek kami? @\n",
      "4:55PM YW\n",
      "\n",
      "WsIm 4:57pm\n",
      "\n",
      "Alhamdulilah 4:53 py)\n",
      "\n",
      "Kerepek slmt smpai, seller fast respon\n",
      "4:58PM\n",
      "\n",
      "Thanks tauu review sy bagi a-sgpyy\n",
      "\n",
      "100000/100_,\n",
      "\n",
      "@© swackFoRtire @© swack4viree\n",
      "\n",
      "Extracted text: aaa ie eRe\n",
      "VAS SINGH BHADAURIA\n",
      "\n",
      "This is suko\n",
      "\n",
      "\n",
      "Extracted text: PLEASE\n",
      "f ROTATE\n",
      "YOUR PHONE\n",
      "\n",
      "Extracted text: \n",
      "Extracted text: \n",
      "Extracted text: \n",
      "Extracted text: © \\ DR ASYRAF WAJDI DUSUKI\n",
      "Posted by Asyraf Wajdi Dusuki\n",
      "3h:-@\n",
      "\n",
      "Ada minta saya pantau isu di\n",
      "UITM dan jangan hanya fokus\n",
      "MRSM. UiTM bukan lagi di\n",
      "bawah MARA sejak diambil alih\n",
      "KPT 1 Jun 1999. Di bawah MARA\n",
      "ada 344 IPMA cth: UniKL, UPTM,\n",
      "IKM, KPTM, KKTM, KM, KPM &\n",
      "GiatMARA.\n",
      "\n",
      "Extracted text: \n",
      "Extracted text: \n",
      "Extracted text: \n",
      "Extracted text: \n"
     ]
    }
   ],
   "source": [
    "img_texts = []\n",
    "\n",
    "for img_url in hashtag_posts[\"thumbnail_url\"]:\n",
    "    if img_url:\n",
    "        response = requests.get(img_url)\n",
    "        img_text = pytesseract.image_to_string(Image.open(BytesIO(response.content)))\n",
    "        print(f\"Extracted text: {img_text}\")\n",
    "        img_texts.append(img_text)\n",
    "    else:\n",
    "        img_texts.append(\"\")\n",
    "\n",
    "hashtag_posts[\"thumbnail_text\"] = img_texts"
   ]
  },
  {
   "cell_type": "markdown",
   "metadata": {},
   "source": [
    "### Preprocessing\n",
    "\n",
    "* Normalisation\n",
    "* Segmentation\n",
    "* Demoji"
   ]
  },
  {
   "cell_type": "code",
   "execution_count": 79,
   "metadata": {},
   "outputs": [],
   "source": [
    "def preprocess_text(text):\n",
    "    # this uses NLTK\n",
    "    # tokens = word_tokenize(text.lower())\n",
    "\n",
    "    # malaya segmentation\n",
    "    # segmenter = malaya.segmentation.huggingface()\n",
    "    # segmenter_func = lambda x: segmenter.generate([x], max_length = 100)[0]\n",
    "\n",
    "    # demoji\n",
    "    demoji = malaya.preprocessing.demoji()\n",
    "    demoji_text = demoji.demoji(text)\n",
    "\n",
    "    # malaya preproc\n",
    "    preproc = malaya.preprocessing.preprocessing(demoji=demoji)\n",
    "    preproc_text = \"\".join(preproc.process(text))\n",
    "\n",
    "    for k,v in demoji_text.items():\n",
    "        preproc_text = preproc_text.replace(k,v)\n",
    "\n",
    "    w_tokeniser = malaya.tokenizer.Tokenizer()\n",
    "    s_tokeniser = malaya.tokenizer.SentenceTokenizer()\n",
    "\n",
    "    w_tokens = w_tokeniser.tokenize(preproc_text, lowercase=True)\n",
    "    # s_tokens = s_tokeniser.tokenize(preproc_text)\n",
    "\n",
    "    # remove alphanumeric word(s)\n",
    "    # filtered_tokens = [word for word in tokens if word.isalnum()]\n",
    "    \n",
    "    return ' '.join(w_tokens)\n",
    "\n",
    "    # return preproc_text"
   ]
  },
  {
   "cell_type": "code",
   "execution_count": null,
   "metadata": {},
   "outputs": [],
   "source": [
    "hashtag_posts"
   ]
  },
  {
   "cell_type": "code",
   "execution_count": 78,
   "metadata": {},
   "outputs": [
    {
     "data": {
      "text/plain": [
       "['pagiinimengadapsupervisor <repeated> . </repeated> prof . dr. sulaimansajilan <allcaps> deanuniversitikualalumpurbusinessschool </allcaps> <hashtag> #unikl </hashtag> <hashtag> #phdstudent </hashtag> <hashtag> #study </hashtag> <hashtag> #workhardplayhard </hashtag> <hashtag> #worksmartstudysmart </hashtag> <hashtag> #studenta </hashtag>',\n",
       " '<number> march <number> manager <user> supervisor <user> secretary <user> . kin_19 <user> . pelajar <hashtag> #unikl </hashtag> <hashtag> #likeforlikes </hashtag> <hashtag> #landscape </hashtag> <hashtag> #lawakhambar </hashtag> <hashtag> #physics </hashtag> <hashtag> #lawaktahapdewa </hashtag> <hashtag> #lawak </hashtag> <hashtag> #sukasukaje </hashtag> <hashtag> #love </hashtag> <hashtag> #instagood </hashtag> <hashtag> #photooftheday </hashtag> <hashtag> #beautiful </hashtag> <hashtag> #happy </hashtag> <hashtag> #cute </hashtag> <hashtag> #tbt </hashtag> <hashtag> #like4like </hashtag> <hashtag> #follow4follow </hashtag> <hashtag> #art </hashtag> <hashtag> #nature </hashtag> <hashtag> #smile </hashtag>',\n",
       " 'secara asasnya , rabulife ✿ <hashtag> #student </hashtag> <hashtag> #adayinmylife </hashtag> <hashtag> #adaywithme </hashtag> <hashtag> #studentlife </hashtag> <hashtag> #students </hashtag> <hashtag> #life </hashtag> <hashtag> #romanticising </hashtag> <hashtag> #study </hashtag> <hashtag> #studygram </hashtag> <hashtag> #studymotivation </hashtag> <hashtag> #studynotes </hashtag> <hashtag> #university </hashtag> <hashtag> #universitylife </hashtag> <hashtag> #universitystudent </hashtag> <hashtag> #unikl </hashtag> <hashtag> #uniklmiit </hashtag>',\n",
       " 'tuesdaynightheatpadaourmfieldplayuniklmiatsepang <emoji> api </emoji> <allcaps> skliavstangerinefc </allcaps> <emoji> bolasepak </emoji> ️ <emoji> api </emoji> thankawakuntukplayingpadaourfifacertifiedturfandsihawakguysagain <emoji> tanda seru berganda </emoji> <hashtag> #mfieldplay </hashtag> <hashtag> #bola </hashtag> <hashtag> #bolasepak </hashtag> <hashtag> #friendlybola </hashtag> <hashtag> #unikl </hashtag> <hashtag> #sepang </hashtag> <hashtag> #putrajaya </hashtag>',\n",
       " '<allcaps> mediafinalweekjantzenfootballleague </allcaps> , match <number> <user> vsmiatplayfc <emoji> api </emoji> <emoji> bolasepak </emoji> ️ perlawananyangpenuhaksidanberakhirdengankemenanganberpihakkepadapasukan <allcaps> rmc </allcaps> sekaligusmemenangijantzenfootballleague . congratulation <allcaps> rmc </allcaps> <emoji> api </emoji> <emoji> menaikkan tangan : nada kulit cahaya </emoji> <hashtag> #mfieldplay </hashtag> <hashtag> #bolasepak </hashtag> <hashtag> #liga </hashtag> <hashtag> #sepang </hashtag> <hashtag> #dengkil </hashtag> <hashtag> #unikl </hashtag> <hashtag> #jantzenfootballleague </hashtag>',\n",
       " '<allcaps> mediafinalweekjantzenfootballleague </allcaps> , match <number> <user> vs <user> <emoji> api </emoji> <emoji> bolasepak </emoji> ️ perlawananyangsengit . goodgameguys <emoji> api </emoji> <emoji> menaikkan tangan : nada kulit cahaya </emoji> <hashtag> #mfieldplay </hashtag> <hashtag> #bolasepak </hashtag> <hashtag> #liga </hashtag> <hashtag> #sepang </hashtag> <hashtag> #dengkil </hashtag> <hashtag> #unikl </hashtag> <hashtag> #jantzenfootballleague </hashtag>',\n",
       " 'tuesdaynightheatpadaourmfieldplayuniklmiatsepang <emoji> api </emoji> <user> vsdvistafc <emoji> bolasepak </emoji> ️ <emoji> api </emoji> thankawakuntukplayingpadaourfifacertifiedturfandsihawakguysagain <emoji> tanda seru berganda </emoji> <hashtag> #mfieldplay </hashtag> <hashtag> #bola </hashtag> <hashtag> #bolasepak </hashtag> <hashtag> #friendlybola </hashtag> <hashtag> #unikl </hashtag> <hashtag> #sepang </hashtag> <hashtag> #putrajaya </hashtag>',\n",
       " 'train <allcaps> scs </allcaps> class <number> <emoji> monorel </emoji> gambarsekitarmajlispenyerahan ( \" handbackceremony \" ) tren <allcaps> scs </allcaps> class <number> projekmaintenance , repairdanoverhaul ( <allcaps> mro </allcaps> ) danperjanjiankolaborasi ( \" collaborationagreement \" ) diantaramrailtechnics ( <allcaps> railtec </allcaps> ) denganuniversitikualalumpur ( unikl ) oleh <allcaps> yab </allcaps> dato\\' seridr . ahmadzahidbinhamiditimbalanperdanamenterimalaysia <emoji> kamera dengan kilat </emoji> <hashtag> #weareunikl </hashtag> <hashtag> #universitikualalumpur </hashtag> <hashtag> #unikl </hashtag> <hashtag> #unikldna </hashtag> <hashtag> #uniklnproud </hashtag> <hashtag> #uniklmidi </hashtag> <hashtag> #train </hashtag> <hashtag> #railtec </hashtag> <hashtag> #ktmb </hashtag> <hashtag> #ktm </hashtag> <hashtag> #destini </hashtag> <hashtag> #kkdw </hashtag> <hashtag> #mara </hashtag> <hashtag> #maracorp </hashtag> <hashtag> #malaysiamadani </hashtag>',\n",
       " '<allcaps> graduationsofainasyat </allcaps> . . . <hashtag> #convophotoshoot </hashtag> <hashtag> #konvokesyen </hashtag> <hashtag> #convocation </hashtag> <hashtag> #konvokesyen </hashtag> <hashtag> #preconvo </hashtag> <hashtag> #postkonvo </hashtag> <hashtag> #postconvo </hashtag> <hashtag> #konvophotographer </hashtag> <hashtag> #photographerkonvo </hashtag> <hashtag> #graduation </hashtag> <hashtag> #unikl </hashtag> <hashtag> #photographerkl </hashtag> <hashtag> #gambarkonvo </hashtag> <hashtag> #kualalumpur </hashtag> <hashtag> #tamarindsquare </hashtag> <hashtag> #shahalam </hashtag> <hashtag> #photographerselangor </hashtag> <hashtag> #preconvouitm </hashtag> <hashtag> #uitmconvo </hashtag> <hashtag> #um </hashtag> <hashtag> #ukm </hashtag> <hashtag> #ukmkonvo </hashtag> <hashtag> #kptm </hashtag> <hashtag> #upm </hashtag> <hashtag> #konvoupm </hashtag> <hashtag> #konvokptm </hashtag> <hashtag> #uum </hashtag> <hashtag> #convouum </hashtag>',\n",
       " '\" educationisnotjustaboutgoingkepadaschoolandgettingadegree . it\\'s aboutwideningawakknowledgeandabsorbingthetruthaboutlife . \" - shakuntaladevi . . . . <allcaps> postconvocationaniszafirah </allcaps> dan <allcaps> family </allcaps> <allcaps> uitmshahalam </allcaps> . . . . gunakanperkhidmatankamidengankadarsegeradiharigraduasiandadanbolehhubungikami :< url > \" jadikanharibahagiaandasepertikisahdongeng \" <hashtag> #konvomalaysia </hashtag> <hashtag> #konvophotoshoot </hashtag> <hashtag> #preconvophotoshoot </hashtag> <hashtag> #palingkuis </hashtag> <hashtag> #konvouitm </hashtag> <hashtag> #kuiskonvo </hashtag> <hashtag> #uitmshahalam </hashtag> <hashtag> #convocationphotographer </hashtag> <hashtag> #malaysianphotographer </hashtag> <hashtag> #uitmdihatiku </hashtag> <hashtag> #convophotoshoot </hashtag> <hashtag> #upmconvo </hashtag> <hashtag> #universitiputramalaysia </hashtag> <hashtag> #ukm </hashtag> <hashtag> #ukmkonvo </hashtag> <hashtag> #uiam </hashtag> <hashtag> #konvouiam </hashtag> <hashtag> #universitimalaya </hashtag> <hashtag> #universitikebangsaanmalaysia </hashtag> <hashtag> #universitimalaya </hashtag> <hashtag> #konvousim </hashtag> <hashtag> #konvokesyen </hashtag> <hashtag> #photographermurah </hashtag> <hashtag> #konvophotoshoot </hashtag> <hashtag> #usim </hashtag> <hashtag> #universitisainsmalaysia </hashtag> <hashtag> #konvophotographer </hashtag> <hashtag> #konvouitm </hashtag> <hashtag> #unikl </hashtag> <hashtag> #konvoupm </hashtag> <hashtag> #upsi </hashtag> <hashtag> #pwtc </hashtag>',\n",
       " 'happydiwali <emoji> wajah tersenyum dengan mata tersenyum </emoji> <emoji> popper parti </emoji> <emoji> popper parti </emoji> <emoji> confetti ball </emoji> <emoji> confetti ball </emoji> <emoji> confetti ball </emoji> <emoji> wajah meniup ciuman </emoji> <emoji> wajah tersenyum dengan tangan terbuka </emoji> <emoji> wajah tersenyum dengan tangan terbuka </emoji> . . . . <hashtag> #diwaligifts </hashtag> <hashtag> #diwali </hashtag> <hashtag> #diwali2020 </hashtag> <hashtag> #cutebaby </hashtag> <hashtag> #decoration </hashtag> <hashtag> #likesforlike </hashtag> <hashtag> #followforfollowback </hashtag> <hashtag> #instalike </hashtag> <hashtag> #goodnight </hashtag> <hashtag> #goodinstagram </hashtag> <hashtag> #nightphotography </hashtag> <hashtag> #sweet </hashtag> <hashtag> #unikl </hashtag> <hashtag> #followers </hashtag> <hashtag> #liketime </hashtag> <emoji> tangan kemenangan </emoji> <emoji> jempol </emoji> <emoji> jempol </emoji> <emoji> wajah tersenyum dengan tangan terbuka </emoji> <emoji> wajah tersenyum dengan tangan terbuka </emoji>',\n",
       " 'salamweareunikl <emoji> wajah tersenyum dengan cermin mata hitam </emoji> hostsembang <allcaps> wow </allcaps> kitaadapesanansikityangnakditujukankepadapelajar-pelajaryangbarusahajamasukbagipengambilan <date> dankepadaseluruhpelajarunikl . minpunnakcakapsikitiniwalaudimanapunkampusuniklandadiseluruhmalaysia , ingatlahkitatetapbawahsatubumbungbesarunikl . semogaberjayadankitajumpadipuncakkejayaaninshaallahamin . weareunikl ! <emoji> pelajar lelaki : nada kulit ringan </emoji> <emoji> pelajar : nada kulit ringan </emoji> hostsembang <allcaps> wow </allcaps> <emoji> mikrofon studio </emoji> <user> , <user> . nuha , <user> dan <user> <emoji> api </emoji> <hashtag> #weareunikl </hashtag> <hashtag> #unikl </hashtag> <hashtag> #unikldna </hashtag> <hashtag> #unikl12campuses </hashtag> <hashtag> #uniklnproud </hashtag> <hashtag> #keluargamalaysia </hashtag>',\n",
       " '<allcaps> graduationsofeyra </allcaps> . . . <hashtag> #convophotoshoot </hashtag> <hashtag> #konvokesyen </hashtag> <hashtag> #convocation </hashtag> <hashtag> #konvokesyen </hashtag> <hashtag> #preconvo </hashtag> <hashtag> #postkonvo </hashtag> <hashtag> #postconvo </hashtag> <hashtag> #konvophotographer </hashtag> <hashtag> #photographerkonvo </hashtag> <hashtag> #graduation </hashtag> <hashtag> #unikl </hashtag> <hashtag> #photographerkl </hashtag> <hashtag> #gambarkonvo </hashtag> <hashtag> #kualalumpur </hashtag> <hashtag> #tamarindsquare </hashtag> <hashtag> #shahalam </hashtag> <hashtag> #photographerselangor </hashtag> <hashtag> #preconvouitm </hashtag> <hashtag> #uitmconvo </hashtag> <hashtag> #um </hashtag> <hashtag> #ukm </hashtag> <hashtag> #ukmkonvo </hashtag> <hashtag> #kptm </hashtag> <hashtag> #upm </hashtag> <hashtag> #konvoupm </hashtag> <hashtag> #konvokptm </hashtag> <hashtag> #uum </hashtag> <hashtag> #convouum </hashtag>',\n",
       " '𝐒𝐏𝐌 <number> 𝐒𝐭𝐮𝐝𝐞𝐧𝐭𝐬 , gotawak𝐓𝐑𝐈𝐀𝐋𝐒𝐏𝐌results ? donotwaitanylonger , applynowuntukthejuly <number> intake ! <emoji> periksa butang tanda </emoji> fast-trackawakapplicationdenganprovisionalresults . <emoji> periksa butang tanda </emoji> lockinawakspotearly . donotmissout ! takethepertamasteptowardawakfuturetoday . applynow :< url > <hashtag> #unikl </hashtag> <hashtag> #unikljulyintake2025ck </hashtag> <allcaps> universiti </allcaps> <allcaps> kualalumpur </allcaps> <allcaps> your </allcaps> <allcaps> trialspm </allcaps> <allcaps> results </allcaps> <allcaps> areallyou </allcaps> <allcaps> needto </allcaps> <allcaps> apply </allcaps> ! <allcaps> spm </allcaps> <number> studentscannowapplyuntukthejuly <number> intakeusingtrial <allcaps> spm </allcaps> results . <emoji> hak cipta </emoji> » pptytopay :',\n",
       " '<allcaps> graduationsofaqilah </allcaps> . . . <hashtag> #convophotoshoot </hashtag> <hashtag> #konvokesyen </hashtag> <hashtag> #convocation </hashtag> <hashtag> #konvokesyen </hashtag> <hashtag> #preconvo </hashtag> <hashtag> #postkonvo </hashtag> <hashtag> #postconvo </hashtag> <hashtag> #konvophotographer </hashtag> <hashtag> #photographerkonvo </hashtag> <hashtag> #graduation </hashtag> <hashtag> #unikl </hashtag> <hashtag> #photographerkl </hashtag> <hashtag> #gambarkonvo </hashtag> <hashtag> #kualalumpur </hashtag> <hashtag> #tamarindsquare </hashtag> <hashtag> #shahalam </hashtag> <hashtag> #photographerselangor </hashtag> <hashtag> #preconvouitm </hashtag> <hashtag> #uitmconvo </hashtag> <hashtag> #um </hashtag> <hashtag> #ukm </hashtag> <hashtag> #ukmkonvo </hashtag> <hashtag> #kptm </hashtag> <hashtag> #upm </hashtag> <hashtag> #konvoupm </hashtag> <hashtag> #konvokptm </hashtag> <hashtag> #uum </hashtag> <hashtag> #convouum </hashtag>',\n",
       " \"littlemoments , besarmemories . <emoji> topi pengijazahan </emoji> throwbacksomeofmygraduationphotosaftergraduatedinbachelorofbusinessadministrationinmarketing ( honours ) akhiryear . oneofthebiggestachievementuntukmeasimanagedkepadacompletemybelajarsatuyearearlierfromthebelajarperiod . haha ! sangguptahuambilbanyaksubjekdanpadatkankelasschedulepersemestersebabnakhabisawaleventhoughbusydenganpartmasajobsasamodeldangrabdrivermasaitu . myclosefriendstahulahipunyapenatdanbaraicamana <emoji> muka dengan lidah </emoji> apapun , hidupinikenayakin , usahadantawakalsahaja . kalaunakdansangguptanggungrisikojustdoit ! wesemuamemakaimistakes , struggles , andevenwillregretthings . that's howwelearndangrowbetter . right ? howmasaflies ! imisssemuamyfriends , assignments , clubs , danenvironmentin <hashtag> #uniklbusinessschool </hashtag> . tiberteringinnaksambungbelajarbalik . shouldi ? <emoji> mengedip wajah dengan lidah </emoji> <hashtag> #unikl </hashtag> <hashtag> #ubis </hashtag> <hashtag> #classof2019 </hashtag> <hashtag> #16thuniklconvocation </hashtag> <hashtag> #weareunikl </hashtag>\",\n",
       " \"wouldawaklikemekepadagiveawakaformulauntuksuccess ? . it's quitesimple , really : . doubleawakrateoffailure . youarefikiroffailureastheenemyofsuccess . butitisnotpadasemua . youcanjadidiscourageddenganfailureatauawakcanlearnfromit , jadipergiaheadandmemakaimistakes . makesemuaawakcan . becauserememberthat's whereawakwillfindsuccess . tags :< hashtag > #betabusinessclub </hashtag> <hashtag> #titaniumnetwork </hashtag> <hashtag> #bvzeta </hashtag> <hashtag> #zetaacademy </hashtag> <hashtag> #zetatestimony </hashtag> <hashtag> #bizvalet </hashtag> <hashtag> #bizvalettestimony </hashtag> <hashtag> #utp </hashtag> <hashtag> #usm </hashtag> <hashtag> #ukm </hashtag> <hashtag> #upm </hashtag> <hashtag> #gmi </hashtag> <hashtag> #upsi </hashtag> <hashtag> #unisel </hashtag> <hashtag> #uniten </hashtag> <hashtag> #3l4kmudah </hashtag> <hashtag> #uniklmimet </hashtag> <hashtag> #uniklmiit </hashtag> <hashtag> #uumsintok </hashtag> <hashtag> #uniklubis </hashtag> <hashtag> #uniklmicet </hashtag> <hashtag> #unikliprom </hashtag> <hashtag> #uniklmestech </hashtag> <hashtag> #uniklbmi </hashtag> <hashtag> #uitmshahalam </hashtag> <hashtag> #uniklmfi </hashtag> <hashtag> #uitmseriiskandar </hashtag> <hashtag> #uitmshahalam </hashtag> <hashtag> #programgandakansimpanan2018 </hashtag> <hashtag> #msu </hashtag> <hashtag> #unikl </hashtag>\",\n",
       " \"graduates' choiceaward <emoji> pingat tentera </emoji> photosduringgraduates' choiceaward <number> padagrandlagoonballroom , sunwayresorthotel . <emoji> kalendar lingkaran </emoji> <date> | wednesdaycongratulationskepadaunikldansemuawinners <emoji> trofi </emoji> <hashtag> #weareunikl </hashtag> <hashtag> #universitikualalumpur </hashtag> <hashtag> #unikl </hashtag> <hashtag> #unikldna </hashtag> <hashtag> #uniklnproud </hashtag> <hashtag> #talentbank </hashtag> <hashtag> #gca </hashtag> <hashtag> #thankyoumalaysia </hashtag> <hashtag> #kkdw </hashtag> <hashtag> #mara </hashtag> <hashtag> #maracorpgroup </hashtag> <hashtag> #malaysiamadani </hashtag>\",\n",
       " 'universitikualalumpur <emoji> handshake : nada kulit cahaya sederhana </emoji> pushkinstaterussianlanguageinstitutephotosduringdiscussiononpotentialcollaborationbetweenuniversitikualalumpurandthepushkinstaterussianlanguageinstitute <emoji> bendera : rusia </emoji> staytuneduntuktheexcitementnews <emoji> wajah tersenyum dengan cermin mata hitam </emoji> <hashtag> #weareunikl </hashtag> <hashtag> #universitikualalumpur </hashtag> <hashtag> #unikl </hashtag> <hashtag> #unikldna </hashtag> <hashtag> #uniklnproud </hashtag> <hashtag> #uniklmiat </hashtag> <hashtag> #miat </hashtag> <hashtag> #russian </hashtag> <hashtag> #kkdw </hashtag> <hashtag> #mara </hashtag> <hashtag> #maracorp </hashtag> <hashtag> #malaysiamadani </hashtag>',\n",
       " 'thankawakuntukawaksupport <hashtag> #unikl </hashtag> <hashtag> #uniklmsisalam </hashtag> danselamatpetang <repeated> . </repeated> bagaimanafeedbacktentangkerepekkami ? @ <time> ywwsim <time> alhamdulilah <time> py ) kerepekselamatsampai , sellerfastrespon <time> thankstauureviewsybagia-sgpyy <number> / 100_ , @ <emoji> hak cipta </emoji> swackfortire @ <emoji> hak cipta </emoji> swack4viree',\n",
       " '<hashtag> #upsi </hashtag> <hashtag> #uitm </hashtag> <hashtag> #ukm </hashtag> <hashtag> #upm </hashtag> <hashtag> #usm </hashtag> <hashtag> #politeknik </hashtag> <hashtag> #utm </hashtag> <hashtag> #uia </hashtag> <hashtag> #uum </hashtag> <hashtag> #um </hashtag> <hashtag> #unikl </hashtag> <hashtag> #serumviral </hashtag> <hashtag> #usim </hashtag> <hashtag> #behrang </hashtag> <hashtag> #uthm </hashtag> <hashtag> #neelofa </hashtag> <hashtag> #ipg </hashtag> <hashtag> #umt </hashtag> <hashtag> #tanjungmalim </hashtag> <hashtag> #unisza </hashtag> <hashtag> #polis </hashtag> <hashtag> #johor </hashtag> <hashtag> #umk </hashtag> <hashtag> #mizuno </hashtag> <hashtag> #asics </hashtag> <hashtag> #perak </hashtag> <hashtag> #utp </hashtag> <hashtag> #protoncity </hashtag> <hashtag> #pdrm </hashtag> <hashtag> #psasaaa </hashtag> ieere <allcaps> vassinghbhadauria </allcaps> thisissuka',\n",
       " 'javaserialam … <hashtag> #pasirgudang </hashtag> <hashtag> #kopi </hashtag> <hashtag> #masai </hashtag> <hashtag> #camping </hashtag> <hashtag> #unikl </hashtag> <hashtag> #uitmjb </hashtag> <hashtag> #rimba </hashtag> <hashtag> #kopimesinplease </hashtag> f <allcaps> rotate </allcaps> <allcaps> yourphone </allcaps>',\n",
       " 'unikle-gamescarnival <number> <emoji> joystick </emoji> finalday | sunday <date> valorant <emoji> pistol air </emoji> <hashtag> #weareunikl </hashtag> <hashtag> #universitikualalumpur </hashtag> <hashtag> #unikl </hashtag> <hashtag> #unikldna </hashtag> <hashtag> #uniklnproud </hashtag> <hashtag> #egames2024 </hashtag> <hashtag> #uegc2024 </hashtag> <hashtag> #esports </hashtag> <hashtag> #egames </hashtag> <hashtag> #mlbb </hashtag> <hashtag> #eafc25 </hashtag> <hashtag> #efootball2025 </hashtag> <hashtag> #valorant </hashtag> <hashtag> #pubg </hashtag> <hashtag> #kkdw </hashtag> <hashtag> #mara </hashtag> <hashtag> #maracorp </hashtag> <hashtag> #malaysiamadani </hashtag>',\n",
       " \"<number> 𝗙𝗨𝗡𝗙𝗔𝗖𝗧𝗦𝗔𝗕𝗢𝗨𝗧𝗢𝗜𝗟 <emoji> tong minyak </emoji> <number> . oilismeasuredinbarrels , whichisequalkepada <number> usgallonsatau <number> liters <number> . malaysia's tapiscrudeoil ( sweetcrude ) , oncetheworld's palingexpensivegradeduekepadarendahsulfurcontent , islosingitsstatusasabenchmarkuntukasianrefinersbuyinggradesfromaustralia , indonesiaandvietnambecauseofdecliningoutput . <number> . accordingkepadathepalingrecentdata , thetopfiveoil-producingnationsaretheu . s . , saudiarabia , russia , canada , andchina . malaysiaranked25th . <number> . thejamnagarrefineryinjamnagar , gujarat , india , isthelargestgloballyandwasrecognizedasthelargestpetrochemicalandrefinerycomplexdengananaggregatecapacityof <number> millionbarrelsperhari ( bpd ) . <number> . renewableenergy ( solar , wind , biomass , water , etc . ) iscommonlyconsideredasanalternativeuntukcrudeoil . <emoji> butang ke bawah </emoji> <emoji> butang ke bawah </emoji> <emoji> butang ke bawah </emoji> forituwhoareseekingcareeropportunitiesinoildangasespeciallyfreshgraduates , iwishawaksemuathebest . considerspendingafewweeksataumonthsexpandingawakskillset . thiswillhelproundoutawakcvkepadamemakaiawakastrongapplicant . nevergivenaikandtrusttheprocess ! - fa - <hashtag> #demipertiwi </hashtag> <hashtag> #oilandgas </hashtag> <hashtag> #uitm </hashtag> <hashtag> #ump </hashtag> <hashtag> #usm </hashtag> <hashtag> #um </hashtag> <hashtag> #uthm </hashtag> <hashtag> #unimas </hashtag> <hashtag> #offshore </hashtag> <hashtag> #onshore </hashtag> <hashtag> #support </hashtag> <hashtag> #education </hashtag> <hashtag> #malaysia </hashtag> <hashtag> #utp </hashtag> <hashtag> #utm </hashtag> <hashtag> #unikl </hashtag>\",\n",
       " '<allcaps> tgif </allcaps> zamanbeforetiktok <repeated> . </repeated> <emoji> see-no-evil monkey </emoji> * hyperglycemicsyndrome . . <hashtag> #throwback </hashtag> #< number > <hashtag> #meipei </hashtag> <hashtag> #video </hashtag> <hashtag> #videooftheday </hashtag> <hashtag> #love </hashtag> <hashtag> #behappy </hashtag> <hashtag> #bestrong </hashtag> <hashtag> #patient </hashtag> <hashtag> #doctor </hashtag> <hashtag> #smile </hashtag> <hashtag> #ootd </hashtag> <hashtag> #mbbs </hashtag> <hashtag> #fashion </hashtag> <hashtag> #instafit </hashtag> <hashtag> #muscular </hashtag> <hashtag> #unikl </hashtag> <hashtag> #ipoh </hashtag> <hashtag> #iphone </hashtag> <hashtag> #blessed </hashtag> <hashtag> #motivation </hashtag> <hashtag> #positivevibes </hashtag> <hashtag> #tgif </hashtag>',\n",
       " '<allcaps> graduationsofputeriaidasabrina </allcaps> . . . <hashtag> #convophotoshoot </hashtag> <hashtag> #konvokesyen </hashtag> <hashtag> #convocation </hashtag> <hashtag> #konvokesyen </hashtag> <hashtag> #preconvo </hashtag> <hashtag> #postkonvo </hashtag> <hashtag> #postconvo </hashtag> <hashtag> #konvophotographer </hashtag> <hashtag> #photographerkonvo </hashtag> <hashtag> #graduation </hashtag> <hashtag> #unikl </hashtag> <hashtag> #photographerkl </hashtag> <hashtag> #gambarkonvo </hashtag> <hashtag> #kualalumpur </hashtag> <hashtag> #tamarindsquare </hashtag> <hashtag> #shahalam </hashtag> <hashtag> #photographerselangor </hashtag> <hashtag> #preconvouitm </hashtag> <hashtag> #uitmconvo </hashtag> <hashtag> #um </hashtag> <hashtag> #ukm </hashtag> <hashtag> #ukmkonvo </hashtag> <hashtag> #kptm </hashtag> <hashtag> #upm </hashtag> <hashtag> #konvoupm </hashtag> <hashtag> #konvokptm </hashtag> <hashtag> #uum </hashtag> <hashtag> #convouum </hashtag>',\n",
       " '<allcaps> preconvocationofsuhaimah </allcaps> dan <allcaps> friends </allcaps> <hashtag> #convophotoshoot </hashtag> <hashtag> #konvokesyen </hashtag> <hashtag> #convocation </hashtag> <hashtag> #konvokesyen </hashtag> <hashtag> #preconvo </hashtag> <hashtag> #postkonvo </hashtag> <hashtag> #postconvo </hashtag> <hashtag> #konvophotographer </hashtag> <hashtag> #photographerkonvo </hashtag> <hashtag> #graduation </hashtag> <hashtag> #unikl </hashtag> <hashtag> #photographerkl </hashtag> <hashtag> #gambarkonvo </hashtag> <hashtag> #kualalumpur </hashtag> <hashtag> #tamarindsquare </hashtag> <hashtag> #shahalam </hashtag> <hashtag> #photographerselangor </hashtag> <hashtag> #preconvouitm </hashtag> <hashtag> #uitmconvo </hashtag> <hashtag> #um </hashtag> <hashtag> #ukm </hashtag> <hashtag> #ukmkonvo </hashtag> <hashtag> #kptm </hashtag> <hashtag> #upm </hashtag> <hashtag> #konvoupm </hashtag> <hashtag> #konvokptm </hashtag> <hashtag> #uum </hashtag> <hashtag> #convouum </hashtag>',\n",
       " '<allcaps> preconvocationofafiqah </allcaps> dan <allcaps> friends </allcaps> <hashtag> #convophotoshoot </hashtag> <hashtag> #konvokesyen </hashtag> <hashtag> #convocation </hashtag> <hashtag> #konvokesyen </hashtag> <hashtag> #preconvo </hashtag> <hashtag> #postkonvo </hashtag> <hashtag> #postconvo </hashtag> <hashtag> #konvophotographer </hashtag> <hashtag> #photographerkonvo </hashtag> <hashtag> #graduation </hashtag> <hashtag> #unikl </hashtag> <hashtag> #photographerkl </hashtag> <hashtag> #gambarkonvo </hashtag> <hashtag> #kualalumpur </hashtag> <hashtag> #tamarindsquare </hashtag> <hashtag> #shahalam </hashtag> <hashtag> #photographerselangor </hashtag> <hashtag> #preconvouitm </hashtag> <hashtag> #uitmconvo </hashtag> <hashtag> #um </hashtag> <hashtag> #ukm </hashtag> <hashtag> #ukmkonvo </hashtag> <hashtag> #kptm </hashtag> <hashtag> #upm </hashtag> <hashtag> #konvoupm </hashtag> <hashtag> #konvokptm </hashtag> <hashtag> #uum </hashtag> <hashtag> #convouum </hashtag>',\n",
       " 'post-convoofamiruldanfriends |< allcaps > usim </allcaps> masihlagimencariphotographeruntukconvoanda ? dmusnow . <allcaps> depositaslowas </allcaps> <money> . anyinquiries , kindlydmawakdetails . venue : howmanypax : date : coveragearoundkl-selangor-negerisembilan-melaka <hashtag> #konvo </hashtag> <hashtag> #prekonvo </hashtag> <hashtag> #convocation </hashtag> <hashtag> #preconvocation </hashtag> <hashtag> #usim </hashtag> <hashtag> #uiam </hashtag> <hashtag> #ukm </hashtag> <hashtag> #upm </hashtag> <hashtag> #uitm </hashtag> <hashtag> #msu </hashtag> <hashtag> #uniten </hashtag> <hashtag> #unikl </hashtag> <hashtag> #kktm </hashtag> <hashtag> #um </hashtag> <hashtag> #oum </hashtag>',\n",
       " 'thankyoumpportsservicesuntuktrustingus ! <emoji> kapal </emoji> dudukjauh ? nakpakaicepat ? saynomore . deliverysemuathewaykepadaterengganuinfewhoursnaikbassahaja <emoji> handshake : nada kulit cahaya sederhana </emoji> janganfikirfikirlagi , terustekanlinkdibio ! <emoji> kucing dengan senyuman tersenyum </emoji> <hashtag> #adhesign </hashtag> <hashtag> #adhesignfeedback </hashtag> <hashtag> #jerseysublimation </hashtag> <hashtag> #sublimationprinting </hashtag> <hashtag> #jerseycustom </hashtag> <hashtag> #jersimurah </hashtag> <hashtag> #teamorder </hashtag> <hashtag> #kilangcetakbaju </hashtag> <hashtag> #customdesign </hashtag> <hashtag> #ipta </hashtag> <hashtag> #ipts </hashtag> <hashtag> #uitm </hashtag> <hashtag> #unikl </hashtag> <hashtag> #kptm </hashtag>',\n",
       " 'train <allcaps> scs </allcaps> class <number> <emoji> monorel </emoji> sorotanvideosewaktumajlispenyerahan ( \" handbackceremony \" ) tren <allcaps> scs </allcaps> class <number> projekmaintenance , repairdanoverhaul ( <allcaps> mro </allcaps> ) danperjanjiankolaborasi ( \" collaborationagreement \" ) diantaramrailtechnics ( <allcaps> railtec </allcaps> ) denganuniversitikualalumpur ( unikl ) oleh <allcaps> yab </allcaps> dato\\' seridr . ahmadzahidbinhamiditimbalanperdanamenterimalaysia <emoji> kamera filem </emoji> <hashtag> #weareunikl </hashtag> <hashtag> #universitikualalumpur </hashtag> <hashtag> #unikl </hashtag> <hashtag> #unikldna </hashtag> <hashtag> #uniklnproud </hashtag> <hashtag> #railtec </hashtag> <hashtag> #ktmb </hashtag> <hashtag> #ktm </hashtag> <hashtag> #destini </hashtag> <hashtag> #kkdw </hashtag> <hashtag> #mara </hashtag> <hashtag> #maracorp </hashtag> <hashtag> #malaysiamadani </hashtag>',\n",
       " 'jarumitutajamtetapitidakdapatuntukmenebasrumput , kapakitukuattetapitidakdapatuntukmomotongrambut . setiapdarikitapunyakelebihandankekuranganmengikutcitrawarnakehidupan . janganpernahpandangrendahakanseseorangmelainkankamuterujadengankasutyangdipakainya . - fa - <hashtag> #demipertiwi </hashtag> <hashtag> #oilandgas </hashtag> <hashtag> #uitm </hashtag> <hashtag> #ump </hashtag> <hashtag> #usm </hashtag> <hashtag> #um </hashtag> <hashtag> #uthm </hashtag> <hashtag> #unimas </hashtag> <hashtag> #offshore </hashtag> <hashtag> #onshore </hashtag> <hashtag> #support </hashtag> <hashtag> #education </hashtag> <hashtag> #malaysia </hashtag> <hashtag> #utp </hashtag> <hashtag> #utm </hashtag> <hashtag> #unikl </hashtag> <hashtag> #advice </hashtag>',\n",
       " '<allcaps> icetss </allcaps> <number> <emoji> gear </emoji> day <number> <emoji> kamera dengan kilat </emoji> photosduringtheinternationalconferenceonentrepreneurship , technology , andsocialsciences ( <allcaps> icetss </allcaps> <number> ) pada <allcaps> steg </allcaps> hotel , kualalumpur . thiseventoccurredonwednesdayandthursday , december4thand5th , <number> . <emoji> kalendar lingkaran </emoji> wednesday , <number> december <number> <emoji> pusingan pusingan pusingan </emoji> <user> <hashtag> #weareunikl </hashtag> <hashtag> #universitikualalumpur </hashtag> <hashtag> #unikl </hashtag> <hashtag> #unikldna </hashtag> <hashtag> #uniklnproud </hashtag> <hashtag> #icetss </hashtag> <hashtag> #tekno </hashtag> <hashtag> #teknoputra </hashtag> <hashtag> #business </hashtag> <hashtag> #kkdw </hashtag> <hashtag> #mara </hashtag> <hashtag> #maracorpgroup </hashtag> <hashtag> #malaysiamadani </hashtag>',\n",
       " '<allcaps> preconvocationofafiqah </allcaps> <hashtag> #convophotoshoot </hashtag> <hashtag> #konvokesyen </hashtag> <hashtag> #convocation </hashtag> <hashtag> #konvokesyen </hashtag> <hashtag> #preconvo </hashtag> <hashtag> #postkonvo </hashtag> <hashtag> #postconvo </hashtag> <hashtag> #konvophotographer </hashtag> <hashtag> #photographerkonvo </hashtag> <hashtag> #graduation </hashtag> <hashtag> #unikl </hashtag> <hashtag> #photographerkl </hashtag> <hashtag> #gambarkonvo </hashtag> <hashtag> #kualalumpur </hashtag> <hashtag> #tamarindsquare </hashtag> <hashtag> #shahalam </hashtag> <hashtag> #photographerselangor </hashtag> <hashtag> #preconvouitm </hashtag> <hashtag> #uitmconvo </hashtag> <hashtag> #um </hashtag> <hashtag> #ukm </hashtag> <hashtag> #ukmkonvo </hashtag> <hashtag> #kptm </hashtag> <hashtag> #upm </hashtag> <hashtag> #konvoupm </hashtag> <hashtag> #konvokptm </hashtag> <hashtag> #uum </hashtag> <hashtag> #convouum </hashtag>',\n",
       " 'uniklconvocation <number> dan <number> <emoji> topi pengijazahan </emoji> afteralmost <number> years , theprestigiousuniklconvocationceremonycouldnotjadiheldduekepadacovidandotherunforeseenproblems . thewaitisnowover ! donotforgettomorrow , monday <number> june <number> pada <time> , uniklwillannounce17thdan18thconvocationcermonydate ! formoreinformationabouttheconvocation , directlypergikepadathewebsiteconvo.unikl.edu.my <emoji> bintang-bintang </emoji> <hashtag> #weareunikl </hashtag> <hashtag> #unikl </hashtag> <hashtag> #unikldna </hashtag> <hashtag> #uniklnproud </hashtag> <hashtag> #uniklconvo </hashtag> <hashtag> #class20 </hashtag> dan <number> <hashtag> #convo1718 </hashtag> <hashtag> #august </hashtag>',\n",
       " 'ahoyyyymimetians ! <emoji> kapal </emoji> <emoji> anchor </emoji> ️ wealreadysiapourinterviewsessionuntukofficialwowcrew <number> recruitmentsessionfurtherstrengthen <allcaps> wow </allcaps> crewteamkepadabuildanewlineupuntukwowcrew <number> <emoji> memo </emoji> thepanelconducteddenganmadamsaramurniharyanti , headofsessioncampuslifestyle , madamfatinzawanibintizainalazaim , headofsessionstudentdevelopment , muhdazminazrambinahmadsani , headof <allcaps> wow </allcaps> <number> , muhdiqbalbincheyangsazali , asisstantheadof <allcaps> wow </allcaps> andnajwazahidahbintimazuki , secretary <allcaps> wow </allcaps> <emoji> busts dalam siluet </emoji> <user> <user> <user> <user> <user> . <hashtag> #wowmimet </hashtag> <hashtag> #wow2022 </hashtag> <hashtag> #uniklmimet </hashtag> <hashtag> #uniklmarine </hashtag> <hashtag> #lumutcampus </hashtag> <hashtag> #marineengineering </hashtag> <hashtag> #offshoreengineering </hashtag> <hashtag> #navalarchitecture </hashtag> <hashtag> #maritimemanagement </hashtag> <hashtag> #marineelectrical </hashtag> <hashtag> #marineelectronics </hashtag> <hashtag> #studymarineinmalaysia </hashtag> <hashtag> #uniklandproud </hashtag> <hashtag> #sailingaheadwithexcellence </hashtag> <hashtag> #weareuniki </hashtag> <hashtag> #unikinproud </hashtag> <hashtag> #unikl </hashtag> <hashtag> #unikllumut </hashtag> <hashtag> #uniklperak </hashtag>',\n",
       " '<emoji> hati merah </emoji> <emoji> hati merah </emoji> <allcaps> court </allcaps> <emoji> hati merah </emoji> <emoji> hati merah </emoji> southernbundlecollectionh0kaabondi8size <number> . 5uk / 28cmkondisi <number> / <number> rm <number> percumapossemenanjung <hashtag> #sbc9uk </hashtag> <hashtag> #southernbundle </hashtag> <hashtag> #asicsbundle </hashtag> <hashtag> #mizunobundle </hashtag> <hashtag> #askar </hashtag> <hashtag> #runningshoes </hashtag> <hashtag> #unikl </hashtag> <hashtag> #uitm </hashtag> <hashtag> #upm </hashtag> <hashtag> #utm </hashtag> <hashtag> #hokabundle </hashtag> <hashtag> #tldm </hashtag> <hashtag> #tudm </hashtag> <hashtag> #pdrm </hashtag> <hashtag> #ukm </hashtag> <hashtag> #politeknik </hashtag> <hashtag> #ipts </hashtag> <hashtag> #malaysiarunner </hashtag> <hashtag> #kasutbundle </hashtag> <hashtag> #jlj </hashtag> <hashtag> #polis </hashtag> <hashtag> #ramd </hashtag> <hashtag> #wataniah </hashtag> <hashtag> #upsi </hashtag> <hashtag> #ipg </hashtag> <hashtag> #mitec </hashtag> <hashtag> #uia </hashtag> <hashtag> #ukm </hashtag> <hashtag> #ipta </hashtag>',\n",
       " '<hashtag> #merakyatkanmara </hashtag> <hashtag> #mara </hashtag> <hashtag> #hidupkumilikummah </hashtag> <hashtag> #mrsm </hashtag> <hashtag> #unikl </hashtag> <hashtag> #uptm </hashtag> <hashtag> #kptm </hashtag> <hashtag> #kktm </hashtag> <hashtag> #kolejmara </hashtag> <hashtag> #giatmara </hashtag> <hashtag> #institusipendidikanmara </hashtag> <emoji> hak cipta </emoji> \\\\ <allcaps> drasyrafwajdidusuki </allcaps> posteddenganasyrafwajdidusuki3h :-@ adamemintasayapantauisudi <allcaps> uitm </allcaps> danjanganhanyafokus <allcaps> mrsm </allcaps> . uitmbukanlagidibawah <allcaps> mara </allcaps> sejakdiambilalih <allcaps> kpt </allcaps> <date> . dibawah <allcaps> mara </allcaps> ada <number> <allcaps> ipma </allcaps> cth : unikl , <allcaps> uptm </allcaps> , <allcaps> ikm </allcaps> , <allcaps> kptm </allcaps> , <allcaps> kktm </allcaps> , km , <allcaps> kpm </allcaps> dangiatmara .',\n",
       " '<allcaps> sedangkantapirdihutanpunmemilihketuadikalanganmereka </allcaps> , <allcaps> apalagikitamanusiabiasa </allcaps> . lagi <time> sebelumpusatpengundianditutup . mariramairamaitunaikanbertanggungjawabsebagairakyatuntukkeluarmengundi . biarkitaberbezapandangan , tetapihatikitabersatu . bukanuntukmasadepankitasemata , tetapianakcucukita , generasikita . - fa - <hashtag> #ge15 </hashtag> <hashtag> #pru15 </hashtag> <hashtag> #malaysia </hashtag> <hashtag> #education </hashtag> <hashtag> #people </hashtag> <hashtag> #rakyat </hashtag> <hashtag> #undi18 </hashtag> <hashtag> #proud </hashtag> <hashtag> #oilandgas </hashtag> <hashtag> #fazrulazreen </hashtag> <hashtag> #sarawak </hashtag> <hashtag> #borneo </hashtag> <hashtag> #utp </hashtag> <hashtag> #utm </hashtag> <hashtag> #uitm </hashtag> <hashtag> #ump </hashtag> <hashtag> #uum </hashtag> <hashtag> #uia </hashtag> <hashtag> #unikl </hashtag> <hashtag> #usm </hashtag> <hashtag> #unimas </hashtag>',\n",
       " '<hashtag> #upsi </hashtag> <hashtag> #uitm </hashtag> <hashtag> #ukm </hashtag> <hashtag> #upm </hashtag> <hashtag> #usm </hashtag> <hashtag> #politeknik </hashtag> <hashtag> #utm </hashtag> <hashtag> #uia </hashtag> <hashtag> #uum </hashtag> <hashtag> #um </hashtag> <hashtag> #unikl </hashtag> <hashtag> #serumviral </hashtag> <hashtag> #usim </hashtag> <hashtag> #behrang </hashtag> <hashtag> #uthm </hashtag> <hashtag> #neelofa </hashtag> <hashtag> #ipg </hashtag> <hashtag> #umt </hashtag> <hashtag> #tanjungmalim </hashtag> <hashtag> #unisza </hashtag> <hashtag> #polis </hashtag> <hashtag> #johor </hashtag> <hashtag> #umk </hashtag> <hashtag> #mizuno </hashtag> <hashtag> #asics </hashtag> <hashtag> #perak </hashtag> <hashtag> #utp </hashtag> <hashtag> #protoncity </hashtag> <hashtag> #pdrm </hashtag> <hashtag> #psas </hashtag>',\n",
       " 'thankyouuntuktrustingus ! <emoji> bintang-bintang </emoji> kenapapilihkami ? <emoji> t-shirt </emoji> no <allcaps> moq </allcaps> ! sehelaipunboleh ! <emoji> voltan tinggi </emoji> ️ freedelivery ! <emoji> benang </emoji> lebih <number> + cataloguedesigntersedia <emoji> beg wang </emoji> freecustomdesign ! <emoji> pautan </emoji> specialoffer ? tekanlinkdibiookay ! <hashtag> #adhesign </hashtag> <hashtag> #adhesignfeedback </hashtag> <hashtag> #jerseysublimation </hashtag> <hashtag> #sublimationprinting </hashtag> <hashtag> #jerseycustom </hashtag> <hashtag> #jersimurah </hashtag> <hashtag> #teamorder </hashtag> <hashtag> #dtf </hashtag> <hashtag> #dtfprinting </hashtag> <hashtag> #dtgprinting </hashtag> <hashtag> #silkscreenprinting </hashtag> <hashtag> #kilangcetakbaju </hashtag> <hashtag> #customdesign </hashtag> <hashtag> #ipta </hashtag> <hashtag> #ipts </hashtag> <hashtag> #uitm </hashtag> <hashtag> #unikl </hashtag> <hashtag> #kptm </hashtag>',\n",
       " 'unikle-gamescarnival <number> <emoji> joystick </emoji> day - <number> | saturday <date> grandfinale <allcaps> pubgm </allcaps> <emoji> api </emoji> <hashtag> #weareunikl </hashtag> <hashtag> #universitikualalumpur </hashtag> <hashtag> #unikl </hashtag> <hashtag> #unikldna </hashtag> <hashtag> #uniklnproud </hashtag> <hashtag> #uniklconvo </hashtag> <hashtag> #egames2023 </hashtag> <hashtag> #uegc2023 </hashtag> <hashtag> #esports </hashtag> <hashtag> #egames </hashtag> <hashtag> #kkdw </hashtag> <hashtag> #mara </hashtag> <hashtag> #maracorp </hashtag>',\n",
       " '<hashtag> #upsi </hashtag> <hashtag> #uitm </hashtag> <hashtag> #ukm </hashtag> <hashtag> #upm </hashtag> <hashtag> #usm </hashtag> <hashtag> #politeknik </hashtag> <hashtag> #utm </hashtag> <hashtag> #uia </hashtag> <hashtag> #uum </hashtag> <hashtag> #um </hashtag> <hashtag> #unikl </hashtag> <hashtag> #serumviral </hashtag> <hashtag> #usim </hashtag> <hashtag> #behrang </hashtag> <hashtag> #uthm </hashtag> <hashtag> #neelofa </hashtag> <hashtag> #ipg </hashtag> <hashtag> #umt </hashtag> <hashtag> #tanjungmalim </hashtag> <hashtag> #unisza </hashtag> <hashtag> #polis </hashtag> <hashtag> #johor </hashtag> <hashtag> #umk </hashtag> <hashtag> #mizuno </hashtag> <hashtag> #asics </hashtag> <hashtag> #perak </hashtag> <hashtag> #utp </hashtag> <hashtag> #protoncity </hashtag> <hashtag> #pdrm </hashtag> <hashtag> #psas </hashtag>',\n",
       " 'sneakpeak <allcaps> ussc </allcaps> <number> day <number> <emoji> api </emoji> follow <user> . pageand <user> untukupdatesandliveresults ! <emoji> telefon bimbit </emoji> <hashtag> #weareunikl </hashtag> <hashtag> #unikl </hashtag> <hashtag> #unikldna </hashtag> <hashtag> #uniklnproud </hashtag> <hashtag> #ussc </hashtag> <hashtag> #ussc2023 </hashtag> <hashtag> #17thussc </hashtag> <hashtag> #ussccomeback </hashtag> <hashtag> #uniklgo </hashtag> <hashtag> #sport </hashtag>',\n",
       " '<allcaps> graduationdayofanissyuhada </allcaps> <hashtag> #convophotoshoot </hashtag> <hashtag> #konvokesyen </hashtag> <hashtag> #convocation </hashtag> <hashtag> #konvokesyen </hashtag> <hashtag> #preconvo </hashtag> <hashtag> #postkonvo </hashtag> <hashtag> #postconvo </hashtag> <hashtag> #konvophotographer </hashtag> <hashtag> #photographerkonvo </hashtag> <hashtag> #graduation </hashtag> <hashtag> #unikl </hashtag> <hashtag> #photographerkl </hashtag> <hashtag> #gambarkonvo </hashtag> <hashtag> #kualalumpur </hashtag> <hashtag> #tamarindsquare </hashtag> <hashtag> #shahalam </hashtag> <hashtag> #photographerselangor </hashtag> <hashtag> #preconvouitm </hashtag> <hashtag> #uitmconvo </hashtag> <hashtag> #um </hashtag> <hashtag> #ukm </hashtag> <hashtag> #ukmkonvo </hashtag> <hashtag> #kptm </hashtag> <hashtag> #upm </hashtag> <hashtag> #konvoupm </hashtag> <hashtag> #konvokptm </hashtag>',\n",
       " \"accordingkepada <number> salarysurveydenganrobertwalters , herearesomekeytakeaways :< number > . <percent> ofemployersmeistrugglekepadameettoptalents's alaryexpectations . <number> . employers , especiallyintechnicalandengineeringindustries , areconcernedovertalentshortageduekepadaprofessionalsexpectinghigherremunerationskepadacoverrisinglivingcosts . <number> . wecansangkaacontinuedriseinhiringuntuksustainabilitytalents . <number> . there's ashortageofyoungautomationengineers , anditishighlyrecommendeduntukgraduateengineerskepadafocustheircareerswithinitufielduntukbetterfutureprospects . <number> . morecompetitivesalaryadjustmentswouldjadirequireduntukbothretentionandattractionoftalents . <number> . hiringin <number> howeverwilllikelycoolofffrom <number> ' selevatedlevels . companieswilljadimorecautiousinrecruitment , whileprofessionalswillalsojadireluctantkepadapergitheirjobswithoutanotherkerjaonhand . <number> . hybridandbusinesspartneringskills , suchasstakeholdermanagement , businessacumen , dataanalyticsandbusinesscontinuityplanning , willcontinuekepadajadiinhighdemandin <number> inmyupcomingvirtualseminar , iwillnotjustjaditalkingaboutoildangasprofessions , iwillalsojadidiscussingmyviewontheexpectedhiringlandscapewithintheworldoftechnicalareas ( engineeringdanmanufacturing ) andnon-technicalareas ( businessmanagement , humanresource , etc . ) untuk <number> . registeruntukpercumahere <emoji> butang ke bawah </emoji> <url> orclicklinkinbio <emoji> tangan menulis : nada kulit cahaya sederhana </emoji> <hashtag> #seminar </hashtag> <hashtag> #webinar </hashtag> <hashtag> #family </hashtag> <hashtag> #education </hashtag> <hashtag> #oilandgas </hashtag> <hashtag> #knowledge </hashtag> <hashtag> #free </hashtag> <hashtag> #share </hashtag> <hashtag> #motivation </hashtag> <hashtag> #follow </hashtag> <hashtag> #utp </hashtag> <hashtag> #uitm </hashtag> <hashtag> #um </hashtag> <hashtag> #unikl </hashtag> <hashtag> #utm </hashtag> <hashtag> #uia </hashtag> <hashtag> #ump </hashtag>\",\n",
       " 'unikl21stconvocationceremony <emoji> topi pengijazahan </emoji> <allcaps> eighthsession </allcaps> <emoji> kamera </emoji> thecelebrationreachesnewheightsaswehonorthe <hashtag> #classof2024 </hashtag> ontheirspecialhari . heartiestcongratulationskepadasemuaouramazinggraduates ! <emoji> popper parti </emoji> <hashtag> #weareunikl </hashtag> <hashtag> #universitikualalumpur </hashtag> <hashtag> #unikl </hashtag> <hashtag> #unikldna </hashtag> <hashtag> #uniklnproud </hashtag> <hashtag> #uniklconvo </hashtag> <hashtag> #uniklconvo21 </hashtag> <hashtag> #uniklconvo21st </hashtag> <hashtag> #classof24 </hashtag> <hashtag> #convo21 </hashtag> <hashtag> #november </hashtag> <hashtag> #wtckl </hashtag> <hashtag> #roadtoconvo </hashtag> <hashtag> #kkdw </hashtag> <hashtag> #mara </hashtag> <hashtag> #maracorpgroup </hashtag> <hashtag> #malaysiamadani </hashtag>',\n",
       " \"unikl17thdan18thconvocation <emoji> topi pengijazahan </emoji> <allcaps> sesi </allcaps> <number> daulattuankumenjunjungsetingggi-tinggikasihkebawahduliyangmahamuliaseripadukabagindayangdi-pertuanagongal-sultanabdullahri ' ayatuddinal-mustafabillahshahibnialmarhumsultanhajiahmadshahal-mustainbillahtuankucanseloruniversitikualalumpurdankebawahduliyangmahamuliaseripadukabagindarajapermaisuriagongtunkuhajahazizahaminahmaimunahiskandariahbintialmarhumal-mutawakkilalallahsultaniskandaral-hajberkenanberangkatmencemardulimajliskonvokesyenuniklyangke - <number> danke - <number> . <hashtag> #weareunikl </hashtag> <hashtag> #unikl </hashtag> <hashtag> #unikldna </hashtag> <hashtag> #uniklnproud </hashtag> <hashtag> #uniklconvo </hashtag> <hashtag> #class20 </hashtag> dan <number> <hashtag> #convo1718 </hashtag> <hashtag> #august </hashtag>\",\n",
       " 'preconvophotoshootuntukdinadanfriends <emoji> pusingan pusingan pusingan </emoji> bookxcesslalaport . masihtercari-carijurugambaruntukharigraduasianda ? tempahslotandasekarangdanhubungikamidi ;< url > ( hafiz ) <hashtag> #convophotographer </hashtag> <hashtag> #malaysianphotographer </hashtag> <hashtag> #konvomalaysia </hashtag> <hashtag> #konvophotoshoot </hashtag> <hashtag> #preconvophotoshoot </hashtag> <hashtag> #palingkuis </hashtag> <hashtag> #konvokuis </hashtag> <hashtag> #konvoiic </hashtag> <hashtag> #uitmshahalam </hashtag> <hashtag> #uitmdihatiku </hashtag> <hashtag> #convophotoshoot </hashtag> <hashtag> #universitikebangsaanmalaysia </hashtag> <hashtag> #ukm </hashtag> <hashtag> #universitimalaya </hashtag> <hashtag> #upm </hashtag> <hashtag> #universitiputramalaysia </hashtag> <hashtag> #uiam </hashtag> <hashtag> #konvouiam </hashtag> <hashtag> #konvousim </hashtag> <hashtag> #konvouitm </hashtag> <hashtag> #longcall </hashtag> <hashtag> #convouitm </hashtag> <hashtag> #usim </hashtag> <hashtag> #universitisainsislammalaysia </hashtag> <hashtag> #konvophotographer </hashtag> <hashtag> #longcall </hashtag> <hashtag> #unikl </hashtag> <hashtag> #konvoupnm </hashtag> <hashtag> #sunwayuniversity </hashtag>',\n",
       " 'videorumahterbukarayauniklbusinessschoolkampusgurney , kualalumpur <emoji> berkilau </emoji> <hashtag> #weareunikl </hashtag> <hashtag> #universitikualalumpur </hashtag> <hashtag> #unikl </hashtag> <hashtag> #uniklnproud </hashtag> <hashtag> #unikldna </hashtag> <hashtag> #uniklraya </hashtag> <hashtag> #uniklvogueraya </hashtag> <hashtag> #raya2023 </hashtag> <hashtag> #syawal </hashtag> <hashtag> #kkdw </hashtag> <hashtag> #maracorp </hashtag> <hashtag> #mara </hashtag> <hashtag> #malaysiamadani </hashtag>']"
      ]
     },
     "execution_count": 78,
     "metadata": {},
     "output_type": "execute_result"
    }
   ],
   "source": [
    "texts = []\n",
    "for i, caption in enumerate(hashtag_posts[\"caption_text\"]):\n",
    "    if hashtag_posts.loc[i, \"thumbnail_text\"] == \"\":\n",
    "        texts.append(preprocess_text(caption))\n",
    "    else:\n",
    "        text = caption + hashtag_posts.loc[i, \"thumbnail_text\"]\n",
    "        texts.append(preprocess_text(text))\n",
    "\n",
    "texts"
   ]
  },
  {
   "cell_type": "markdown",
   "metadata": {},
   "source": [
    "#### Detect language"
   ]
  },
  {
   "cell_type": "code",
   "execution_count": 69,
   "metadata": {},
   "outputs": [
    {
     "name": "stderr",
     "output_type": "stream",
     "text": [
      "Warning : `load_model` does not return WordVectorModel or SupervisedModel any more, but a `FastText` object which is very similar.\n"
     ]
    },
    {
     "name": "stdout",
     "output_type": "stream",
     "text": [
      "[{'standard-english': 0.9945177, 'local-english': 0.0, 'manglish': 0.0, 'standard-indonesian': 0.0, 'socialmedia-indonesian': 0.0, 'standard-malay': 0.0, 'local-malay': 0.0, 'standard-mandarin': 0.0, 'local-mandarin': 0.0, 'other': 0.0}]\n",
      "[{'standard-english': 0.9716635, 'local-english': 0.0, 'manglish': 0.0, 'standard-indonesian': 0.0, 'socialmedia-indonesian': 0.0, 'standard-malay': 0.0, 'local-malay': 0.0, 'standard-mandarin': 0.0, 'local-mandarin': 0.0, 'other': 0.0}]\n",
      "[{'standard-english': 0.0, 'local-english': 0.0, 'manglish': 0.0, 'standard-indonesian': 0.0, 'socialmedia-indonesian': 0.0, 'standard-malay': 0.9414176, 'local-malay': 0.0, 'standard-mandarin': 0.0, 'local-mandarin': 0.0, 'other': 0.0}]\n",
      "[{'standard-english': 0.0, 'local-english': 0.0, 'manglish': 0.0, 'standard-indonesian': 0.0, 'socialmedia-indonesian': 0.0, 'standard-malay': 0.0, 'local-malay': 0.0, 'standard-mandarin': 0.0, 'local-mandarin': 0.5823944, 'other': 0.0}]\n",
      "[{'standard-english': 0.0, 'local-english': 0.75940317, 'manglish': 0.0, 'standard-indonesian': 0.0, 'socialmedia-indonesian': 0.0, 'standard-malay': 0.0, 'local-malay': 0.0, 'standard-mandarin': 0.0, 'local-mandarin': 0.0, 'other': 0.0}]\n",
      "[{'standard-english': 0.0, 'local-english': 0.65943736, 'manglish': 0.0, 'standard-indonesian': 0.0, 'socialmedia-indonesian': 0.0, 'standard-malay': 0.0, 'local-malay': 0.0, 'standard-mandarin': 0.0, 'local-mandarin': 0.0, 'other': 0.0}]\n",
      "[{'standard-english': 0.0, 'local-english': 0.0, 'manglish': 0.0, 'standard-indonesian': 0.0, 'socialmedia-indonesian': 0.0, 'standard-malay': 0.0, 'local-malay': 0.0, 'standard-mandarin': 0.0, 'local-mandarin': 0.5823944, 'other': 0.0}]\n",
      "[{'standard-english': 0.0, 'local-english': 0.0, 'manglish': 0.0, 'standard-indonesian': 0.0, 'socialmedia-indonesian': 0.0, 'standard-malay': 0.0, 'local-malay': 0.0, 'standard-mandarin': 0.0, 'local-mandarin': 0.5823944, 'other': 0.0}]\n",
      "[{'standard-english': 0.0, 'local-english': 0.0, 'manglish': 0.0, 'standard-indonesian': 0.0, 'socialmedia-indonesian': 0.0, 'standard-malay': 0.0, 'local-malay': 0.0, 'standard-mandarin': 0.0, 'local-mandarin': 0.5823944, 'other': 0.0}]\n",
      "[{'standard-english': 0.0, 'local-english': 0.0, 'manglish': 0.0, 'standard-indonesian': 0.0, 'socialmedia-indonesian': 0.0, 'standard-malay': 0.8608149, 'local-malay': 0.0, 'standard-mandarin': 0.0, 'local-mandarin': 0.0, 'other': 0.0}]\n",
      "[{'standard-english': 0.0, 'local-english': 0.0, 'manglish': 0.0, 'standard-indonesian': 0.0, 'socialmedia-indonesian': 0.0, 'standard-malay': 0.0, 'local-malay': 0.0, 'standard-mandarin': 0.0, 'local-mandarin': 0.5823944, 'other': 0.0}]\n",
      "[{'standard-english': 0.0, 'local-english': 0.55994016, 'manglish': 0.0, 'standard-indonesian': 0.0, 'socialmedia-indonesian': 0.0, 'standard-malay': 0.0, 'local-malay': 0.0, 'standard-mandarin': 0.0, 'local-mandarin': 0.0, 'other': 0.0}]\n",
      "[{'standard-english': 0.0, 'local-english': 0.0, 'manglish': 0.0, 'standard-indonesian': 0.0, 'socialmedia-indonesian': 0.0, 'standard-malay': 0.0, 'local-malay': 0.0, 'standard-mandarin': 0.0, 'local-mandarin': 0.5823944, 'other': 0.0}]\n",
      "[{'standard-english': 0.0, 'local-english': 0.75915825, 'manglish': 0.0, 'standard-indonesian': 0.0, 'socialmedia-indonesian': 0.0, 'standard-malay': 0.0, 'local-malay': 0.0, 'standard-mandarin': 0.0, 'local-mandarin': 0.0, 'other': 0.0}]\n",
      "[{'standard-english': 0.0, 'local-english': 0.0, 'manglish': 0.0, 'standard-indonesian': 0.0, 'socialmedia-indonesian': 0.0, 'standard-malay': 0.0, 'local-malay': 0.0, 'standard-mandarin': 0.0, 'local-mandarin': 0.5823944, 'other': 0.0}]\n",
      "[{'standard-english': 0.0, 'local-english': 0.99867356, 'manglish': 0.0, 'standard-indonesian': 0.0, 'socialmedia-indonesian': 0.0, 'standard-malay': 0.0, 'local-malay': 0.0, 'standard-mandarin': 0.0, 'local-mandarin': 0.0, 'other': 0.0}]\n",
      "[{'standard-english': 0.0, 'local-english': 0.8644228, 'manglish': 0.0, 'standard-indonesian': 0.0, 'socialmedia-indonesian': 0.0, 'standard-malay': 0.0, 'local-malay': 0.0, 'standard-mandarin': 0.0, 'local-mandarin': 0.0, 'other': 0.0}]\n",
      "[{'standard-english': 0.98552895, 'local-english': 0.0, 'manglish': 0.0, 'standard-indonesian': 0.0, 'socialmedia-indonesian': 0.0, 'standard-malay': 0.0, 'local-malay': 0.0, 'standard-mandarin': 0.0, 'local-mandarin': 0.0, 'other': 0.0}]\n",
      "[{'standard-english': 0.0, 'local-english': 0.0, 'manglish': 0.0, 'standard-indonesian': 0.0, 'socialmedia-indonesian': 0.0, 'standard-malay': 0.0, 'local-malay': 0.0, 'standard-mandarin': 0.0, 'local-mandarin': 0.5823944, 'other': 0.0}]\n",
      "[{'standard-english': 0.9945177, 'local-english': 0.0, 'manglish': 0.0, 'standard-indonesian': 0.0, 'socialmedia-indonesian': 0.0, 'standard-malay': 0.0, 'local-malay': 0.0, 'standard-mandarin': 0.0, 'local-mandarin': 0.0, 'other': 0.0}]\n",
      "[{'standard-english': 0.0, 'local-english': 0.0, 'manglish': 0.0, 'standard-indonesian': 0.0, 'socialmedia-indonesian': 0.0, 'standard-malay': 0.0, 'local-malay': 0.0, 'standard-mandarin': 0.0, 'local-mandarin': 0.5823944, 'other': 0.0}]\n",
      "[{'standard-english': 0.0, 'local-english': 0.0, 'manglish': 0.0, 'standard-indonesian': 0.0, 'socialmedia-indonesian': 0.0, 'standard-malay': 0.0, 'local-malay': 0.0, 'standard-mandarin': 0.0, 'local-mandarin': 0.5823944, 'other': 0.0}]\n",
      "[{'standard-english': 0.0, 'local-english': 0.0, 'manglish': 0.0, 'standard-indonesian': 0.0, 'socialmedia-indonesian': 0.0, 'standard-malay': 0.0, 'local-malay': 0.0, 'standard-mandarin': 0.0, 'local-mandarin': 0.5823944, 'other': 0.0}]\n",
      "[{'standard-english': 0.570545, 'local-english': 0.0, 'manglish': 0.0, 'standard-indonesian': 0.0, 'socialmedia-indonesian': 0.0, 'standard-malay': 0.0, 'local-malay': 0.0, 'standard-mandarin': 0.0, 'local-mandarin': 0.0, 'other': 0.0}]\n",
      "[{'standard-english': 0.0, 'local-english': 0.9611917, 'manglish': 0.0, 'standard-indonesian': 0.0, 'socialmedia-indonesian': 0.0, 'standard-malay': 0.0, 'local-malay': 0.0, 'standard-mandarin': 0.0, 'local-mandarin': 0.0, 'other': 0.0}]\n",
      "[{'standard-english': 0.0, 'local-english': 0.0, 'manglish': 0.0, 'standard-indonesian': 0.0, 'socialmedia-indonesian': 0.0, 'standard-malay': 0.0, 'local-malay': 0.0, 'standard-mandarin': 0.0, 'local-mandarin': 0.5823944, 'other': 0.0}]\n",
      "[{'standard-english': 0.0, 'local-english': 0.0, 'manglish': 0.0, 'standard-indonesian': 0.0, 'socialmedia-indonesian': 0.0, 'standard-malay': 0.0, 'local-malay': 0.0, 'standard-mandarin': 0.0, 'local-mandarin': 0.5823944, 'other': 0.0}]\n",
      "[{'standard-english': 0.0, 'local-english': 0.0, 'manglish': 0.0, 'standard-indonesian': 0.0, 'socialmedia-indonesian': 0.0, 'standard-malay': 0.0, 'local-malay': 0.0, 'standard-mandarin': 0.0, 'local-mandarin': 0.5823944, 'other': 0.0}]\n",
      "[{'standard-english': 0.0, 'local-english': 0.6441537, 'manglish': 0.0, 'standard-indonesian': 0.0, 'socialmedia-indonesian': 0.0, 'standard-malay': 0.0, 'local-malay': 0.0, 'standard-mandarin': 0.0, 'local-mandarin': 0.0, 'other': 0.0}]\n",
      "[{'standard-english': 0.0, 'local-english': 0.0, 'manglish': 0.0, 'standard-indonesian': 0.0, 'socialmedia-indonesian': 0.0, 'standard-malay': 0.0, 'local-malay': 0.0, 'standard-mandarin': 0.0, 'local-mandarin': 0.5823944, 'other': 0.0}]\n",
      "[{'standard-english': 0.0, 'local-english': 0.0, 'manglish': 0.0, 'standard-indonesian': 0.0, 'socialmedia-indonesian': 0.0, 'standard-malay': 0.0, 'local-malay': 0.0, 'standard-mandarin': 0.0, 'local-mandarin': 0.5823944, 'other': 0.0}]\n",
      "[{'standard-english': 0.0, 'local-english': 0.0, 'manglish': 0.0, 'standard-indonesian': 0.0, 'socialmedia-indonesian': 0.0, 'standard-malay': 0.0, 'local-malay': 0.0, 'standard-mandarin': 0.0, 'local-mandarin': 0.5823944, 'other': 0.0}]\n",
      "[{'standard-english': 0.831635, 'local-english': 0.0, 'manglish': 0.0, 'standard-indonesian': 0.0, 'socialmedia-indonesian': 0.0, 'standard-malay': 0.0, 'local-malay': 0.0, 'standard-mandarin': 0.0, 'local-mandarin': 0.0, 'other': 0.0}]\n",
      "[{'standard-english': 0.0, 'local-english': 0.0, 'manglish': 0.0, 'standard-indonesian': 0.0, 'socialmedia-indonesian': 0.0, 'standard-malay': 0.0, 'local-malay': 0.0, 'standard-mandarin': 0.0, 'local-mandarin': 0.5823944, 'other': 0.0}]\n",
      "[{'standard-english': 0.0, 'local-english': 0.0, 'manglish': 0.0, 'standard-indonesian': 0.0, 'socialmedia-indonesian': 0.0, 'standard-malay': 0.5545069, 'local-malay': 0.0, 'standard-mandarin': 0.0, 'local-mandarin': 0.0, 'other': 0.0}]\n",
      "[{'standard-english': 0.864459, 'local-english': 0.0, 'manglish': 0.0, 'standard-indonesian': 0.0, 'socialmedia-indonesian': 0.0, 'standard-malay': 0.0, 'local-malay': 0.0, 'standard-mandarin': 0.0, 'local-mandarin': 0.0, 'other': 0.0}]\n",
      "[{'standard-english': 0.8745919, 'local-english': 0.0, 'manglish': 0.0, 'standard-indonesian': 0.0, 'socialmedia-indonesian': 0.0, 'standard-malay': 0.0, 'local-malay': 0.0, 'standard-mandarin': 0.0, 'local-mandarin': 0.0, 'other': 0.0}]\n",
      "[{'standard-english': 0.0, 'local-english': 0.0, 'manglish': 0.0, 'standard-indonesian': 0.0, 'socialmedia-indonesian': 0.0, 'standard-malay': 0.0, 'local-malay': 0.9980204, 'standard-mandarin': 0.0, 'local-mandarin': 0.0, 'other': 0.0}]\n",
      "[{'standard-english': 0.0, 'local-english': 0.0, 'manglish': 0.62860376, 'standard-indonesian': 0.0, 'socialmedia-indonesian': 0.0, 'standard-malay': 0.0, 'local-malay': 0.0, 'standard-mandarin': 0.0, 'local-mandarin': 0.0, 'other': 0.0}]\n",
      "[{'standard-english': 0.0, 'local-english': 0.0, 'manglish': 0.0, 'standard-indonesian': 0.0, 'socialmedia-indonesian': 0.0, 'standard-malay': 0.0, 'local-malay': 0.0, 'standard-mandarin': 0.0, 'local-mandarin': 0.5823944, 'other': 0.0}]\n",
      "[{'standard-english': 0.52416825, 'local-english': 0.0, 'manglish': 0.0, 'standard-indonesian': 0.0, 'socialmedia-indonesian': 0.0, 'standard-malay': 0.0, 'local-malay': 0.0, 'standard-mandarin': 0.0, 'local-mandarin': 0.0, 'other': 0.0}]\n",
      "[{'standard-english': 0.0, 'local-english': 0.0, 'manglish': 0.0, 'standard-indonesian': 0.0, 'socialmedia-indonesian': 0.0, 'standard-malay': 0.0, 'local-malay': 0.0, 'standard-mandarin': 0.0, 'local-mandarin': 0.5823944, 'other': 0.0}]\n",
      "[{'standard-english': 0.0, 'local-english': 0.0, 'manglish': 0.0, 'standard-indonesian': 0.0, 'socialmedia-indonesian': 0.0, 'standard-malay': 0.0, 'local-malay': 0.0, 'standard-mandarin': 0.0, 'local-mandarin': 0.5823944, 'other': 0.0}]\n",
      "[{'standard-english': 0.599269, 'local-english': 0.0, 'manglish': 0.0, 'standard-indonesian': 0.0, 'socialmedia-indonesian': 0.0, 'standard-malay': 0.0, 'local-malay': 0.0, 'standard-mandarin': 0.0, 'local-mandarin': 0.0, 'other': 0.0}]\n",
      "[{'standard-english': 0.0, 'local-english': 0.0, 'manglish': 0.0, 'standard-indonesian': 0.0, 'socialmedia-indonesian': 0.0, 'standard-malay': 0.0, 'local-malay': 0.0, 'standard-mandarin': 0.0, 'local-mandarin': 0.5823944, 'other': 0.0}]\n",
      "[{'standard-english': 0.0, 'local-english': 0.7250925, 'manglish': 0.0, 'standard-indonesian': 0.0, 'socialmedia-indonesian': 0.0, 'standard-malay': 0.0, 'local-malay': 0.0, 'standard-mandarin': 0.0, 'local-mandarin': 0.0, 'other': 0.0}]\n",
      "[{'standard-english': 0.0, 'local-english': 0.0, 'manglish': 0.0, 'standard-indonesian': 0.0, 'socialmedia-indonesian': 0.0, 'standard-malay': 0.0, 'local-malay': 0.0, 'standard-mandarin': 0.0, 'local-mandarin': 0.5823944, 'other': 0.0}]\n",
      "[{'standard-english': 0.0, 'local-english': 0.0, 'manglish': 0.0, 'standard-indonesian': 0.0, 'socialmedia-indonesian': 0.0, 'standard-malay': 0.0, 'local-malay': 0.36176363, 'standard-mandarin': 0.0, 'local-mandarin': 0.0, 'other': 0.0}]\n",
      "[{'standard-english': 0.0, 'local-english': 0.0, 'manglish': 0.0, 'standard-indonesian': 0.0, 'socialmedia-indonesian': 0.0, 'standard-malay': 0.0, 'local-malay': 0.0, 'standard-mandarin': 0.0, 'local-mandarin': 0.5823944, 'other': 0.0}]\n",
      "[{'standard-english': 0.0, 'local-english': 0.0, 'manglish': 0.0, 'standard-indonesian': 0.0, 'socialmedia-indonesian': 0.0, 'standard-malay': 0.0, 'local-malay': 0.0, 'standard-mandarin': 0.0, 'local-mandarin': 0.5823944, 'other': 0.0}]\n"
     ]
    }
   ],
   "source": [
    "import operator\n",
    "fast_text = malaya.language_detection.fasttext()\n",
    "\n",
    "langs = []\n",
    "lang_probas = []\n",
    "\n",
    "for text in texts:\n",
    "    prob_dict = fast_text.predict_proba([text])\n",
    "    print(prob_dict)\n",
    "\n",
    "    lang = max(prob_dict[0].items(), key=operator.itemgetter(1))[0]\n",
    "    prob = max(prob_dict[0].items(), key=operator.itemgetter(1))[1]\n",
    "    \n",
    "    langs.append(lang)\n",
    "    lang_probas.append(prob)\n",
    "\n",
    "hashtag_posts[\"Language\"] = langs\n",
    "hashtag_posts[\"Language Probability\"] = lang_probas"
   ]
  },
  {
   "cell_type": "markdown",
   "metadata": {},
   "source": [
    "### Sentiment Analysis"
   ]
  },
  {
   "cell_type": "code",
   "execution_count": 28,
   "metadata": {},
   "outputs": [
    {
     "data": {
      "text/plain": [
       "{'mesolitica/sentiment-analysis-nanot5-tiny-malaysian-cased': {'Size (MB)': 93,\n",
       "  'macro precision': 0.67768,\n",
       "  'macro recall': 0.68266,\n",
       "  'macro f1-score': 0.67997},\n",
       " 'mesolitica/sentiment-analysis-nanot5-small-malaysian-cased': {'Size (MB)': 167,\n",
       "  'macro precision': 0.67602,\n",
       "  'macro recall': 0.6712,\n",
       "  'macro f1-score': 0.67339}}"
      ]
     },
     "execution_count": 28,
     "metadata": {},
     "output_type": "execute_result"
    }
   ],
   "source": [
    "malaya.sentiment.available_huggingface"
   ]
  },
  {
   "cell_type": "code",
   "execution_count": 30,
   "metadata": {},
   "outputs": [
    {
     "name": "stdout",
     "output_type": "stream",
     "text": [
      "Trained on https://huggingface.co/datasets/mesolitica/chatgpt-explain-sentiment\n",
      "Split 90% to train, 10% to test.\n"
     ]
    }
   ],
   "source": [
    "print(malaya.sentiment.info)"
   ]
  },
  {
   "cell_type": "code",
   "execution_count": 41,
   "metadata": {},
   "outputs": [],
   "source": [
    "# load malaya sentiment model from Huggingface\n",
    "sent_model = malaya.sentiment.huggingface(model=\"mesolitica/sentiment-analysis-nanot5-small-malaysian-cased\")"
   ]
  },
  {
   "cell_type": "code",
   "execution_count": 80,
   "metadata": {},
   "outputs": [],
   "source": [
    "sentiments = []\n",
    "sentiment_probas = []\n",
    "for i, text in enumerate(texts):\n",
    "    if text:\n",
    "        prob_dict = sent_model.predict_proba([text])\n",
    "        sentiment = max(prob_dict[0].items(), key=operator.itemgetter(1))[0]\n",
    "        sentiment_prob = max(prob_dict[0].items(), key=operator.itemgetter(1))[1]\n",
    "    else:\n",
    "        sentiment = \"neutral\"\n",
    "        sentiment_prob = 0.000\n",
    "    \n",
    "    sentiments.append(sentiment)\n",
    "    sentiment_probas.append(sentiment_prob)\n",
    "\n",
    "hashtag_posts[\"sentiment\"] = sentiments\n",
    "hashtag_posts[\"sentiment probability\"] = sentiment_probas"
   ]
  },
  {
   "cell_type": "markdown",
   "metadata": {},
   "source": [
    "### Emotion analysis"
   ]
  },
  {
   "cell_type": "code",
   "execution_count": 71,
   "metadata": {},
   "outputs": [
    {
     "data": {
      "text/plain": [
       "{'mesolitica/emotion-analysis-nanot5-tiny-malaysian-cased': {'Size (MB)': 93,\n",
       "  'macro precision': 0.96107,\n",
       "  'macro recall': 0.9627,\n",
       "  'macro f1-score': 0.96182},\n",
       " 'mesolitica/emotion-analysis-nanot5-small-malaysian-cased': {'Size (MB)': 167,\n",
       "  'macro precision': 0.96814,\n",
       "  'macro recall': 0.97004,\n",
       "  'macro f1-score': 0.96905}}"
      ]
     },
     "execution_count": 71,
     "metadata": {},
     "output_type": "execute_result"
    }
   ],
   "source": [
    "malaya.emotion.available_huggingface"
   ]
  },
  {
   "cell_type": "code",
   "execution_count": 56,
   "metadata": {},
   "outputs": [
    {
     "name": "stdout",
     "output_type": "stream",
     "text": [
      "Trained on https://github.com/huseinzol05/malaysian-dataset/tree/master/corpus/emotion\n",
      "Split 80% to train, 20% to test.\n"
     ]
    }
   ],
   "source": [
    "print(malaya.emotion.info)"
   ]
  },
  {
   "cell_type": "code",
   "execution_count": 57,
   "metadata": {},
   "outputs": [],
   "source": [
    "# load malaya emotion model from Huggingface\n",
    "emo_model = malaya.emotion.huggingface(model=\"mesolitica/emotion-analysis-nanot5-small-malaysian-cased\")"
   ]
  },
  {
   "cell_type": "code",
   "execution_count": 81,
   "metadata": {},
   "outputs": [],
   "source": [
    "emotions = []\n",
    "emotion_probas = []\n",
    "for i, text in enumerate(texts):\n",
    "    if text:\n",
    "        prob_dict = emo_model.predict_proba([text])\n",
    "        emotion = max(prob_dict[0].items(), key=operator.itemgetter(1))[0]\n",
    "        emotion_prob = max(prob_dict[0].items(), key=operator.itemgetter(1))[1]\n",
    "    else:\n",
    "        emotion = \"no emotion\"\n",
    "        emotion_prob = 0.000\n",
    "    \n",
    "    emotions.append(emotion)\n",
    "    emotion_probas.append(emotion_prob)\n",
    "\n",
    "hashtag_posts[\"emotion\"] = emotions\n",
    "hashtag_posts[\"emotion probability\"] = emotion_probas"
   ]
  }
 ],
 "metadata": {
  "kernelspec": {
   "display_name": "work",
   "language": "python",
   "name": "python3"
  },
  "language_info": {
   "codemirror_mode": {
    "name": "ipython",
    "version": 3
   },
   "file_extension": ".py",
   "mimetype": "text/x-python",
   "name": "python",
   "nbconvert_exporter": "python",
   "pygments_lexer": "ipython3",
   "version": "3.10.15"
  }
 },
 "nbformat": 4,
 "nbformat_minor": 2
}
